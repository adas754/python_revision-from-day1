{
  "nbformat": 4,
  "nbformat_minor": 0,
  "metadata": {
    "colab": {
      "provenance": [],
      "authorship_tag": "ABX9TyM2e2IKrSQs3RNh4vrkdGuJ",
      "include_colab_link": true
    },
    "kernelspec": {
      "name": "python3",
      "display_name": "Python 3"
    },
    "language_info": {
      "name": "python"
    }
  },
  "cells": [
    {
      "cell_type": "markdown",
      "metadata": {
        "id": "view-in-github",
        "colab_type": "text"
      },
      "source": [
        "<a href=\"https://colab.research.google.com/github/adas754/python_revision-from-day1/blob/main/oops.ipynb\" target=\"_parent\"><img src=\"https://colab.research.google.com/assets/colab-badge.svg\" alt=\"Open In Colab\"/></a>"
      ]
    },
    {
      "cell_type": "code",
      "source": [
        "class Number:\n",
        "  def __init__(self,l):\n",
        "    self.l=l\n",
        "  def eve_num(self):\n",
        "    return [i for i in self.l if i%2==0]\n",
        "  def odd_num(self):\n",
        "    return [ i for i in self.l if i%2!=0]\n",
        "n=Number([1,2,6,9,0])\n",
        "e=n.eve_num()\n",
        "o=n.odd_num()"
      ],
      "metadata": {
        "id": "YFPNYnlGVBb6"
      },
      "execution_count": 14,
      "outputs": []
    },
    {
      "cell_type": "code",
      "source": [
        "e"
      ],
      "metadata": {
        "colab": {
          "base_uri": "https://localhost:8080/"
        },
        "id": "YBUdNhgoWJkx",
        "outputId": "e233be9f-4136-4261-d275-1e6ad7babc9b"
      },
      "execution_count": 15,
      "outputs": [
        {
          "output_type": "execute_result",
          "data": {
            "text/plain": [
              "[2, 6, 0]"
            ]
          },
          "metadata": {},
          "execution_count": 15
        }
      ]
    },
    {
      "cell_type": "code",
      "source": [
        "o"
      ],
      "metadata": {
        "colab": {
          "base_uri": "https://localhost:8080/"
        },
        "id": "DfNiRYs5WKuA",
        "outputId": "2b85e955-27db-43c4-a3db-e79930898d9e"
      },
      "execution_count": 16,
      "outputs": [
        {
          "output_type": "execute_result",
          "data": {
            "text/plain": [
              "[1, 9]"
            ]
          },
          "metadata": {},
          "execution_count": 16
        }
      ]
    },
    {
      "cell_type": "code",
      "source": [
        "class pattern:\n",
        "  @staticmethod\n",
        "  def pat_1(rows,char):\n",
        "    for i in range(1,rows+1):\n",
        "      for j in range(1,i+1):\n",
        "        print(char,end=' ')\n",
        "      print()\n",
        "  @staticmethod\n",
        "  def pat_2(rows,char):\n",
        "    for i in range(rows,0,-1):\n",
        "      for j in range(0,i):\n",
        "        print(char,end=' ')\n",
        "      print()\n",
        "p=pattern()\n",
        "pat_num_1=int(input(\"How many times pattern will print : \"))\n",
        "char_num_1=input(\"what pattern it will print \")\n",
        "p.pat_1(pat_num_1,char_num_1)\n",
        "\n",
        "pat_num_2=int(input(\"How many times pattern will print : \"))\n",
        "char_num_2=input(\"what pattern it will print \")\n",
        "\n",
        "p.pat_2(pat_num_2,char_num_2)\n"
      ],
      "metadata": {
        "colab": {
          "base_uri": "https://localhost:8080/"
        },
        "id": "stqChzLAkU3B",
        "outputId": "19dd6f43-deb4-4bc7-972a-a8469f63920e"
      },
      "execution_count": 18,
      "outputs": [
        {
          "output_type": "stream",
          "name": "stdout",
          "text": [
            "How many times pattern will print : 5\n",
            "what pattern it will print *\n",
            "* \n",
            "* * \n",
            "* * * \n",
            "* * * * \n",
            "* * * * * \n",
            "How many times pattern will print : 5\n",
            "what pattern it will print +\n",
            "+ + + + + \n",
            "+ + + + \n",
            "+ + + \n",
            "+ + \n",
            "+ \n"
          ]
        }
      ]
    },
    {
      "cell_type": "code",
      "source": [
        "class Number:\n",
        "  def __init__(self,nums):\n",
        "    self.nums=nums\n",
        "  def cal_sum(self):\n",
        "    sum_res=0\n",
        "    for num in self.nums:\n",
        "      sum_res+=num\n",
        "    return sum_res\n",
        "  def cal_avg(self):\n",
        "    if not self.nums:\n",
        "      return 0\n",
        "    res_sum=self.cal_sum()\n",
        "    res_avg=res_sum/len(self.nums)\n",
        "    return res_avg\n",
        "num_list=[1,2,4,6]\n",
        "n=Number(num_list)\n",
        "sum_result=n.cal_sum()\n",
        "avg_result=n.cal_avg()\n",
        "print(\"sum of list :\",sum_result)\n",
        "print(\"average of list \",avg_result)"
      ],
      "metadata": {
        "colab": {
          "base_uri": "https://localhost:8080/"
        },
        "id": "skgv1IEiyLOX",
        "outputId": "798ecac0-146c-4e21-f480-d9e2bf21a5e1"
      },
      "execution_count": 20,
      "outputs": [
        {
          "output_type": "stream",
          "name": "stdout",
          "text": [
            "sum of list : 13\n",
            "average of list  3.25\n"
          ]
        }
      ]
    },
    {
      "cell_type": "code",
      "source": [
        "13/4"
      ],
      "metadata": {
        "colab": {
          "base_uri": "https://localhost:8080/"
        },
        "id": "vMCjQDxVzphU",
        "outputId": "7b7a5f95-b43b-480e-cb1e-b5293820ff46"
      },
      "execution_count": 21,
      "outputs": [
        {
          "output_type": "execute_result",
          "data": {
            "text/plain": [
              "3.25"
            ]
          },
          "metadata": {},
          "execution_count": 21
        }
      ]
    },
    {
      "cell_type": "code",
      "source": [
        "def is_arm(num):\n",
        "  num_str=str(num)\n",
        "  num_digit=len(num_str)\n",
        "  sum=0\n",
        "  for digit in num_str:\n",
        "    sum+=int(digit)**num_digit\n",
        "  if sum==num:\n",
        "    print(\"Armstrong\")\n",
        "  else:\n",
        "    print(\"not armstrong\")\n",
        "is_arm(134)"
      ],
      "metadata": {
        "colab": {
          "base_uri": "https://localhost:8080/"
        },
        "id": "pOuZyK7uzqU3",
        "outputId": "a4478f31-9a55-40b4-dd96-e63bfd2191c4"
      },
      "execution_count": 23,
      "outputs": [
        {
          "output_type": "stream",
          "name": "stdout",
          "text": [
            "not armstrong\n"
          ]
        }
      ]
    },
    {
      "cell_type": "code",
      "source": [],
      "metadata": {
        "id": "LEQcSjNQ5z-M"
      },
      "execution_count": null,
      "outputs": []
    }
  ]
}