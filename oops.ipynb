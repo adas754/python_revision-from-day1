{
  "nbformat": 4,
  "nbformat_minor": 0,
  "metadata": {
    "colab": {
      "provenance": [],
      "authorship_tag": "ABX9TyO+P91IHbAs+4bD3ohF+AAl",
      "include_colab_link": true
    },
    "kernelspec": {
      "name": "python3",
      "display_name": "Python 3"
    },
    "language_info": {
      "name": "python"
    }
  },
  "cells": [
    {
      "cell_type": "markdown",
      "metadata": {
        "id": "view-in-github",
        "colab_type": "text"
      },
      "source": [
        "<a href=\"https://colab.research.google.com/github/adas754/python_revision-from-day1/blob/main/oops.ipynb\" target=\"_parent\"><img src=\"https://colab.research.google.com/assets/colab-badge.svg\" alt=\"Open In Colab\"/></a>"
      ]
    },
    {
      "cell_type": "code",
      "execution_count": 1,
      "metadata": {
        "id": "GL8u2Pd9ANag"
      },
      "outputs": [],
      "source": [
        "class car:\n",
        "  pass\n",
        "d=car()\n",
        "e=car()\n"
      ]
    },
    {
      "cell_type": "code",
      "source": [
        "print(type(d))"
      ],
      "metadata": {
        "colab": {
          "base_uri": "https://localhost:8080/"
        },
        "id": "Mkxa1oaXAujg",
        "outputId": "6c78e36e-0e5f-419d-f9cd-7dd32f05b325"
      },
      "execution_count": 2,
      "outputs": [
        {
          "output_type": "stream",
          "name": "stdout",
          "text": [
            "<class '__main__.car'>\n"
          ]
        }
      ]
    },
    {
      "cell_type": "code",
      "source": [
        "class cat:\n",
        "  ##constructer\n",
        "  ## init for initialization\n",
        "  def __init__(sky,name,age):\n",
        "    sky.name=name\n",
        "    sky.age=age\n",
        "c1=cat('tom',3)"
      ],
      "metadata": {
        "id": "aDApvz6fA1Pc"
      },
      "execution_count": 9,
      "outputs": []
    },
    {
      "cell_type": "code",
      "source": [
        "print(c1)"
      ],
      "metadata": {
        "colab": {
          "base_uri": "https://localhost:8080/"
        },
        "id": "qVxjA0cqBVe0",
        "outputId": "b3ecffd1-3ec1-4ff4-868e-a583d0428e2d"
      },
      "execution_count": 4,
      "outputs": [
        {
          "output_type": "stream",
          "name": "stdout",
          "text": [
            "<__main__.cat object at 0x78348422d900>\n"
          ]
        }
      ]
    },
    {
      "cell_type": "code",
      "source": [
        "print(c1.name)"
      ],
      "metadata": {
        "colab": {
          "base_uri": "https://localhost:8080/"
        },
        "id": "NAGwTY8zBXCg",
        "outputId": "9f548f5a-bda6-4088-e5cf-0b32501b698b"
      },
      "execution_count": 10,
      "outputs": [
        {
          "output_type": "stream",
          "name": "stdout",
          "text": [
            "tom\n"
          ]
        }
      ]
    },
    {
      "cell_type": "code",
      "source": [
        "print(c1.age)"
      ],
      "metadata": {
        "colab": {
          "base_uri": "https://localhost:8080/"
        },
        "id": "cll4r7qOBb-O",
        "outputId": "a4638a89-a7dc-406d-852f-1a7379c6a933"
      },
      "execution_count": 11,
      "outputs": [
        {
          "output_type": "stream",
          "name": "stdout",
          "text": [
            "3\n"
          ]
        }
      ]
    },
    {
      "cell_type": "code",
      "source": [],
      "metadata": {
        "id": "bHPlT-tXEbPT"
      },
      "execution_count": null,
      "outputs": []
    },
    {
      "cell_type": "code",
      "source": [
        "class car:\n",
        "  def __init__(self,windows,doors,engine_type):\n",
        "    self.windows=windows\n",
        "    self.doors=doors\n",
        "    self.engine_type=engine_type\n",
        "o=car(4,5,6.6)\n",
        "o.doors"
      ],
      "metadata": {
        "colab": {
          "base_uri": "https://localhost:8080/"
        },
        "id": "ra4y_tG1BeyY",
        "outputId": "18030e4d-65b9-4656-a71c-5bd95629e709"
      },
      "execution_count": 25,
      "outputs": [
        {
          "output_type": "execute_result",
          "data": {
            "text/plain": [
              "5"
            ]
          },
          "metadata": {},
          "execution_count": 25
        }
      ]
    },
    {
      "cell_type": "code",
      "source": [
        "o.engine_type"
      ],
      "metadata": {
        "colab": {
          "base_uri": "https://localhost:8080/"
        },
        "id": "-yul87bgEU-F",
        "outputId": "efc06ba3-95d8-4849-81ef-d25a1ef19a61"
      },
      "execution_count": 26,
      "outputs": [
        {
          "output_type": "execute_result",
          "data": {
            "text/plain": [
              "6.6"
            ]
          },
          "metadata": {},
          "execution_count": 26
        }
      ]
    },
    {
      "cell_type": "code",
      "source": [
        "o.doors"
      ],
      "metadata": {
        "colab": {
          "base_uri": "https://localhost:8080/"
        },
        "id": "0QoQWEMeEXBT",
        "outputId": "0511efa0-20f0-4518-c3a2-541a7bfc24be"
      },
      "execution_count": 14,
      "outputs": [
        {
          "output_type": "execute_result",
          "data": {
            "text/plain": [
              "5"
            ]
          },
          "metadata": {},
          "execution_count": 14
        }
      ]
    },
    {
      "cell_type": "code",
      "source": [
        "class cat:\n",
        "  def __init__(sky,name,age):\n",
        "    sky.name=name\n",
        "    sky.age=age\n",
        "  def eat(self):\n",
        "    print('cat eats fish')\n",
        "c1=cat('tom',3)\n",
        "c1.eat()\n",
        "c2=cat('jerry',5)\n"
      ],
      "metadata": {
        "colab": {
          "base_uri": "https://localhost:8080/"
        },
        "id": "GOQNm12CEYny",
        "outputId": "1ed18cbd-0da9-41ac-b49c-d87375009ccc"
      },
      "execution_count": 31,
      "outputs": [
        {
          "output_type": "stream",
          "name": "stdout",
          "text": [
            "cat eats fish\n"
          ]
        }
      ]
    },
    {
      "cell_type": "code",
      "source": [
        "c2.eat()"
      ],
      "metadata": {
        "colab": {
          "base_uri": "https://localhost:8080/"
        },
        "id": "Q6MEpepLG8fi",
        "outputId": "6f038850-6a3e-4e48-f61a-208031bb6ccf"
      },
      "execution_count": 36,
      "outputs": [
        {
          "output_type": "stream",
          "name": "stdout",
          "text": [
            "cat eats fish\n"
          ]
        }
      ]
    },
    {
      "cell_type": "code",
      "source": [
        "c1=cat('tom',3)"
      ],
      "metadata": {
        "id": "veE2gwpwGkDh"
      },
      "execution_count": 28,
      "outputs": []
    },
    {
      "cell_type": "code",
      "source": [
        "c1.age"
      ],
      "metadata": {
        "colab": {
          "base_uri": "https://localhost:8080/"
        },
        "id": "r1yIwzm8Gnnc",
        "outputId": "84f7eaa5-951f-405e-c7f7-c481ac36e6b1"
      },
      "execution_count": 29,
      "outputs": [
        {
          "output_type": "execute_result",
          "data": {
            "text/plain": [
              "3"
            ]
          },
          "metadata": {},
          "execution_count": 29
        }
      ]
    },
    {
      "cell_type": "code",
      "source": [
        "c1.name"
      ],
      "metadata": {
        "colab": {
          "base_uri": "https://localhost:8080/",
          "height": 35
        },
        "id": "ipzviiilGo7n",
        "outputId": "e451cd8e-11fe-467f-e9ea-2060694a46c8"
      },
      "execution_count": 30,
      "outputs": [
        {
          "output_type": "execute_result",
          "data": {
            "text/plain": [
              "'tom'"
            ],
            "application/vnd.google.colaboratory.intrinsic+json": {
              "type": "string"
            }
          },
          "metadata": {},
          "execution_count": 30
        }
      ]
    },
    {
      "cell_type": "code",
      "source": [
        "class bank:\n",
        "  def __init__(self,owner,balance=0):\n",
        "    self.owner=owner\n",
        "    self.balance=balance\n",
        "  def deposite(self,amount):\n",
        "    self.balance+=amount\n",
        "    print('balanced is credited',self.balance)\n",
        "  def withdraw(self,amount):\n",
        "    if amount>self.balance:\n",
        "      print('insufficient fund')\n",
        "    else:\n",
        "      self.balance-=amount\n",
        "      print(f'{amount } is withdrwan. new balance is {self.balance}')\n",
        "  def get_balance(self):\n",
        "    return self.balance\n",
        "ac=bank('sky',5000)\n",
        "print(ac.balance)\n"
      ],
      "metadata": {
        "colab": {
          "base_uri": "https://localhost:8080/"
        },
        "id": "7ABprYHPHvwF",
        "outputId": "0e336b1c-250f-48ca-dbc1-5a54e426a06d"
      },
      "execution_count": 46,
      "outputs": [
        {
          "output_type": "stream",
          "name": "stdout",
          "text": [
            "5000\n"
          ]
        }
      ]
    },
    {
      "cell_type": "code",
      "source": [
        "ac.owner"
      ],
      "metadata": {
        "colab": {
          "base_uri": "https://localhost:8080/",
          "height": 35
        },
        "id": "cpDfiUVDKd1w",
        "outputId": "143cca6e-e4c6-4cae-fc19-bf09da7c8106"
      },
      "execution_count": 47,
      "outputs": [
        {
          "output_type": "execute_result",
          "data": {
            "text/plain": [
              "'sky'"
            ],
            "application/vnd.google.colaboratory.intrinsic+json": {
              "type": "string"
            }
          },
          "metadata": {},
          "execution_count": 47
        }
      ]
    },
    {
      "cell_type": "code",
      "source": [
        "ac.deposite(100)"
      ],
      "metadata": {
        "colab": {
          "base_uri": "https://localhost:8080/"
        },
        "id": "OHaYknrIJt-a",
        "outputId": "9e9e880f-57f9-482c-f913-8a926a66b3ad"
      },
      "execution_count": 49,
      "outputs": [
        {
          "output_type": "stream",
          "name": "stdout",
          "text": [
            "balanced is credited 5200\n"
          ]
        }
      ]
    },
    {
      "cell_type": "code",
      "source": [
        "ac.withdraw(100)"
      ],
      "metadata": {
        "colab": {
          "base_uri": "https://localhost:8080/"
        },
        "id": "AR2Pph_dJ4un",
        "outputId": "2921d4ca-1065-4c06-8dc7-f7572b440351"
      },
      "execution_count": 42,
      "outputs": [
        {
          "output_type": "stream",
          "name": "stdout",
          "text": [
            "100 is withdrwan. new balance is 5000\n"
          ]
        }
      ]
    },
    {
      "cell_type": "code",
      "source": [
        "ac.get_balance()"
      ],
      "metadata": {
        "colab": {
          "base_uri": "https://localhost:8080/"
        },
        "id": "0-ucyPNVKLcY",
        "outputId": "30905c59-e489-45e4-ed11-f7948071ce1e"
      },
      "execution_count": 44,
      "outputs": [
        {
          "output_type": "execute_result",
          "data": {
            "text/plain": [
              "5000"
            ]
          },
          "metadata": {},
          "execution_count": 44
        }
      ]
    },
    {
      "cell_type": "code",
      "source": [],
      "metadata": {
        "id": "_FpDlH4WKPyZ"
      },
      "execution_count": null,
      "outputs": []
    }
  ]
}