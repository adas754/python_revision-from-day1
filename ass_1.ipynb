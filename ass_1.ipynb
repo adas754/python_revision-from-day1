{
  "nbformat": 4,
  "nbformat_minor": 0,
  "metadata": {
    "colab": {
      "provenance": []
    },
    "kernelspec": {
      "name": "python3",
      "display_name": "Python 3"
    },
    "language_info": {
      "name": "python"
    }
  },
  "cells": [
    {
      "cell_type": "markdown",
      "source": [
        "# 1. Write a function that takes a list of lists and returns the value of all of the symbols in it, where each symbol adds or takes something from the total score. Symbol values:\n",
        "\n",
        "# = 5\n",
        "O = 3\n",
        "X = 1\n",
        "! = -1\n",
        "!! = -3\n",
        "!!! = -5\n",
        "\n",
        "A list of lists containing 2 #s, a O, and a !!! would equal (0 + 5 + 5 + 3 - 5) 8.\n",
        "\n",
        "If the final score is negative, return 0 (e.g. 3 #s, 3 !!s, 2 !!!s and a X would be (0 + 5 + 5 + 5 - 3 - 3 - 3 - 5 - 5 + 1) -3, so return 0.\n",
        "\n",
        "Examples\n",
        "\n",
        "check_score([\n",
        "  [\"#\", \"!\"],\n",
        "  [\"!!\", \"X\"]\n",
        "]) ➞ 2\n",
        "\n",
        "check_score([\n",
        "  [\"!!!\", \"O\", \"!\"],\n",
        "  [\"X\", \"#\", \"!!!\"],\n",
        "  [\"!!\", \"X\", \"O\"]\n",
        "]) ➞ 0\n",
        "\n",
        "# 2. Create a function that takes a variable number of arguments, each argument representing the number of items in a group, and returns the number of permutations (combinations) of items that you could get by taking one item from each group.\n",
        "\n",
        "Examples\n",
        "\n",
        "combinations(2, 3) ➞ 6\n",
        "\n",
        "combinations(3, 7, 4) ➞ 84\n",
        "\n",
        "combinations(2, 3, 4, 5) ➞ 120\n",
        "\n",
        "\n",
        "\n",
        "\n",
        "# 3. Create a function that takes a string as an argument and returns the Morse code equivalent.\n",
        "\n",
        "Examples\n",
        "\n",
        "encode_morse(\"EDABBIT CHALLENGE\") ➞ \". -.. .- -... -... .. -   -.-. .... .- .-.. .-.. . -. --. .\"\n",
        "\n",
        "encode_morse(\"HELP ME !\") ➞ \".... . .-.. .--.   -- .   -.-.--\"\n",
        "\n",
        "This dictionary can be used for coding:\n",
        "\n",
        "char_to_dots = {\n",
        "  'A': '.-', 'B': '-...', 'C': '-.-.', 'D': '-..', 'E': '.', 'F': '..-.',\n",
        "  'G': '--.', 'H': '....', 'I': '..', 'J': '.---', 'K': '-.-', 'L': '.-..',\n",
        "  'M': '--', 'N': '-.', 'O': '---', 'P': '.--.', 'Q': '--.-', 'R': '.-.',\n",
        "  'S': '...', 'T': '-', 'U': '..-', 'V': '...-', 'W': '.--', 'X': '-..-',\n",
        "  'Y': '-.--', 'Z': '--..', ' ': ' ', '0': '-----',\n",
        "  '1': '.----', '2': '..---', '3': '...--', '4': '....-', '5': '.....',\n",
        "  '6': '-....', '7': '--...', '8': '---..', '9': '----.',\n",
        "  '&': '.-...', \"'\": '.----.', '@': '.--.-.', ')': '-.--.-', '(': '-.--.',\n",
        "  ':': '---...', ',': '--..--', '=': '-...-', '!': '-.-.--', '.': '.-.-.-',\n",
        "  '-': '-....-', '+': '.-.-.', '\"': '.-..-.', '?': '..--..', '/': '-..-.'\n",
        "}\n",
        "\n",
        "# 4.  Write a function that takes a number and returns True if it's a prime; False otherwise. The number can be 2^64-1 (2 to the power of 63, not XOR). With the standard technique it would be O(2^64-1), which is much too large for the 10 second time limit.\n",
        "\n",
        "Examples\n",
        "\n",
        "prime(7) ➞ True\n",
        "\n",
        "prime(56963) ➞ True\n",
        "\n",
        "prime(5151512515524) ➞ False\n",
        "\n",
        "\n",
        "\n",
        "\n",
        "\n",
        "\n",
        "\n",
        "# 5.  Create a function that converts a word to a bitstring and then to a boolean list based on the following criteria:\n",
        "\n",
        "    1. Locate the position of the letter in the English alphabet (from 1 to 26).\n",
        "    2. Odd positions will be represented as 1 and 0 otherwise.\n",
        "    3. Convert the represented positions to boolean values, 1 for True and 0 for False.\n",
        "    4. Store the conversions into an array.\n",
        "\n",
        " Examples\n",
        "\n",
        "to_boolean_list(\"deep\") ➞ [False, True, True, False]\n",
        "# deep converts to 0110\n",
        "# d is the 4th alphabet - 0\n",
        "# e is the 5th alphabet - 1\n",
        "# e is the 5th alphabet - 1\n",
        "# p is the 16th alphabet - 0\n",
        "\n",
        "to_boolean_list(\"loves\") ➞ [False, True, False, True, True]\n",
        "\n",
        "to_boolean_list(\"tesh\") ➞ [False, True, True, False]\n"
      ],
      "metadata": {
        "id": "WTPgtQzYZRX8"
      }
    },
    {
      "cell_type": "code",
      "source": [
        "def check_score(lst):\n",
        "  score=0\n",
        "  symbol_values={'#':5,'O':3,'X':1,'!':-1,'!!':-3,'!!!':-5}\n",
        "  for sub_lst in lst:\n",
        "    for symbol in sub_lst:\n",
        "      score+=symbol_values.get(symbol,0)\n",
        "  return max(score,0)\n",
        "check_score([\n",
        "  [\"#\", \"!\"],\n",
        "  [\"!!\", \"X\"]\n",
        "])\n"
      ],
      "metadata": {
        "colab": {
          "base_uri": "https://localhost:8080/"
        },
        "id": "AbT8Lyah7N7a",
        "outputId": "02a90f62-e779-441f-e185-0e570a9da0d2"
      },
      "execution_count": 2,
      "outputs": [
        {
          "output_type": "execute_result",
          "data": {
            "text/plain": [
              "2"
            ]
          },
          "metadata": {},
          "execution_count": 2
        }
      ]
    },
    {
      "cell_type": "code",
      "source": [
        "check_score([\n",
        "  [\"!!!\", \"O\", \"!\"],\n",
        "  [\"X\", \"#\", \"!!!\"],\n",
        "  [\"!!\", \"X\", \"O\"]\n",
        "])\n"
      ],
      "metadata": {
        "colab": {
          "base_uri": "https://localhost:8080/"
        },
        "id": "tvMiThAe92GS",
        "outputId": "d620cdfa-c3cb-4123-f5e5-06cd68a52a2b"
      },
      "execution_count": 3,
      "outputs": [
        {
          "output_type": "execute_result",
          "data": {
            "text/plain": [
              "0"
            ]
          },
          "metadata": {},
          "execution_count": 3
        }
      ]
    },
    {
      "cell_type": "code",
      "source": [
        "def combinations(*args):\n",
        "  out_num=1\n",
        "  for ele in args:\n",
        "    out_num*=ele\n",
        "  print(f'combinations{args}->{out_num}')\n",
        "combinations(2, 3)\n",
        "combinations(2, 3, 4, 5)"
      ],
      "metadata": {
        "colab": {
          "base_uri": "https://localhost:8080/"
        },
        "id": "KA8sr_K8Gx2X",
        "outputId": "cf19e229-050c-4fb1-87bc-cba4312b4457"
      },
      "execution_count": 7,
      "outputs": [
        {
          "output_type": "stream",
          "name": "stdout",
          "text": [
            "combinations(2, 3)->6\n",
            "combinations(2, 3, 4, 5)->120\n"
          ]
        }
      ]
    },
    {
      "cell_type": "code",
      "source": [
        "def encode_morse(in_string):\n",
        "  out_string=''\n",
        "  char_to_dots={'A': '.-', 'B': '-...', 'C': '-.-.', 'D': '-..', 'E': '.', 'F': '..-.','G': '--.', 'H': '....', 'I': '..', 'J': '.---', 'K': '-.-', 'L': '.-..',\n",
        "\n",
        "'M': '--', 'N': '-.', 'O': '---', 'P': '.--.', 'Q': '--.-', 'R': '.-.',\n",
        "\n",
        "'S': '...', 'T': '-', 'U': '..-', 'V': '...-', 'W': '.--', 'X': '-..-',\n",
        "\n",
        "'Y': '-.--', 'Z': '--..', ' ': ' ', '0': '-----',\n",
        "\n",
        "'1': '.----', '2': '..---', '3': '...--', '4': '....-', '5': '.....',\n",
        "\n",
        "'6': '-....', '7': '--...', '8': '---..', '9': '----.',\n",
        "\n",
        "'&': '.-...', \"'\": '.----.', '@': '.--.-.', ')': '-.--.-', '(': '-.--.',\n",
        "\n",
        "':': '---...', ',': '--..--', '=': '-...-', '!': '-.-.--', '.': '.-.-.-',\n",
        "\n",
        "'-': '-....-', '+': '.-.-.', '\"': '.-..-.', '?': '..--..', '/': '-..-.'\n",
        "  }\n",
        "  for ele in in_string:\n",
        "    out_string+=char_to_dots[ele]\n",
        "  print(f'encode_morse({in_string})->{out_string}')\n",
        "encode_morse(\"EDABBIT CHALLENGE\")\n",
        "encode_morse(\"HELP ME !\")"
      ],
      "metadata": {
        "colab": {
          "base_uri": "https://localhost:8080/"
        },
        "id": "C6cO67oTMatw",
        "outputId": "a646595c-1803-468b-ba5b-e4f5e9c338a6"
      },
      "execution_count": 12,
      "outputs": [
        {
          "output_type": "stream",
          "name": "stdout",
          "text": [
            "encode_morse(EDABBIT CHALLENGE)->.-...--...-.....- -.-......-.-...-...-.--..\n",
            "encode_morse(HELP ME !)->......-...--. --. -.-.--\n"
          ]
        }
      ]
    },
    {
      "cell_type": "code",
      "source": [
        "def prime(in_num):\n",
        "  out_bool=False\n",
        "  if ((in_num-1)%6==0) or ((in_num+1)%6==0):\n",
        "    out_bool=True\n",
        "  print(f'prime({in_num})->{out_bool}')\n",
        "\n",
        "prime(7)\n",
        "prime(56963)\n",
        "prime(5151512515524)"
      ],
      "metadata": {
        "colab": {
          "base_uri": "https://localhost:8080/"
        },
        "id": "2YFunUpDNZx4",
        "outputId": "0aca8071-8dcc-419f-a9ca-db75489a3103"
      },
      "execution_count": 13,
      "outputs": [
        {
          "output_type": "stream",
          "name": "stdout",
          "text": [
            "prime(7)->True\n",
            "prime(56963)->True\n",
            "prime(5151512515524)->False\n"
          ]
        }
      ]
    },
    {
      "cell_type": "code",
      "source": [
        "def to_boolean_list(in_string):\n",
        "  alphabets='abcdefghijklmnopqrstuvwxyz'\n",
        "  out_list=[]\n",
        "  for ele in in_string:\n",
        "    out_list.append(bool((alphabets.index(ele)+1)%2))\n",
        "  print(f'to_bool_list({in_string})->{out_list}')\n",
        "to_boolean_list(\"loves\")\n",
        "\n",
        "to_boolean_list(\"tesh\") \n"
      ],
      "metadata": {
        "colab": {
          "base_uri": "https://localhost:8080/"
        },
        "id": "OV4-k2mpSxlQ",
        "outputId": "8e1ffd24-7e73-45ab-e732-87d9d27ccd9f"
      },
      "execution_count": 14,
      "outputs": [
        {
          "output_type": "stream",
          "name": "stdout",
          "text": [
            "to_bool_list(loves)->[False, True, False, True, True]\n",
            "to_bool_list(tesh)->[False, True, True, False]\n"
          ]
        }
      ]
    }
  ]
}