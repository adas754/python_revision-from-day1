{
  "nbformat": 4,
  "nbformat_minor": 0,
  "metadata": {
    "colab": {
      "provenance": [],
      "authorship_tag": "ABX9TyP2k3UHbEB0yJGqJF82rYuD",
      "include_colab_link": true
    },
    "kernelspec": {
      "name": "python3",
      "display_name": "Python 3"
    },
    "language_info": {
      "name": "python"
    }
  },
  "cells": [
    {
      "cell_type": "markdown",
      "metadata": {
        "id": "view-in-github",
        "colab_type": "text"
      },
      "source": [
        "<a href=\"https://colab.research.google.com/github/adas754/python_revision-from-day1/blob/main/python_140.ipynb\" target=\"_parent\"><img src=\"https://colab.research.google.com/assets/colab-badge.svg\" alt=\"Open In Colab\"/></a>"
      ]
    },
    {
      "cell_type": "markdown",
      "source": [
        "# Program 1\n",
        "# Write a Python program to print \"Hello Python\""
      ],
      "metadata": {
        "id": "l6F28iJvFKpZ"
      }
    },
    {
      "cell_type": "code",
      "execution_count": null,
      "metadata": {
        "colab": {
          "base_uri": "https://localhost:8080/"
        },
        "id": "xeZt0JFZEyhE",
        "outputId": "3be53680-846f-4e43-c2bc-c82f63f252a5"
      },
      "outputs": [
        {
          "output_type": "stream",
          "name": "stdout",
          "text": [
            "Hello Python\n"
          ]
        }
      ],
      "source": [
        "print('Hello Python')"
      ]
    },
    {
      "cell_type": "markdown",
      "source": [
        "#  Program 2 Write a Python program to do arithmetical operations addition and division."
      ],
      "metadata": {
        "id": "Z6Tdu8PzFlBv"
      }
    },
    {
      "cell_type": "code",
      "source": [
        "def add_div(a,b):\n",
        "  c=a+b\n",
        "  d=a/b\n",
        "  return c,d\n",
        "add_div(25,5)"
      ],
      "metadata": {
        "colab": {
          "base_uri": "https://localhost:8080/"
        },
        "id": "Xooq6y1MFt5o",
        "outputId": "540c4463-632c-4fef-fdfe-23c27ab4a880"
      },
      "execution_count": null,
      "outputs": [
        {
          "output_type": "execute_result",
          "data": {
            "text/plain": [
              "(30, 5.0)"
            ]
          },
          "metadata": {},
          "execution_count": 5
        }
      ]
    },
    {
      "cell_type": "markdown",
      "source": [
        "# Program 3 Write a Python program to find the area of a triangle."
      ],
      "metadata": {
        "id": "QXV69DdrGkjG"
      }
    },
    {
      "cell_type": "code",
      "source": [
        "def area(h,b):\n",
        "  return 0.5*h*b\n",
        "area(10,15)"
      ],
      "metadata": {
        "colab": {
          "base_uri": "https://localhost:8080/"
        },
        "id": "TLBX_5NAGAQ9",
        "outputId": "e6db6626-2282-4dc2-ad9c-9ab27731dc35"
      },
      "execution_count": null,
      "outputs": [
        {
          "output_type": "execute_result",
          "data": {
            "text/plain": [
              "75.0"
            ]
          },
          "metadata": {},
          "execution_count": 6
        }
      ]
    },
    {
      "cell_type": "markdown",
      "source": [
        "# Program 4 Write a Python program to swap two variables."
      ],
      "metadata": {
        "id": "1KswtXuKIeEf"
      }
    },
    {
      "cell_type": "code",
      "source": [
        "def swap(a,b):\n",
        "  a=a+b\n",
        "  b=a-b\n",
        "  a=a-b\n",
        "  return a,b\n",
        "a,b=swap(34,67)\n",
        "print(a,b)"
      ],
      "metadata": {
        "colab": {
          "base_uri": "https://localhost:8080/"
        },
        "id": "NjdK3nPfIZr0",
        "outputId": "6baa01a5-09df-4b85-c3d7-9c908e4a1423"
      },
      "execution_count": null,
      "outputs": [
        {
          "output_type": "stream",
          "name": "stdout",
          "text": [
            "67 34\n"
          ]
        }
      ]
    },
    {
      "cell_type": "markdown",
      "source": [
        "# Program 5\n",
        "# Write a Python program to generate a random number."
      ],
      "metadata": {
        "id": "oRmMM1GwMsvs"
      }
    },
    {
      "cell_type": "code",
      "source": [
        "import random\n",
        "random.randint(1,100)"
      ],
      "metadata": {
        "colab": {
          "base_uri": "https://localhost:8080/"
        },
        "id": "I8mkXYUNJP2o",
        "outputId": "4f269d67-7035-4166-c463-24776630df78"
      },
      "execution_count": null,
      "outputs": [
        {
          "output_type": "execute_result",
          "data": {
            "text/plain": [
              "25"
            ]
          },
          "metadata": {},
          "execution_count": 17
        }
      ]
    },
    {
      "cell_type": "markdown",
      "source": [
        "# Program 6\n",
        "# Write a Python program to convert kilometers to miles"
      ],
      "metadata": {
        "id": "jl1-N8w9Pw9U"
      }
    },
    {
      "cell_type": "code",
      "source": [
        "def km_mile(km):\n",
        "  miles=km* 0.621371\n",
        "  return miles\n",
        "km_mile(100)\n"
      ],
      "metadata": {
        "colab": {
          "base_uri": "https://localhost:8080/"
        },
        "id": "wQH0zCCjM87_",
        "outputId": "eaeef25b-9c5d-4569-a073-7c8b1f2cf433"
      },
      "execution_count": null,
      "outputs": [
        {
          "output_type": "execute_result",
          "data": {
            "text/plain": [
              "62.137100000000004"
            ]
          },
          "metadata": {},
          "execution_count": 19
        }
      ]
    },
    {
      "cell_type": "markdown",
      "source": [
        "# Program 7\n",
        "# Write a Python program to convert Celsius to Fahrenheit."
      ],
      "metadata": {
        "id": "d5wiD0kOQ_YT"
      }
    },
    {
      "cell_type": "code",
      "source": [
        "def cel_far(c):\n",
        "  f=(c*9/5)+32\n",
        "  return f\n",
        "cel_far(37)"
      ],
      "metadata": {
        "colab": {
          "base_uri": "https://localhost:8080/"
        },
        "id": "c1-mpj46QpLP",
        "outputId": "a94f95d1-d099-4ebe-a4a6-7608c74f467b"
      },
      "execution_count": null,
      "outputs": [
        {
          "output_type": "execute_result",
          "data": {
            "text/plain": [
              "98.6"
            ]
          },
          "metadata": {},
          "execution_count": 20
        }
      ]
    },
    {
      "cell_type": "markdown",
      "source": [
        "# Program 8\n",
        "# Write a Python program to display calendar."
      ],
      "metadata": {
        "id": "YW4246QCSFvx"
      }
    },
    {
      "cell_type": "code",
      "source": [
        "import calendar\n",
        "year = int(input(\"Enter year: \"))\n",
        "month = int(input(\"Enter month: \"))\n",
        "cal = calendar.month(year, month)\n",
        "print(cal)\n"
      ],
      "metadata": {
        "colab": {
          "base_uri": "https://localhost:8080/"
        },
        "id": "bdctvO6wS0W8",
        "outputId": "920a83d6-2d1e-4698-c6a2-70b695889bf5"
      },
      "execution_count": null,
      "outputs": [
        {
          "output_type": "stream",
          "name": "stdout",
          "text": [
            "Enter year: 2023\n",
            "Enter month: 11\n",
            "   November 2023\n",
            "Mo Tu We Th Fr Sa Su\n",
            "       1  2  3  4  5\n",
            " 6  7  8  9 10 11 12\n",
            "13 14 15 16 17 18 19\n",
            "20 21 22 23 24 25 26\n",
            "27 28 29 30\n",
            "\n"
          ]
        }
      ]
    },
    {
      "cell_type": "markdown",
      "source": [
        "# Program 9\n",
        "# Write a Python program to solve quadratic equation."
      ],
      "metadata": {
        "id": "04ZgNYnbedWG"
      }
    },
    {
      "cell_type": "code",
      "source": [
        "import cmath\n",
        "a=int(input())\n",
        "b=int(input())\n",
        "c=int(input())\n",
        "d=(b**2-4*a*c)**0.5\n",
        "root1=(-b+d)/(2*a)\n",
        "root2=(-b-d)/(2*a)\n",
        "print(root1,root2)\n"
      ],
      "metadata": {
        "colab": {
          "base_uri": "https://localhost:8080/"
        },
        "id": "gQYw6YnRdMpI",
        "outputId": "b56ccb76-41d9-4c43-97e9-10d8ee39fdc3"
      },
      "execution_count": null,
      "outputs": [
        {
          "output_type": "stream",
          "name": "stdout",
          "text": [
            "1\n",
            "4\n",
            "8\n",
            "(-1.9999999999999998+2j) (-2-2j)\n"
          ]
        }
      ]
    },
    {
      "cell_type": "markdown",
      "source": [
        "# Program 10\n",
        "# Write a Python program to swap two variables without temp variable."
      ],
      "metadata": {
        "id": "c2ePk0bjgQxn"
      }
    },
    {
      "cell_type": "code",
      "source": [
        "def swap_num(a,b):\n",
        "  a=a+b\n",
        "  b=a-b\n",
        "  a=a-b\n",
        "  return a,b\n",
        "swap_num(56,57)"
      ],
      "metadata": {
        "colab": {
          "base_uri": "https://localhost:8080/"
        },
        "id": "onXgPKxvgS4m",
        "outputId": "4883385f-a6fb-4878-c717-8c0270d05c5b"
      },
      "execution_count": null,
      "outputs": [
        {
          "output_type": "execute_result",
          "data": {
            "text/plain": [
              "(57, 56)"
            ]
          },
          "metadata": {},
          "execution_count": 29
        }
      ]
    },
    {
      "cell_type": "markdown",
      "source": [
        "# Program 11 Write a Python Program to Check if a Number is Positive, Negative or Zero."
      ],
      "metadata": {
        "id": "qUYopjU2g5k-"
      }
    },
    {
      "cell_type": "code",
      "source": [
        "def pos_num(n):\n",
        "  if n>0:\n",
        "    print('positive')\n",
        "  elif n==0:\n",
        "    print('zero')\n",
        "  else:\n",
        "    print('negative')\n",
        "pos_num(56)\n"
      ],
      "metadata": {
        "colab": {
          "base_uri": "https://localhost:8080/"
        },
        "id": "E3dAzkeJguvW",
        "outputId": "018645b1-ba0e-4472-adc9-b49373feadc2"
      },
      "execution_count": null,
      "outputs": [
        {
          "output_type": "stream",
          "name": "stdout",
          "text": [
            "positive\n"
          ]
        }
      ]
    },
    {
      "cell_type": "markdown",
      "source": [
        "# Program 12 Write a Python Program to Check if a Number is Odd or Even"
      ],
      "metadata": {
        "id": "86I1QuxyjgRz"
      }
    },
    {
      "cell_type": "code",
      "source": [
        "def eve_odd(n):\n",
        "  if n%2==0:\n",
        "    print('even')\n",
        "  else:\n",
        "    print('odd')\n",
        "eve_odd(31)"
      ],
      "metadata": {
        "colab": {
          "base_uri": "https://localhost:8080/"
        },
        "id": "iFfCNRJFioYE",
        "outputId": "860242c2-2f2e-4ca9-87d0-f15aceb6c253"
      },
      "execution_count": null,
      "outputs": [
        {
          "output_type": "stream",
          "name": "stdout",
          "text": [
            "odd\n"
          ]
        }
      ]
    },
    {
      "cell_type": "markdown",
      "source": [
        "# Program 13 Write a Python Program to Check Leap Year."
      ],
      "metadata": {
        "id": "t2QUt9xgkwkT"
      }
    },
    {
      "cell_type": "code",
      "source": [
        "def leap_yr(yr):\n",
        "  if(yr%4==0 and yr%100!=0 or yr%400==0):\n",
        "    print('year is leap year')\n",
        "  else:\n",
        "    print('not leap year')\n",
        "leap_yr(2024)"
      ],
      "metadata": {
        "colab": {
          "base_uri": "https://localhost:8080/"
        },
        "id": "NCHxa8VclWp6",
        "outputId": "9c70a7bc-280a-486b-dbf6-7bb1b98091f9"
      },
      "execution_count": null,
      "outputs": [
        {
          "output_type": "stream",
          "name": "stdout",
          "text": [
            "year is leap year\n"
          ]
        }
      ]
    },
    {
      "cell_type": "markdown",
      "source": [
        "# Program 14\n",
        "# Write a Python Program to Check Prime Number.\n"
      ],
      "metadata": {
        "id": "Zp-X1iYbotln"
      }
    },
    {
      "cell_type": "code",
      "source": [
        "def check_prime(n):\n",
        "  if n<=1:\n",
        "    return False\n",
        "  for i in range(2,int(n**0.5)+1):\n",
        "    if n%i==0:\n",
        "      return False\n",
        "  return True\n",
        "check_prime(19)"
      ],
      "metadata": {
        "colab": {
          "base_uri": "https://localhost:8080/"
        },
        "id": "cTF3WTV4nMkk",
        "outputId": "8d0bf515-ff1f-4200-d95d-0d0c061e3f84"
      },
      "execution_count": null,
      "outputs": [
        {
          "output_type": "execute_result",
          "data": {
            "text/plain": [
              "True"
            ]
          },
          "metadata": {},
          "execution_count": 59
        }
      ]
    },
    {
      "cell_type": "markdown",
      "source": [
        "# Program 15\n",
        "# Write a Python Program to Print all Prime Numbers in an Interval of 1-10.\n"
      ],
      "metadata": {
        "id": "2OshPVM_qc6h"
      }
    },
    {
      "cell_type": "code",
      "source": [
        "def is_prime(n):\n",
        "  if n<=1:\n",
        "    return False\n",
        "  for i in range(2,int(n**0.5)+1):\n",
        "    if n%i==0:\n",
        "      return False\n",
        "  return True\n",
        "def print_prime(start,end):\n",
        "  for i in range(start,end+1):\n",
        "    if is_prime(i):\n",
        "      print(i)\n",
        "print_prime(1,10)"
      ],
      "metadata": {
        "colab": {
          "base_uri": "https://localhost:8080/"
        },
        "id": "KQWWjTsuulZf",
        "outputId": "35b295ff-7859-4f4d-c6e6-f58a541981a0"
      },
      "execution_count": null,
      "outputs": [
        {
          "output_type": "stream",
          "name": "stdout",
          "text": [
            "2\n",
            "3\n",
            "5\n",
            "7\n"
          ]
        }
      ]
    },
    {
      "cell_type": "markdown",
      "source": [
        "# Program 16\n",
        "# Write a Python Program to Find the Factorial of a Number.\n"
      ],
      "metadata": {
        "id": "k2dbdY8kwMKS"
      }
    },
    {
      "cell_type": "code",
      "source": [
        "def fact_number(n):\n",
        "  if n==0 or n==1:\n",
        "    return 1\n",
        "  else:\n",
        "    return n*fact_number(n-1)\n",
        "fact_number(5)"
      ],
      "metadata": {
        "colab": {
          "base_uri": "https://localhost:8080/"
        },
        "id": "2IOqYuWwvzTp",
        "outputId": "43e8ea9a-cca9-40c5-b7e0-c48634680a7e"
      },
      "execution_count": null,
      "outputs": [
        {
          "output_type": "execute_result",
          "data": {
            "text/plain": [
              "120"
            ]
          },
          "metadata": {},
          "execution_count": 61
        }
      ]
    },
    {
      "cell_type": "markdown",
      "source": [
        "# Program 17\n",
        "# Write a Python Program to Display the multiplication Table.\n"
      ],
      "metadata": {
        "id": "lGswtZTzxnI6"
      }
    },
    {
      "cell_type": "code",
      "source": [
        "n=int(input())\n",
        "for i in range(1,11):\n",
        "  print(f'{n}x{i}={n*i}')"
      ],
      "metadata": {
        "colab": {
          "base_uri": "https://localhost:8080/"
        },
        "id": "T0wpA2yWw6UY",
        "outputId": "d34ca41c-8b1e-44fe-8f0b-38f78d27f9fc"
      },
      "execution_count": null,
      "outputs": [
        {
          "output_type": "stream",
          "name": "stdout",
          "text": [
            "10\n",
            "10x1=10\n",
            "10x2=20\n",
            "10x3=30\n",
            "10x4=40\n",
            "10x5=50\n",
            "10x6=60\n",
            "10x7=70\n",
            "10x8=80\n",
            "10x9=90\n",
            "10x10=100\n"
          ]
        }
      ]
    },
    {
      "cell_type": "markdown",
      "source": [
        "# Program 18\n",
        "# Write a Python Program to Print the Fibonacci sequence."
      ],
      "metadata": {
        "id": "ztuI1eaizeYi"
      }
    },
    {
      "cell_type": "code",
      "source": [
        "def fib_num(n):\n",
        "  if n<=1:\n",
        "    return n\n",
        "  else:\n",
        "    return (fib_num(n-1)+fib_num(n-2))\n",
        "for i in range(10):\n",
        "  print(fib_num(i))"
      ],
      "metadata": {
        "colab": {
          "base_uri": "https://localhost:8080/"
        },
        "id": "_lXqvbJuzhJs",
        "outputId": "475eef23-02b9-45a6-9585-0bebc2736ddd"
      },
      "execution_count": null,
      "outputs": [
        {
          "output_type": "stream",
          "name": "stdout",
          "text": [
            "0\n",
            "1\n",
            "1\n",
            "2\n",
            "3\n",
            "5\n",
            "8\n",
            "13\n",
            "21\n",
            "34\n"
          ]
        }
      ]
    },
    {
      "cell_type": "markdown",
      "source": [
        "# Program 19\n",
        "# Write a Python Program to Check Armstrong Number?"
      ],
      "metadata": {
        "id": "1dbBePOx1Qw4"
      }
    },
    {
      "cell_type": "code",
      "source": [
        "def arm_num(num):\n",
        "  num_str=str(num)\n",
        "  digit_num=len(num_str)\n",
        "  sum=0\n",
        "  for digit in num_str:\n",
        "    sum+=int(digit)**digit_num\n",
        "  if sum==num:\n",
        "    return True\n",
        "  else:\n",
        "    return False\n",
        "arm_num(9474)"
      ],
      "metadata": {
        "colab": {
          "base_uri": "https://localhost:8080/"
        },
        "id": "QNp4xJghz43O",
        "outputId": "7940dd91-f7a1-4922-9e20-ea83f8664ace"
      },
      "execution_count": null,
      "outputs": [
        {
          "output_type": "execute_result",
          "data": {
            "text/plain": [
              "True"
            ]
          },
          "metadata": {},
          "execution_count": 74
        }
      ]
    },
    {
      "cell_type": "markdown",
      "source": [
        "# Program 20\n",
        "# Write a Python Program to Find Armstrong Number in an Interval."
      ],
      "metadata": {
        "id": "WnBIQhTu2XcO"
      }
    },
    {
      "cell_type": "code",
      "source": [
        "def arm_num(num):\n",
        "  num_str=str(num)\n",
        "  digit_num=len(num_str)\n",
        "  sum=0\n",
        "  for digit in num_str:\n",
        "    sum+=int(digit)**digit_num\n",
        "  if sum==num:\n",
        "    return True\n",
        "  else:\n",
        "    return False\n",
        "def print_arm(start,end):\n",
        "  for i in range(start,end+1):\n",
        "    if arm_num(i):\n",
        "      print(i)\n",
        "print_arm(10,1000)"
      ],
      "metadata": {
        "colab": {
          "base_uri": "https://localhost:8080/"
        },
        "id": "DuQq0Xu12Hi-",
        "outputId": "2df3565d-4f68-405f-e5b0-b140d4f1c670"
      },
      "execution_count": null,
      "outputs": [
        {
          "output_type": "stream",
          "name": "stdout",
          "text": [
            "153\n",
            "370\n",
            "371\n",
            "407\n"
          ]
        }
      ]
    },
    {
      "cell_type": "markdown",
      "source": [
        "# Program 21\n",
        "# Write a Python Program to Find the Sum of Natural Numbers."
      ],
      "metadata": {
        "id": "Ra8H4OVr4NBe"
      }
    },
    {
      "cell_type": "code",
      "source": [
        "def son(n):\n",
        "  s=0\n",
        "  for i in range(1,n+1):\n",
        "    s+=i\n",
        "  return s\n",
        "son(10)"
      ],
      "metadata": {
        "colab": {
          "base_uri": "https://localhost:8080/"
        },
        "id": "X1_NteBk2yhz",
        "outputId": "2a72b3b6-d535-482b-82ef-9e4d00deb813"
      },
      "execution_count": null,
      "outputs": [
        {
          "output_type": "execute_result",
          "data": {
            "text/plain": [
              "55"
            ]
          },
          "metadata": {},
          "execution_count": 80
        }
      ]
    },
    {
      "cell_type": "markdown",
      "source": [
        "# Program 22\n",
        "# Write a Python Program to Find LCM."
      ],
      "metadata": {
        "id": "MXwsNiSUNtRB"
      }
    },
    {
      "cell_type": "code",
      "source": [
        "def compute_lcm(x,y):\n",
        "  if x>y:\n",
        "    greater=x\n",
        "  else:\n",
        "    greater=y\n",
        "  while True:\n",
        "    if((greater%x==0)and(greater%y==0)):\n",
        "      lcm=greater\n",
        "      break\n",
        "    greater+=1\n",
        "  return lcm\n",
        "compute_lcm(54,24)"
      ],
      "metadata": {
        "colab": {
          "base_uri": "https://localhost:8080/"
        },
        "id": "sQ1_Ihy5QNGo",
        "outputId": "cd8e0ab1-333a-47e9-edd0-2c2c92c6dad3"
      },
      "execution_count": null,
      "outputs": [
        {
          "output_type": "execute_result",
          "data": {
            "text/plain": [
              "216"
            ]
          },
          "metadata": {},
          "execution_count": 7
        }
      ]
    },
    {
      "cell_type": "markdown",
      "source": [
        "# Program 23\n",
        "# Write a Python Program to Find HCF.\n"
      ],
      "metadata": {
        "id": "VMx1TbaARuWu"
      }
    },
    {
      "cell_type": "code",
      "source": [
        "def compute_hcf(x,y):\n",
        "  if x>y:\n",
        "    smaller=y\n",
        "  else:\n",
        "    smaller=x\n",
        "  for i in range(1,smaller+1):\n",
        "    if((x%i==0)and(y%i==0)):\n",
        "      hcf=i\n",
        "  return hcf\n",
        "compute_hcf(54,24)"
      ],
      "metadata": {
        "colab": {
          "base_uri": "https://localhost:8080/"
        },
        "id": "YKfPNdXaTdtR",
        "outputId": "37c917dc-bbb8-4220-8a2f-fe1b7ee3ae0e"
      },
      "execution_count": null,
      "outputs": [
        {
          "output_type": "execute_result",
          "data": {
            "text/plain": [
              "6"
            ]
          },
          "metadata": {},
          "execution_count": 9
        }
      ]
    },
    {
      "cell_type": "markdown",
      "source": [
        "# Program 24\n",
        "# Write a Python Program to Convert Decimal to Binary, Octal and Hexadecimal."
      ],
      "metadata": {
        "id": "RUL5I96mXDZi"
      }
    },
    {
      "cell_type": "code",
      "source": [
        "dec_num=int(input(\"Enter decimal \"))\n",
        "print(bin(dec_num),'in binary')\n",
        "print(oct(dec_num),'in octal')\n",
        "print(hex(dec_num),'in hexadecimal')"
      ],
      "metadata": {
        "colab": {
          "base_uri": "https://localhost:8080/"
        },
        "id": "OBEFRbJwWuvG",
        "outputId": "13a5c21a-cfce-4b75-b535-9d56614b18e6"
      },
      "execution_count": null,
      "outputs": [
        {
          "output_type": "stream",
          "name": "stdout",
          "text": [
            "Enter decimal 27\n",
            "0b11011 in binary\n",
            "0o33 in octal\n",
            "0x1b in hexadecimal\n"
          ]
        }
      ]
    },
    {
      "cell_type": "markdown",
      "source": [
        "# Program 25\n",
        "# Write a Python Program To Find ASCII value of a character.\n"
      ],
      "metadata": {
        "id": "It7wg_uuYm-U"
      }
    },
    {
      "cell_type": "code",
      "source": [
        "char=str(input('Enter the character :'))\n",
        "print('asci value of : ',ord(char))"
      ],
      "metadata": {
        "colab": {
          "base_uri": "https://localhost:8080/"
        },
        "id": "GCisCvZpYN7p",
        "outputId": "6e0e0b2a-6736-4b4f-e56a-fed7f915afe4"
      },
      "execution_count": null,
      "outputs": [
        {
          "output_type": "stream",
          "name": "stdout",
          "text": [
            "Enter the character :p\n",
            "asci value of :  112\n"
          ]
        }
      ]
    },
    {
      "cell_type": "markdown",
      "source": [
        "# Program 26\n",
        "# Write a Python Program to Make a Simple Calculator with 4 basic mathematical operations."
      ],
      "metadata": {
        "id": "VNB4T8n5Zjyg"
      }
    },
    {
      "cell_type": "code",
      "source": [
        "def calculate(a,b,operator):\n",
        "  if operator=='+':\n",
        "    return a+b\n",
        "  elif operator=='-':\n",
        "    return a-b\n",
        "  elif operator=='*':\n",
        "    return a*b\n",
        "  elif operator=='/':\n",
        "    return a/b\n",
        "  else:\n",
        "    return 'invalid operator'\n",
        "def main():\n",
        "  while True:\n",
        "    a=float(input('Enter 1st number :'))\n",
        "    b=float(input('Enter 2nd number :'))\n",
        "    operator=input('Enter operator(+,-,*,/):')\n",
        "    result=calculate(a,b,operator)\n",
        "    print(f\"result:{result}\")\n",
        "    if input('do you want to continue(y/n) ?')=='n':\n",
        "      break\n",
        "main()\n",
        "\n",
        "\n"
      ],
      "metadata": {
        "colab": {
          "base_uri": "https://localhost:8080/"
        },
        "id": "b8HrYedRaobE",
        "outputId": "f216ea08-f019-4385-b50f-5d3fa8a91e61"
      },
      "execution_count": null,
      "outputs": [
        {
          "name": "stdout",
          "output_type": "stream",
          "text": [
            "Enter 1st number :5\n",
            "Enter 2nd number :4\n",
            "Enter operator(+,-,*,/):+\n",
            "result:9.0\n",
            "do you want to continue(y/n) ?y\n",
            "Enter 1st number :5\n",
            "Enter 2nd number :5\n",
            "Enter operator(+,-,*,/):-\n",
            "result:0.0\n",
            "do you want to continue(y/n) ?y\n",
            "Enter 1st number :5\n",
            "Enter 2nd number :4\n",
            "Enter operator(+,-,*,/):*\n",
            "result:20.0\n",
            "do you want to continue(y/n) ?y\n",
            "Enter 1st number :40\n",
            "Enter 2nd number :5\n",
            "Enter operator(+,-,*,/):/\n",
            "result:8.0\n",
            "do you want to continue(y/n) ?n\n"
          ]
        }
      ]
    },
    {
      "cell_type": "markdown",
      "source": [
        "# Program 27\n",
        "# Write a Python Program to Display Fibonacci Sequence Using Recursion.\n"
      ],
      "metadata": {
        "id": "ciGBHDLbiDsl"
      }
    },
    {
      "cell_type": "code",
      "source": [
        "def fib(n):\n",
        "  if n<=1:\n",
        "    return n\n",
        "  else:\n",
        "    return fib(n-1)+fib(n-2)\n",
        "for i in range(8):\n",
        "  print(fib(i))"
      ],
      "metadata": {
        "colab": {
          "base_uri": "https://localhost:8080/"
        },
        "id": "6-cDYFEdfmIT",
        "outputId": "5d9eb369-486a-47d1-c618-d884569deb82"
      },
      "execution_count": null,
      "outputs": [
        {
          "output_type": "stream",
          "name": "stdout",
          "text": [
            "0\n",
            "1\n",
            "1\n",
            "2\n",
            "3\n",
            "5\n",
            "8\n",
            "13\n"
          ]
        }
      ]
    },
    {
      "cell_type": "markdown",
      "source": [
        "# Program 28\n",
        "# Write a Python Program to Find Factorial of Number Using Recursion."
      ],
      "metadata": {
        "id": "cGKrrKasixSe"
      }
    },
    {
      "cell_type": "code",
      "source": [
        "def fact(n):\n",
        "  if n==0 or n==1:\n",
        "    return n\n",
        "  else:\n",
        "    return n*fact(n-1)\n",
        "fact(5)"
      ],
      "metadata": {
        "colab": {
          "base_uri": "https://localhost:8080/"
        },
        "id": "GiTeL__cipgS",
        "outputId": "90f17178-e46b-48e0-9b5e-c07760f213f6"
      },
      "execution_count": null,
      "outputs": [
        {
          "output_type": "execute_result",
          "data": {
            "text/plain": [
              "120"
            ]
          },
          "metadata": {},
          "execution_count": 19
        }
      ]
    },
    {
      "cell_type": "markdown",
      "source": [
        "# Program 29 Write a Python Program to calculate your Body Mass Index."
      ],
      "metadata": {
        "id": "RkCBoyGQjx3Z"
      }
    },
    {
      "cell_type": "code",
      "source": [
        "def bodymassindex(h,w):\n",
        "  return round((w/h**2),2)\n",
        "h=float(input('Enter height '))\n",
        "w=float(input('Enter weight '))\n",
        "print('welcome BMI calculator ')\n",
        "bmi=bodymassindex(h,w)\n",
        "print('your bmi is',bmi)\n",
        "if bmi <=18.5:\n",
        "  print('you are underweight ')\n",
        "elif 18.5<bmi<=24.9:\n",
        "  print('your wight is normal ')\n",
        "else:\n",
        "  print('you are obese')"
      ],
      "metadata": {
        "colab": {
          "base_uri": "https://localhost:8080/"
        },
        "id": "bqiCz9MWjgPN",
        "outputId": "e8627133-0ab2-4e2f-94f3-7085a5b643a5"
      },
      "execution_count": null,
      "outputs": [
        {
          "output_type": "stream",
          "name": "stdout",
          "text": [
            "Enter height 18\n",
            "Enter weight 70\n",
            "welcome BMI calculator \n",
            "your bmi is 0.22\n",
            "you are underweight \n"
          ]
        }
      ]
    },
    {
      "cell_type": "markdown",
      "source": [
        "# Program 30 Write a Python Program to calculate the natural logarithm of any number.\n"
      ],
      "metadata": {
        "id": "Pq1Ov5mtovp7"
      }
    },
    {
      "cell_type": "code",
      "source": [
        "import math\n",
        "num=float(input('Enter number '))\n",
        "if num<=0:\n",
        "  print('please enter a positive number ')\n",
        "else:\n",
        "  result=math.log(num)\n",
        "  print(result)"
      ],
      "metadata": {
        "colab": {
          "base_uri": "https://localhost:8080/"
        },
        "id": "4BAzFA4Jnbe7",
        "outputId": "7d6c5d40-13bb-4280-90ad-a591894e2aca"
      },
      "execution_count": null,
      "outputs": [
        {
          "output_type": "stream",
          "name": "stdout",
          "text": [
            "Enter number 1.4\n",
            "0.3364722366212129\n"
          ]
        }
      ]
    },
    {
      "cell_type": "markdown",
      "source": [
        "# Program 31\n",
        "# Write a Python Program for cube sum of first n natural numbers?"
      ],
      "metadata": {
        "id": "fwODJzcMt1tV"
      }
    },
    {
      "cell_type": "code",
      "source": [
        "def natural(n):\n",
        "  s=0\n",
        "  for i in range(n+1):\n",
        "    s=s+(i**3)\n",
        "  return s\n",
        "natural(7)"
      ],
      "metadata": {
        "colab": {
          "base_uri": "https://localhost:8080/"
        },
        "id": "6HTXfJDYs_nQ",
        "outputId": "a2c314ae-6fa6-437b-f361-49e9c2815502"
      },
      "execution_count": null,
      "outputs": [
        {
          "output_type": "execute_result",
          "data": {
            "text/plain": [
              "784"
            ]
          },
          "metadata": {},
          "execution_count": 27
        }
      ]
    },
    {
      "cell_type": "markdown",
      "source": [
        "# Program 32\n",
        "#Write a Python Program to find sum of array.\n"
      ],
      "metadata": {
        "id": "gXEvAZejyJO-"
      }
    },
    {
      "cell_type": "code",
      "source": [
        "def soa(arr):\n",
        "  total=0\n",
        "  for i in arr:\n",
        "    total+=i\n",
        "  return total\n",
        "arr=[1,2,3]\n",
        "soa(arr)"
      ],
      "metadata": {
        "colab": {
          "base_uri": "https://localhost:8080/"
        },
        "id": "RTLpU2Suu7a_",
        "outputId": "3878cc3a-7ca2-47a7-c6e4-552de7b115d3"
      },
      "execution_count": null,
      "outputs": [
        {
          "output_type": "execute_result",
          "data": {
            "text/plain": [
              "6"
            ]
          },
          "metadata": {},
          "execution_count": 28
        }
      ]
    },
    {
      "cell_type": "markdown",
      "source": [
        "# Program 33\n",
        "# Write a Python Program to find largest element in an array"
      ],
      "metadata": {
        "id": "RFaSpNdf0C96"
      }
    },
    {
      "cell_type": "code",
      "source": [
        "def find_largest(arr):\n",
        "  max_val=arr[0]\n",
        "  for i in arr:\n",
        "    max_val=i if i>max_val else max_val\n",
        "  return max_val\n",
        "arr=[67,78,89]\n",
        "find_largest(arr)"
      ],
      "metadata": {
        "colab": {
          "base_uri": "https://localhost:8080/"
        },
        "id": "vZE0QAhR4Hwi",
        "outputId": "dae6fd96-3e58-4fdc-a5ed-5a2832057249"
      },
      "execution_count": null,
      "outputs": [
        {
          "output_type": "execute_result",
          "data": {
            "text/plain": [
              "89"
            ]
          },
          "metadata": {},
          "execution_count": 35
        }
      ]
    },
    {
      "cell_type": "markdown",
      "source": [
        "# Program 34\n",
        "# Write a Python Program for array rotation"
      ],
      "metadata": {
        "id": "ot0GQsff6acM"
      }
    },
    {
      "cell_type": "code",
      "source": [
        "n = [1,2,3,4,5]\n",
        "rotate = 2\n",
        "rotate = rotate % len(n)\n",
        "ans = n[rotate:] + n[:rotate]\n",
        "print(ans)"
      ],
      "metadata": {
        "colab": {
          "base_uri": "https://localhost:8080/"
        },
        "id": "L57pNHTR7iIY",
        "outputId": "3b86fbbc-d244-464b-8c74-cac93d892faa"
      },
      "execution_count": null,
      "outputs": [
        {
          "output_type": "stream",
          "name": "stdout",
          "text": [
            "[3, 4, 5, 1, 2]\n"
          ]
        }
      ]
    },
    {
      "cell_type": "markdown",
      "source": [
        "# Program 35\n",
        "# Write a Python Program to Split the array and add the first part to the end?"
      ],
      "metadata": {
        "id": "0xZvRnQBB0-8"
      }
    },
    {
      "cell_type": "code",
      "source": [
        "arr=[1,2,3,4,5]\n",
        "k=3\n",
        "new_arr=arr[k:]+arr[:k]\n",
        "new_arr"
      ],
      "metadata": {
        "colab": {
          "base_uri": "https://localhost:8080/"
        },
        "id": "7vI9nbGJGS6v",
        "outputId": "3c9dddd0-ecfd-4135-fc97-b489af6ed3e4"
      },
      "execution_count": null,
      "outputs": [
        {
          "output_type": "execute_result",
          "data": {
            "text/plain": [
              "[4, 5, 1, 2, 3]"
            ]
          },
          "metadata": {},
          "execution_count": 4
        }
      ]
    },
    {
      "cell_type": "markdown",
      "source": [
        "# Program 36\n",
        "# Write a Python Program to check if given array is Monotonic"
      ],
      "metadata": {
        "id": "ziMavatXGuAa"
      }
    },
    {
      "cell_type": "code",
      "source": [
        "def is_monotonic(arr):\n",
        "  increasing=decreasing=True\n",
        "  for i in range(1,len(arr)):\n",
        "    if arr[i]>arr[i-1]:\n",
        "      decreasing=False\n",
        "    elif arr[i]<arr[i-1]:\n",
        "      increasing=False\n",
        "  return increasing or decreasing\n",
        "array1 = [1, 2, 3, 4, 5]\n",
        "array2 = [5, 4, 3, 2, 1]\n",
        "array3 = [1, 3, 2, 5, 7]\n",
        "print(is_monotonic(array1))\n",
        "print(is_monotonic(array2))\n",
        "print(is_monotonic(array3))"
      ],
      "metadata": {
        "colab": {
          "base_uri": "https://localhost:8080/"
        },
        "id": "KyiXUXF-Hv1h",
        "outputId": "3122899d-0d3d-4c2d-bb4e-1a2ae9fe0d04"
      },
      "execution_count": null,
      "outputs": [
        {
          "output_type": "stream",
          "name": "stdout",
          "text": [
            "True\n",
            "True\n",
            "False\n"
          ]
        }
      ]
    },
    {
      "cell_type": "markdown",
      "source": [
        "# Program 37\n",
        "# Write a Python Program to Add Two Matrices.\n"
      ],
      "metadata": {
        "id": "R5jpjEm_Jj6h"
      }
    },
    {
      "cell_type": "code",
      "source": [
        "def add_matrices(matrix1,matrix2):\n",
        "  result=[]\n",
        "  for i in range(len(matrix1)):\n",
        "    row=[]\n",
        "    for j in range(len(matrix1[0])):\n",
        "      row.append(matrix1[i][j]+matrix2[i][j])\n",
        "    result.append(row)\n",
        "  return result\n",
        "\n",
        "matrix1 = [[1, 2, 3], [4, 5, 6]]\n",
        "matrix2 = [[7, 8, 9], [10, 11, 12]]\n",
        "print(add_matrices(matrix1, matrix2))\n"
      ],
      "metadata": {
        "colab": {
          "base_uri": "https://localhost:8080/"
        },
        "id": "WlqpCUM-QC60",
        "outputId": "5b138ac7-84f3-4cf0-d4b2-a6bd5c2a05a0"
      },
      "execution_count": null,
      "outputs": [
        {
          "output_type": "stream",
          "name": "stdout",
          "text": [
            "[[8, 10, 12], [14, 16, 18]]\n"
          ]
        }
      ]
    },
    {
      "cell_type": "markdown",
      "source": [
        "# Program 38\n",
        "# Write a Python Program to Multiply Two Matrices.\n"
      ],
      "metadata": {
        "id": "1VWa_EmZRlvB"
      }
    },
    {
      "cell_type": "code",
      "source": [
        "def multiply_matrices(matrix1,matrix2):\n",
        "  result=[[0 for j in range(len(matrix1[0]))] for i in range(len(matrix1))]\n",
        "  for i in range(len(matrix1)):\n",
        "    for j in range(len(matrix2[0])):\n",
        "      for k in range(len(matrix2)):\n",
        "        result[i][j]+=matrix1[i][k]*matrix2[k][j]\n",
        "  return result\n",
        "matrix1 = [[1, 2], [3,4]]\n",
        "matrix2 = [[5,6], [7,8]]\n",
        "print(multiply_matrices(matrix1, matrix2))"
      ],
      "metadata": {
        "colab": {
          "base_uri": "https://localhost:8080/"
        },
        "id": "mcmgLdhzYYQS",
        "outputId": "e640dfae-e360-4512-ab70-d5617646e36d"
      },
      "execution_count": null,
      "outputs": [
        {
          "output_type": "stream",
          "name": "stdout",
          "text": [
            "[[19, 22], [43, 50]]\n"
          ]
        }
      ]
    },
    {
      "cell_type": "markdown",
      "source": [
        "# Program 39\n",
        "# Write a Python Program to Transpose a Matrix."
      ],
      "metadata": {
        "id": "Qd7hbgBAahc2"
      }
    },
    {
      "cell_type": "code",
      "source": [
        "def transpose(matrix):\n",
        "  result=[[0 for i in range(len(matrix))]for j in range(len(matrix[0]))]\n",
        "  for i in range(len(matrix)):\n",
        "    for j in range(len(matrix[0])):\n",
        "      result[j][i]=matrix[i][j]\n",
        "  return result\n",
        "matrix = [[1, 2, 3], [4, 5, 6]]\n",
        "print(transpose(matrix))"
      ],
      "metadata": {
        "colab": {
          "base_uri": "https://localhost:8080/"
        },
        "id": "D-Mte31UeaN4",
        "outputId": "ff95a19e-d2f8-4c60-a423-be37f27673e1"
      },
      "execution_count": null,
      "outputs": [
        {
          "output_type": "stream",
          "name": "stdout",
          "text": [
            "[[1, 4], [2, 5], [3, 6]]\n"
          ]
        }
      ]
    },
    {
      "cell_type": "markdown",
      "source": [
        "# Program 40\n",
        "# Write a Python Program to Sort Words in Alphabetic Order.\n"
      ],
      "metadata": {
        "id": "Nay0H9ewf912"
      }
    },
    {
      "cell_type": "code",
      "source": [
        "def sort_words(words):\n",
        "  for i in range(len(words)):\n",
        "    for j in range(i+1,len(words)):\n",
        "      if words[i]>words[j]:\n",
        "        temp=words[i]\n",
        "        words[i]=words[j]\n",
        "        words[j]=temp\n",
        "  return words\n",
        "words = [\"red\", \"blue\", \"green\", \"yellow\", \"orange\", \"purple\",'z']\n",
        "print(sort_words(words))"
      ],
      "metadata": {
        "colab": {
          "base_uri": "https://localhost:8080/"
        },
        "id": "rxo0bBw1kpcw",
        "outputId": "730d5919-77b3-4d12-8674-840056472b24"
      },
      "execution_count": null,
      "outputs": [
        {
          "output_type": "stream",
          "name": "stdout",
          "text": [
            "['blue', 'green', 'orange', 'purple', 'red', 'yellow', 'z']\n"
          ]
        }
      ]
    },
    {
      "cell_type": "markdown",
      "source": [
        "# Program 41\n",
        "# Write a Python Program to Remove Punctuation From a String."
      ],
      "metadata": {
        "id": "42H3IlRamXDX"
      }
    },
    {
      "cell_type": "code",
      "source": [
        "punctuations = '''!()-[]{};:'\"\\,<>./?@#$%^&*_~'''\n",
        "def remove_punctuation(string):\n",
        "  no_punct=''\n",
        "  for chr in string:\n",
        "    if chr not in punctuations:\n",
        "      no_punct+=chr\n",
        "  return no_punct\n",
        "my_str='hi@python!'\n",
        "remove_punctuation(my_str)"
      ],
      "metadata": {
        "colab": {
          "base_uri": "https://localhost:8080/",
          "height": 36
        },
        "id": "9VbhUo5dpvhj",
        "outputId": "32a9d1bf-9de2-4a04-fbc1-73c6fc5fb9c1"
      },
      "execution_count": null,
      "outputs": [
        {
          "output_type": "execute_result",
          "data": {
            "text/plain": [
              "'hipython'"
            ],
            "application/vnd.google.colaboratory.intrinsic+json": {
              "type": "string"
            }
          },
          "metadata": {},
          "execution_count": 46
        }
      ]
    },
    {
      "cell_type": "markdown",
      "source": [
        "# Program 42\n",
        "#list to string"
      ],
      "metadata": {
        "id": "bZKl-MaDs9YF"
      }
    },
    {
      "cell_type": "code",
      "source": [
        "l=['i','am','munai']\n",
        "l=''.join(l)\n",
        "l"
      ],
      "metadata": {
        "colab": {
          "base_uri": "https://localhost:8080/",
          "height": 36
        },
        "id": "LfIMzM-gtNbi",
        "outputId": "87e60586-a17b-4632-f3aa-349f84424be7"
      },
      "execution_count": null,
      "outputs": [
        {
          "output_type": "execute_result",
          "data": {
            "text/plain": [
              "'iammunai'"
            ],
            "application/vnd.google.colaboratory.intrinsic+json": {
              "type": "string"
            }
          },
          "metadata": {},
          "execution_count": 48
        }
      ]
    },
    {
      "cell_type": "markdown",
      "source": [
        "# Program 43\n",
        "# Write a Python program to check if the given number is a Disarium Number."
      ],
      "metadata": {
        "id": "SW2IBZcxsXJp"
      }
    },
    {
      "cell_type": "code",
      "source": [
        "def is_disarium(num):\n",
        "  num_str=str(num)\n",
        "  len_str=len(num_str)\n",
        "  sum=0\n",
        "  for i in range(len(num_str)):\n",
        "    sum+=int(num_str[i])**(i+1)\n",
        "  return num==sum\n",
        "is_disarium(89)"
      ],
      "metadata": {
        "colab": {
          "base_uri": "https://localhost:8080/"
        },
        "id": "Jct_i2l20LUn",
        "outputId": "65f9afc4-2c75-4b49-e91c-70d780296d73"
      },
      "execution_count": null,
      "outputs": [
        {
          "output_type": "execute_result",
          "data": {
            "text/plain": [
              "True"
            ]
          },
          "metadata": {},
          "execution_count": 67
        }
      ]
    },
    {
      "cell_type": "markdown",
      "source": [
        "## Program 44\n",
        "# Write a Python program to print all disarium numbers between 1 to 100."
      ],
      "metadata": {
        "id": "yM1d7xWb1nDC"
      }
    },
    {
      "cell_type": "code",
      "source": [
        "def is_disarium(num):\n",
        "  num_str = str(num)\n",
        "  len_str = len(num_str)\n",
        "  sum = 0\n",
        "  for i in range(len_str):\n",
        "    sum += int(num_str[i]) ** (i + 1)\n",
        "  return num == sum\n",
        "disarium_numbers = [num for num in range(1, 101) if is_disarium(num)]\n",
        "for num in disarium_numbers:\n",
        " print(num)\n"
      ],
      "metadata": {
        "colab": {
          "base_uri": "https://localhost:8080/"
        },
        "id": "96kZXKPs19sE",
        "outputId": "ba4136bf-2ccc-4479-898f-08036f325f7c"
      },
      "execution_count": null,
      "outputs": [
        {
          "output_type": "stream",
          "name": "stdout",
          "text": [
            "1\n",
            "2\n",
            "3\n",
            "4\n",
            "5\n",
            "6\n",
            "7\n",
            "8\n",
            "9\n",
            "89\n"
          ]
        }
      ]
    },
    {
      "cell_type": "markdown",
      "source": [
        "# Program 45\n",
        "# Write a Python program to check if the given number is Happy Number"
      ],
      "metadata": {
        "id": "Fg5DjFIQ4bDJ"
      }
    },
    {
      "cell_type": "code",
      "source": [
        "def is_happy_number(num):\n",
        "  seen=set()\n",
        "  while num!=1 and num not in seen:\n",
        "    seen.add(num)\n",
        "    num=sum(int(i)**2 for i in str(num))\n",
        "  return num==1\n",
        "is_happy_number(23)"
      ],
      "metadata": {
        "colab": {
          "base_uri": "https://localhost:8080/"
        },
        "id": "-ueWtO2v9i9O",
        "outputId": "45d820f6-982b-4e37-f3cb-75f5d29b3b1a"
      },
      "execution_count": null,
      "outputs": [
        {
          "output_type": "execute_result",
          "data": {
            "text/plain": [
              "True"
            ]
          },
          "metadata": {},
          "execution_count": 5
        }
      ]
    },
    {
      "cell_type": "markdown",
      "source": [
        "# Program 46\n",
        "# Write a Python program to print all happy numbers between 1 and 100.\n"
      ],
      "metadata": {
        "id": "6C8WabJgBLPV"
      }
    },
    {
      "cell_type": "code",
      "source": [
        "def is_happy_number(num):\n",
        "  seen=set()\n",
        "  while num!=1 and num not in seen:\n",
        "    seen.add(num)\n",
        "    num=sum(int(i)**2 for i in str(num))\n",
        "  return num==1\n",
        "happy_numbers=[]\n",
        "for num in range(1,101):\n",
        "  if is_happy_number(num):\n",
        "    happy_numbers.append(num)\n",
        "print(happy_numbers)\n"
      ],
      "metadata": {
        "colab": {
          "base_uri": "https://localhost:8080/"
        },
        "id": "2MMBuiLVMVam",
        "outputId": "391fd9e2-2cca-4a36-afca-4e02b77252aa"
      },
      "execution_count": null,
      "outputs": [
        {
          "output_type": "stream",
          "name": "stdout",
          "text": [
            "[1, 7, 10, 13, 19, 23, 28, 31, 32, 44, 49, 68, 70, 79, 82, 86, 91, 94, 97, 100]\n"
          ]
        }
      ]
    },
    {
      "cell_type": "markdown",
      "source": [
        "# Program 47\n",
        "# Write a Python program to determine whether the given number is a Harshad Number.\n"
      ],
      "metadata": {
        "id": "edJFZzIDLmcV"
      }
    },
    {
      "cell_type": "code",
      "source": [
        "def is_harshad(num):\n",
        "  digit_sum=sum(int(i) for i in str(num))\n",
        "  return num%digit_sum==0\n",
        "is_harshad(42)"
      ],
      "metadata": {
        "colab": {
          "base_uri": "https://localhost:8080/"
        },
        "id": "aqjYyJp0K9N_",
        "outputId": "aadea246-f710-4152-9a1d-ae64db1f12b9"
      },
      "execution_count": null,
      "outputs": [
        {
          "output_type": "execute_result",
          "data": {
            "text/plain": [
              "True"
            ]
          },
          "metadata": {},
          "execution_count": 24
        }
      ]
    },
    {
      "cell_type": "markdown",
      "source": [
        "# Program 48\n",
        "# Write a Python program to print all pronic numbers between 1 and 100."
      ],
      "metadata": {
        "id": "-z8gFyiNQu09"
      }
    },
    {
      "cell_type": "code",
      "source": [
        "def is_pronic(num):\n",
        "  for n in range(1,int(num**0.5)+1):\n",
        "    if n*(n+1)==num:\n",
        "      return True\n",
        "  return False\n",
        "for i in range(1,101):\n",
        "  if is_pronic(i):\n",
        "    print(i)"
      ],
      "metadata": {
        "colab": {
          "base_uri": "https://localhost:8080/"
        },
        "id": "RMgJ-T4xQOFw",
        "outputId": "3661372f-d44a-4e84-b87c-b2d7a9a1e74c"
      },
      "execution_count": null,
      "outputs": [
        {
          "output_type": "stream",
          "name": "stdout",
          "text": [
            "2\n",
            "6\n",
            "12\n",
            "20\n",
            "30\n",
            "42\n",
            "56\n",
            "72\n",
            "90\n"
          ]
        }
      ]
    },
    {
      "cell_type": "markdown",
      "source": [
        "# Program 49 Write a Python program to sum all numbers in the list.\n"
      ],
      "metadata": {
        "id": "X669Q8OYT4ka"
      }
    },
    {
      "cell_type": "code",
      "source": [
        "numbers=[7,9,2]\n",
        "sum=0\n",
        "for i in (numbers):\n",
        "  sum+=i\n",
        "print(sum)"
      ],
      "metadata": {
        "colab": {
          "base_uri": "https://localhost:8080/"
        },
        "id": "kEwjn_BMTtIc",
        "outputId": "9742f45f-7fe3-4c7d-953b-548d63c1990d"
      },
      "execution_count": null,
      "outputs": [
        {
          "output_type": "stream",
          "name": "stdout",
          "text": [
            "18\n"
          ]
        }
      ]
    },
    {
      "cell_type": "markdown",
      "source": [
        "# Program 50\n",
        "# Write a Python program to Multiply all numbers in the list.\n"
      ],
      "metadata": {
        "id": "IJo1C28wVJQi"
      }
    },
    {
      "cell_type": "code",
      "source": [
        "num=[9,3,5]\n",
        "mul=1\n",
        "for i in num:\n",
        "  mul*=i\n",
        "print(mul)"
      ],
      "metadata": {
        "colab": {
          "base_uri": "https://localhost:8080/"
        },
        "id": "ICV9kVc6Uy1y",
        "outputId": "4ddaac03-b000-4426-cbc0-8a3a07c9af33"
      },
      "execution_count": null,
      "outputs": [
        {
          "output_type": "stream",
          "name": "stdout",
          "text": [
            "135\n"
          ]
        }
      ]
    },
    {
      "cell_type": "markdown",
      "source": [
        "# Program 51\n",
        "# Write a Python program to find smallest number in a list.\n"
      ],
      "metadata": {
        "id": "guTjhQF_VfLk"
      }
    },
    {
      "cell_type": "code",
      "source": [
        "num=[6,-8,8,9]\n",
        "min=num[0]\n",
        "for i in num:\n",
        "  if i<min:\n",
        "    min=i\n",
        "print(min)"
      ],
      "metadata": {
        "colab": {
          "base_uri": "https://localhost:8080/"
        },
        "id": "7TZ7shw-VU3w",
        "outputId": "d03386e0-c6df-4595-dcdd-fbfd3e044020"
      },
      "execution_count": null,
      "outputs": [
        {
          "output_type": "stream",
          "name": "stdout",
          "text": [
            "-8\n"
          ]
        }
      ]
    },
    {
      "cell_type": "markdown",
      "source": [
        "# Program 52\n",
        "# Write a Python program to find largest number in a list."
      ],
      "metadata": {
        "id": "f-1O-9RUXLE2"
      }
    },
    {
      "cell_type": "code",
      "source": [
        "num=[8,9,90]\n",
        "max=num[0]\n",
        "for i in num:\n",
        "  if i>max:\n",
        "    max=i\n",
        "print(max)"
      ],
      "metadata": {
        "colab": {
          "base_uri": "https://localhost:8080/"
        },
        "id": "_CnJaCjRWtpb",
        "outputId": "ee8fe311-868a-48a4-8fb7-89e923f9c876"
      },
      "execution_count": null,
      "outputs": [
        {
          "output_type": "stream",
          "name": "stdout",
          "text": [
            "90\n"
          ]
        }
      ]
    },
    {
      "cell_type": "markdown",
      "source": [
        "# Program 53\n",
        "# Write a Python program to find second largest number in a list"
      ],
      "metadata": {
        "id": "BYz47a2EYAwM"
      }
    },
    {
      "cell_type": "code",
      "source": [
        "def second_high(num):\n",
        "  num=list(set(num))\n",
        "  num.sort()\n",
        "  return num[-2]\n",
        "nums=[6,7,9,90]\n",
        "second_high(nums)"
      ],
      "metadata": {
        "colab": {
          "base_uri": "https://localhost:8080/"
        },
        "id": "TQ9GfGjqY_BW",
        "outputId": "0416aa69-8cc3-4882-98d0-e61bbcb2d0f4"
      },
      "execution_count": null,
      "outputs": [
        {
          "output_type": "execute_result",
          "data": {
            "text/plain": [
              "9"
            ]
          },
          "metadata": {},
          "execution_count": 1
        }
      ]
    },
    {
      "cell_type": "markdown",
      "source": [
        "#alternative"
      ],
      "metadata": {
        "id": "QPBESFeAaGMa"
      }
    },
    {
      "cell_type": "code",
      "source": [
        "def sec_max(arr):\n",
        "  sublist=[x for x in arr if x<max(arr)]\n",
        "  return max(sublist)\n",
        "list=[8,9,0,7]\n",
        "sec_max(list)"
      ],
      "metadata": {
        "colab": {
          "base_uri": "https://localhost:8080/"
        },
        "id": "mkk0QBXIaBRo",
        "outputId": "08f6bf76-a422-437a-89f5-f27db120c850"
      },
      "execution_count": null,
      "outputs": [
        {
          "output_type": "execute_result",
          "data": {
            "text/plain": [
              "8"
            ]
          },
          "metadata": {},
          "execution_count": 2
        }
      ]
    },
    {
      "cell_type": "markdown",
      "source": [
        "# Program 54\n",
        "# Write a Python program to find N largest elements from a list."
      ],
      "metadata": {
        "id": "dbh5fqpGcoix"
      }
    },
    {
      "cell_type": "code",
      "source": [
        "def n_largest(list1,n):\n",
        "  list1.sort(reverse=True)\n",
        "  return list1[:n]\n",
        "list1=[89,78,66,56]\n",
        "n=3\n",
        "print(n_largest(list1,n))"
      ],
      "metadata": {
        "colab": {
          "base_uri": "https://localhost:8080/"
        },
        "id": "P84Be71RdV0W",
        "outputId": "0897e071-d54d-4336-dd1f-9c7b18f62233"
      },
      "execution_count": null,
      "outputs": [
        {
          "output_type": "stream",
          "name": "stdout",
          "text": [
            "[89, 78, 66]\n"
          ]
        }
      ]
    },
    {
      "cell_type": "markdown",
      "source": [
        "# Program 55\n",
        "# Write a Python program to print even numbers in a list.\n"
      ],
      "metadata": {
        "id": "gYFWD4Mdf8Q2"
      }
    },
    {
      "cell_type": "code",
      "source": [
        "numbers = [67, 690, 56]\n",
        "result = [num for num in numbers if num % 2 == 0]\n",
        "print(result)"
      ],
      "metadata": {
        "colab": {
          "base_uri": "https://localhost:8080/"
        },
        "id": "bkCF9bxzevg5",
        "outputId": "4eddf0d5-cd2d-4307-eacc-d52168edd3cb"
      },
      "execution_count": null,
      "outputs": [
        {
          "output_type": "stream",
          "name": "stdout",
          "text": [
            "[690, 56]\n"
          ]
        }
      ]
    },
    {
      "cell_type": "markdown",
      "source": [
        "# Program 56\n",
        "# Write a Python program to print odd numbers in a List.\n"
      ],
      "metadata": {
        "id": "KZjBQC-cgvAp"
      }
    },
    {
      "cell_type": "code",
      "source": [
        "numbers=[9,6,7,49,37]\n",
        "result=[num for num in numbers if num%2!=0]\n",
        "print(result)"
      ],
      "metadata": {
        "colab": {
          "base_uri": "https://localhost:8080/"
        },
        "id": "g28_riwxglqF",
        "outputId": "980fb307-c35b-45f9-e8fb-6dc23c944fe4"
      },
      "execution_count": null,
      "outputs": [
        {
          "output_type": "stream",
          "name": "stdout",
          "text": [
            "[9, 7, 49, 37]\n"
          ]
        }
      ]
    },
    {
      "cell_type": "markdown",
      "source": [
        "# Program 57\n",
        "# Write a Python program to Remove empty List from List."
      ],
      "metadata": {
        "id": "_fh8tYkAhOCg"
      }
    },
    {
      "cell_type": "code",
      "source": [
        "list_of_lists=[[1,2,3],[],[4,5],[],[6,7,8],[]]\n",
        "filtered_list=[ i for i in list_of_lists if i]\n",
        "print(filtered_list)"
      ],
      "metadata": {
        "colab": {
          "base_uri": "https://localhost:8080/"
        },
        "id": "Fa8xCzpbhCfH",
        "outputId": "94866589-b0a3-4097-9ad9-4f3f721a1591"
      },
      "execution_count": null,
      "outputs": [
        {
          "output_type": "stream",
          "name": "stdout",
          "text": [
            "[[1, 2, 3], [4, 5], [6, 7, 8]]\n"
          ]
        }
      ]
    },
    {
      "cell_type": "markdown",
      "source": [
        "# Program 58 Write a Python program to Cloning or Copying a list."
      ],
      "metadata": {
        "id": "59UM0azdirOz"
      }
    },
    {
      "cell_type": "code",
      "source": [
        "original_list=[1,2,3,4,5]\n",
        "cloned_list=original_list[:]\n",
        "print(cloned_list)"
      ],
      "metadata": {
        "colab": {
          "base_uri": "https://localhost:8080/"
        },
        "id": "pXhPv9_vieY1",
        "outputId": "371f2372-56a2-4f76-e323-8b7e9f2ab166"
      },
      "execution_count": null,
      "outputs": [
        {
          "output_type": "stream",
          "name": "stdout",
          "text": [
            "[1, 2, 3, 4, 5]\n"
          ]
        }
      ]
    },
    {
      "cell_type": "markdown",
      "source": [
        "# Program 59\n",
        "# Write a Python program to Count occurrences of an element in a list."
      ],
      "metadata": {
        "id": "vXxoU64BjAUS"
      }
    },
    {
      "cell_type": "code",
      "source": [
        "def count_occurrences(lst,element):\n",
        "  count=0\n",
        "  for item in lst:\n",
        "    if item==element:\n",
        "      count+=1\n",
        "  return count\n",
        "my_list=[90,7,7,8,8,8]\n",
        "ele_count=8\n",
        "result=count_occurrences(my_list,ele_count)\n",
        "result"
      ],
      "metadata": {
        "colab": {
          "base_uri": "https://localhost:8080/"
        },
        "id": "sE438YUKlA4n",
        "outputId": "f7728116-a076-4f73-a5d3-75f5ed54dada"
      },
      "execution_count": null,
      "outputs": [
        {
          "output_type": "execute_result",
          "data": {
            "text/plain": [
              "3"
            ]
          },
          "metadata": {},
          "execution_count": 21
        }
      ]
    },
    {
      "cell_type": "markdown",
      "source": [
        "# Program 60\n",
        "# Write a Python program to find words which are greater than given length k."
      ],
      "metadata": {
        "id": "--zGwF0il_Gi"
      }
    },
    {
      "cell_type": "code",
      "source": [
        "def words_greater_than_k(sentence,k):\n",
        "  words=sentence.split()\n",
        "  result=[word for word in words if len(word)>k]\n",
        "  return result\n",
        "input_sentence = \"This is a sample sentence to demonstrate the program\"\n",
        "length_k = 5\n",
        "words = words_greater_than_k(input_sentence, length_k)\n",
        "words"
      ],
      "metadata": {
        "colab": {
          "base_uri": "https://localhost:8080/"
        },
        "id": "A_oqiBekoJzS",
        "outputId": "6fd60e6d-f8dd-4947-c54e-990d41b39deb"
      },
      "execution_count": null,
      "outputs": [
        {
          "output_type": "execute_result",
          "data": {
            "text/plain": [
              "['sample', 'sentence', 'demonstrate', 'program']"
            ]
          },
          "metadata": {},
          "execution_count": 27
        }
      ]
    },
    {
      "cell_type": "markdown",
      "source": [
        "# Program 61\n",
        "# Write a Python program for removing 𝑖^th character from a string."
      ],
      "metadata": {
        "id": "T4nUm_dyhAQB"
      }
    },
    {
      "cell_type": "code",
      "source": [
        "def remove_ith_character(input_string,i):\n",
        "  if i<=0 or i>=len(input_string):\n",
        "    return 'invalid index'\n",
        "  else:\n",
        "    return input_string[:i]+input_string[i+1:]\n",
        "string='example'\n",
        "index_to_remove=2\n",
        "result=remove_ith_character(string,index_to_remove)\n",
        "result"
      ],
      "metadata": {
        "colab": {
          "base_uri": "https://localhost:8080/",
          "height": 36
        },
        "id": "MQhfJnQkjacw",
        "outputId": "1b70a32b-a447-46b3-f1f7-d9d9f856720e"
      },
      "execution_count": null,
      "outputs": [
        {
          "output_type": "execute_result",
          "data": {
            "text/plain": [
              "'exmple'"
            ],
            "application/vnd.google.colaboratory.intrinsic+json": {
              "type": "string"
            }
          },
          "metadata": {},
          "execution_count": 2
        }
      ]
    },
    {
      "cell_type": "markdown",
      "source": [
        "# **Program** 62\n",
        "# Write a Python program to split and join a string"
      ],
      "metadata": {
        "id": "pmRGrC-CnbBM"
      }
    },
    {
      "cell_type": "code",
      "source": [
        "def split_and_join(input_string):\n",
        "  word_list=input_string.split()\n",
        "  joined_string='_'.join(word_list)\n",
        "  return word_list,joined_string\n",
        "string='this is sample string'\n",
        "split_str,join_str=split_and_join(string)\n",
        "print(split_str)\n",
        "print(join_str)"
      ],
      "metadata": {
        "colab": {
          "base_uri": "https://localhost:8080/"
        },
        "id": "7jxF0XcYqQlR",
        "outputId": "9776ca0a-1e44-4d67-b6fe-782c7b60052b"
      },
      "execution_count": null,
      "outputs": [
        {
          "output_type": "stream",
          "name": "stdout",
          "text": [
            "['this', 'is', 'sample', 'string']\n",
            "this_is_sample_string\n"
          ]
        }
      ]
    },
    {
      "cell_type": "markdown",
      "source": [
        "# Program 63\n",
        "# Write a Python program to check if a given string is binary string or not"
      ],
      "metadata": {
        "id": "_-ssg3BIsIwM"
      }
    },
    {
      "cell_type": "code",
      "source": [
        "def is_binary_string(input_string):\n",
        "  return set(input_string).issubset({'0','1'})\n",
        "is_binary_string('101')\n"
      ],
      "metadata": {
        "colab": {
          "base_uri": "https://localhost:8080/"
        },
        "id": "f4TlSUais_I9",
        "outputId": "f8b5192a-a849-4f46-8b3d-7473e1b3d3f3"
      },
      "execution_count": null,
      "outputs": [
        {
          "output_type": "execute_result",
          "data": {
            "text/plain": [
              "True"
            ]
          },
          "metadata": {},
          "execution_count": 9
        }
      ]
    },
    {
      "cell_type": "markdown",
      "source": [
        "# Program 64\n",
        "# Write a Python program to find uncommon words from two Strings.\n"
      ],
      "metadata": {
        "id": "5DDAqrWau-aV"
      }
    },
    {
      "cell_type": "code",
      "source": [
        "def find_uncommon_words(str1,str2):\n",
        "  return set(str1.split())^(set(str2.split()))\n",
        "string_1 = \"hi how are u?\"\n",
        "string_2 = \"hi how was she?\"\n",
        "find_uncommon_words(string_1,string_2)\n",
        "\n"
      ],
      "metadata": {
        "colab": {
          "base_uri": "https://localhost:8080/"
        },
        "id": "5-8bd1fHwRPm",
        "outputId": "9177c734-12c1-4972-c230-3fb87fc64494"
      },
      "execution_count": null,
      "outputs": [
        {
          "output_type": "execute_result",
          "data": {
            "text/plain": [
              "{'are', 'she?', 'u?', 'was'}"
            ]
          },
          "metadata": {},
          "execution_count": 12
        }
      ]
    },
    {
      "cell_type": "markdown",
      "source": [
        "#Program 65\n",
        "#Write a Python program to find all duplicate characters in string."
      ],
      "metadata": {
        "id": "FMlvaDI5xtud"
      }
    },
    {
      "cell_type": "code",
      "source": [
        "def duplicate_chars(input_string):\n",
        "  duplicate=[]\n",
        "  seen=set()\n",
        "  for char in input_string:\n",
        "    if char in seen:\n",
        "      duplicate.append(char)\n",
        "    else:\n",
        "      seen.add(char)\n",
        "  return list(set(duplicate))\n",
        "duplicate_chars(\"piyush sharma\")"
      ],
      "metadata": {
        "colab": {
          "base_uri": "https://localhost:8080/"
        },
        "id": "1OSLwoJUHpq7",
        "outputId": "c5e0f7c6-7b35-40d3-d154-3b0e8a231abb"
      },
      "execution_count": null,
      "outputs": [
        {
          "output_type": "execute_result",
          "data": {
            "text/plain": [
              "['h', 's', 'a']"
            ]
          },
          "metadata": {},
          "execution_count": 18
        }
      ]
    },
    {
      "cell_type": "markdown",
      "source": [
        "# Program 66\n",
        "# Write a Python Program to check if a string contains any special character.\n"
      ],
      "metadata": {
        "id": "Us0IecfqIo1Z"
      }
    },
    {
      "cell_type": "code",
      "source": [
        "import re\n",
        "def contains_special_character(input_string):\n",
        "  regex=re.compile('[@_!#$%^&*()<>?/\\|}{~:]')\n",
        "  if regex.search(input_string):\n",
        "    return True\n",
        "  else:\n",
        "    return False\n",
        "contains_special_character('hello!@%')\n"
      ],
      "metadata": {
        "colab": {
          "base_uri": "https://localhost:8080/"
        },
        "id": "SPKIk0_RI0h-",
        "outputId": "afea4c2e-4bf4-485b-cf18-646362fa2b1a"
      },
      "execution_count": null,
      "outputs": [
        {
          "output_type": "execute_result",
          "data": {
            "text/plain": [
              "True"
            ]
          },
          "metadata": {},
          "execution_count": 20
        }
      ]
    },
    {
      "cell_type": "markdown",
      "source": [
        "# Program 67\n",
        "# Write a Python program to Extract Unique dictionary values.\n"
      ],
      "metadata": {
        "id": "Rvxwe2kN7Fvq"
      }
    },
    {
      "cell_type": "code",
      "source": [
        "def extract_values(input_dict):\n",
        "  unique_val=list(set(input_dict.values()))\n",
        "  return unique_val\n",
        "sample_dict={'a':1,'b':2,'c':1,'d':3,'e':2}\n",
        "unique_val=extract_values(sample_dict)\n",
        "print(unique_val)"
      ],
      "metadata": {
        "colab": {
          "base_uri": "https://localhost:8080/"
        },
        "id": "sfphBST17Lg6",
        "outputId": "ccef99f2-68bc-4b16-9c27-6bebb97bcb8f"
      },
      "execution_count": null,
      "outputs": [
        {
          "output_type": "stream",
          "name": "stdout",
          "text": [
            "[1, 2, 3]\n"
          ]
        }
      ]
    },
    {
      "cell_type": "markdown",
      "source": [
        "# Program 68\n",
        "# Write a Python program to find the sum of all items in a dictionary.\n"
      ],
      "metadata": {
        "id": "_TkXpMtM-Thb"
      }
    },
    {
      "cell_type": "code",
      "source": [
        "def sum_dict_values(input_dict):\n",
        "  total_sum=0\n",
        "  for value in input_dict.values():\n",
        "    total_sum+=value\n",
        "  return total_sum\n",
        "def main():\n",
        "  sample_dict={'a':10,'b':20,'c':30,'d':40}\n",
        "  result=sum_dict_values(sample_dict)\n",
        "  print(result)\n",
        "main()"
      ],
      "metadata": {
        "colab": {
          "base_uri": "https://localhost:8080/"
        },
        "id": "jmvzIa80KSC2",
        "outputId": "db6db6c7-9b03-4dda-fb87-80b219446ff2"
      },
      "execution_count": null,
      "outputs": [
        {
          "output_type": "stream",
          "name": "stdout",
          "text": [
            "100\n"
          ]
        }
      ]
    },
    {
      "cell_type": "markdown",
      "source": [
        "# Program 69\n",
        "# Write a Python program to Merging two Dictionaries."
      ],
      "metadata": {
        "id": "IoDPoBtQLhOi"
      }
    },
    {
      "cell_type": "code",
      "source": [
        "def merge_dict(d1,d2):\n",
        "  merged_dict=d1.copy()\n",
        "  merged_dict.update(d2)\n",
        "  return merged_dict\n",
        "dict_a={'a':1,\"b\":2}\n",
        "dict_b={'c':3,'d':4}\n",
        "result=merge_dict(dict_a,dict_b)\n",
        "print(result)"
      ],
      "metadata": {
        "colab": {
          "base_uri": "https://localhost:8080/"
        },
        "id": "Lj18CpD7LmRF",
        "outputId": "02c7359c-826c-4b28-87c3-5dc91d808069"
      },
      "execution_count": null,
      "outputs": [
        {
          "output_type": "stream",
          "name": "stdout",
          "text": [
            "{'a': 1, 'b': 2, 'c': 3, 'd': 4}\n"
          ]
        }
      ]
    },
    {
      "cell_type": "markdown",
      "source": [
        "#Program 70\n",
        "# Write a Python program to convert key-values list to flat dictionary."
      ],
      "metadata": {
        "id": "PHw_zPamQ1VY"
      }
    },
    {
      "cell_type": "code",
      "source": [
        "def convert_to_flat_dict(key_value_list):\n",
        "  return dict(key_value_list)\n",
        "key_value_list=[('a',1),('b',2),('c',3),('d',4)]\n",
        "result=convert_to_flat_dict(key_value_list)\n",
        "print(result)"
      ],
      "metadata": {
        "colab": {
          "base_uri": "https://localhost:8080/"
        },
        "id": "Xq14DqS0TfeQ",
        "outputId": "e2deed29-cba4-462c-f36a-dd7255dbba1c"
      },
      "execution_count": null,
      "outputs": [
        {
          "output_type": "stream",
          "name": "stdout",
          "text": [
            "{'a': 1, 'b': 2, 'c': 3, 'd': 4}\n"
          ]
        }
      ]
    },
    {
      "cell_type": "markdown",
      "source": [
        "# Program 71\n",
        "# Write a Python program to insertion at the beginning in OrderedDict.\n"
      ],
      "metadata": {
        "id": "gASoWRu8UYp0"
      }
    },
    {
      "cell_type": "code",
      "source": [
        "from collections import OrderedDict\n",
        "ordered_dict=OrderedDict([('b',2),('c',3),('d',4)])\n",
        "new_item=('a',1)\n",
        "new_ordered_dict=OrderedDict([new_item])\n",
        "new_ordered_dict.update(list(ordered_dict.items()))\n",
        "print(new_ordered_dict)"
      ],
      "metadata": {
        "colab": {
          "base_uri": "https://localhost:8080/"
        },
        "id": "OKDOvVjFcGBJ",
        "outputId": "7bee337d-b9c6-465e-eb80-13189b180c7e"
      },
      "execution_count": null,
      "outputs": [
        {
          "output_type": "stream",
          "name": "stdout",
          "text": [
            "OrderedDict([('a', 1), ('b', 2), ('c', 3), ('d', 4)])\n"
          ]
        }
      ]
    },
    {
      "cell_type": "markdown",
      "source": [
        "# 72  Write a Python program to check order of character in string using OrderedDict().\n"
      ],
      "metadata": {
        "id": "knnZUk6NI1tU"
      }
    },
    {
      "cell_type": "code",
      "source": [],
      "metadata": {
        "id": "RzE0GDVRJIK1"
      },
      "execution_count": null,
      "outputs": []
    },
    {
      "cell_type": "markdown",
      "source": [
        "# Program 131\n",
        "# Create a function that returns the mean of all digits.\n",
        "# Examples\n",
        "# mean(42) ➞ 3\n",
        "# mean(12345) ➞ 3\n",
        "# mean(666) ➞ 6\n",
        "# Notes\n",
        "# The mean of all digits is the sum of digits / how many digits there are (e.g. mean\n",
        "# of digits in 512 is (5+1+2)/3(number of digits) = 8/3=2).\n",
        "# The mean will always be an integer.\n"
      ],
      "metadata": {
        "id": "Ra888K3PxRNj"
      }
    },
    {
      "cell_type": "code",
      "source": [
        "def mean(n):\n",
        "  n_str=str(n)\n",
        "  digit_sum=sum(int(digit) for digit in n_str)\n",
        "  digit_count=len(n_str)\n",
        "  return int(digit_sum/digit_count)\n",
        "mean(666)\n",
        "\n"
      ],
      "metadata": {
        "colab": {
          "base_uri": "https://localhost:8080/"
        },
        "id": "WzvVQn5CxZSn",
        "outputId": "c6fcfdc4-98f6-4db1-f7f9-210e8dbb5735"
      },
      "execution_count": 58,
      "outputs": [
        {
          "output_type": "execute_result",
          "data": {
            "text/plain": [
              "6"
            ]
          },
          "metadata": {},
          "execution_count": 58
        }
      ]
    },
    {
      "cell_type": "markdown",
      "source": [
        "# Program 132\n",
        "# Create a function that takes an integer and returns a list from 1 to the given number,\n",
        "# where:\n",
        "# 1. If the number can be divided evenly by 4, amplify it by 10 (i.e. return 10 times the\n",
        "# number).\n",
        "# 2. If the number cannot be divided evenly by 4, simply return the number.\n",
        "# Examples\n",
        "\n",
        "#amplify(4) ➞ [1, 2, 3, 40]\n",
        "#amplify(3) ➞ [1, 2, 3]\n",
        "#amplify(25) ➞ [1, 2, 3, 40, 5, 6, 7, 80, 9, 10, 11, 120, 13, 14, 15, 160, 17, 18, 19, 200, 21,\n",
        "#22, 23, 240, 25]\n",
        "#Notes\n",
        "#The given integer will always be equal to or greater than 1.\n",
        "#Include the number (see example above).\n",
        "#To perform this problem with its intended purpose, try doing it with list\n",
        "# comprehensions. If that's too difficult, just solve the challenge any way you can.\n"
      ],
      "metadata": {
        "id": "k-Og4s4Gu_pp"
      }
    },
    {
      "cell_type": "code",
      "source": [
        "def amplify(num):\n",
        "  return [n*10 if n%4==0 else n for n in range(1,num+1)]\n",
        "amplify(25)"
      ],
      "metadata": {
        "colab": {
          "base_uri": "https://localhost:8080/"
        },
        "id": "PcoyE630vS6G",
        "outputId": "a1e01e19-ba32-46ce-8d2e-94dac3031c94"
      },
      "execution_count": 52,
      "outputs": [
        {
          "output_type": "execute_result",
          "data": {
            "text/plain": [
              "[1,\n",
              " 2,\n",
              " 3,\n",
              " 40,\n",
              " 5,\n",
              " 6,\n",
              " 7,\n",
              " 80,\n",
              " 9,\n",
              " 10,\n",
              " 11,\n",
              " 120,\n",
              " 13,\n",
              " 14,\n",
              " 15,\n",
              " 160,\n",
              " 17,\n",
              " 18,\n",
              " 19,\n",
              " 200,\n",
              " 21,\n",
              " 22,\n",
              " 23,\n",
              " 240,\n",
              " 25]"
            ]
          },
          "metadata": {},
          "execution_count": 52
        }
      ]
    },
    {
      "cell_type": "markdown",
      "source": [
        "# Program 133\n",
        "# Create a function that takes a list of numbers and return the number that's unique.\n",
        "# Examples\n",
        "# unique([3, 3, 3, 7, 3, 3]) ➞ 7\n",
        "# unique([0, 0, 0.77, 0, 0]) ➞ 0.77\n",
        "# unique([0, 1, 1, 1, 1, 1, 1, 1]) ➞ 0\n",
        "# Notes\n",
        "# Test cases will always have exactly one unique number while all others are the same."
      ],
      "metadata": {
        "id": "xGpSm1XDme9R"
      }
    },
    {
      "cell_type": "code",
      "source": [
        "def unique(numbers):\n",
        "  digit_count={}\n",
        "  for number in numbers:\n",
        "    if number in digit_count:\n",
        "      digit_count[number]+=1\n",
        "    else:\n",
        "      digit_count[number]=1\n",
        "  for num,count in digit_count.items():\n",
        "    if count==1:\n",
        "      return num\n",
        "unique([0, 1, 1, 1, 1, 1, 1, 1])"
      ],
      "metadata": {
        "colab": {
          "base_uri": "https://localhost:8080/"
        },
        "id": "Rk60xSSAsNSh",
        "outputId": "9c3ef937-a043-42c8-c631-ef69950ec7e4"
      },
      "execution_count": 47,
      "outputs": [
        {
          "output_type": "execute_result",
          "data": {
            "text/plain": [
              "0"
            ]
          },
          "metadata": {},
          "execution_count": 47
        }
      ]
    },
    {
      "cell_type": "markdown",
      "source": [
        "## Program 134\n",
        "# Your task is to create a Circle constructor that creates a circle with a radius provided\n",
        "# by an argument. The circles constructed must have two getters getArea() (PIr^2) and\n",
        "# getPerimeter() (2PI*r) which give both respective areas and perimeter\n",
        "# (circumference).\n",
        "# For help with this class, I have provided you with a Rectangle constructor which you\n",
        "# can use as a base example.\n",
        "# Examples\n",
        "# circy = Circle(11)\n",
        "# circy.getArea()\n",
        "#Should return 380.132711084365\n",
        "#circy = Circle(4.44)\n",
        "#circy.getPerimeter()\n",
        "#Should return 27.897342763877365\n",
        "#Notes\n",
        "#Round results up to the nearest integer.\n"
      ],
      "metadata": {
        "id": "81v2oeh2iLXw"
      }
    },
    {
      "cell_type": "code",
      "source": [
        "import math\n",
        "class circle:\n",
        "  def __init__(self,radius):\n",
        "    self.radius=radius\n",
        "  def getarea(self):\n",
        "    return (math.pi*self.radius**2)\n",
        "  def getperimeter(self):\n",
        "    return (2*math.pi*self.radius)\n",
        "c=circle(4.44)\n",
        "c.getarea()\n",
        "c.getperimeter()\n"
      ],
      "metadata": {
        "colab": {
          "base_uri": "https://localhost:8080/"
        },
        "id": "Gvv6sudSiye5",
        "outputId": "585bd5a9-85e5-46b2-af28-70536c2b71cb"
      },
      "execution_count": 39,
      "outputs": [
        {
          "output_type": "execute_result",
          "data": {
            "text/plain": [
              "27.897342763877365"
            ]
          },
          "metadata": {},
          "execution_count": 39
        }
      ]
    },
    {
      "cell_type": "markdown",
      "source": [
        "# Program 135\n",
        "# Create a function that takes a list of strings and return a list, sorted from shortest to\n",
        "# longest.\n",
        "# Examples\n",
        "# sort_by_length([\"Google\", \"Apple\", \"Microsoft\"]) ➞ [\"Apple\", \"Google\", \"Microsoft\"]\n",
        "# sort_by_length([\"Leonardo\", \"Michelangelo\", \"Raphael\", \"Donatello\"]) ➞ [\"Raphael\",\n",
        "# \"Leonardo\", \"Donatello\", \"Michelangelo\"]\n",
        "# sort_by_length([\"Turing\", \"Einstein\", \"Jung\"]) ➞ [\"Jung\", \"Turing\", \"Einstein\"]\n",
        "# Notes\n"
      ],
      "metadata": {
        "id": "K8ImarzeUGU0"
      }
    },
    {
      "cell_type": "code",
      "source": [
        "def sort_by_length(strings):\n",
        "  return sorted(strings,key=len)\n",
        "sort_by_length([\"Turing\", \"Einstein\", \"Jung\"])"
      ],
      "metadata": {
        "colab": {
          "base_uri": "https://localhost:8080/"
        },
        "id": "HbW0bK8mUQAC",
        "outputId": "6482abe8-28e7-469b-ebbb-2f27f0e8519b"
      },
      "execution_count": 34,
      "outputs": [
        {
          "output_type": "execute_result",
          "data": {
            "text/plain": [
              "['Jung', 'Turing', 'Einstein']"
            ]
          },
          "metadata": {},
          "execution_count": 34
        }
      ]
    },
    {
      "cell_type": "markdown",
      "source": [
        "# Program 136\n",
        "# Create a function that validates whether three given integers form a Pythagorean\n",
        "# triplet. The sum of the squares of the two smallest integers must equal the square of\n",
        "# the largest number to be validated.\n",
        "# Examples\n",
        "# is_triplet(3, 4, 5) ➞ True\n",
        "# 3² + 4² = 25\n",
        "# 5² = 25\n",
        "# is_triplet(13, 5, 12) ➞ True\n",
        "# 5² + 12² = 169\n",
        "# 13² = 169\n",
        "# is_triplet(1, 2, 3) ➞ False\n",
        "# 1² + 2² = 5\n",
        "# 3² = 9\n",
        "# Notes\n",
        "# Numbers may not be given in a sorted order.\n"
      ],
      "metadata": {
        "id": "_X1UcP_kESJf"
      }
    },
    {
      "cell_type": "code",
      "source": [
        "def is_trip(a,b,c):\n",
        "  num=[a,b,c]\n",
        "  num.sort()\n",
        "  return num[0]**2+num[1]**2==num[2]**2\n",
        "is_trip(13,5,12)"
      ],
      "metadata": {
        "colab": {
          "base_uri": "https://localhost:8080/"
        },
        "id": "V7q2_P1xS-a7",
        "outputId": "b1e81f24-3c7e-4079-e9e3-f40e58096d66"
      },
      "execution_count": 31,
      "outputs": [
        {
          "output_type": "execute_result",
          "data": {
            "text/plain": [
              "True"
            ]
          },
          "metadata": {},
          "execution_count": 31
        }
      ]
    },
    {
      "cell_type": "markdown",
      "source": [
        "# Program 137\n",
        "# Create a function that takes three integer arguments (a, b, c) and returns the amount\n",
        "# of integers which are of equal value.\n",
        "# Examples\n",
        "# equal(3, 4, 3) ➞ 2\n",
        "# equal(1, 1, 1) ➞ 3\n",
        "# equal(3, 4, 1) ➞ 0\n",
        "# Notes\n",
        "# Your function must return 0, 2 or 3.\n"
      ],
      "metadata": {
        "id": "LgBtutV9DGnJ"
      }
    },
    {
      "cell_type": "code",
      "source": [
        "def equal(a,b,c):\n",
        "  if a==b==c:\n",
        "    return 3\n",
        "  elif a==b or a==c:\n",
        "    return 2\n",
        "  else:\n",
        "    return 0\n",
        "equal(3,4,3)"
      ],
      "metadata": {
        "colab": {
          "base_uri": "https://localhost:8080/"
        },
        "id": "a1G26GmKDNf4",
        "outputId": "d83c1c31-54b3-4a9a-ae0f-8d202ef90c42"
      },
      "execution_count": 29,
      "outputs": [
        {
          "output_type": "execute_result",
          "data": {
            "text/plain": [
              "2"
            ]
          },
          "metadata": {},
          "execution_count": 29
        }
      ]
    },
    {
      "cell_type": "markdown",
      "source": [
        "# Program 138\n",
        "# Write a function that converts a dictionary into a list of keys-values tuples.\n",
        "# Examples\n",
        "# dict_to_list({\n",
        "# \"D\": 1,\n",
        "# \"B\": 2\n",
        "# \"C\": 3\n",
        "# }) ➞ [(\"B\", 2), (\"C\", 3), (\"D\", 1)]\n",
        "# dict_to_list({\n",
        "# \"likes\": 2,\n",
        "# \"dislikes\": 3,\n",
        "# \"followers\": 10\n",
        "# }) ➞ [(\"dislikes\", 3), (\"followers\", 10), (\"likes\", 2)]\n",
        "# Notes\n",
        "# Return the elements in the list in alphabetical order"
      ],
      "metadata": {
        "id": "vi_oj6ie_Tm4"
      }
    },
    {
      "cell_type": "code",
      "source": [
        "def dict_to_list(input_dict):\n",
        "  sorted_dict=sorted(input_dict.items())\n",
        "  result=[(key,value)for key,value in sorted_dict]\n",
        "  return result\n",
        "dict_to_list({\n",
        "\"likes\": 2,\n",
        "\"dislikes\": 3,\n",
        "\"followers\": 10\n",
        "})"
      ],
      "metadata": {
        "colab": {
          "base_uri": "https://localhost:8080/"
        },
        "id": "JzSFnlkxCfko",
        "outputId": "85e6c9d3-2ddb-40f3-9ec1-926adaf5a086"
      },
      "execution_count": 25,
      "outputs": [
        {
          "output_type": "execute_result",
          "data": {
            "text/plain": [
              "[('dislikes', 3), ('followers', 10), ('likes', 2)]"
            ]
          },
          "metadata": {},
          "execution_count": 25
        }
      ]
    },
    {
      "cell_type": "markdown",
      "source": [
        "# Program 139\n",
        "# Write a function that creates a dictionary with each (key, value) pair being the (lower\n",
        "# case, upper case) versions of a letter, respectively.\n",
        "# Examples\n",
        "# mapping([\"p\", \"s\"]) ➞ { \"p\": \"P\", \"s\": \"S\" }\n",
        "# mapping([\"a\", \"b\", \"c\"]) ➞ { \"a\": \"A\", \"b\": \"B\", \"c\": \"C\" }\n",
        "# mapping([\"a\", \"v\", \"y\", \"z\"]) ➞ { \"a\": \"A\", \"v\": \"V\", \"y\": \"Y\", \"z\": \"Z\" }\n",
        "# Notes\n",
        "# All of the letters in the input list will always be lowercase.\n"
      ],
      "metadata": {
        "id": "mviBUkiL6ebD"
      }
    },
    {
      "cell_type": "code",
      "source": [
        "def mapping(letters):\n",
        "  res={}\n",
        "  for letter in letters:\n",
        "    res[letter]=letter.upper()\n",
        "  return res\n",
        "mapping([\"a\", \"v\", \"y\", \"z\"])"
      ],
      "metadata": {
        "colab": {
          "base_uri": "https://localhost:8080/"
        },
        "id": "Va1Bt1fs-0UG",
        "outputId": "9f32315d-8b0e-4855-afd7-99764e8b3cab"
      },
      "execution_count": 18,
      "outputs": [
        {
          "output_type": "execute_result",
          "data": {
            "text/plain": [
              "{'a': 'A', 'v': 'V', 'y': 'Y', 'z': 'Z'}"
            ]
          },
          "metadata": {},
          "execution_count": 18
        }
      ]
    },
    {
      "cell_type": "markdown",
      "source": [
        "# Program 140\n",
        "# Write a function, that replaces all vowels in a string with a specified vowel.\n",
        "# Examples\n",
        "# vow_replace(\"apples and bananas\", \"u\") ➞ \"upplus und bununus\"\n",
        "# vow_replace(\"cheese casserole\", \"o\") ➞ \"chooso cossorolo\"\n",
        "# vow_replace(\"stuffed jalapeno poppers\", \"e\") ➞ \"steffed jelepene peppers\"\n",
        "# Notes\n",
        "# All words will be lowercase. Y is not considered a vowel."
      ],
      "metadata": {
        "id": "2pVwCwNE5gAF"
      }
    },
    {
      "cell_type": "code",
      "source": [
        "def vow_replace(input_str,vowel):\n",
        "  result=''\n",
        "  vowels='aeiou'\n",
        "  for char in input_str:\n",
        "    if char in vowels:\n",
        "      result+=vowel\n",
        "    else:\n",
        "      result+=char\n",
        "  return result\n",
        "vow_replace(\"stuffed jalapeno poppers\", \"e\")"
      ],
      "metadata": {
        "colab": {
          "base_uri": "https://localhost:8080/",
          "height": 36
        },
        "id": "LKpzVkD-5nRk",
        "outputId": "465bbbf7-3655-4ad8-8cd0-2df61cf71c7f"
      },
      "execution_count": 10,
      "outputs": [
        {
          "output_type": "execute_result",
          "data": {
            "text/plain": [
              "'steffed jelepene peppers'"
            ],
            "application/vnd.google.colaboratory.intrinsic+json": {
              "type": "string"
            }
          },
          "metadata": {},
          "execution_count": 10
        }
      ]
    },
    {
      "cell_type": "markdown",
      "source": [
        "# Program 141\n",
        "# Create a function that takes a string as input and capitalizes a letter if its ASCII code\n",
        "# is even and returns its lower case version if its ASCII code is odd.\n",
        "# Examples\n",
        "# ascii_capitalize(\"to be or not to be!\") ➞ \"To Be oR NoT To Be!\"\n",
        "# ascii_capitalize(\"THE LITTLE MERMAID\") ➞ \"THe LiTTLe meRmaiD\"\n",
        "# ascii_capitalize(\"Oh what a beautiful morning.\") ➞ \"oH wHaT a BeauTiFuL\n",
        "# moRNiNg.\""
      ],
      "metadata": {
        "id": "C-rNL5teqN9V"
      }
    },
    {
      "cell_type": "code",
      "source": [
        "def asci_capitalize(input_str):\n",
        "  result=\"\"\n",
        "  for char in input_str:\n",
        "    if ord(char)%2==0:\n",
        "      result+=char.upper()\n",
        "    else:\n",
        "      result+=char.lower()\n",
        "  return result\n",
        "asci_capitalize(\"Oh what a beautiful morning.\")"
      ],
      "metadata": {
        "colab": {
          "base_uri": "https://localhost:8080/",
          "height": 36
        },
        "id": "9yykK-oo4m2K",
        "outputId": "4833afcf-e27d-4efb-f204-e7329ea1edf4"
      },
      "execution_count": 9,
      "outputs": [
        {
          "output_type": "execute_result",
          "data": {
            "text/plain": [
              "'oH wHaT a BeauTiFuL moRNiNg.'"
            ],
            "application/vnd.google.colaboratory.intrinsic+json": {
              "type": "string"
            }
          },
          "metadata": {},
          "execution_count": 9
        }
      ]
    },
    {
      "cell_type": "code",
      "source": [],
      "metadata": {
        "id": "p52YHUN55Uth"
      },
      "execution_count": null,
      "outputs": []
    }
  ]
}