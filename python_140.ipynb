{
  "nbformat": 4,
  "nbformat_minor": 0,
  "metadata": {
    "colab": {
      "provenance": [],
      "authorship_tag": "ABX9TyOhTp4+0zkJD4dKV7J0IkfR",
      "include_colab_link": true
    },
    "kernelspec": {
      "name": "python3",
      "display_name": "Python 3"
    },
    "language_info": {
      "name": "python"
    }
  },
  "cells": [
    {
      "cell_type": "markdown",
      "metadata": {
        "id": "view-in-github",
        "colab_type": "text"
      },
      "source": [
        "<a href=\"https://colab.research.google.com/github/adas754/python_revision-from-day1/blob/main/python_140.ipynb\" target=\"_parent\"><img src=\"https://colab.research.google.com/assets/colab-badge.svg\" alt=\"Open In Colab\"/></a>"
      ]
    },
    {
      "cell_type": "markdown",
      "source": [
        "# Program 1\n",
        "# Write a Python program to print \"Hello Python\""
      ],
      "metadata": {
        "id": "l6F28iJvFKpZ"
      }
    },
    {
      "cell_type": "code",
      "execution_count": null,
      "metadata": {
        "colab": {
          "base_uri": "https://localhost:8080/"
        },
        "id": "xeZt0JFZEyhE",
        "outputId": "3be53680-846f-4e43-c2bc-c82f63f252a5"
      },
      "outputs": [
        {
          "output_type": "stream",
          "name": "stdout",
          "text": [
            "Hello Python\n"
          ]
        }
      ],
      "source": [
        "print('Hello Python')"
      ]
    },
    {
      "cell_type": "markdown",
      "source": [
        "#  Program 2 Write a Python program to do arithmetical operations addition and division."
      ],
      "metadata": {
        "id": "Z6Tdu8PzFlBv"
      }
    },
    {
      "cell_type": "code",
      "source": [
        "def add_div(a,b):\n",
        "  c=a+b\n",
        "  d=a/b\n",
        "  return c,d\n",
        "add_div(25,5)"
      ],
      "metadata": {
        "colab": {
          "base_uri": "https://localhost:8080/"
        },
        "id": "Xooq6y1MFt5o",
        "outputId": "540c4463-632c-4fef-fdfe-23c27ab4a880"
      },
      "execution_count": null,
      "outputs": [
        {
          "output_type": "execute_result",
          "data": {
            "text/plain": [
              "(30, 5.0)"
            ]
          },
          "metadata": {},
          "execution_count": 5
        }
      ]
    },
    {
      "cell_type": "markdown",
      "source": [
        "# Program 3 Write a Python program to find the area of a triangle."
      ],
      "metadata": {
        "id": "QXV69DdrGkjG"
      }
    },
    {
      "cell_type": "code",
      "source": [
        "def area(h,b):\n",
        "  return 0.5*h*b\n",
        "area(10,15)"
      ],
      "metadata": {
        "colab": {
          "base_uri": "https://localhost:8080/"
        },
        "id": "TLBX_5NAGAQ9",
        "outputId": "e6db6626-2282-4dc2-ad9c-9ab27731dc35"
      },
      "execution_count": null,
      "outputs": [
        {
          "output_type": "execute_result",
          "data": {
            "text/plain": [
              "75.0"
            ]
          },
          "metadata": {},
          "execution_count": 6
        }
      ]
    },
    {
      "cell_type": "markdown",
      "source": [
        "# Program 4 Write a Python program to swap two variables."
      ],
      "metadata": {
        "id": "1KswtXuKIeEf"
      }
    },
    {
      "cell_type": "code",
      "source": [
        "def swap(a,b):\n",
        "  a=a+b\n",
        "  b=a-b\n",
        "  a=a-b\n",
        "  return a,b\n",
        "a,b=swap(34,67)\n",
        "print(a,b)"
      ],
      "metadata": {
        "colab": {
          "base_uri": "https://localhost:8080/"
        },
        "id": "NjdK3nPfIZr0",
        "outputId": "6baa01a5-09df-4b85-c3d7-9c908e4a1423"
      },
      "execution_count": null,
      "outputs": [
        {
          "output_type": "stream",
          "name": "stdout",
          "text": [
            "67 34\n"
          ]
        }
      ]
    },
    {
      "cell_type": "markdown",
      "source": [
        "# Program 5\n",
        "# Write a Python program to generate a random number."
      ],
      "metadata": {
        "id": "oRmMM1GwMsvs"
      }
    },
    {
      "cell_type": "code",
      "source": [
        "import random\n",
        "random.randint(1,100)"
      ],
      "metadata": {
        "colab": {
          "base_uri": "https://localhost:8080/"
        },
        "id": "I8mkXYUNJP2o",
        "outputId": "4f269d67-7035-4166-c463-24776630df78"
      },
      "execution_count": null,
      "outputs": [
        {
          "output_type": "execute_result",
          "data": {
            "text/plain": [
              "25"
            ]
          },
          "metadata": {},
          "execution_count": 17
        }
      ]
    },
    {
      "cell_type": "markdown",
      "source": [
        "# Program 6\n",
        "# Write a Python program to convert kilometers to miles"
      ],
      "metadata": {
        "id": "jl1-N8w9Pw9U"
      }
    },
    {
      "cell_type": "code",
      "source": [
        "def km_mile(km):\n",
        "  miles=km* 0.621371\n",
        "  return miles\n",
        "km_mile(100)\n"
      ],
      "metadata": {
        "colab": {
          "base_uri": "https://localhost:8080/"
        },
        "id": "wQH0zCCjM87_",
        "outputId": "eaeef25b-9c5d-4569-a073-7c8b1f2cf433"
      },
      "execution_count": null,
      "outputs": [
        {
          "output_type": "execute_result",
          "data": {
            "text/plain": [
              "62.137100000000004"
            ]
          },
          "metadata": {},
          "execution_count": 19
        }
      ]
    },
    {
      "cell_type": "markdown",
      "source": [
        "# Program 7\n",
        "# Write a Python program to convert Celsius to Fahrenheit."
      ],
      "metadata": {
        "id": "d5wiD0kOQ_YT"
      }
    },
    {
      "cell_type": "code",
      "source": [
        "def cel_far(c):\n",
        "  f=(c*9/5)+32\n",
        "  return f\n",
        "cel_far(37)"
      ],
      "metadata": {
        "colab": {
          "base_uri": "https://localhost:8080/"
        },
        "id": "c1-mpj46QpLP",
        "outputId": "a94f95d1-d099-4ebe-a4a6-7608c74f467b"
      },
      "execution_count": null,
      "outputs": [
        {
          "output_type": "execute_result",
          "data": {
            "text/plain": [
              "98.6"
            ]
          },
          "metadata": {},
          "execution_count": 20
        }
      ]
    },
    {
      "cell_type": "markdown",
      "source": [
        "# Program 8\n",
        "# Write a Python program to display calendar."
      ],
      "metadata": {
        "id": "YW4246QCSFvx"
      }
    },
    {
      "cell_type": "code",
      "source": [
        "import calendar\n",
        "year = int(input(\"Enter year: \"))\n",
        "month = int(input(\"Enter month: \"))\n",
        "cal = calendar.month(year, month)\n",
        "print(cal)\n"
      ],
      "metadata": {
        "colab": {
          "base_uri": "https://localhost:8080/"
        },
        "id": "bdctvO6wS0W8",
        "outputId": "920a83d6-2d1e-4698-c6a2-70b695889bf5"
      },
      "execution_count": null,
      "outputs": [
        {
          "output_type": "stream",
          "name": "stdout",
          "text": [
            "Enter year: 2023\n",
            "Enter month: 11\n",
            "   November 2023\n",
            "Mo Tu We Th Fr Sa Su\n",
            "       1  2  3  4  5\n",
            " 6  7  8  9 10 11 12\n",
            "13 14 15 16 17 18 19\n",
            "20 21 22 23 24 25 26\n",
            "27 28 29 30\n",
            "\n"
          ]
        }
      ]
    },
    {
      "cell_type": "markdown",
      "source": [
        "# Program 9\n",
        "# Write a Python program to solve quadratic equation."
      ],
      "metadata": {
        "id": "04ZgNYnbedWG"
      }
    },
    {
      "cell_type": "code",
      "source": [
        "import cmath\n",
        "a=int(input())\n",
        "b=int(input())\n",
        "c=int(input())\n",
        "d=(b**2-4*a*c)**0.5\n",
        "root1=(-b+d)/(2*a)\n",
        "root2=(-b-d)/(2*a)\n",
        "print(root1,root2)\n"
      ],
      "metadata": {
        "colab": {
          "base_uri": "https://localhost:8080/"
        },
        "id": "gQYw6YnRdMpI",
        "outputId": "b56ccb76-41d9-4c43-97e9-10d8ee39fdc3"
      },
      "execution_count": null,
      "outputs": [
        {
          "output_type": "stream",
          "name": "stdout",
          "text": [
            "1\n",
            "4\n",
            "8\n",
            "(-1.9999999999999998+2j) (-2-2j)\n"
          ]
        }
      ]
    },
    {
      "cell_type": "markdown",
      "source": [
        "# Program 10\n",
        "# Write a Python program to swap two variables without temp variable."
      ],
      "metadata": {
        "id": "c2ePk0bjgQxn"
      }
    },
    {
      "cell_type": "code",
      "source": [
        "def swap_num(a,b):\n",
        "  a=a+b\n",
        "  b=a-b\n",
        "  a=a-b\n",
        "  return a,b\n",
        "swap_num(56,57)"
      ],
      "metadata": {
        "colab": {
          "base_uri": "https://localhost:8080/"
        },
        "id": "onXgPKxvgS4m",
        "outputId": "4883385f-a6fb-4878-c717-8c0270d05c5b"
      },
      "execution_count": null,
      "outputs": [
        {
          "output_type": "execute_result",
          "data": {
            "text/plain": [
              "(57, 56)"
            ]
          },
          "metadata": {},
          "execution_count": 29
        }
      ]
    },
    {
      "cell_type": "markdown",
      "source": [
        "# Program 11 Write a Python Program to Check if a Number is Positive, Negative or Zero."
      ],
      "metadata": {
        "id": "qUYopjU2g5k-"
      }
    },
    {
      "cell_type": "code",
      "source": [
        "def pos_num(n):\n",
        "  if n>0:\n",
        "    print('positive')\n",
        "  elif n==0:\n",
        "    print('zero')\n",
        "  else:\n",
        "    print('negative')\n",
        "pos_num(56)\n"
      ],
      "metadata": {
        "colab": {
          "base_uri": "https://localhost:8080/"
        },
        "id": "E3dAzkeJguvW",
        "outputId": "018645b1-ba0e-4472-adc9-b49373feadc2"
      },
      "execution_count": null,
      "outputs": [
        {
          "output_type": "stream",
          "name": "stdout",
          "text": [
            "positive\n"
          ]
        }
      ]
    },
    {
      "cell_type": "markdown",
      "source": [
        "# Program 12 Write a Python Program to Check if a Number is Odd or Even"
      ],
      "metadata": {
        "id": "86I1QuxyjgRz"
      }
    },
    {
      "cell_type": "code",
      "source": [
        "def eve_odd(n):\n",
        "  if n%2==0:\n",
        "    print('even')\n",
        "  else:\n",
        "    print('odd')\n",
        "eve_odd(31)"
      ],
      "metadata": {
        "colab": {
          "base_uri": "https://localhost:8080/"
        },
        "id": "iFfCNRJFioYE",
        "outputId": "860242c2-2f2e-4ca9-87d0-f15aceb6c253"
      },
      "execution_count": null,
      "outputs": [
        {
          "output_type": "stream",
          "name": "stdout",
          "text": [
            "odd\n"
          ]
        }
      ]
    },
    {
      "cell_type": "markdown",
      "source": [
        "# Program 13 Write a Python Program to Check Leap Year."
      ],
      "metadata": {
        "id": "t2QUt9xgkwkT"
      }
    },
    {
      "cell_type": "code",
      "source": [
        "def leap_yr(yr):\n",
        "  if(yr%4==0 and yr%100!=0 or yr%400==0):\n",
        "    print('year is leap year')\n",
        "  else:\n",
        "    print('not leap year')\n",
        "leap_yr(2024)"
      ],
      "metadata": {
        "colab": {
          "base_uri": "https://localhost:8080/"
        },
        "id": "NCHxa8VclWp6",
        "outputId": "9c70a7bc-280a-486b-dbf6-7bb1b98091f9"
      },
      "execution_count": null,
      "outputs": [
        {
          "output_type": "stream",
          "name": "stdout",
          "text": [
            "year is leap year\n"
          ]
        }
      ]
    },
    {
      "cell_type": "markdown",
      "source": [
        "# Program 14\n",
        "# Write a Python Program to Check Prime Number.\n"
      ],
      "metadata": {
        "id": "Zp-X1iYbotln"
      }
    },
    {
      "cell_type": "code",
      "source": [
        "def check_prime(n):\n",
        "  if n<=1:\n",
        "    return False\n",
        "  for i in range(2,int(n**0.5)+1):\n",
        "    if n%i==0:\n",
        "      return False\n",
        "  return True\n",
        "check_prime(19)"
      ],
      "metadata": {
        "colab": {
          "base_uri": "https://localhost:8080/"
        },
        "id": "cTF3WTV4nMkk",
        "outputId": "8d0bf515-ff1f-4200-d95d-0d0c061e3f84"
      },
      "execution_count": null,
      "outputs": [
        {
          "output_type": "execute_result",
          "data": {
            "text/plain": [
              "True"
            ]
          },
          "metadata": {},
          "execution_count": 59
        }
      ]
    },
    {
      "cell_type": "markdown",
      "source": [
        "# Program 15\n",
        "# Write a Python Program to Print all Prime Numbers in an Interval of 1-10.\n"
      ],
      "metadata": {
        "id": "2OshPVM_qc6h"
      }
    },
    {
      "cell_type": "code",
      "source": [
        "def is_prime(n):\n",
        "  if n<=1:\n",
        "    return False\n",
        "  for i in range(2,int(n**0.5)+1):\n",
        "    if n%i==0:\n",
        "      return False\n",
        "  return True\n",
        "def print_prime(start,end):\n",
        "  for i in range(start,end+1):\n",
        "    if is_prime(i):\n",
        "      print(i)\n",
        "print_prime(1,10)"
      ],
      "metadata": {
        "colab": {
          "base_uri": "https://localhost:8080/"
        },
        "id": "KQWWjTsuulZf",
        "outputId": "35b295ff-7859-4f4d-c6e6-f58a541981a0"
      },
      "execution_count": null,
      "outputs": [
        {
          "output_type": "stream",
          "name": "stdout",
          "text": [
            "2\n",
            "3\n",
            "5\n",
            "7\n"
          ]
        }
      ]
    },
    {
      "cell_type": "markdown",
      "source": [
        "# Program 16\n",
        "# Write a Python Program to Find the Factorial of a Number.\n"
      ],
      "metadata": {
        "id": "k2dbdY8kwMKS"
      }
    },
    {
      "cell_type": "code",
      "source": [
        "def fact_number(n):\n",
        "  if n==0 or n==1:\n",
        "    return 1\n",
        "  else:\n",
        "    return n*fact_number(n-1)\n",
        "fact_number(5)"
      ],
      "metadata": {
        "colab": {
          "base_uri": "https://localhost:8080/"
        },
        "id": "2IOqYuWwvzTp",
        "outputId": "43e8ea9a-cca9-40c5-b7e0-c48634680a7e"
      },
      "execution_count": null,
      "outputs": [
        {
          "output_type": "execute_result",
          "data": {
            "text/plain": [
              "120"
            ]
          },
          "metadata": {},
          "execution_count": 61
        }
      ]
    },
    {
      "cell_type": "markdown",
      "source": [
        "# Program 17\n",
        "# Write a Python Program to Display the multiplication Table.\n"
      ],
      "metadata": {
        "id": "lGswtZTzxnI6"
      }
    },
    {
      "cell_type": "code",
      "source": [
        "n=int(input())\n",
        "for i in range(1,11):\n",
        "  print(f'{n}x{i}={n*i}')"
      ],
      "metadata": {
        "colab": {
          "base_uri": "https://localhost:8080/"
        },
        "id": "T0wpA2yWw6UY",
        "outputId": "d34ca41c-8b1e-44fe-8f0b-38f78d27f9fc"
      },
      "execution_count": null,
      "outputs": [
        {
          "output_type": "stream",
          "name": "stdout",
          "text": [
            "10\n",
            "10x1=10\n",
            "10x2=20\n",
            "10x3=30\n",
            "10x4=40\n",
            "10x5=50\n",
            "10x6=60\n",
            "10x7=70\n",
            "10x8=80\n",
            "10x9=90\n",
            "10x10=100\n"
          ]
        }
      ]
    },
    {
      "cell_type": "markdown",
      "source": [
        "# Program 18\n",
        "# Write a Python Program to Print the Fibonacci sequence."
      ],
      "metadata": {
        "id": "ztuI1eaizeYi"
      }
    },
    {
      "cell_type": "code",
      "source": [
        "def fib_num(n):\n",
        "  if n<=1:\n",
        "    return n\n",
        "  else:\n",
        "    return (fib_num(n-1)+fib_num(n-2))\n",
        "for i in range(10):\n",
        "  print(fib_num(i))"
      ],
      "metadata": {
        "colab": {
          "base_uri": "https://localhost:8080/"
        },
        "id": "_lXqvbJuzhJs",
        "outputId": "475eef23-02b9-45a6-9585-0bebc2736ddd"
      },
      "execution_count": null,
      "outputs": [
        {
          "output_type": "stream",
          "name": "stdout",
          "text": [
            "0\n",
            "1\n",
            "1\n",
            "2\n",
            "3\n",
            "5\n",
            "8\n",
            "13\n",
            "21\n",
            "34\n"
          ]
        }
      ]
    },
    {
      "cell_type": "markdown",
      "source": [
        "# Program 19\n",
        "# Write a Python Program to Check Armstrong Number?"
      ],
      "metadata": {
        "id": "1dbBePOx1Qw4"
      }
    },
    {
      "cell_type": "code",
      "source": [
        "def arm_num(num):\n",
        "  num_str=str(num)\n",
        "  digit_num=len(num_str)\n",
        "  sum=0\n",
        "  for digit in num_str:\n",
        "    sum+=int(digit)**digit_num\n",
        "  if sum==num:\n",
        "    return True\n",
        "  else:\n",
        "    return False\n",
        "arm_num(9474)"
      ],
      "metadata": {
        "colab": {
          "base_uri": "https://localhost:8080/"
        },
        "id": "QNp4xJghz43O",
        "outputId": "7940dd91-f7a1-4922-9e20-ea83f8664ace"
      },
      "execution_count": null,
      "outputs": [
        {
          "output_type": "execute_result",
          "data": {
            "text/plain": [
              "True"
            ]
          },
          "metadata": {},
          "execution_count": 74
        }
      ]
    },
    {
      "cell_type": "markdown",
      "source": [
        "# Program 20\n",
        "# Write a Python Program to Find Armstrong Number in an Interval."
      ],
      "metadata": {
        "id": "WnBIQhTu2XcO"
      }
    },
    {
      "cell_type": "code",
      "source": [
        "def arm_num(num):\n",
        "  num_str=str(num)\n",
        "  digit_num=len(num_str)\n",
        "  sum=0\n",
        "  for digit in num_str:\n",
        "    sum+=int(digit)**digit_num\n",
        "  if sum==num:\n",
        "    return True\n",
        "  else:\n",
        "    return False\n",
        "def print_arm(start,end):\n",
        "  for i in range(start,end+1):\n",
        "    if arm_num(i):\n",
        "      print(i)\n",
        "print_arm(10,1000)"
      ],
      "metadata": {
        "colab": {
          "base_uri": "https://localhost:8080/"
        },
        "id": "DuQq0Xu12Hi-",
        "outputId": "2df3565d-4f68-405f-e5b0-b140d4f1c670"
      },
      "execution_count": null,
      "outputs": [
        {
          "output_type": "stream",
          "name": "stdout",
          "text": [
            "153\n",
            "370\n",
            "371\n",
            "407\n"
          ]
        }
      ]
    },
    {
      "cell_type": "markdown",
      "source": [
        "# Program 21\n",
        "# Write a Python Program to Find the Sum of Natural Numbers."
      ],
      "metadata": {
        "id": "Ra8H4OVr4NBe"
      }
    },
    {
      "cell_type": "code",
      "source": [
        "def son(n):\n",
        "  s=0\n",
        "  for i in range(1,n+1):\n",
        "    s+=i\n",
        "  return s\n",
        "son(10)"
      ],
      "metadata": {
        "colab": {
          "base_uri": "https://localhost:8080/"
        },
        "id": "X1_NteBk2yhz",
        "outputId": "2a72b3b6-d535-482b-82ef-9e4d00deb813"
      },
      "execution_count": null,
      "outputs": [
        {
          "output_type": "execute_result",
          "data": {
            "text/plain": [
              "55"
            ]
          },
          "metadata": {},
          "execution_count": 80
        }
      ]
    },
    {
      "cell_type": "markdown",
      "source": [
        "# Program 22\n",
        "# Write a Python Program to Find LCM."
      ],
      "metadata": {
        "id": "MXwsNiSUNtRB"
      }
    },
    {
      "cell_type": "code",
      "source": [
        "def compute_lcm(x,y):\n",
        "  if x>y:\n",
        "    greater=x\n",
        "  else:\n",
        "    greater=y\n",
        "  while True:\n",
        "    if((greater%x==0)and(greater%y==0)):\n",
        "      lcm=greater\n",
        "      break\n",
        "    greater+=1\n",
        "  return lcm\n",
        "compute_lcm(54,24)"
      ],
      "metadata": {
        "colab": {
          "base_uri": "https://localhost:8080/"
        },
        "id": "sQ1_Ihy5QNGo",
        "outputId": "cd8e0ab1-333a-47e9-edd0-2c2c92c6dad3"
      },
      "execution_count": null,
      "outputs": [
        {
          "output_type": "execute_result",
          "data": {
            "text/plain": [
              "216"
            ]
          },
          "metadata": {},
          "execution_count": 7
        }
      ]
    },
    {
      "cell_type": "markdown",
      "source": [
        "# Program 23\n",
        "# Write a Python Program to Find HCF.\n"
      ],
      "metadata": {
        "id": "VMx1TbaARuWu"
      }
    },
    {
      "cell_type": "code",
      "source": [
        "def compute_hcf(x,y):\n",
        "  if x>y:\n",
        "    smaller=y\n",
        "  else:\n",
        "    smaller=x\n",
        "  for i in range(1,smaller+1):\n",
        "    if((x%i==0)and(y%i==0)):\n",
        "      hcf=i\n",
        "  return hcf\n",
        "compute_hcf(54,24)"
      ],
      "metadata": {
        "colab": {
          "base_uri": "https://localhost:8080/"
        },
        "id": "YKfPNdXaTdtR",
        "outputId": "37c917dc-bbb8-4220-8a2f-fe1b7ee3ae0e"
      },
      "execution_count": null,
      "outputs": [
        {
          "output_type": "execute_result",
          "data": {
            "text/plain": [
              "6"
            ]
          },
          "metadata": {},
          "execution_count": 9
        }
      ]
    },
    {
      "cell_type": "markdown",
      "source": [
        "# Program 24\n",
        "# Write a Python Program to Convert Decimal to Binary, Octal and Hexadecimal."
      ],
      "metadata": {
        "id": "RUL5I96mXDZi"
      }
    },
    {
      "cell_type": "code",
      "source": [
        "dec_num=int(input(\"Enter decimal \"))\n",
        "print(bin(dec_num),'in binary')\n",
        "print(oct(dec_num),'in octal')\n",
        "print(hex(dec_num),'in hexadecimal')"
      ],
      "metadata": {
        "colab": {
          "base_uri": "https://localhost:8080/"
        },
        "id": "OBEFRbJwWuvG",
        "outputId": "13a5c21a-cfce-4b75-b535-9d56614b18e6"
      },
      "execution_count": null,
      "outputs": [
        {
          "output_type": "stream",
          "name": "stdout",
          "text": [
            "Enter decimal 27\n",
            "0b11011 in binary\n",
            "0o33 in octal\n",
            "0x1b in hexadecimal\n"
          ]
        }
      ]
    },
    {
      "cell_type": "markdown",
      "source": [
        "# Program 25\n",
        "# Write a Python Program To Find ASCII value of a character.\n"
      ],
      "metadata": {
        "id": "It7wg_uuYm-U"
      }
    },
    {
      "cell_type": "code",
      "source": [
        "char=str(input('Enter the character :'))\n",
        "print('asci value of : ',ord(char))"
      ],
      "metadata": {
        "colab": {
          "base_uri": "https://localhost:8080/"
        },
        "id": "GCisCvZpYN7p",
        "outputId": "6e0e0b2a-6736-4b4f-e56a-fed7f915afe4"
      },
      "execution_count": null,
      "outputs": [
        {
          "output_type": "stream",
          "name": "stdout",
          "text": [
            "Enter the character :p\n",
            "asci value of :  112\n"
          ]
        }
      ]
    },
    {
      "cell_type": "markdown",
      "source": [
        "# Program 26\n",
        "# Write a Python Program to Make a Simple Calculator with 4 basic mathematical operations."
      ],
      "metadata": {
        "id": "VNB4T8n5Zjyg"
      }
    },
    {
      "cell_type": "code",
      "source": [
        "def calculate(a,b,operator):\n",
        "  if operator=='+':\n",
        "    return a+b\n",
        "  elif operator=='-':\n",
        "    return a-b\n",
        "  elif operator=='*':\n",
        "    return a*b\n",
        "  elif operator=='/':\n",
        "    return a/b\n",
        "  else:\n",
        "    return 'invalid operator'\n",
        "def main():\n",
        "  while True:\n",
        "    a=float(input('Enter 1st number :'))\n",
        "    b=float(input('Enter 2nd number :'))\n",
        "    operator=input('Enter operator(+,-,*,/):')\n",
        "    result=calculate(a,b,operator)\n",
        "    print(f\"result:{result}\")\n",
        "    if input('do you want to continue(y/n) ?')=='n':\n",
        "      break\n",
        "main()\n",
        "\n",
        "\n"
      ],
      "metadata": {
        "colab": {
          "base_uri": "https://localhost:8080/"
        },
        "id": "b8HrYedRaobE",
        "outputId": "f216ea08-f019-4385-b50f-5d3fa8a91e61"
      },
      "execution_count": null,
      "outputs": [
        {
          "name": "stdout",
          "output_type": "stream",
          "text": [
            "Enter 1st number :5\n",
            "Enter 2nd number :4\n",
            "Enter operator(+,-,*,/):+\n",
            "result:9.0\n",
            "do you want to continue(y/n) ?y\n",
            "Enter 1st number :5\n",
            "Enter 2nd number :5\n",
            "Enter operator(+,-,*,/):-\n",
            "result:0.0\n",
            "do you want to continue(y/n) ?y\n",
            "Enter 1st number :5\n",
            "Enter 2nd number :4\n",
            "Enter operator(+,-,*,/):*\n",
            "result:20.0\n",
            "do you want to continue(y/n) ?y\n",
            "Enter 1st number :40\n",
            "Enter 2nd number :5\n",
            "Enter operator(+,-,*,/):/\n",
            "result:8.0\n",
            "do you want to continue(y/n) ?n\n"
          ]
        }
      ]
    },
    {
      "cell_type": "markdown",
      "source": [
        "# Program 27\n",
        "# Write a Python Program to Display Fibonacci Sequence Using Recursion.\n"
      ],
      "metadata": {
        "id": "ciGBHDLbiDsl"
      }
    },
    {
      "cell_type": "code",
      "source": [
        "def fib(n):\n",
        "  if n<=1:\n",
        "    return n\n",
        "  else:\n",
        "    return fib(n-1)+fib(n-2)\n",
        "for i in range(8):\n",
        "  print(fib(i))"
      ],
      "metadata": {
        "colab": {
          "base_uri": "https://localhost:8080/"
        },
        "id": "6-cDYFEdfmIT",
        "outputId": "5d9eb369-486a-47d1-c618-d884569deb82"
      },
      "execution_count": null,
      "outputs": [
        {
          "output_type": "stream",
          "name": "stdout",
          "text": [
            "0\n",
            "1\n",
            "1\n",
            "2\n",
            "3\n",
            "5\n",
            "8\n",
            "13\n"
          ]
        }
      ]
    },
    {
      "cell_type": "markdown",
      "source": [
        "# Program 28\n",
        "# Write a Python Program to Find Factorial of Number Using Recursion."
      ],
      "metadata": {
        "id": "cGKrrKasixSe"
      }
    },
    {
      "cell_type": "code",
      "source": [
        "def fact(n):\n",
        "  if n==0 or n==1:\n",
        "    return n\n",
        "  else:\n",
        "    return n*fact(n-1)\n",
        "fact(5)"
      ],
      "metadata": {
        "colab": {
          "base_uri": "https://localhost:8080/"
        },
        "id": "GiTeL__cipgS",
        "outputId": "90f17178-e46b-48e0-9b5e-c07760f213f6"
      },
      "execution_count": null,
      "outputs": [
        {
          "output_type": "execute_result",
          "data": {
            "text/plain": [
              "120"
            ]
          },
          "metadata": {},
          "execution_count": 19
        }
      ]
    },
    {
      "cell_type": "markdown",
      "source": [
        "# Program 29 Write a Python Program to calculate your Body Mass Index."
      ],
      "metadata": {
        "id": "RkCBoyGQjx3Z"
      }
    },
    {
      "cell_type": "code",
      "source": [
        "def bodymassindex(h,w):\n",
        "  return round((w/h**2),2)\n",
        "h=float(input('Enter height '))\n",
        "w=float(input('Enter weight '))\n",
        "print('welcome BMI calculator ')\n",
        "bmi=bodymassindex(h,w)\n",
        "print('your bmi is',bmi)\n",
        "if bmi <=18.5:\n",
        "  print('you are underweight ')\n",
        "elif 18.5<bmi<=24.9:\n",
        "  print('your wight is normal ')\n",
        "else:\n",
        "  print('you are obese')"
      ],
      "metadata": {
        "colab": {
          "base_uri": "https://localhost:8080/"
        },
        "id": "bqiCz9MWjgPN",
        "outputId": "e8627133-0ab2-4e2f-94f3-7085a5b643a5"
      },
      "execution_count": null,
      "outputs": [
        {
          "output_type": "stream",
          "name": "stdout",
          "text": [
            "Enter height 18\n",
            "Enter weight 70\n",
            "welcome BMI calculator \n",
            "your bmi is 0.22\n",
            "you are underweight \n"
          ]
        }
      ]
    },
    {
      "cell_type": "markdown",
      "source": [
        "# Program 30 Write a Python Program to calculate the natural logarithm of any number.\n"
      ],
      "metadata": {
        "id": "Pq1Ov5mtovp7"
      }
    },
    {
      "cell_type": "code",
      "source": [
        "import math\n",
        "num=float(input('Enter number '))\n",
        "if num<=0:\n",
        "  print('please enter a positive number ')\n",
        "else:\n",
        "  result=math.log(num)\n",
        "  print(result)"
      ],
      "metadata": {
        "colab": {
          "base_uri": "https://localhost:8080/"
        },
        "id": "4BAzFA4Jnbe7",
        "outputId": "7d6c5d40-13bb-4280-90ad-a591894e2aca"
      },
      "execution_count": null,
      "outputs": [
        {
          "output_type": "stream",
          "name": "stdout",
          "text": [
            "Enter number 1.4\n",
            "0.3364722366212129\n"
          ]
        }
      ]
    },
    {
      "cell_type": "markdown",
      "source": [
        "# Program 31\n",
        "# Write a Python Program for cube sum of first n natural numbers?"
      ],
      "metadata": {
        "id": "fwODJzcMt1tV"
      }
    },
    {
      "cell_type": "code",
      "source": [
        "def natural(n):\n",
        "  s=0\n",
        "  for i in range(n+1):\n",
        "    s=s+(i**3)\n",
        "  return s\n",
        "natural(7)"
      ],
      "metadata": {
        "colab": {
          "base_uri": "https://localhost:8080/"
        },
        "id": "6HTXfJDYs_nQ",
        "outputId": "a2c314ae-6fa6-437b-f361-49e9c2815502"
      },
      "execution_count": null,
      "outputs": [
        {
          "output_type": "execute_result",
          "data": {
            "text/plain": [
              "784"
            ]
          },
          "metadata": {},
          "execution_count": 27
        }
      ]
    },
    {
      "cell_type": "markdown",
      "source": [
        "# Program 32\n",
        "#Write a Python Program to find sum of array.\n"
      ],
      "metadata": {
        "id": "gXEvAZejyJO-"
      }
    },
    {
      "cell_type": "code",
      "source": [
        "def soa(arr):\n",
        "  total=0\n",
        "  for i in arr:\n",
        "    total+=i\n",
        "  return total\n",
        "arr=[1,2,3]\n",
        "soa(arr)"
      ],
      "metadata": {
        "colab": {
          "base_uri": "https://localhost:8080/"
        },
        "id": "RTLpU2Suu7a_",
        "outputId": "3878cc3a-7ca2-47a7-c6e4-552de7b115d3"
      },
      "execution_count": null,
      "outputs": [
        {
          "output_type": "execute_result",
          "data": {
            "text/plain": [
              "6"
            ]
          },
          "metadata": {},
          "execution_count": 28
        }
      ]
    },
    {
      "cell_type": "markdown",
      "source": [
        "# Program 33\n",
        "# Write a Python Program to find largest element in an array"
      ],
      "metadata": {
        "id": "RFaSpNdf0C96"
      }
    },
    {
      "cell_type": "code",
      "source": [
        "def find_largest(arr):\n",
        "  max_val=arr[0]\n",
        "  for i in arr:\n",
        "    max_val=i if i>max_val else max_val\n",
        "  return max_val\n",
        "arr=[67,78,89]\n",
        "find_largest(arr)"
      ],
      "metadata": {
        "colab": {
          "base_uri": "https://localhost:8080/"
        },
        "id": "vZE0QAhR4Hwi",
        "outputId": "dae6fd96-3e58-4fdc-a5ed-5a2832057249"
      },
      "execution_count": null,
      "outputs": [
        {
          "output_type": "execute_result",
          "data": {
            "text/plain": [
              "89"
            ]
          },
          "metadata": {},
          "execution_count": 35
        }
      ]
    },
    {
      "cell_type": "markdown",
      "source": [
        "# Program 34\n",
        "# Write a Python Program for array rotation"
      ],
      "metadata": {
        "id": "ot0GQsff6acM"
      }
    },
    {
      "cell_type": "code",
      "source": [
        "n = [1,2,3,4,5]\n",
        "rotate = 2\n",
        "rotate = rotate % len(n)\n",
        "ans = n[rotate:] + n[:rotate]\n",
        "print(ans)"
      ],
      "metadata": {
        "colab": {
          "base_uri": "https://localhost:8080/"
        },
        "id": "L57pNHTR7iIY",
        "outputId": "3b86fbbc-d244-464b-8c74-cac93d892faa"
      },
      "execution_count": null,
      "outputs": [
        {
          "output_type": "stream",
          "name": "stdout",
          "text": [
            "[3, 4, 5, 1, 2]\n"
          ]
        }
      ]
    },
    {
      "cell_type": "markdown",
      "source": [
        "# Program 35\n",
        "# Write a Python Program to Split the array and add the first part to the end?"
      ],
      "metadata": {
        "id": "0xZvRnQBB0-8"
      }
    },
    {
      "cell_type": "code",
      "source": [
        "arr=[1,2,3,4,5]\n",
        "k=3\n",
        "new_arr=arr[k:]+arr[:k]\n",
        "new_arr"
      ],
      "metadata": {
        "colab": {
          "base_uri": "https://localhost:8080/"
        },
        "id": "7vI9nbGJGS6v",
        "outputId": "3c9dddd0-ecfd-4135-fc97-b489af6ed3e4"
      },
      "execution_count": null,
      "outputs": [
        {
          "output_type": "execute_result",
          "data": {
            "text/plain": [
              "[4, 5, 1, 2, 3]"
            ]
          },
          "metadata": {},
          "execution_count": 4
        }
      ]
    },
    {
      "cell_type": "markdown",
      "source": [
        "# Program 36\n",
        "# Write a Python Program to check if given array is Monotonic"
      ],
      "metadata": {
        "id": "ziMavatXGuAa"
      }
    },
    {
      "cell_type": "code",
      "source": [
        "def is_monotonic(arr):\n",
        "  increasing=decreasing=True\n",
        "  for i in range(1,len(arr)):\n",
        "    if arr[i]>arr[i-1]:\n",
        "      decreasing=False\n",
        "    elif arr[i]<arr[i-1]:\n",
        "      increasing=False\n",
        "  return increasing or decreasing\n",
        "array1 = [1, 2, 3, 4, 5]\n",
        "array2 = [5, 4, 3, 2, 1]\n",
        "array3 = [1, 3, 2, 5, 7]\n",
        "print(is_monotonic(array1))\n",
        "print(is_monotonic(array2))\n",
        "print(is_monotonic(array3))"
      ],
      "metadata": {
        "colab": {
          "base_uri": "https://localhost:8080/"
        },
        "id": "KyiXUXF-Hv1h",
        "outputId": "3122899d-0d3d-4c2d-bb4e-1a2ae9fe0d04"
      },
      "execution_count": null,
      "outputs": [
        {
          "output_type": "stream",
          "name": "stdout",
          "text": [
            "True\n",
            "True\n",
            "False\n"
          ]
        }
      ]
    },
    {
      "cell_type": "markdown",
      "source": [
        "# Program 37\n",
        "# Write a Python Program to Add Two Matrices.\n"
      ],
      "metadata": {
        "id": "R5jpjEm_Jj6h"
      }
    },
    {
      "cell_type": "code",
      "source": [
        "def add_matrices(matrix1,matrix2):\n",
        "  result=[]\n",
        "  for i in range(len(matrix1)):\n",
        "    row=[]\n",
        "    for j in range(len(matrix1[0])):\n",
        "      row.append(matrix1[i][j]+matrix2[i][j])\n",
        "    result.append(row)\n",
        "  return result\n",
        "\n",
        "matrix1 = [[1, 2, 3], [4, 5, 6]]\n",
        "matrix2 = [[7, 8, 9], [10, 11, 12]]\n",
        "print(add_matrices(matrix1, matrix2))\n"
      ],
      "metadata": {
        "colab": {
          "base_uri": "https://localhost:8080/"
        },
        "id": "WlqpCUM-QC60",
        "outputId": "5b138ac7-84f3-4cf0-d4b2-a6bd5c2a05a0"
      },
      "execution_count": null,
      "outputs": [
        {
          "output_type": "stream",
          "name": "stdout",
          "text": [
            "[[8, 10, 12], [14, 16, 18]]\n"
          ]
        }
      ]
    },
    {
      "cell_type": "markdown",
      "source": [
        "# Program 38\n",
        "# Write a Python Program to Multiply Two Matrices.\n"
      ],
      "metadata": {
        "id": "1VWa_EmZRlvB"
      }
    },
    {
      "cell_type": "code",
      "source": [
        "def multiply_matrices(matrix1,matrix2):\n",
        "  result=[[0 for j in range(len(matrix1[0]))] for i in range(len(matrix1))]\n",
        "  for i in range(len(matrix1)):\n",
        "    for j in range(len(matrix2[0])):\n",
        "      for k in range(len(matrix2)):\n",
        "        result[i][j]+=matrix1[i][k]*matrix2[k][j]\n",
        "  return result\n",
        "matrix1 = [[1, 2], [3,4]]\n",
        "matrix2 = [[5,6], [7,8]]\n",
        "print(multiply_matrices(matrix1, matrix2))"
      ],
      "metadata": {
        "colab": {
          "base_uri": "https://localhost:8080/"
        },
        "id": "mcmgLdhzYYQS",
        "outputId": "e640dfae-e360-4512-ab70-d5617646e36d"
      },
      "execution_count": null,
      "outputs": [
        {
          "output_type": "stream",
          "name": "stdout",
          "text": [
            "[[19, 22], [43, 50]]\n"
          ]
        }
      ]
    },
    {
      "cell_type": "markdown",
      "source": [
        "# Program 39\n",
        "# Write a Python Program to Transpose a Matrix."
      ],
      "metadata": {
        "id": "Qd7hbgBAahc2"
      }
    },
    {
      "cell_type": "code",
      "source": [
        "def transpose(matrix):\n",
        "  result=[[0 for i in range(len(matrix))]for j in range(len(matrix[0]))]\n",
        "  for i in range(len(matrix)):\n",
        "    for j in range(len(matrix[0])):\n",
        "      result[j][i]=matrix[i][j]\n",
        "  return result\n",
        "matrix = [[1, 2, 3], [4, 5, 6]]\n",
        "print(transpose(matrix))"
      ],
      "metadata": {
        "colab": {
          "base_uri": "https://localhost:8080/"
        },
        "id": "D-Mte31UeaN4",
        "outputId": "ff95a19e-d2f8-4c60-a423-be37f27673e1"
      },
      "execution_count": null,
      "outputs": [
        {
          "output_type": "stream",
          "name": "stdout",
          "text": [
            "[[1, 4], [2, 5], [3, 6]]\n"
          ]
        }
      ]
    },
    {
      "cell_type": "markdown",
      "source": [
        "# Program 40\n",
        "# Write a Python Program to Sort Words in Alphabetic Order.\n"
      ],
      "metadata": {
        "id": "Nay0H9ewf912"
      }
    },
    {
      "cell_type": "code",
      "source": [
        "def sort_words(words):\n",
        "  for i in range(len(words)):\n",
        "    for j in range(i+1,len(words)):\n",
        "      if words[i]>words[j]:\n",
        "        temp=words[i]\n",
        "        words[i]=words[j]\n",
        "        words[j]=temp\n",
        "  return words\n",
        "words = [\"red\", \"blue\", \"green\", \"yellow\", \"orange\", \"purple\",'z']\n",
        "print(sort_words(words))"
      ],
      "metadata": {
        "colab": {
          "base_uri": "https://localhost:8080/"
        },
        "id": "rxo0bBw1kpcw",
        "outputId": "730d5919-77b3-4d12-8674-840056472b24"
      },
      "execution_count": null,
      "outputs": [
        {
          "output_type": "stream",
          "name": "stdout",
          "text": [
            "['blue', 'green', 'orange', 'purple', 'red', 'yellow', 'z']\n"
          ]
        }
      ]
    },
    {
      "cell_type": "markdown",
      "source": [
        "# Program 41\n",
        "# Write a Python Program to Remove Punctuation From a String."
      ],
      "metadata": {
        "id": "42H3IlRamXDX"
      }
    },
    {
      "cell_type": "code",
      "source": [
        "punctuations = '''!()-[]{};:'\"\\,<>./?@#$%^&*_~'''\n",
        "def remove_punctuation(string):\n",
        "  no_punct=''\n",
        "  for chr in string:\n",
        "    if chr not in punctuations:\n",
        "      no_punct+=chr\n",
        "  return no_punct\n",
        "my_str='hi@python!'\n",
        "remove_punctuation(my_str)"
      ],
      "metadata": {
        "colab": {
          "base_uri": "https://localhost:8080/",
          "height": 36
        },
        "id": "9VbhUo5dpvhj",
        "outputId": "32a9d1bf-9de2-4a04-fbc1-73c6fc5fb9c1"
      },
      "execution_count": null,
      "outputs": [
        {
          "output_type": "execute_result",
          "data": {
            "text/plain": [
              "'hipython'"
            ],
            "application/vnd.google.colaboratory.intrinsic+json": {
              "type": "string"
            }
          },
          "metadata": {},
          "execution_count": 46
        }
      ]
    },
    {
      "cell_type": "markdown",
      "source": [
        "# Program 42\n",
        "#list to string"
      ],
      "metadata": {
        "id": "bZKl-MaDs9YF"
      }
    },
    {
      "cell_type": "code",
      "source": [
        "l=['i','am','munai']\n",
        "l=''.join(l)\n",
        "l"
      ],
      "metadata": {
        "colab": {
          "base_uri": "https://localhost:8080/",
          "height": 36
        },
        "id": "LfIMzM-gtNbi",
        "outputId": "87e60586-a17b-4632-f3aa-349f84424be7"
      },
      "execution_count": null,
      "outputs": [
        {
          "output_type": "execute_result",
          "data": {
            "text/plain": [
              "'iammunai'"
            ],
            "application/vnd.google.colaboratory.intrinsic+json": {
              "type": "string"
            }
          },
          "metadata": {},
          "execution_count": 48
        }
      ]
    },
    {
      "cell_type": "markdown",
      "source": [
        "# Program 43\n",
        "# Write a Python program to check if the given number is a Disarium Number."
      ],
      "metadata": {
        "id": "SW2IBZcxsXJp"
      }
    },
    {
      "cell_type": "code",
      "source": [
        "def is_disarium(num):\n",
        "  num_str=str(num)\n",
        "  len_str=len(num_str)\n",
        "  sum=0\n",
        "  for i in range(len(num_str)):\n",
        "    sum+=int(num_str[i])**(i+1)\n",
        "  return num==sum\n",
        "is_disarium(89)"
      ],
      "metadata": {
        "colab": {
          "base_uri": "https://localhost:8080/"
        },
        "id": "Jct_i2l20LUn",
        "outputId": "65f9afc4-2c75-4b49-e91c-70d780296d73"
      },
      "execution_count": null,
      "outputs": [
        {
          "output_type": "execute_result",
          "data": {
            "text/plain": [
              "True"
            ]
          },
          "metadata": {},
          "execution_count": 67
        }
      ]
    },
    {
      "cell_type": "markdown",
      "source": [
        "## Program 44\n",
        "# Write a Python program to print all disarium numbers between 1 to 100."
      ],
      "metadata": {
        "id": "yM1d7xWb1nDC"
      }
    },
    {
      "cell_type": "code",
      "source": [
        "def is_disarium(num):\n",
        "  num_str = str(num)\n",
        "  len_str = len(num_str)\n",
        "  sum = 0\n",
        "  for i in range(len_str):\n",
        "    sum += int(num_str[i]) ** (i + 1)\n",
        "  return num == sum\n",
        "disarium_numbers = [num for num in range(1, 101) if is_disarium(num)]\n",
        "for num in disarium_numbers:\n",
        " print(num)\n"
      ],
      "metadata": {
        "colab": {
          "base_uri": "https://localhost:8080/"
        },
        "id": "96kZXKPs19sE",
        "outputId": "ba4136bf-2ccc-4479-898f-08036f325f7c"
      },
      "execution_count": null,
      "outputs": [
        {
          "output_type": "stream",
          "name": "stdout",
          "text": [
            "1\n",
            "2\n",
            "3\n",
            "4\n",
            "5\n",
            "6\n",
            "7\n",
            "8\n",
            "9\n",
            "89\n"
          ]
        }
      ]
    },
    {
      "cell_type": "markdown",
      "source": [
        "# Program 45\n",
        "# Write a Python program to check if the given number is Happy Number"
      ],
      "metadata": {
        "id": "Fg5DjFIQ4bDJ"
      }
    },
    {
      "cell_type": "code",
      "source": [
        "def is_happy_number(num):\n",
        "  seen=set()\n",
        "  while num!=1 and num not in seen:\n",
        "    seen.add(num)\n",
        "    num=sum(int(i)**2 for i in str(num))\n",
        "  return num==1\n",
        "is_happy_number(23)"
      ],
      "metadata": {
        "colab": {
          "base_uri": "https://localhost:8080/"
        },
        "id": "-ueWtO2v9i9O",
        "outputId": "45d820f6-982b-4e37-f3cb-75f5d29b3b1a"
      },
      "execution_count": null,
      "outputs": [
        {
          "output_type": "execute_result",
          "data": {
            "text/plain": [
              "True"
            ]
          },
          "metadata": {},
          "execution_count": 5
        }
      ]
    },
    {
      "cell_type": "markdown",
      "source": [
        "# Program 46\n",
        "# Write a Python program to print all happy numbers between 1 and 100.\n"
      ],
      "metadata": {
        "id": "6C8WabJgBLPV"
      }
    },
    {
      "cell_type": "code",
      "source": [
        "def is_happy_number(num):\n",
        "  seen=set()\n",
        "  while num!=1 and num not in seen:\n",
        "    seen.add(num)\n",
        "    num=sum(int(i)**2 for i in str(num))\n",
        "  return num==1\n",
        "happy_numbers=[]\n",
        "for num in range(1,101):\n",
        "  if is_happy_number(num):\n",
        "    happy_numbers.append(num)\n",
        "print(happy_numbers)\n"
      ],
      "metadata": {
        "colab": {
          "base_uri": "https://localhost:8080/"
        },
        "id": "2MMBuiLVMVam",
        "outputId": "391fd9e2-2cca-4a36-afca-4e02b77252aa"
      },
      "execution_count": null,
      "outputs": [
        {
          "output_type": "stream",
          "name": "stdout",
          "text": [
            "[1, 7, 10, 13, 19, 23, 28, 31, 32, 44, 49, 68, 70, 79, 82, 86, 91, 94, 97, 100]\n"
          ]
        }
      ]
    },
    {
      "cell_type": "markdown",
      "source": [
        "# Program 47\n",
        "# Write a Python program to determine whether the given number is a Harshad Number.\n"
      ],
      "metadata": {
        "id": "edJFZzIDLmcV"
      }
    },
    {
      "cell_type": "code",
      "source": [
        "def is_harshad(num):\n",
        "  digit_sum=sum(int(i) for i in str(num))\n",
        "  return num%digit_sum==0\n",
        "is_harshad(42)"
      ],
      "metadata": {
        "colab": {
          "base_uri": "https://localhost:8080/"
        },
        "id": "aqjYyJp0K9N_",
        "outputId": "aadea246-f710-4152-9a1d-ae64db1f12b9"
      },
      "execution_count": null,
      "outputs": [
        {
          "output_type": "execute_result",
          "data": {
            "text/plain": [
              "True"
            ]
          },
          "metadata": {},
          "execution_count": 24
        }
      ]
    },
    {
      "cell_type": "markdown",
      "source": [
        "# Program 48\n",
        "# Write a Python program to print all pronic numbers between 1 and 100."
      ],
      "metadata": {
        "id": "-z8gFyiNQu09"
      }
    },
    {
      "cell_type": "code",
      "source": [
        "def is_pronic(num):\n",
        "  for n in range(1,int(num**0.5)+1):\n",
        "    if n*(n+1)==num:\n",
        "      return True\n",
        "  return False\n",
        "for i in range(1,101):\n",
        "  if is_pronic(i):\n",
        "    print(i)"
      ],
      "metadata": {
        "colab": {
          "base_uri": "https://localhost:8080/"
        },
        "id": "RMgJ-T4xQOFw",
        "outputId": "3661372f-d44a-4e84-b87c-b2d7a9a1e74c"
      },
      "execution_count": null,
      "outputs": [
        {
          "output_type": "stream",
          "name": "stdout",
          "text": [
            "2\n",
            "6\n",
            "12\n",
            "20\n",
            "30\n",
            "42\n",
            "56\n",
            "72\n",
            "90\n"
          ]
        }
      ]
    },
    {
      "cell_type": "markdown",
      "source": [
        "# Program 49 Write a Python program to sum all numbers in the list.\n"
      ],
      "metadata": {
        "id": "X669Q8OYT4ka"
      }
    },
    {
      "cell_type": "code",
      "source": [
        "numbers=[7,9,2]\n",
        "sum=0\n",
        "for i in (numbers):\n",
        "  sum+=i\n",
        "print(sum)"
      ],
      "metadata": {
        "colab": {
          "base_uri": "https://localhost:8080/"
        },
        "id": "kEwjn_BMTtIc",
        "outputId": "9742f45f-7fe3-4c7d-953b-548d63c1990d"
      },
      "execution_count": null,
      "outputs": [
        {
          "output_type": "stream",
          "name": "stdout",
          "text": [
            "18\n"
          ]
        }
      ]
    },
    {
      "cell_type": "markdown",
      "source": [
        "# Program 50\n",
        "# Write a Python program to Multiply all numbers in the list.\n"
      ],
      "metadata": {
        "id": "IJo1C28wVJQi"
      }
    },
    {
      "cell_type": "code",
      "source": [
        "num=[9,3,5]\n",
        "mul=1\n",
        "for i in num:\n",
        "  mul*=i\n",
        "print(mul)"
      ],
      "metadata": {
        "colab": {
          "base_uri": "https://localhost:8080/"
        },
        "id": "ICV9kVc6Uy1y",
        "outputId": "4ddaac03-b000-4426-cbc0-8a3a07c9af33"
      },
      "execution_count": null,
      "outputs": [
        {
          "output_type": "stream",
          "name": "stdout",
          "text": [
            "135\n"
          ]
        }
      ]
    },
    {
      "cell_type": "markdown",
      "source": [
        "# Program 51\n",
        "# Write a Python program to find smallest number in a list.\n"
      ],
      "metadata": {
        "id": "guTjhQF_VfLk"
      }
    },
    {
      "cell_type": "code",
      "source": [
        "num=[6,-8,8,9]\n",
        "min=num[0]\n",
        "for i in num:\n",
        "  if i<min:\n",
        "    min=i\n",
        "print(min)"
      ],
      "metadata": {
        "colab": {
          "base_uri": "https://localhost:8080/"
        },
        "id": "7TZ7shw-VU3w",
        "outputId": "d03386e0-c6df-4595-dcdd-fbfd3e044020"
      },
      "execution_count": null,
      "outputs": [
        {
          "output_type": "stream",
          "name": "stdout",
          "text": [
            "-8\n"
          ]
        }
      ]
    },
    {
      "cell_type": "markdown",
      "source": [
        "# Program 52\n",
        "# Write a Python program to find largest number in a list."
      ],
      "metadata": {
        "id": "f-1O-9RUXLE2"
      }
    },
    {
      "cell_type": "code",
      "source": [
        "num=[8,9,90]\n",
        "max=num[0]\n",
        "for i in num:\n",
        "  if i>max:\n",
        "    max=i\n",
        "print(max)"
      ],
      "metadata": {
        "colab": {
          "base_uri": "https://localhost:8080/"
        },
        "id": "_CnJaCjRWtpb",
        "outputId": "ee8fe311-868a-48a4-8fb7-89e923f9c876"
      },
      "execution_count": null,
      "outputs": [
        {
          "output_type": "stream",
          "name": "stdout",
          "text": [
            "90\n"
          ]
        }
      ]
    },
    {
      "cell_type": "markdown",
      "source": [
        "# Program 53\n",
        "# Write a Python program to find second largest number in a list"
      ],
      "metadata": {
        "id": "BYz47a2EYAwM"
      }
    },
    {
      "cell_type": "code",
      "source": [
        "def second_high(num):\n",
        "  num=list(set(num))\n",
        "  num.sort()\n",
        "  return num[-2]\n",
        "nums=[6,7,9,90]\n",
        "second_high(nums)"
      ],
      "metadata": {
        "colab": {
          "base_uri": "https://localhost:8080/"
        },
        "id": "TQ9GfGjqY_BW",
        "outputId": "0416aa69-8cc3-4882-98d0-e61bbcb2d0f4"
      },
      "execution_count": null,
      "outputs": [
        {
          "output_type": "execute_result",
          "data": {
            "text/plain": [
              "9"
            ]
          },
          "metadata": {},
          "execution_count": 1
        }
      ]
    },
    {
      "cell_type": "markdown",
      "source": [
        "#alternative"
      ],
      "metadata": {
        "id": "QPBESFeAaGMa"
      }
    },
    {
      "cell_type": "code",
      "source": [
        "def sec_max(arr):\n",
        "  sublist=[x for x in arr if x<max(arr)]\n",
        "  return max(sublist)\n",
        "list=[8,9,0,7]\n",
        "sec_max(list)"
      ],
      "metadata": {
        "colab": {
          "base_uri": "https://localhost:8080/"
        },
        "id": "mkk0QBXIaBRo",
        "outputId": "08f6bf76-a422-437a-89f5-f27db120c850"
      },
      "execution_count": null,
      "outputs": [
        {
          "output_type": "execute_result",
          "data": {
            "text/plain": [
              "8"
            ]
          },
          "metadata": {},
          "execution_count": 2
        }
      ]
    },
    {
      "cell_type": "markdown",
      "source": [
        "# Program 54\n",
        "# Write a Python program to find N largest elements from a list."
      ],
      "metadata": {
        "id": "dbh5fqpGcoix"
      }
    },
    {
      "cell_type": "code",
      "source": [
        "def n_largest(list1,n):\n",
        "  list1.sort(reverse=True)\n",
        "  return list1[:n]\n",
        "list1=[89,78,66,56]\n",
        "n=3\n",
        "print(n_largest(list1,n))"
      ],
      "metadata": {
        "colab": {
          "base_uri": "https://localhost:8080/"
        },
        "id": "P84Be71RdV0W",
        "outputId": "0897e071-d54d-4336-dd1f-9c7b18f62233"
      },
      "execution_count": null,
      "outputs": [
        {
          "output_type": "stream",
          "name": "stdout",
          "text": [
            "[89, 78, 66]\n"
          ]
        }
      ]
    },
    {
      "cell_type": "markdown",
      "source": [
        "# Program 55\n",
        "# Write a Python program to print even numbers in a list.\n"
      ],
      "metadata": {
        "id": "gYFWD4Mdf8Q2"
      }
    },
    {
      "cell_type": "code",
      "source": [
        "numbers = [67, 690, 56]\n",
        "result = [num for num in numbers if num % 2 == 0]\n",
        "print(result)"
      ],
      "metadata": {
        "colab": {
          "base_uri": "https://localhost:8080/"
        },
        "id": "bkCF9bxzevg5",
        "outputId": "4eddf0d5-cd2d-4307-eacc-d52168edd3cb"
      },
      "execution_count": null,
      "outputs": [
        {
          "output_type": "stream",
          "name": "stdout",
          "text": [
            "[690, 56]\n"
          ]
        }
      ]
    },
    {
      "cell_type": "markdown",
      "source": [
        "# Program 56\n",
        "# Write a Python program to print odd numbers in a List.\n"
      ],
      "metadata": {
        "id": "KZjBQC-cgvAp"
      }
    },
    {
      "cell_type": "code",
      "source": [
        "numbers=[9,6,7,49,37]\n",
        "result=[num for num in numbers if num%2!=0]\n",
        "print(result)"
      ],
      "metadata": {
        "colab": {
          "base_uri": "https://localhost:8080/"
        },
        "id": "g28_riwxglqF",
        "outputId": "980fb307-c35b-45f9-e8fb-6dc23c944fe4"
      },
      "execution_count": null,
      "outputs": [
        {
          "output_type": "stream",
          "name": "stdout",
          "text": [
            "[9, 7, 49, 37]\n"
          ]
        }
      ]
    },
    {
      "cell_type": "markdown",
      "source": [
        "# Program 57\n",
        "# Write a Python program to Remove empty List from List."
      ],
      "metadata": {
        "id": "_fh8tYkAhOCg"
      }
    },
    {
      "cell_type": "code",
      "source": [
        "list_of_lists=[[1,2,3],[],[4,5],[],[6,7,8],[]]\n",
        "filtered_list=[ i for i in list_of_lists if i]\n",
        "print(filtered_list)"
      ],
      "metadata": {
        "colab": {
          "base_uri": "https://localhost:8080/"
        },
        "id": "Fa8xCzpbhCfH",
        "outputId": "94866589-b0a3-4097-9ad9-4f3f721a1591"
      },
      "execution_count": null,
      "outputs": [
        {
          "output_type": "stream",
          "name": "stdout",
          "text": [
            "[[1, 2, 3], [4, 5], [6, 7, 8]]\n"
          ]
        }
      ]
    },
    {
      "cell_type": "markdown",
      "source": [
        "# Program 58 Write a Python program to Cloning or Copying a list."
      ],
      "metadata": {
        "id": "59UM0azdirOz"
      }
    },
    {
      "cell_type": "code",
      "source": [
        "original_list=[1,2,3,4,5]\n",
        "cloned_list=original_list[:]\n",
        "print(cloned_list)"
      ],
      "metadata": {
        "colab": {
          "base_uri": "https://localhost:8080/"
        },
        "id": "pXhPv9_vieY1",
        "outputId": "371f2372-56a2-4f76-e323-8b7e9f2ab166"
      },
      "execution_count": null,
      "outputs": [
        {
          "output_type": "stream",
          "name": "stdout",
          "text": [
            "[1, 2, 3, 4, 5]\n"
          ]
        }
      ]
    },
    {
      "cell_type": "markdown",
      "source": [
        "# Program 59\n",
        "# Write a Python program to Count occurrences of an element in a list."
      ],
      "metadata": {
        "id": "vXxoU64BjAUS"
      }
    },
    {
      "cell_type": "code",
      "source": [
        "def count_occurrences(lst,element):\n",
        "  count=0\n",
        "  for item in lst:\n",
        "    if item==element:\n",
        "      count+=1\n",
        "  return count\n",
        "my_list=[90,7,7,8,8,8]\n",
        "ele_count=8\n",
        "result=count_occurrences(my_list,ele_count)\n",
        "result"
      ],
      "metadata": {
        "colab": {
          "base_uri": "https://localhost:8080/"
        },
        "id": "sE438YUKlA4n",
        "outputId": "f7728116-a076-4f73-a5d3-75f5ed54dada"
      },
      "execution_count": null,
      "outputs": [
        {
          "output_type": "execute_result",
          "data": {
            "text/plain": [
              "3"
            ]
          },
          "metadata": {},
          "execution_count": 21
        }
      ]
    },
    {
      "cell_type": "markdown",
      "source": [
        "# Program 60\n",
        "# Write a Python program to find words which are greater than given length k."
      ],
      "metadata": {
        "id": "--zGwF0il_Gi"
      }
    },
    {
      "cell_type": "code",
      "source": [
        "def words_greater_than_k(sentence,k):\n",
        "  words=sentence.split()\n",
        "  result=[word for word in words if len(word)>k]\n",
        "  return result\n",
        "input_sentence = \"This is a sample sentence to demonstrate the program\"\n",
        "length_k = 5\n",
        "words = words_greater_than_k(input_sentence, length_k)\n",
        "words"
      ],
      "metadata": {
        "colab": {
          "base_uri": "https://localhost:8080/"
        },
        "id": "A_oqiBekoJzS",
        "outputId": "6fd60e6d-f8dd-4947-c54e-990d41b39deb"
      },
      "execution_count": null,
      "outputs": [
        {
          "output_type": "execute_result",
          "data": {
            "text/plain": [
              "['sample', 'sentence', 'demonstrate', 'program']"
            ]
          },
          "metadata": {},
          "execution_count": 27
        }
      ]
    },
    {
      "cell_type": "markdown",
      "source": [
        "# Program 61\n",
        "# Write a Python program for removing 𝑖^th character from a string."
      ],
      "metadata": {
        "id": "T4nUm_dyhAQB"
      }
    },
    {
      "cell_type": "code",
      "source": [
        "def remove_ith_character(input_string,i):\n",
        "  if i<=0 or i>=len(input_string):\n",
        "    return 'invalid index'\n",
        "  else:\n",
        "    return input_string[:i]+input_string[i+1:]\n",
        "string='example'\n",
        "index_to_remove=2\n",
        "result=remove_ith_character(string,index_to_remove)\n",
        "result"
      ],
      "metadata": {
        "colab": {
          "base_uri": "https://localhost:8080/",
          "height": 36
        },
        "id": "MQhfJnQkjacw",
        "outputId": "1b70a32b-a447-46b3-f1f7-d9d9f856720e"
      },
      "execution_count": null,
      "outputs": [
        {
          "output_type": "execute_result",
          "data": {
            "text/plain": [
              "'exmple'"
            ],
            "application/vnd.google.colaboratory.intrinsic+json": {
              "type": "string"
            }
          },
          "metadata": {},
          "execution_count": 2
        }
      ]
    },
    {
      "cell_type": "markdown",
      "source": [
        "# **Program** 62\n",
        "# Write a Python program to split and join a string"
      ],
      "metadata": {
        "id": "pmRGrC-CnbBM"
      }
    },
    {
      "cell_type": "code",
      "source": [
        "def split_and_join(input_string):\n",
        "  word_list=input_string.split()\n",
        "  joined_string='_'.join(word_list)\n",
        "  return word_list,joined_string\n",
        "string='this is sample string'\n",
        "split_str,join_str=split_and_join(string)\n",
        "print(split_str)\n",
        "print(join_str)"
      ],
      "metadata": {
        "colab": {
          "base_uri": "https://localhost:8080/"
        },
        "id": "7jxF0XcYqQlR",
        "outputId": "9776ca0a-1e44-4d67-b6fe-782c7b60052b"
      },
      "execution_count": null,
      "outputs": [
        {
          "output_type": "stream",
          "name": "stdout",
          "text": [
            "['this', 'is', 'sample', 'string']\n",
            "this_is_sample_string\n"
          ]
        }
      ]
    },
    {
      "cell_type": "markdown",
      "source": [
        "# Program 63\n",
        "# Write a Python program to check if a given string is binary string or not"
      ],
      "metadata": {
        "id": "_-ssg3BIsIwM"
      }
    },
    {
      "cell_type": "code",
      "source": [
        "def is_binary_string(input_string):\n",
        "  return set(input_string).issubset({'0','1'})\n",
        "is_binary_string('101')\n"
      ],
      "metadata": {
        "colab": {
          "base_uri": "https://localhost:8080/"
        },
        "id": "f4TlSUais_I9",
        "outputId": "f8b5192a-a849-4f46-8b3d-7473e1b3d3f3"
      },
      "execution_count": null,
      "outputs": [
        {
          "output_type": "execute_result",
          "data": {
            "text/plain": [
              "True"
            ]
          },
          "metadata": {},
          "execution_count": 9
        }
      ]
    },
    {
      "cell_type": "markdown",
      "source": [
        "# Program 64\n",
        "# Write a Python program to find uncommon words from two Strings.\n"
      ],
      "metadata": {
        "id": "5DDAqrWau-aV"
      }
    },
    {
      "cell_type": "code",
      "source": [
        "def find_uncommon_words(str1,str2):\n",
        "  return set(str1.split())^(set(str2.split()))\n",
        "string_1 = \"hi how are u?\"\n",
        "string_2 = \"hi how was she?\"\n",
        "find_uncommon_words(string_1,string_2)\n",
        "\n"
      ],
      "metadata": {
        "colab": {
          "base_uri": "https://localhost:8080/"
        },
        "id": "5-8bd1fHwRPm",
        "outputId": "9177c734-12c1-4972-c230-3fb87fc64494"
      },
      "execution_count": null,
      "outputs": [
        {
          "output_type": "execute_result",
          "data": {
            "text/plain": [
              "{'are', 'she?', 'u?', 'was'}"
            ]
          },
          "metadata": {},
          "execution_count": 12
        }
      ]
    },
    {
      "cell_type": "markdown",
      "source": [
        "#Program 65\n",
        "#Write a Python program to find all duplicate characters in string."
      ],
      "metadata": {
        "id": "FMlvaDI5xtud"
      }
    },
    {
      "cell_type": "code",
      "source": [
        "def duplicate_chars(input_string):\n",
        "  duplicate=[]\n",
        "  seen=set()\n",
        "  for char in input_string:\n",
        "    if char in seen:\n",
        "      duplicate.append(char)\n",
        "    else:\n",
        "      seen.add(char)\n",
        "  return list(set(duplicate))\n",
        "duplicate_chars(\"piyush sharma\")"
      ],
      "metadata": {
        "colab": {
          "base_uri": "https://localhost:8080/"
        },
        "id": "1OSLwoJUHpq7",
        "outputId": "c5e0f7c6-7b35-40d3-d154-3b0e8a231abb"
      },
      "execution_count": null,
      "outputs": [
        {
          "output_type": "execute_result",
          "data": {
            "text/plain": [
              "['h', 's', 'a']"
            ]
          },
          "metadata": {},
          "execution_count": 18
        }
      ]
    },
    {
      "cell_type": "markdown",
      "source": [
        "# Program 66\n",
        "# Write a Python Program to check if a string contains any special character.\n"
      ],
      "metadata": {
        "id": "Us0IecfqIo1Z"
      }
    },
    {
      "cell_type": "code",
      "source": [
        "import re\n",
        "def contains_special_character(input_string):\n",
        "  regex=re.compile('[@_!#$%^&*()<>?/\\|}{~:]')\n",
        "  if regex.search(input_string):\n",
        "    return True\n",
        "  else:\n",
        "    return False\n",
        "contains_special_character('hello!@%')\n"
      ],
      "metadata": {
        "colab": {
          "base_uri": "https://localhost:8080/"
        },
        "id": "SPKIk0_RI0h-",
        "outputId": "afea4c2e-4bf4-485b-cf18-646362fa2b1a"
      },
      "execution_count": null,
      "outputs": [
        {
          "output_type": "execute_result",
          "data": {
            "text/plain": [
              "True"
            ]
          },
          "metadata": {},
          "execution_count": 20
        }
      ]
    },
    {
      "cell_type": "markdown",
      "source": [
        "# Program 67\n",
        "# Write a Python program to Extract Unique dictionary values.\n"
      ],
      "metadata": {
        "id": "Rvxwe2kN7Fvq"
      }
    },
    {
      "cell_type": "code",
      "source": [
        "def extract_values(input_dict):\n",
        "  unique_val=list(set(input_dict.values()))\n",
        "  return unique_val\n",
        "sample_dict={'a':1,'b':2,'c':1,'d':3,'e':2}\n",
        "unique_val=extract_values(sample_dict)\n",
        "print(unique_val)"
      ],
      "metadata": {
        "colab": {
          "base_uri": "https://localhost:8080/"
        },
        "id": "sfphBST17Lg6",
        "outputId": "ccef99f2-68bc-4b16-9c27-6bebb97bcb8f"
      },
      "execution_count": null,
      "outputs": [
        {
          "output_type": "stream",
          "name": "stdout",
          "text": [
            "[1, 2, 3]\n"
          ]
        }
      ]
    },
    {
      "cell_type": "markdown",
      "source": [
        "# Program 68\n",
        "# Write a Python program to find the sum of all items in a dictionary.\n"
      ],
      "metadata": {
        "id": "_TkXpMtM-Thb"
      }
    },
    {
      "cell_type": "code",
      "source": [
        "def sum_dict_values(input_dict):\n",
        "  total_sum=0\n",
        "  for value in input_dict.values():\n",
        "    total_sum+=value\n",
        "  return total_sum\n",
        "def main():\n",
        "  sample_dict={'a':10,'b':20,'c':30,'d':40}\n",
        "  result=sum_dict_values(sample_dict)\n",
        "  print(result)\n",
        "main()"
      ],
      "metadata": {
        "colab": {
          "base_uri": "https://localhost:8080/"
        },
        "id": "jmvzIa80KSC2",
        "outputId": "db6db6c7-9b03-4dda-fb87-80b219446ff2"
      },
      "execution_count": null,
      "outputs": [
        {
          "output_type": "stream",
          "name": "stdout",
          "text": [
            "100\n"
          ]
        }
      ]
    },
    {
      "cell_type": "markdown",
      "source": [
        "# Program 69\n",
        "# Write a Python program to Merging two Dictionaries."
      ],
      "metadata": {
        "id": "IoDPoBtQLhOi"
      }
    },
    {
      "cell_type": "code",
      "source": [
        "def merge_dict(d1,d2):\n",
        "  merged_dict=d1.copy()\n",
        "  merged_dict.update(d2)\n",
        "  return merged_dict\n",
        "dict_a={'a':1,\"b\":2}\n",
        "dict_b={'c':3,'d':4}\n",
        "result=merge_dict(dict_a,dict_b)\n",
        "print(result)"
      ],
      "metadata": {
        "colab": {
          "base_uri": "https://localhost:8080/"
        },
        "id": "Lj18CpD7LmRF",
        "outputId": "02c7359c-826c-4b28-87c3-5dc91d808069"
      },
      "execution_count": null,
      "outputs": [
        {
          "output_type": "stream",
          "name": "stdout",
          "text": [
            "{'a': 1, 'b': 2, 'c': 3, 'd': 4}\n"
          ]
        }
      ]
    },
    {
      "cell_type": "markdown",
      "source": [
        "#Program 70\n",
        "# Write a Python program to convert key-values list to flat dictionary."
      ],
      "metadata": {
        "id": "PHw_zPamQ1VY"
      }
    },
    {
      "cell_type": "code",
      "source": [
        "def convert_to_flat_dict(key_value_list):\n",
        "  return dict(key_value_list)\n",
        "key_value_list=[('a',1),('b',2),('c',3),('d',4)]\n",
        "result=convert_to_flat_dict(key_value_list)\n",
        "print(result)"
      ],
      "metadata": {
        "colab": {
          "base_uri": "https://localhost:8080/"
        },
        "id": "Xq14DqS0TfeQ",
        "outputId": "e2deed29-cba4-462c-f36a-dd7255dbba1c"
      },
      "execution_count": null,
      "outputs": [
        {
          "output_type": "stream",
          "name": "stdout",
          "text": [
            "{'a': 1, 'b': 2, 'c': 3, 'd': 4}\n"
          ]
        }
      ]
    },
    {
      "cell_type": "markdown",
      "source": [
        "# Program 71\n",
        "# Write a Python program to insertion at the beginning in OrderedDict.\n"
      ],
      "metadata": {
        "id": "gASoWRu8UYp0"
      }
    },
    {
      "cell_type": "code",
      "source": [
        "from collections import OrderedDict\n",
        "ordered_dict=OrderedDict([('b',2),('c',3),('d',4)])\n",
        "new_item=('a',1)\n",
        "new_ordered_dict=OrderedDict([new_item])\n",
        "new_ordered_dict.update(list(ordered_dict.items()))\n",
        "print(new_ordered_dict)"
      ],
      "metadata": {
        "colab": {
          "base_uri": "https://localhost:8080/"
        },
        "id": "OKDOvVjFcGBJ",
        "outputId": "7bee337d-b9c6-465e-eb80-13189b180c7e"
      },
      "execution_count": null,
      "outputs": [
        {
          "output_type": "stream",
          "name": "stdout",
          "text": [
            "OrderedDict([('a', 1), ('b', 2), ('c', 3), ('d', 4)])\n"
          ]
        }
      ]
    },
    {
      "cell_type": "markdown",
      "source": [
        "# 72  Write a Python program to check order of character in string using OrderedDict().\n"
      ],
      "metadata": {
        "id": "knnZUk6NI1tU"
      }
    },
    {
      "cell_type": "markdown",
      "source": [
        "# Program 100\n",
        "# Write a function that calculates the factorial of a number recursively.\n",
        "# Examples\n",
        "# factorial(5) ➞ 120"
      ],
      "metadata": {
        "id": "DbSdisWV8JvX"
      }
    },
    {
      "cell_type": "code",
      "source": [
        "def factorial(n):\n",
        "  if n==0:\n",
        "    return 1\n",
        "  else:\n",
        "    return n*factorial(n-1)\n",
        "factorial(5)"
      ],
      "metadata": {
        "colab": {
          "base_uri": "https://localhost:8080/"
        },
        "id": "hace9oOc8M6v",
        "outputId": "93e35b35-6def-41ec-cf73-eadb6a9f47aa"
      },
      "execution_count": 94,
      "outputs": [
        {
          "output_type": "execute_result",
          "data": {
            "text/plain": [
              "120"
            ]
          },
          "metadata": {},
          "execution_count": 94
        }
      ]
    },
    {
      "cell_type": "markdown",
      "source": [
        "# Program 101\n",
        "# Hamming distance is the number of characters that differ between two strings.\n",
        "# To illustrate:\n",
        "# String1: \"abcbba\"\n",
        "# String2: \"abcbda\"\n",
        "# Hamming Distance: 1 - \"b\" vs. \"d\" is the only difference.\n",
        "# Create a function that computes the hamming distance between two strings.\n",
        "# Examples\n",
        "# hamming_distance(\"abcde\", \"bcdef\") ➞ 5\n",
        "# hamming_distance(\"abcde\", \"abcde\") ➞ 0\n",
        "# hamming_distance(\"strong\", \"strung\") ➞ 1"
      ],
      "metadata": {
        "id": "hm7Ez12-8nJX"
      }
    },
    {
      "cell_type": "code",
      "source": [
        "def hamming_distance(str1,str2):\n",
        "  if len(str1)!=len(str2):\n",
        "    raise ValueError('length should be same')\n",
        "  distance=0\n",
        "  for i in range(len(str1)):\n",
        "    if str1[i]!=str2[i]:\n",
        "      distance+=1\n",
        "  return distance\n",
        "print(hamming_distance(\"abcde\", \"bcdef\"))\n",
        "print(hamming_distance(\"abcde\", \"abcde\"))\n",
        "print(hamming_distance(\"strong\", \"strung\"))"
      ],
      "metadata": {
        "colab": {
          "base_uri": "https://localhost:8080/"
        },
        "id": "BmtgWsq6_CW9",
        "outputId": "1990f717-8277-4fe2-91ce-8e481bc305ae"
      },
      "execution_count": 97,
      "outputs": [
        {
          "output_type": "stream",
          "name": "stdout",
          "text": [
            "5\n",
            "0\n",
            "1\n"
          ]
        }
      ]
    },
    {
      "cell_type": "markdown",
      "source": [
        "#Program 102\n",
        "#Create a function that takes a list of non-negative integers and strings and return a\n",
        "#new list without the strings.\n",
        "#Examples\n",
        "#filter_list([1, 2, \"a\", \"b\"]) ➞ [1, 2]\n",
        "#filter_list([1, \"a\", \"b\", 0, 15]) ➞ [1, 0, 15]\n",
        "#filter_list([1, 2, \"aasf\", \"1\", \"123\", 123]) ➞ [1, 2, 123]"
      ],
      "metadata": {
        "id": "Dj5MfMlRA5cD"
      }
    },
    {
      "cell_type": "code",
      "source": [
        "def filter_list(lst):\n",
        "  res=[]\n",
        "  for ele in lst:\n",
        "    if isinstance(ele,int) and ele>=0:\n",
        "      res.append(ele)\n",
        "  return res\n",
        "filter_list([1, 2, \"a\", \"b\"])"
      ],
      "metadata": {
        "colab": {
          "base_uri": "https://localhost:8080/"
        },
        "id": "S1Rw8U-yEUfG",
        "outputId": "d1c7ef29-fe23-4b00-f768-2d34c6abce8a"
      },
      "execution_count": 104,
      "outputs": [
        {
          "output_type": "execute_result",
          "data": {
            "text/plain": [
              "[1, 2]"
            ]
          },
          "metadata": {},
          "execution_count": 104
        }
      ]
    },
    {
      "cell_type": "markdown",
      "source": [
        "#Program 103\n",
        "#The \"Reverser\" takes a string as input and returns that string in reverse order, with\n",
        "#the opposite case.\n",
        "##reverse(\"Hello World\") ➞ \"DLROw OLLEh\"\n",
        "##reverse(\"Radar\") ➞ \"RADAr\""
      ],
      "metadata": {
        "id": "VpydILXZ7DZK"
      }
    },
    {
      "cell_type": "code",
      "source": [
        "def reverse(input_string):\n",
        "  rev_str=input_string[::-1].swapcase()\n",
        "  return rev_str\n",
        "reverse(\"Radar\")\n",
        "reverse(\"Hello World\")"
      ],
      "metadata": {
        "colab": {
          "base_uri": "https://localhost:8080/",
          "height": 36
        },
        "id": "kRfWodnZ7O12",
        "outputId": "fc594c54-4637-460e-f362-36f73426e5e1"
      },
      "execution_count": 93,
      "outputs": [
        {
          "output_type": "execute_result",
          "data": {
            "text/plain": [
              "'DLROw OLLEh'"
            ],
            "application/vnd.google.colaboratory.intrinsic+json": {
              "type": "string"
            }
          },
          "metadata": {},
          "execution_count": 93
        }
      ]
    },
    {
      "cell_type": "markdown",
      "source": [
        "# Program 104\n",
        "# You can assign variables from lists like this:\n",
        "# lst = [1, 2, 3, 4, 5, 6]\n",
        "# first = lst[0]\n",
        "# middle = lst[1:-1]\n",
        "# last = lst[-1]\n",
        "# print(first) ➞ outputs 1\n",
        "# print(middle) ➞ outputs [2, 3, 4, 5]\n",
        "# print(last) ➞ outputs 6"
      ],
      "metadata": {
        "id": "Bz-CeHGg6MNS"
      }
    },
    {
      "cell_type": "code",
      "source": [
        "lst = [1, 2, 3, 4, 5, 6]\n",
        "first,*middle,last=lst\n",
        "last"
      ],
      "metadata": {
        "colab": {
          "base_uri": "https://localhost:8080/"
        },
        "id": "V3cOq7Rd6WcM",
        "outputId": "195d5d66-868b-475c-fafb-47d4cf72c07a"
      },
      "execution_count": 91,
      "outputs": [
        {
          "output_type": "execute_result",
          "data": {
            "text/plain": [
              "6"
            ]
          },
          "metadata": {},
          "execution_count": 91
        }
      ]
    },
    {
      "cell_type": "markdown",
      "source": [
        "# Program 105\n",
        "# Write a function that calculates the factorial of a number recursively.\n",
        "# Examples\n",
        "# factorial(5) ➞ 120\n",
        "# factorial(3) ➞ 6\n",
        "# factorial(1) ➞ 1\n",
        "# factorial(0) ➞ 1"
      ],
      "metadata": {
        "id": "z8YZ19UW5e_a"
      }
    },
    {
      "cell_type": "code",
      "source": [
        "def factorial(n):\n",
        "  if n==0:\n",
        "    return 1\n",
        "  else:\n",
        "    return n*factorial(n-1)\n",
        "factorial(3)\n"
      ],
      "metadata": {
        "colab": {
          "base_uri": "https://localhost:8080/"
        },
        "id": "ISYFq_O-5nF2",
        "outputId": "ff286d82-fb1d-4f6d-cd45-01e19586d315"
      },
      "execution_count": 88,
      "outputs": [
        {
          "output_type": "execute_result",
          "data": {
            "text/plain": [
              "6"
            ]
          },
          "metadata": {},
          "execution_count": 88
        }
      ]
    },
    {
      "cell_type": "markdown",
      "source": [
        "#Program 106\n",
        "#Write a function that moves all elements of one type to the end of the list.\n",
        "#Examples\n",
        "#move_to_end([1, 3, 2, 4, 4, 1], 1) ➞ [3, 2, 4, 4, 1, 1]\n",
        "#Move all the 1s to the end of the array.\n",
        "#move_to_end([7, 8, 9, 1, 2, 3, 4], 9) ➞ [7, 8, 1, 2, 3, 4, 9]\n",
        "#move_to_end([\"a\", \"a\", \"a\", \"b\"], \"a\") ➞ [\"b\", \"a\", \"a\", \"a\"]\n"
      ],
      "metadata": {
        "id": "k1O6nkvE2j5V"
      }
    },
    {
      "cell_type": "code",
      "source": [
        "def move_to_end(lst,ele):\n",
        "  count=lst.count(ele)\n",
        "  lst=[x for x in lst if x!=ele]\n",
        "  lst.extend([ele]*count)\n",
        "  return lst\n",
        "move_to_end([\"a\", \"a\", \"a\", \"b\"], \"a\")\n",
        "\n"
      ],
      "metadata": {
        "colab": {
          "base_uri": "https://localhost:8080/"
        },
        "id": "xR8qerav4kfx",
        "outputId": "d942766d-0fb1-4943-f630-55583816d963"
      },
      "execution_count": 86,
      "outputs": [
        {
          "output_type": "execute_result",
          "data": {
            "text/plain": [
              "['b', 'a', 'a', 'a']"
            ]
          },
          "metadata": {},
          "execution_count": 86
        }
      ]
    },
    {
      "cell_type": "markdown",
      "source": [
        "## Program 107\n",
        "# Question1\n",
        "# Create a function that takes a string and returns a string in which each character is\n",
        "# repeated once.\n",
        "# Examples\n",
        "# double_char(\"String\") ➞ \"SSttrriinngg\"\n",
        "# double_char(\"Hello World!\") ➞ \"HHeelllloo WWoorrlldd!!\"\n",
        "# double char(\"1234! \") ➞ \"11223344!! \"\n"
      ],
      "metadata": {
        "id": "0u2Q2qITzD4H"
      }
    },
    {
      "cell_type": "code",
      "source": [
        "def double_char(input_str):\n",
        "  double_char=\"\"\n",
        "  for char in input_str:\n",
        "    double_char+=char*2\n",
        "  return double_char\n",
        "double_char(\"Hello World!\")"
      ],
      "metadata": {
        "colab": {
          "base_uri": "https://localhost:8080/",
          "height": 36
        },
        "id": "iqGjDuOP06BC",
        "outputId": "2d26b185-6f9a-4b07-8446-4daaaa359905"
      },
      "execution_count": 83,
      "outputs": [
        {
          "output_type": "execute_result",
          "data": {
            "text/plain": [
              "'HHeelllloo  WWoorrlldd!!'"
            ],
            "application/vnd.google.colaboratory.intrinsic+json": {
              "type": "string"
            }
          },
          "metadata": {},
          "execution_count": 83
        }
      ]
    },
    {
      "cell_type": "markdown",
      "source": [
        "# Program 108\n",
        "# Create a function that reverses a boolean value and returns the string \"boolean\n",
        "# expected\" if another variable type is given.\n",
        "# Examples\n",
        "# reverse(True) ➞ False\n",
        "# reverse(False) ➞ True\n",
        "# reverse(0) ➞ \"boolean expected\"\n",
        "# reverse(None) ➞ \"boolean expected\""
      ],
      "metadata": {
        "id": "GOdYGMXTxbUb"
      }
    },
    {
      "cell_type": "code",
      "source": [
        "def reverse(value):\n",
        "  if isinstance(value,bool):\n",
        "    return not value\n",
        "  else:\n",
        "    return \"boolean expected\"\n",
        "reverse(0)"
      ],
      "metadata": {
        "colab": {
          "base_uri": "https://localhost:8080/",
          "height": 36
        },
        "id": "RDqtm4NVxsDb",
        "outputId": "719e8913-3b3c-4d1c-c839-07bcd96bbba8"
      },
      "execution_count": 79,
      "outputs": [
        {
          "output_type": "execute_result",
          "data": {
            "text/plain": [
              "'boolean expected'"
            ],
            "application/vnd.google.colaboratory.intrinsic+json": {
              "type": "string"
            }
          },
          "metadata": {},
          "execution_count": 79
        }
      ]
    },
    {
      "cell_type": "markdown",
      "source": [
        "#Program 109\n",
        "#Create a function that returns the thickness (in meters) of a piece of paper after\n",
        "#folding it n number of times. The paper starts off with a thickness of 0.5mm.\n",
        "#Examples\n",
        "#num_layers(1) ➞ \"0.001m\"\n",
        "#- Paper folded once is 1mm (equal to 0.001m)\n",
        "#num_layers(4) ➞ \"0.008m\"\n",
        "#- Paper folded 4 times is 8mm (equal to 0.008m)\n",
        "#num_layers(21) ➞ \"1048.576m\"\n",
        "#- Paper folded 21 times is 1048576mm (equal to 1048.576m)\n"
      ],
      "metadata": {
        "id": "xjuHRK8puw4d"
      }
    },
    {
      "cell_type": "code",
      "source": [
        "def num_layers(n):\n",
        "  ini_thick=0.5\n",
        "  fin_thick=ini_thick*(2**n)\n",
        "  fin_thick_m=fin_thick/1000\n",
        "  return fin_thick_m\n",
        "num_layers(21)"
      ],
      "metadata": {
        "colab": {
          "base_uri": "https://localhost:8080/"
        },
        "id": "GzpUTK1pvA3i",
        "outputId": "bf8758b9-43ee-408a-b7f0-4043dd9ecc4a"
      },
      "execution_count": 78,
      "outputs": [
        {
          "output_type": "execute_result",
          "data": {
            "text/plain": [
              "1048.576"
            ]
          },
          "metadata": {},
          "execution_count": 78
        }
      ]
    },
    {
      "cell_type": "markdown",
      "source": [
        "# Program 110\n",
        "# Create a function that takes a single string as argument and returns an ordered list\n",
        "# containing the indices of all capital letters in the string.\n",
        "# Examples\n",
        "# index_of_caps(\"eDaBiT\") ➞ [1, 3, 5]\n",
        "# index_of_caps(\"eQuINoX\") ➞ [1, 3, 4, 6]\n",
        "# index_of_caps(\"determine\") ➞ []\n",
        "# index_of_caps(\"STRIKE\") ➞ [0, 1, 2, 3, 4, 5]\n",
        "# index_of_caps(\"sUn\") ➞ [1]\n"
      ],
      "metadata": {
        "id": "8mE_qBPXruFH"
      }
    },
    {
      "cell_type": "code",
      "source": [
        "def index_of_caps(word):\n",
        "  return[i for i,char in enumerate(word) if char.isupper()]\n",
        "index_of_caps(\"STRIKE\")"
      ],
      "metadata": {
        "colab": {
          "base_uri": "https://localhost:8080/"
        },
        "id": "fflHT79mtymT",
        "outputId": "20d67d8b-8334-44d7-fb2a-636e3667eb88"
      },
      "execution_count": 77,
      "outputs": [
        {
          "output_type": "execute_result",
          "data": {
            "text/plain": [
              "[0, 1, 2, 3, 4, 5]"
            ]
          },
          "metadata": {},
          "execution_count": 77
        }
      ]
    },
    {
      "cell_type": "markdown",
      "source": [
        "# Program 111\n",
        "# Using list comprehensions, create a function that finds all even numbers from 1 to\n",
        "# the given number.\n",
        "# Examples\n",
        "#find_even_nums(8) ➞ [2, 4, 6, 8]\n",
        "#find_even_nums(4) ➞ [2, 4]\n",
        "#find_even_nums(2) ➞ [2]\n"
      ],
      "metadata": {
        "id": "VOyncJkOp-1v"
      }
    },
    {
      "cell_type": "code",
      "source": [
        "def find_even_nums(num):\n",
        "  return[x for x in range(1,num+1)if x%2==0]\n",
        "find_even_nums(8)"
      ],
      "metadata": {
        "colab": {
          "base_uri": "https://localhost:8080/"
        },
        "id": "4IlybGQEqPwu",
        "outputId": "3807d55c-d7b7-4380-a405-74a2646c2476"
      },
      "execution_count": 74,
      "outputs": [
        {
          "output_type": "execute_result",
          "data": {
            "text/plain": [
              "[2, 4, 6, 8]"
            ]
          },
          "metadata": {},
          "execution_count": 74
        }
      ]
    },
    {
      "cell_type": "markdown",
      "source": [
        "# Program 112\n",
        "# Create a function that takes a list of strings and integers, and filters out the list so\n",
        "# that it returns a list of integers only.\n",
        "# Examples\n",
        "# filter_list([1, 2, 3, \"a\", \"b\", 4]) ➞ [1, 2, 3, 4]\n",
        "# filter_list([\"A\", 0, \"Edabit\", 1729, \"Python\", 1729]) ➞ [0, 1729]\n",
        "# filter_list([\"Nothing\", \"here\"]) ➞ []"
      ],
      "metadata": {
        "id": "vt1NOV-Covaz"
      }
    },
    {
      "cell_type": "code",
      "source": [
        "def filter_list(lst):\n",
        "  return [x for x in lst if isinstance(x,int)]\n",
        "filter_list([\"A\", 0, \"Edabit\", 1729, \"Python\", 1729])\n",
        "filter_list([\"Nothing\", \"here\"])\n",
        "filter_list([1, 2, 3, \"a\", \"b\", 4])"
      ],
      "metadata": {
        "colab": {
          "base_uri": "https://localhost:8080/"
        },
        "id": "POlakS_ro5yf",
        "outputId": "43103504-f057-4146-8fb3-ceb541aee482"
      },
      "execution_count": 66,
      "outputs": [
        {
          "output_type": "execute_result",
          "data": {
            "text/plain": [
              "[1, 2, 3, 4]"
            ]
          },
          "metadata": {},
          "execution_count": 66
        }
      ]
    },
    {
      "cell_type": "markdown",
      "source": [
        "# Program 113\n",
        "# Given a list of numbers, create a function which returns the list but with each\n",
        "# element's index in the list added to itself. This means you add 0 to the number at\n",
        "# index 0, add 1 to the number at index 1, etc...\n",
        "# Examples\n",
        "# add_indexes([0, 0, 0, 0, 0]) ➞ [0, 1, 2, 3, 4]\n",
        "# add_indexes([1, 2, 3, 4, 5]) ➞ [1, 3, 5, 7, 9]\n",
        "# add_indexes([5, 4, 3, 2, 1]) ➞ [5, 5, 5, 5, 5]\n"
      ],
      "metadata": {
        "id": "hUPKWo7WjqFR"
      }
    },
    {
      "cell_type": "code",
      "source": [
        "def add_indexes(lst):\n",
        "  return [i+v for i,v in enumerate(lst)]\n",
        "add_indexes([1, 2, 3, 4, 5])"
      ],
      "metadata": {
        "colab": {
          "base_uri": "https://localhost:8080/"
        },
        "id": "j4KEV8Fknq7a",
        "outputId": "df0811e5-8e0a-4fc1-e53c-6c1e1f2202b2"
      },
      "execution_count": 63,
      "outputs": [
        {
          "output_type": "execute_result",
          "data": {
            "text/plain": [
              "[1, 3, 5, 7, 9]"
            ]
          },
          "metadata": {},
          "execution_count": 63
        }
      ]
    },
    {
      "cell_type": "markdown",
      "source": [
        "# Program 114\n",
        "# Create a function that takes the height and radius of a cone as arguments and returns\n",
        "# the volume of the cone rounded to the nearest hundredth. See the resources tab for\n",
        "# the formula.\n",
        "# Examples\n",
        "# cone_volume(3, 2) ➞ 12.57\n",
        "# cone_volume(15, 6) ➞ 565.49\n",
        "# cone_volume(18, 0) ➞ 0\n"
      ],
      "metadata": {
        "id": "_woROMpzg81y"
      }
    },
    {
      "cell_type": "code",
      "source": [
        "import math\n",
        "def cone_volume(h,r):\n",
        "  if r==0:\n",
        "    return 0\n",
        "  v=1/3*math.pi*(r**2)*h\n",
        "  return round(v,2)\n",
        "cone_volume(15, 6)"
      ],
      "metadata": {
        "colab": {
          "base_uri": "https://localhost:8080/"
        },
        "id": "oI6aMZcKinVe",
        "outputId": "be4d8902-8030-4a80-988a-fb77c31e79e3"
      },
      "execution_count": 58,
      "outputs": [
        {
          "output_type": "execute_result",
          "data": {
            "text/plain": [
              "565.49"
            ]
          },
          "metadata": {},
          "execution_count": 58
        }
      ]
    },
    {
      "cell_type": "markdown",
      "source": [
        "#Program 115\n",
        "#This Triangular Number Sequence is generated from a pattern of dots that form a\n",
        "#triangle. The first 5 numbers of the sequence, or dots, are:\n",
        "#1, 3, 6, 10, 15\n",
        "#This means that the first triangle has just one dot, the second one has three dots, the\n",
        "#third one has 6 dots and so on.\n",
        "#Write a function that gives the number of dots with its corresponding triangle number\n",
        "#of the sequence.\n",
        "#Examples\n",
        "#triangle(1) ➞ 1\n",
        "#triangle(6) ➞ 21\n",
        "#triangle(215) ➞ 23220"
      ],
      "metadata": {
        "id": "agxBlRUxfkF4"
      }
    },
    {
      "cell_type": "code",
      "source": [
        "def triangle(n):\n",
        "  if n<0:\n",
        "    return 1\n",
        "  return n*(n+1)//2\n",
        "triangle(6)"
      ],
      "metadata": {
        "colab": {
          "base_uri": "https://localhost:8080/"
        },
        "id": "IfYaL-RefwqZ",
        "outputId": "656e8a2d-50eb-464c-89c8-89723c673668"
      },
      "execution_count": 50,
      "outputs": [
        {
          "output_type": "execute_result",
          "data": {
            "text/plain": [
              "21"
            ]
          },
          "metadata": {},
          "execution_count": 50
        }
      ]
    },
    {
      "cell_type": "markdown",
      "source": [
        "#Program 116\n",
        "#Create a function that takes a list of numbers between 1 and 10 (excluding one\n",
        "# number) and returns the missing number.\n",
        "# Examples\n",
        "# missing_num([1, 2, 3, 4, 6, 7, 8, 9, 10]) ➞ 5\n",
        "# missing_num([7, 2, 3, 6, 5, 9, 1, 4, 8]) ➞ 10\n",
        "# missing_num([10, 5, 1, 2, 4, 6, 8, 3, 9]) ➞ 7"
      ],
      "metadata": {
        "id": "h9aBGqrqctiC"
      }
    },
    {
      "cell_type": "code",
      "source": [
        "def missing_num(lst):\n",
        "  total_list=sum(range(1,11))\n",
        "  given_list=sum(lst)\n",
        "  missing_num=total_list-given_list\n",
        "  return missing_num\n",
        "missing_num([1, 2, 3, 4, 6, 7, 8, 9, 10])"
      ],
      "metadata": {
        "colab": {
          "base_uri": "https://localhost:8080/"
        },
        "id": "1UDKK3mWc8vc",
        "outputId": "82b34332-da21-4a2c-9cc5-06274559313a"
      },
      "execution_count": 47,
      "outputs": [
        {
          "output_type": "execute_result",
          "data": {
            "text/plain": [
              "5"
            ]
          },
          "metadata": {},
          "execution_count": 47
        }
      ]
    },
    {
      "cell_type": "markdown",
      "source": [
        "# Program 117\n",
        "# Write a function that takes a list and a number as arguments. Add the number to the\n",
        "# end of the list, then remove the first element of the list. The function should then\n",
        "# return the updated list.\n",
        "# Examples\n",
        "# next_in_line([5, 6, 7, 8, 9], 1) ➞ [6, 7, 8, 9, 1]\n",
        "# next_in_line([7, 6, 3, 23, 17], 10) ➞ [6, 3, 23, 17, 10]\n",
        "# next_in_line([1, 10, 20, 42 ], 6) ➞ [10, 20, 42, 6]\n",
        "# next_in_line([], 6) ➞ \"No list has been selected\""
      ],
      "metadata": {
        "id": "d1bpVCOPVBu3"
      }
    },
    {
      "cell_type": "code",
      "source": [
        "def next_in_line(lst,num):\n",
        "  if lst:\n",
        "    lst.pop(0)\n",
        "    lst.append(num)\n",
        "    return lst\n",
        "  else:\n",
        "    return \"No list has been selected\"\n",
        "next_in_line([1, 10, 20, 42 ], 6)"
      ],
      "metadata": {
        "colab": {
          "base_uri": "https://localhost:8080/"
        },
        "id": "2UxPKdgqcEgK",
        "outputId": "1ac13a6b-cf34-412e-f511-863bf4cb2d59"
      },
      "execution_count": 42,
      "outputs": [
        {
          "output_type": "execute_result",
          "data": {
            "text/plain": [
              "[10, 20, 42, 6]"
            ]
          },
          "metadata": {},
          "execution_count": 42
        }
      ]
    },
    {
      "cell_type": "markdown",
      "source": [
        "# Program 118\n",
        "# Create the function that takes a list of dictionaries and returns the sum of people's\n",
        "# budgets.\n",
        "# Examples\n",
        "# get_budgets([\n",
        "# { 'name': 'John', 'age': 21, 'budget': 23000 },\n",
        "# { 'name': 'Steve', 'age': 32, 'budget': 40000 },\n",
        "# { 'name': 'Martin', 'age': 16, 'budget': 2700 }\n",
        "# ]) ➞ 65700\n",
        "# get_budgets([\n",
        "# { 'name': 'John', 'age': 21, 'budget': 29000 },\n",
        "# { 'name': 'Steve', 'age': 32, 'budget': 32000 },\n",
        "# { 'name': 'Martin', 'age': 16, 'budget': 1600 }\n",
        "# ]) ➞ 62600"
      ],
      "metadata": {
        "id": "hkBaEZPVQKrD"
      }
    },
    {
      "cell_type": "code",
      "source": [
        "def get_budgets(lst):\n",
        "  bug=sum(person['budget'] for person in lst)\n",
        "  return bug\n",
        "get_budgets([\n",
        "{ 'name': 'John', 'age': 21, 'budget': 29000 },\n",
        "{ 'name': 'Steve', 'age': 32, 'budget': 32000 },\n",
        "{ 'name': 'Martin', 'age': 16, 'budget': 1600 }\n",
        "])"
      ],
      "metadata": {
        "colab": {
          "base_uri": "https://localhost:8080/"
        },
        "id": "nChvh4QtQkFr",
        "outputId": "38e13421-207b-4aa9-95a2-c192475be502"
      },
      "execution_count": 38,
      "outputs": [
        {
          "output_type": "execute_result",
          "data": {
            "text/plain": [
              "62600"
            ]
          },
          "metadata": {},
          "execution_count": 38
        }
      ]
    },
    {
      "cell_type": "markdown",
      "source": [
        "# Program 119\n",
        "# Create a function that takes a string and returns a string with its letters in\n",
        "# alphabetical order.\n",
        "# Examples\n",
        "#alphabet_soup(\"hello\") ➞ \"ehllo\"\n",
        "#alphabet_soup(\"edabit\") ➞ \"abdeit\"\n",
        "#alphabet_soup(\"hacker\") ➞ \"acehkr\"\n",
        "#alphabet_soup(\"geek\") ➞ \"eegk\"\n",
        "#alphabet_soup(\"javascript\") ➞ \"aacijprstv\"\n"
      ],
      "metadata": {
        "id": "XIyJX2p_NxbG"
      }
    },
    {
      "cell_type": "code",
      "source": [
        "def alphabet_soup(letter):\n",
        "  return ''.join(sorted(letter))\n",
        "alphabet_soup(\"javascript\")"
      ],
      "metadata": {
        "colab": {
          "base_uri": "https://localhost:8080/",
          "height": 36
        },
        "id": "G51geBRhN9Pu",
        "outputId": "bbfea544-aca5-4982-f940-317e72d27bd9"
      },
      "execution_count": 34,
      "outputs": [
        {
          "output_type": "execute_result",
          "data": {
            "text/plain": [
              "'aacijprstv'"
            ],
            "application/vnd.google.colaboratory.intrinsic+json": {
              "type": "string"
            }
          },
          "metadata": {},
          "execution_count": 34
        }
      ]
    },
    {
      "cell_type": "markdown",
      "source": [
        "#Program 120\n",
        "#Suppose that you invest $10,000 for 10 years at an interest rate of 6% compounded\n",
        "#monthly. What will be the value of your investment at the end of the 10 year period?\n",
        "#Create a function that accepts the principal p, the term in years t, the interest rate r,\n",
        "#and the number of compounding periods per year n. The function returns the value at\n",
        "#the end of term rounded to the nearest cent.\n",
        "#For the example:\n",
        "#compound_interest(10000, 10, 0.06, 12) ➞ 18193.97\n",
        "#Note that the interest rate is given as a decimal and n=12 because with monthly\n",
        "#compounding there are 12 periods per year. Compounding can also be done\n",
        "#annually, quarterly, weekly, or daily.\n",
        "#Examples\n",
        "#compound_interest(100, 1, 0.05, 1) ➞ 105.0\n",
        "#compound_interest(3500, 15, 0.1, 4) ➞ 15399.26\n",
        "#compound_interest(100000, 20, 0.15, 365) ➞ 2007316.26\n"
      ],
      "metadata": {
        "id": "d62bTRlhH1mU"
      }
    },
    {
      "cell_type": "code",
      "source": [
        "def compound_interest(p,t,r,n):\n",
        "  a=p*(1+(r/n))**(n*t)\n",
        "  return round(a,2)\n",
        "compound_interest(100000, 20, 0.15, 365)\n"
      ],
      "metadata": {
        "colab": {
          "base_uri": "https://localhost:8080/"
        },
        "id": "pVlB7MPzILhD",
        "outputId": "5e91dd6d-2572-42d5-8742-a581958dcc46"
      },
      "execution_count": 33,
      "outputs": [
        {
          "output_type": "execute_result",
          "data": {
            "text/plain": [
              "2007316.26"
            ]
          },
          "metadata": {},
          "execution_count": 33
        }
      ]
    },
    {
      "cell_type": "markdown",
      "source": [
        "#Program 121\n",
        "#Write a function that takes a list of elements and returns only the integers.\n",
        "#Examples\n",
        "#return_only_integer([9, 2, \"space\", \"car\", \"lion\", 16]) ➞ [9, 2, 16]\n",
        "#return_only_integer([\"hello\", 81, \"basketball\", 123, \"fox\"]) ➞ [81, 123]\n",
        "#return_only_integer([10, \"121\", 56, 20, \"car\", 3, \"lion\"]) ➞ [10, 56, 20,3]\n",
        "#return_only_integer([\"String\", True, 3.3, 1]) ➞ [1]"
      ],
      "metadata": {
        "id": "Xt7MJ9jHALdC"
      }
    },
    {
      "cell_type": "code",
      "source": [
        "def return_only_integer(lst):\n",
        "  return [x for x in lst if isinstance(x,int)]\n",
        "# Examples\n",
        "print(return_only_integer([9, 2, \"space\", \"car\", \"lion\", 16]))  # Output: [9, 2, 16]\n",
        "print(return_only_integer([\"hello\", 81, \"basketball\", 123, \"fox\"]))  # Output: [81, 123]\n",
        "print(return_only_integer([10, \"121\", 56, 20, \"car\", 3, \"lion\"]))  # Output: [10, 56, 20, 3]\n",
        "\n",
        "\n"
      ],
      "metadata": {
        "colab": {
          "base_uri": "https://localhost:8080/"
        },
        "id": "XyqrVIpJE1qt",
        "outputId": "2623f7b3-6ab7-4053-d99b-e6c5e84765ba"
      },
      "execution_count": 26,
      "outputs": [
        {
          "output_type": "stream",
          "name": "stdout",
          "text": [
            "[9, 2, 16]\n",
            "[81, 123]\n",
            "[10, 56, 20, 3]\n"
          ]
        }
      ]
    },
    {
      "cell_type": "markdown",
      "source": [
        "### Program 122\n",
        "# Create a function that takes three parameters where:\n",
        "# - x is the start of the range (inclusive).\n",
        "# - y is the end of the range (inclusive).\n",
        "# - n is the divisor to be checked against.\n",
        "# Return an ordered list with numbers in the range that are divisible by the third\n",
        "# parameter n.\n",
        "#Return an empty list if there are no numbers that are divisible by n.\n",
        "#Examples\n",
        "#list_operation(1, 10, 3) ➞ [3, 6, 9]\n",
        "#list_operation(7, 9, 2) ➞ [8]\n",
        "#list_operation(15, 20, 7) ➞ []"
      ],
      "metadata": {
        "id": "31J5CnFp7eKj"
      }
    },
    {
      "cell_type": "code",
      "source": [
        "def list_operation(x,y,n):\n",
        "  return[num for num in range(x,y+1)if num%n==0]\n",
        "list_operation(1, 10, 3)"
      ],
      "metadata": {
        "colab": {
          "base_uri": "https://localhost:8080/"
        },
        "id": "y42mVmX0-Atb",
        "outputId": "dc14f737-4ca7-4495-db77-cd6df447ce08"
      },
      "execution_count": 11,
      "outputs": [
        {
          "output_type": "execute_result",
          "data": {
            "text/plain": [
              "[3, 6, 9]"
            ]
          },
          "metadata": {},
          "execution_count": 11
        }
      ]
    },
    {
      "cell_type": "markdown",
      "source": [
        "# Program 123\n",
        "# Create a function that takes in two lists and returns True if the second list follows the\n",
        "# first list by one element, and False otherwise. In other words, determine if the second\n",
        "# list is the first list shifted to the right by 1.\n",
        "# Examples\n",
        "# simon_says([1, 2], [5, 1]) ➞ True\n",
        "# simon_says([1, 2], [5, 5]) ➞ False\n",
        "# simon_says([1, 2, 3, 4, 5], [0, 1, 2, 3, 4]) ➞ True\n",
        "# simon_says([1, 2, 3, 4, 5], [5, 5, 1, 2, 3]) ➞ False\n",
        "# Notes:\n",
        "# - Both input lists will be of the same length, and will have a minimum length of 2.\n",
        "# - The values of the 0-indexed element in the second list and the n-1th indexed\n",
        "# element in the first list do not matter."
      ],
      "metadata": {
        "id": "cV6ip9j04s6H"
      }
    },
    {
      "cell_type": "code",
      "source": [
        "def simon_says(list1,list2):\n",
        "  return list1[:-1]==list2[1:]\n",
        "simon_says([1, 2, 3, 4, 5], [5, 5, 1, 2, 3])"
      ],
      "metadata": {
        "colab": {
          "base_uri": "https://localhost:8080/"
        },
        "id": "loo4Ga6u49Gn",
        "outputId": "379c4747-d55c-4294-84b0-d4ea3b363171"
      },
      "execution_count": 3,
      "outputs": [
        {
          "output_type": "execute_result",
          "data": {
            "text/plain": [
              "False"
            ]
          },
          "metadata": {},
          "execution_count": 3
        }
      ]
    },
    {
      "cell_type": "code",
      "source": [
        "simon_says([1, 2, 3, 4, 5], [0, 1, 2, 3, 4])"
      ],
      "metadata": {
        "colab": {
          "base_uri": "https://localhost:8080/"
        },
        "id": "jdpCxtIS6z_6",
        "outputId": "f27cb366-efa4-4ca9-9219-8c4df5e0908c"
      },
      "execution_count": 4,
      "outputs": [
        {
          "output_type": "execute_result",
          "data": {
            "text/plain": [
              "True"
            ]
          },
          "metadata": {},
          "execution_count": 4
        }
      ]
    },
    {
      "cell_type": "markdown",
      "source": [
        "#Program 124\n",
        "#A group of friends have decided to start a secret society. The name will be the first\n",
        "#letter of each of their names, sorted in alphabetical order. Create a function that takes\n",
        "#in a list of names and returns the name of the secret society.\n",
        "#Examples\n",
        "#society_name([\"Adam\", \"Sarah\", \"Malcolm\"]) ➞ \"AMS\"\n",
        "#society_name([\"Harry\", \"Newt\", \"Luna\", \"Cho\"]) ➞ \"CHLN\"\n",
        "#society_name([\"Phoebe\", \"Chandler\", \"Rachel\", \"Ross\", \"Monica\", \"Joey\"])"
      ],
      "metadata": {
        "id": "xT1TWjAjRkfI"
      }
    },
    {
      "cell_type": "code",
      "source": [
        "def society_name(names):\n",
        " # Extract the first letter of each name, sort them, and join into a\n",
        " secret_name = ''.join(sorted([name[0] for name in names]))\n",
        " return secret_name"
      ],
      "metadata": {
        "id": "2SEOkC0tSc4J"
      },
      "execution_count": 1,
      "outputs": []
    },
    {
      "cell_type": "code",
      "source": [
        "society_name([\"Phoebe\", \"Chandler\", \"Rachel\", \"Ross\", \"Monica\", \"Joey\"])"
      ],
      "metadata": {
        "colab": {
          "base_uri": "https://localhost:8080/",
          "height": 36
        },
        "id": "PEitFN6xSgqw",
        "outputId": "ce9df389-1388-424b-8dcf-ab3e8d819d61"
      },
      "execution_count": 2,
      "outputs": [
        {
          "output_type": "execute_result",
          "data": {
            "text/plain": [
              "'CJMPRR'"
            ],
            "application/vnd.google.colaboratory.intrinsic+json": {
              "type": "string"
            }
          },
          "metadata": {},
          "execution_count": 2
        }
      ]
    },
    {
      "cell_type": "markdown",
      "source": [
        "# Program 125\n",
        "# An isogram is a word that has no duplicate letters. Create a function that takes a\n",
        "# string and returns either True or False depending on whether or not it's an \"isogram\".\n",
        "# Examples\n",
        "\n",
        "# is_isogram(\"Algorism\") ➞ True\n",
        "# is_isogram(\"PasSword\") ➞ False\n",
        "# - Not case sensitive.\n",
        "# is_isogram(\"Consecutive\") ➞ False\n",
        "# Notes\n",
        "# Ignore letter case (should not be case sensitive).\n",
        "# All test cases contain valid one word strings."
      ],
      "metadata": {
        "id": "HAKovsSJLD16"
      }
    },
    {
      "cell_type": "code",
      "source": [
        "def is_isogram(word):\n",
        "  word=word.lower()\n",
        "  unique_words=set()\n",
        "  for letter in word:\n",
        "    if letter in unique_words:\n",
        "      return False\n",
        "    unique_words.add(letter)\n",
        "  return True\n",
        "is_isogram(\"Consecutive\")\n"
      ],
      "metadata": {
        "colab": {
          "base_uri": "https://localhost:8080/"
        },
        "id": "NyfUrFI_O1y5",
        "outputId": "11fb0e6c-5ef5-48e0-bf5a-61ce89415214"
      },
      "execution_count": null,
      "outputs": [
        {
          "output_type": "execute_result",
          "data": {
            "text/plain": [
              "False"
            ]
          },
          "metadata": {},
          "execution_count": 26
        }
      ]
    },
    {
      "cell_type": "markdown",
      "source": [
        "# Program 126\n",
        "# Create a function that takes a string and returns True or False, depending on whether\n",
        "# the characters are in order or not.\n",
        "# Examples\n",
        "# is_in_order(\"abc\") ➞ True\n",
        "# is_in_order(\"edabit\") ➞ False\n",
        "# is_in_order(\"123\") ➞ True\n",
        "# is_in_order(\"xyzz\") ➞ True"
      ],
      "metadata": {
        "id": "bmU1vh6BHeBD"
      }
    },
    {
      "cell_type": "code",
      "source": [
        "def is_in_order(s):\n",
        "  return s==''.join(sorted(s))\n",
        "is_in_order(\"xyzz\")"
      ],
      "metadata": {
        "colab": {
          "base_uri": "https://localhost:8080/"
        },
        "id": "rJD4fq3mKjHX",
        "outputId": "17a173bf-6518-4519-a842-b6c48d0d3906"
      },
      "execution_count": null,
      "outputs": [
        {
          "output_type": "execute_result",
          "data": {
            "text/plain": [
              "True"
            ]
          },
          "metadata": {},
          "execution_count": 17
        }
      ]
    },
    {
      "cell_type": "markdown",
      "source": [
        "# Program 127\n",
        "# Create a function that takes a number as an argument and returns True or False\n",
        "# depending on whether the number is symmetrical or not. A number is symmetrical\n",
        "# when it is the same as its reverse.\n",
        "# Examples\n",
        "# is_symmetrical(7227) ➞ True\n",
        "# is_symmetrical(12567) ➞ False\n",
        "# is_symmetrical(44444444) ➞ True\n",
        "# is_symmetrical(9939) ➞ False\n",
        "# is_symmetrical(1112111) ➞ True\n"
      ],
      "metadata": {
        "id": "JuaQoYEAE9cS"
      }
    },
    {
      "cell_type": "code",
      "source": [
        "def is_symmetrical(num):\n",
        "  num_str=str(num)\n",
        "  return num_str==num_str[::-1]\n",
        "is_symmetrical(1112111)"
      ],
      "metadata": {
        "colab": {
          "base_uri": "https://localhost:8080/"
        },
        "id": "bK4VVjbzFPn_",
        "outputId": "b934de1f-97ab-4d28-8bd3-2b899158c175"
      },
      "execution_count": null,
      "outputs": [
        {
          "output_type": "execute_result",
          "data": {
            "text/plain": [
              "True"
            ]
          },
          "metadata": {},
          "execution_count": 13
        }
      ]
    },
    {
      "cell_type": "markdown",
      "source": [
        "# Program 128\n",
        "# Given a string of numbers separated by a comma and space, return the product of\n",
        "# the numbers.\n",
        "# Examples\n",
        "# multiply_nums(\"2, 3\") ➞ 6\n",
        "# multiply_nums(\"1, 2, 3, 4\") ➞ 24\n",
        "# multiply_nums(\"54, 75, 453, 0\") ➞ 0\n",
        "# multiply_nums(\"10, -2\") ➞ -20\n"
      ],
      "metadata": {
        "id": "enoBgoo9AAMF"
      }
    },
    {
      "cell_type": "code",
      "source": [
        "def multiply_nums(num_str):\n",
        "  nums=[int(num)for num in num_str.split(\",\")]\n",
        "  result=1\n",
        "  for num in nums:\n",
        "    result*=num\n",
        "  return result\n",
        "multiply_nums(\"1, 2, 3, 4\")"
      ],
      "metadata": {
        "colab": {
          "base_uri": "https://localhost:8080/"
        },
        "id": "oFMEobvYEAxa",
        "outputId": "3cd8c60e-b861-4d12-863c-fcbb36e2cdf8"
      },
      "execution_count": null,
      "outputs": [
        {
          "output_type": "execute_result",
          "data": {
            "text/plain": [
              "24"
            ]
          },
          "metadata": {},
          "execution_count": 9
        }
      ]
    },
    {
      "cell_type": "markdown",
      "source": [
        "# Program 129\n",
        "# Create a function that squares every digit of a number.\n",
        "# Examples\n",
        "# square_digits(9119) ➞ 811181\n",
        "# square_digits(2483) ➞ 416649\n",
        "# square_digits(3212) ➞ 9414\n",
        "# Notes\n",
        "# The function receives an integer and must return an integer."
      ],
      "metadata": {
        "id": "VTBPw9Y24dLA"
      }
    },
    {
      "cell_type": "code",
      "source": [
        "def square_digits(n):\n",
        "  n_str=str(n)\n",
        "  res_str=\"\"\n",
        "  for digit in n_str:\n",
        "    square_digits=int(digit)**2\n",
        "    res_str+=str(square_digits)\n",
        "  return int(res_str)\n",
        "square_digits(9119)"
      ],
      "metadata": {
        "colab": {
          "base_uri": "https://localhost:8080/"
        },
        "id": "hEqjmWv4-EU5",
        "outputId": "17ce5537-6c3c-402b-c2cd-5896ced9270d"
      },
      "execution_count": null,
      "outputs": [
        {
          "output_type": "execute_result",
          "data": {
            "text/plain": [
              "811181"
            ]
          },
          "metadata": {},
          "execution_count": 4
        }
      ]
    },
    {
      "cell_type": "markdown",
      "source": [
        "# Program 130\n",
        "# Create a function that sorts a list and removes all duplicate items from it.\n",
        "# Examples\n",
        "# setify([1, 3, 3, 5, 5]) ➞ [1, 3, 5]\n",
        "# setify([4, 4, 4, 4]) ➞ [4]\n",
        "# setify([5, 7, 8, 9, 10, 15]) ➞ [5, 7, 8, 9, 10, 15]\n",
        "**setify**([3, 3, 3, 2, 1]) ➞ [1, 2, 3]"
      ],
      "metadata": {
        "id": "lnn1VI3J4GBl"
      }
    },
    {
      "cell_type": "code",
      "source": [
        "def setify(lst):\n",
        "  unique_set=set(sorted(lst))\n",
        "  return list(unique_set)\n",
        "setify([1, 3, 3, 5, 5])"
      ],
      "metadata": {
        "colab": {
          "base_uri": "https://localhost:8080/"
        },
        "id": "JKicQ9Qk4Nrk",
        "outputId": "f90a15b0-cd0f-4114-d9dd-b30b5b17f1b7"
      },
      "execution_count": null,
      "outputs": [
        {
          "output_type": "execute_result",
          "data": {
            "text/plain": [
              "[1, 3, 5]"
            ]
          },
          "metadata": {},
          "execution_count": 61
        }
      ]
    },
    {
      "cell_type": "markdown",
      "source": [
        "# Program 131\n",
        "# Create a function that returns the mean of all digits.\n",
        "# Examples\n",
        "# mean(42) ➞ 3\n",
        "# mean(12345) ➞ 3\n",
        "# mean(666) ➞ 6\n",
        "# Notes\n",
        "# The mean of all digits is the sum of digits / how many digits there are (e.g. mean\n",
        "# of digits in 512 is (5+1+2)/3(number of digits) = 8/3=2).\n",
        "# The mean will always be an integer.\n"
      ],
      "metadata": {
        "id": "Ra888K3PxRNj"
      }
    },
    {
      "cell_type": "code",
      "source": [
        "def mean(n):\n",
        "  n_str=str(n)\n",
        "  sum_digit=sum(int(digit) for digit in n_str)\n",
        "  digit_count=len(n_str)\n",
        "  return int(sum_digit/digit_count)\n",
        "mean(666)\n"
      ],
      "metadata": {
        "colab": {
          "base_uri": "https://localhost:8080/"
        },
        "id": "WzvVQn5CxZSn",
        "outputId": "cfa60e0a-cc7a-49c1-b89a-ab14b385aee2"
      },
      "execution_count": null,
      "outputs": [
        {
          "output_type": "execute_result",
          "data": {
            "text/plain": [
              "6"
            ]
          },
          "metadata": {},
          "execution_count": 59
        }
      ]
    },
    {
      "cell_type": "markdown",
      "source": [
        "# Program 132\n",
        "# Create a function that takes an integer and returns a list from 1 to the given number,\n",
        "# where:\n",
        "# 1. If the number can be divided evenly by 4, amplify it by 10 (i.e. return 10 times the\n",
        "# number).\n",
        "# 2. If the number cannot be divided evenly by 4, simply return the number.\n",
        "# Examples\n",
        "\n",
        "#amplify(4) ➞ [1, 2, 3, 40]\n",
        "#amplify(3) ➞ [1, 2, 3]\n",
        "#amplify(25) ➞ [1, 2, 3, 40, 5, 6, 7, 80, 9, 10, 11, 120, 13, 14, 15, 160, 17, 18, 19, 200, 21,\n",
        "#22, 23, 240, 25]\n",
        "#Notes\n",
        "#The given integer will always be equal to or greater than 1.\n",
        "#Include the number (see example above).\n",
        "#To perform this problem with its intended purpose, try doing it with list\n",
        "# comprehensions. If that's too difficult, just solve the challenge any way you can.\n"
      ],
      "metadata": {
        "id": "k-Og4s4Gu_pp"
      }
    },
    {
      "cell_type": "code",
      "source": [
        "def amplify(num):\n",
        "  return [n*10 if n%4==0 else n for n in range(1,num+1)]\n",
        "amplify(25)"
      ],
      "metadata": {
        "colab": {
          "base_uri": "https://localhost:8080/"
        },
        "id": "PcoyE630vS6G",
        "outputId": "a1e01e19-ba32-46ce-8d2e-94dac3031c94"
      },
      "execution_count": null,
      "outputs": [
        {
          "output_type": "execute_result",
          "data": {
            "text/plain": [
              "[1,\n",
              " 2,\n",
              " 3,\n",
              " 40,\n",
              " 5,\n",
              " 6,\n",
              " 7,\n",
              " 80,\n",
              " 9,\n",
              " 10,\n",
              " 11,\n",
              " 120,\n",
              " 13,\n",
              " 14,\n",
              " 15,\n",
              " 160,\n",
              " 17,\n",
              " 18,\n",
              " 19,\n",
              " 200,\n",
              " 21,\n",
              " 22,\n",
              " 23,\n",
              " 240,\n",
              " 25]"
            ]
          },
          "metadata": {},
          "execution_count": 52
        }
      ]
    },
    {
      "cell_type": "markdown",
      "source": [
        "# Program 133\n",
        "# Create a function that takes a list of numbers and return the number that's unique.\n",
        "# Examples\n",
        "# unique([3, 3, 3, 7, 3, 3]) ➞ 7\n",
        "# unique([0, 0, 0.77, 0, 0]) ➞ 0.77\n",
        "# unique([0, 1, 1, 1, 1, 1, 1, 1]) ➞ 0\n",
        "# Notes\n",
        "# Test cases will always have exactly one unique number while all others are the same."
      ],
      "metadata": {
        "id": "xGpSm1XDme9R"
      }
    },
    {
      "cell_type": "code",
      "source": [
        "def unique(numbers):\n",
        "  digit_count={}\n",
        "  for number in numbers:\n",
        "    if number in digit_count:\n",
        "      digit_count[number]+=1\n",
        "    else:\n",
        "      digit_count[number]=1\n",
        "  for num,count in digit_count.items():\n",
        "    if count==1:\n",
        "      return num\n",
        "unique([0, 1, 1, 1, 1, 1, 1, 1])"
      ],
      "metadata": {
        "colab": {
          "base_uri": "https://localhost:8080/"
        },
        "id": "Rk60xSSAsNSh",
        "outputId": "9c3ef937-a043-42c8-c631-ef69950ec7e4"
      },
      "execution_count": null,
      "outputs": [
        {
          "output_type": "execute_result",
          "data": {
            "text/plain": [
              "0"
            ]
          },
          "metadata": {},
          "execution_count": 47
        }
      ]
    },
    {
      "cell_type": "markdown",
      "source": [
        "## Program 134\n",
        "# Your task is to create a Circle constructor that creates a circle with a radius provided\n",
        "# by an argument. The circles constructed must have two getters getArea() (PIr^2) and\n",
        "# getPerimeter() (2PI*r) which give both respective areas and perimeter\n",
        "# (circumference).\n",
        "# For help with this class, I have provided you with a Rectangle constructor which you\n",
        "# can use as a base example.\n",
        "# Examples\n",
        "# circy = Circle(11)\n",
        "# circy.getArea()\n",
        "#Should return 380.132711084365\n",
        "#circy = Circle(4.44)\n",
        "#circy.getPerimeter()\n",
        "#Should return 27.897342763877365\n",
        "#Notes\n",
        "#Round results up to the nearest integer.\n"
      ],
      "metadata": {
        "id": "81v2oeh2iLXw"
      }
    },
    {
      "cell_type": "code",
      "source": [
        "import math\n",
        "class circle:\n",
        "  def __init__(self,radius):\n",
        "    self.radius=radius\n",
        "  def getarea(self):\n",
        "    return (math.pi*self.radius**2)\n",
        "  def getperimeter(self):\n",
        "    return (2*math.pi*self.radius)\n",
        "c=circle(4.44)\n",
        "c.getarea()\n",
        "c.getperimeter()\n"
      ],
      "metadata": {
        "colab": {
          "base_uri": "https://localhost:8080/"
        },
        "id": "Gvv6sudSiye5",
        "outputId": "585bd5a9-85e5-46b2-af28-70536c2b71cb"
      },
      "execution_count": null,
      "outputs": [
        {
          "output_type": "execute_result",
          "data": {
            "text/plain": [
              "27.897342763877365"
            ]
          },
          "metadata": {},
          "execution_count": 39
        }
      ]
    },
    {
      "cell_type": "markdown",
      "source": [
        "# Program 135\n",
        "# Create a function that takes a list of strings and return a list, sorted from shortest to\n",
        "# longest.\n",
        "# Examples\n",
        "# sort_by_length([\"Google\", \"Apple\", \"Microsoft\"]) ➞ [\"Apple\", \"Google\", \"Microsoft\"]\n",
        "# sort_by_length([\"Leonardo\", \"Michelangelo\", \"Raphael\", \"Donatello\"]) ➞ [\"Raphael\",\n",
        "# \"Leonardo\", \"Donatello\", \"Michelangelo\"]\n",
        "# sort_by_length([\"Turing\", \"Einstein\", \"Jung\"]) ➞ [\"Jung\", \"Turing\", \"Einstein\"]\n",
        "# Notes\n"
      ],
      "metadata": {
        "id": "K8ImarzeUGU0"
      }
    },
    {
      "cell_type": "code",
      "source": [
        "def sort_by_length(strings):\n",
        "  return sorted(strings,key=len)\n",
        "sort_by_length([\"Turing\", \"Einstein\", \"Jung\"])"
      ],
      "metadata": {
        "colab": {
          "base_uri": "https://localhost:8080/"
        },
        "id": "HbW0bK8mUQAC",
        "outputId": "6482abe8-28e7-469b-ebbb-2f27f0e8519b"
      },
      "execution_count": null,
      "outputs": [
        {
          "output_type": "execute_result",
          "data": {
            "text/plain": [
              "['Jung', 'Turing', 'Einstein']"
            ]
          },
          "metadata": {},
          "execution_count": 34
        }
      ]
    },
    {
      "cell_type": "markdown",
      "source": [
        "# Program 136\n",
        "# Create a function that validates whether three given integers form a Pythagorean\n",
        "# triplet. The sum of the squares of the two smallest integers must equal the square of\n",
        "# the largest number to be validated.\n",
        "# Examples\n",
        "# is_triplet(3, 4, 5) ➞ True\n",
        "# 3² + 4² = 25\n",
        "# 5² = 25\n",
        "# is_triplet(13, 5, 12) ➞ True\n",
        "# 5² + 12² = 169\n",
        "# 13² = 169\n",
        "# is_triplet(1, 2, 3) ➞ False\n",
        "# 1² + 2² = 5\n",
        "# 3² = 9\n",
        "# Notes\n",
        "# Numbers may not be given in a sorted order.\n"
      ],
      "metadata": {
        "id": "_X1UcP_kESJf"
      }
    },
    {
      "cell_type": "code",
      "source": [
        "def is_trip(a,b,c):\n",
        "  num=[a,b,c]\n",
        "  num.sort()\n",
        "  return num[0]**2+num[1]**2==num[2]**2\n",
        "is_trip(13,5,12)"
      ],
      "metadata": {
        "colab": {
          "base_uri": "https://localhost:8080/"
        },
        "id": "V7q2_P1xS-a7",
        "outputId": "b1e81f24-3c7e-4079-e9e3-f40e58096d66"
      },
      "execution_count": null,
      "outputs": [
        {
          "output_type": "execute_result",
          "data": {
            "text/plain": [
              "True"
            ]
          },
          "metadata": {},
          "execution_count": 31
        }
      ]
    },
    {
      "cell_type": "markdown",
      "source": [
        "# Program 137\n",
        "# Create a function that takes three integer arguments (a, b, c) and returns the amount\n",
        "# of integers which are of equal value.\n",
        "# Examples\n",
        "# equal(3, 4, 3) ➞ 2\n",
        "# equal(1, 1, 1) ➞ 3\n",
        "# equal(3, 4, 1) ➞ 0\n",
        "# Notes\n",
        "# Your function must return 0, 2 or 3.\n"
      ],
      "metadata": {
        "id": "LgBtutV9DGnJ"
      }
    },
    {
      "cell_type": "code",
      "source": [
        "def equal(a,b,c):\n",
        "  if a==b==c:\n",
        "    return 3\n",
        "  elif a==b or a==c:\n",
        "    return 2\n",
        "  else:\n",
        "    return 0\n",
        "equal(3,4,3)"
      ],
      "metadata": {
        "colab": {
          "base_uri": "https://localhost:8080/"
        },
        "id": "a1G26GmKDNf4",
        "outputId": "d83c1c31-54b3-4a9a-ae0f-8d202ef90c42"
      },
      "execution_count": null,
      "outputs": [
        {
          "output_type": "execute_result",
          "data": {
            "text/plain": [
              "2"
            ]
          },
          "metadata": {},
          "execution_count": 29
        }
      ]
    },
    {
      "cell_type": "markdown",
      "source": [
        "# Program 138\n",
        "# Write a function that converts a dictionary into a list of keys-values tuples.\n",
        "# Examples\n",
        "# dict_to_list({\n",
        "# \"D\": 1,\n",
        "# \"B\": 2\n",
        "# \"C\": 3\n",
        "# }) ➞ [(\"B\", 2), (\"C\", 3), (\"D\", 1)]\n",
        "# dict_to_list({\n",
        "# \"likes\": 2,\n",
        "# \"dislikes\": 3,\n",
        "# \"followers\": 10\n",
        "# }) ➞ [(\"dislikes\", 3), (\"followers\", 10), (\"likes\", 2)]\n",
        "# Notes\n",
        "# Return the elements in the list in alphabetical order"
      ],
      "metadata": {
        "id": "vi_oj6ie_Tm4"
      }
    },
    {
      "cell_type": "code",
      "source": [
        "def dict_to_list(input_dict):\n",
        "  sorted_dict=sorted(input_dict.items())\n",
        "  result=[(key,value)for key,value in sorted_dict]\n",
        "  return result\n",
        "dict_to_list({\n",
        "\"likes\": 2,\n",
        "\"dislikes\": 3,\n",
        "\"followers\": 10\n",
        "})"
      ],
      "metadata": {
        "colab": {
          "base_uri": "https://localhost:8080/"
        },
        "id": "JzSFnlkxCfko",
        "outputId": "85e6c9d3-2ddb-40f3-9ec1-926adaf5a086"
      },
      "execution_count": null,
      "outputs": [
        {
          "output_type": "execute_result",
          "data": {
            "text/plain": [
              "[('dislikes', 3), ('followers', 10), ('likes', 2)]"
            ]
          },
          "metadata": {},
          "execution_count": 25
        }
      ]
    },
    {
      "cell_type": "markdown",
      "source": [
        "# Program 139\n",
        "# Write a function that creates a dictionary with each (key, value) pair being the (lower\n",
        "# case, upper case) versions of a letter, respectively.\n",
        "# Examples\n",
        "# mapping([\"p\", \"s\"]) ➞ { \"p\": \"P\", \"s\": \"S\" }\n",
        "# mapping([\"a\", \"b\", \"c\"]) ➞ { \"a\": \"A\", \"b\": \"B\", \"c\": \"C\" }\n",
        "# mapping([\"a\", \"v\", \"y\", \"z\"]) ➞ { \"a\": \"A\", \"v\": \"V\", \"y\": \"Y\", \"z\": \"Z\" }\n",
        "# Notes\n",
        "# All of the letters in the input list will always be lowercase.\n"
      ],
      "metadata": {
        "id": "mviBUkiL6ebD"
      }
    },
    {
      "cell_type": "code",
      "source": [
        "def mapping(letters):\n",
        "  res={}\n",
        "  for letter in letters:\n",
        "    res[letter]=letter.upper()\n",
        "  return res\n",
        "mapping([\"a\", \"v\", \"y\", \"z\"])"
      ],
      "metadata": {
        "colab": {
          "base_uri": "https://localhost:8080/"
        },
        "id": "Va1Bt1fs-0UG",
        "outputId": "9f32315d-8b0e-4855-afd7-99764e8b3cab"
      },
      "execution_count": null,
      "outputs": [
        {
          "output_type": "execute_result",
          "data": {
            "text/plain": [
              "{'a': 'A', 'v': 'V', 'y': 'Y', 'z': 'Z'}"
            ]
          },
          "metadata": {},
          "execution_count": 18
        }
      ]
    },
    {
      "cell_type": "markdown",
      "source": [
        "# Program 140\n",
        "# Write a function, that replaces all vowels in a string with a specified vowel.\n",
        "# Examples\n",
        "# vow_replace(\"apples and bananas\", \"u\") ➞ \"upplus und bununus\"\n",
        "# vow_replace(\"cheese casserole\", \"o\") ➞ \"chooso cossorolo\"\n",
        "# vow_replace(\"stuffed jalapeno poppers\", \"e\") ➞ \"steffed jelepene peppers\"\n",
        "# Notes\n",
        "# All words will be lowercase. Y is not considered a vowel."
      ],
      "metadata": {
        "id": "2pVwCwNE5gAF"
      }
    },
    {
      "cell_type": "code",
      "source": [
        "def vow_replace(input_str,vowel):\n",
        "  result=''\n",
        "  vowels='aeiou'\n",
        "  for char in input_str:\n",
        "    if char in vowels:\n",
        "      result+=vowel\n",
        "    else:\n",
        "      result+=char\n",
        "  return result\n",
        "vow_replace(\"stuffed jalapeno poppers\", \"e\")"
      ],
      "metadata": {
        "colab": {
          "base_uri": "https://localhost:8080/",
          "height": 36
        },
        "id": "LKpzVkD-5nRk",
        "outputId": "465bbbf7-3655-4ad8-8cd0-2df61cf71c7f"
      },
      "execution_count": null,
      "outputs": [
        {
          "output_type": "execute_result",
          "data": {
            "text/plain": [
              "'steffed jelepene peppers'"
            ],
            "application/vnd.google.colaboratory.intrinsic+json": {
              "type": "string"
            }
          },
          "metadata": {},
          "execution_count": 10
        }
      ]
    },
    {
      "cell_type": "markdown",
      "source": [
        "# Program 141\n",
        "# Create a function that takes a string as input and capitalizes a letter if its ASCII code\n",
        "# is even and returns its lower case version if its ASCII code is odd.\n",
        "# Examples\n",
        "# ascii_capitalize(\"to be or not to be!\") ➞ \"To Be oR NoT To Be!\"\n",
        "# ascii_capitalize(\"THE LITTLE MERMAID\") ➞ \"THe LiTTLe meRmaiD\"\n",
        "# ascii_capitalize(\"Oh what a beautiful morning.\") ➞ \"oH wHaT a BeauTiFuL\n",
        "# moRNiNg.\""
      ],
      "metadata": {
        "id": "C-rNL5teqN9V"
      }
    },
    {
      "cell_type": "code",
      "source": [
        "def asci_capitalize(input_str):\n",
        "  result=\"\"\n",
        "  for char in input_str:\n",
        "    if ord(char)%2==0:\n",
        "      result+=char.upper()\n",
        "    else:\n",
        "      result+=char.lower()\n",
        "  return result\n",
        "asci_capitalize(\"Oh what a beautiful morning.\")"
      ],
      "metadata": {
        "colab": {
          "base_uri": "https://localhost:8080/",
          "height": 36
        },
        "id": "9yykK-oo4m2K",
        "outputId": "4833afcf-e27d-4efb-f204-e7329ea1edf4"
      },
      "execution_count": null,
      "outputs": [
        {
          "output_type": "execute_result",
          "data": {
            "text/plain": [
              "'oH wHaT a BeauTiFuL moRNiNg.'"
            ],
            "application/vnd.google.colaboratory.intrinsic+json": {
              "type": "string"
            }
          },
          "metadata": {},
          "execution_count": 9
        }
      ]
    },
    {
      "cell_type": "code",
      "source": [],
      "metadata": {
        "id": "p52YHUN55Uth"
      },
      "execution_count": null,
      "outputs": []
    }
  ]
}