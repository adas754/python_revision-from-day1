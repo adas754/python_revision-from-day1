{
  "nbformat": 4,
  "nbformat_minor": 0,
  "metadata": {
    "colab": {
      "provenance": [],
      "authorship_tag": "ABX9TyO5AJLkk2X6XEDvCrQD2YqK",
      "include_colab_link": true
    },
    "kernelspec": {
      "name": "python3",
      "display_name": "Python 3"
    },
    "language_info": {
      "name": "python"
    }
  },
  "cells": [
    {
      "cell_type": "markdown",
      "metadata": {
        "id": "view-in-github",
        "colab_type": "text"
      },
      "source": [
        "<a href=\"https://colab.research.google.com/github/adas754/python_revision-from-day1/blob/main/zip.ipynb\" target=\"_parent\"><img src=\"https://colab.research.google.com/assets/colab-badge.svg\" alt=\"Open In Colab\"/></a>"
      ]
    },
    {
      "cell_type": "code",
      "execution_count": 1,
      "metadata": {
        "colab": {
          "base_uri": "https://localhost:8080/"
        },
        "id": "psN5lXVXJXdd",
        "outputId": "7a17fa00-7a57-4e78-cc62-53e22770559e"
      },
      "outputs": [
        {
          "output_type": "execute_result",
          "data": {
            "text/plain": [
              "<zip at 0x7b78a8287980>"
            ]
          },
          "metadata": {},
          "execution_count": 1
        }
      ],
      "source": [
        "l1=[1,2,3,4]\n",
        "l2=[5,6,7,8]\n",
        "zip(l1,l2)\n"
      ]
    },
    {
      "cell_type": "code",
      "source": [
        "list(zip(l1,l2))"
      ],
      "metadata": {
        "colab": {
          "base_uri": "https://localhost:8080/"
        },
        "id": "LuHiIeZXKOPA",
        "outputId": "48c42943-dda9-4ae4-baf4-337a125251ea"
      },
      "execution_count": 2,
      "outputs": [
        {
          "output_type": "execute_result",
          "data": {
            "text/plain": [
              "[(1, 5), (2, 6), (3, 7), (4, 8)]"
            ]
          },
          "metadata": {},
          "execution_count": 2
        }
      ]
    },
    {
      "cell_type": "code",
      "source": [
        "roll_no=[1,2,3,4,5]\n",
        "student=['b','d','i','x','m']\n",
        "list(zip(roll_no,student))"
      ],
      "metadata": {
        "colab": {
          "base_uri": "https://localhost:8080/"
        },
        "id": "aAD26K51KTx0",
        "outputId": "f50e1911-f566-4153-cddd-89e60967983c"
      },
      "execution_count": 3,
      "outputs": [
        {
          "output_type": "execute_result",
          "data": {
            "text/plain": [
              "[(1, 'b'), (2, 'd'), (3, 'i'), (4, 'x'), (5, 'm')]"
            ]
          },
          "metadata": {},
          "execution_count": 3
        }
      ]
    },
    {
      "cell_type": "code",
      "source": [
        "l1=[1,2,3,4]\n",
        "l2=[5,6,7,8]\n",
        "[i-j for i,j in zip(l1,l2)]"
      ],
      "metadata": {
        "colab": {
          "base_uri": "https://localhost:8080/"
        },
        "id": "-9nByP3fKwkH",
        "outputId": "6bb0632f-ec2d-4f60-f0d9-719ebd96e9a6"
      },
      "execution_count": 4,
      "outputs": [
        {
          "output_type": "execute_result",
          "data": {
            "text/plain": [
              "[-4, -4, -4, -4]"
            ]
          },
          "metadata": {},
          "execution_count": 4
        }
      ]
    },
    {
      "cell_type": "code",
      "source": [
        "l1=[1,2,3,4]\n",
        "l2=[5,6,7,8]\n",
        "[i-j for i,j in zip(l2,l1)]"
      ],
      "metadata": {
        "colab": {
          "base_uri": "https://localhost:8080/"
        },
        "id": "Y1EJhdX7K_iD",
        "outputId": "c636f439-d353-4e92-cc79-0e88543df0cd"
      },
      "execution_count": 5,
      "outputs": [
        {
          "output_type": "execute_result",
          "data": {
            "text/plain": [
              "[4, 4, 4, 4]"
            ]
          },
          "metadata": {},
          "execution_count": 5
        }
      ]
    },
    {
      "cell_type": "code",
      "source": [
        "l1=[1,2,3,4]\n",
        "l2=[5,6,7,8]\n",
        "l3=[9,10,11,12]\n",
        "list(zip(l1,l2,l3))"
      ],
      "metadata": {
        "colab": {
          "base_uri": "https://localhost:8080/"
        },
        "id": "Ar8sFw8oLGil",
        "outputId": "52711603-5fe7-4354-d8d5-38d6b3550473"
      },
      "execution_count": 6,
      "outputs": [
        {
          "output_type": "execute_result",
          "data": {
            "text/plain": [
              "[(1, 5, 9), (2, 6, 10), (3, 7, 11), (4, 8, 12)]"
            ]
          },
          "metadata": {},
          "execution_count": 6
        }
      ]
    },
    {
      "cell_type": "code",
      "source": [
        "l1=[1,2,3,4]\n",
        "l2=[5,6,7,8]\n",
        "l3=[9,10,11]\n",
        "list(zip(l1,l2,l3))"
      ],
      "metadata": {
        "colab": {
          "base_uri": "https://localhost:8080/"
        },
        "id": "4CEeasygLQ0M",
        "outputId": "0a3c1258-3c99-42c7-aa70-89bb6a95a992"
      },
      "execution_count": 7,
      "outputs": [
        {
          "output_type": "execute_result",
          "data": {
            "text/plain": [
              "[(1, 5, 9), (2, 6, 10), (3, 7, 11)]"
            ]
          },
          "metadata": {},
          "execution_count": 7
        }
      ]
    },
    {
      "cell_type": "code",
      "source": [
        "l1=[1,2,3,4]\n",
        "l2=[5,6,7,8]\n",
        "l3=[9,10]\n",
        "list(zip(l1,l2,l3))"
      ],
      "metadata": {
        "colab": {
          "base_uri": "https://localhost:8080/"
        },
        "id": "6dFzEJpTLYXr",
        "outputId": "c34a7710-0636-42a9-d31b-8b1a146f525b"
      },
      "execution_count": 8,
      "outputs": [
        {
          "output_type": "execute_result",
          "data": {
            "text/plain": [
              "[(1, 5, 9), (2, 6, 10)]"
            ]
          },
          "metadata": {},
          "execution_count": 8
        }
      ]
    },
    {
      "cell_type": "code",
      "source": [
        "for i in zip(l1,l2):\n",
        "  print(i)"
      ],
      "metadata": {
        "colab": {
          "base_uri": "https://localhost:8080/"
        },
        "id": "C70gSLuCLgph",
        "outputId": "2df105c0-8015-4ef6-bd50-94b8f3c6d887"
      },
      "execution_count": 9,
      "outputs": [
        {
          "output_type": "stream",
          "name": "stdout",
          "text": [
            "(1, 5)\n",
            "(2, 6)\n",
            "(3, 7)\n",
            "(4, 8)\n"
          ]
        }
      ]
    },
    {
      "cell_type": "code",
      "source": [],
      "metadata": {
        "id": "WEI94Mn-LwI8"
      },
      "execution_count": null,
      "outputs": []
    }
  ]
}