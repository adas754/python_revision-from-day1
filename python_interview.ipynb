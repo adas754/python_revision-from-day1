{
  "nbformat": 4,
  "nbformat_minor": 0,
  "metadata": {
    "colab": {
      "provenance": []
    },
    "kernelspec": {
      "name": "python3",
      "display_name": "Python 3"
    },
    "language_info": {
      "name": "python"
    }
  },
  "cells": [
    {
      "cell_type": "markdown",
      "source": [
        "5 x 1 = 5\n",
        "\n",
        "5 x 2 = 10\n",
        "\n",
        "5 x 3 = 15\n",
        "\n",
        "5 x 4 = 20\n",
        "\n",
        "5 x 5 = 25\n",
        "\n",
        "5 x 6 = 30\n",
        "\n",
        "5 x 7 = 35\n",
        "\n",
        "5 x 8 = 40\n",
        "\n",
        "5 x 9 = 45\n",
        "\n",
        "5 x 10 = 50"
      ],
      "metadata": {
        "id": "LNkzhosgVUGn"
      }
    },
    {
      "cell_type": "code",
      "source": [
        "def print_multiplication_table(num):\n",
        "  for i in range(1,11):\n",
        "    print(f'{num} x {i}={num*i}')\n",
        "print_multiplication_table(5)"
      ],
      "metadata": {
        "colab": {
          "base_uri": "https://localhost:8080/"
        },
        "id": "l2OE6risUQEQ",
        "outputId": "906d0e8c-6572-49fd-ce76-e42b21d75071"
      },
      "execution_count": 10,
      "outputs": [
        {
          "output_type": "stream",
          "name": "stdout",
          "text": [
            "5 x 1=5\n",
            "5 x 2=10\n",
            "5 x 3=15\n",
            "5 x 4=20\n",
            "5 x 5=25\n",
            "5 x 6=30\n",
            "5 x 7=35\n",
            "5 x 8=40\n",
            "5 x 9=45\n",
            "5 x 10=50\n"
          ]
        }
      ]
    },
    {
      "cell_type": "markdown",
      "source": [
        "## Let's say 'S' is String. Split the string into 3 letter word and then remove the duplicate elements from the set.\n",
        "\n",
        "# Example:\n",
        "\n",
        "# S = 'abacecdef'\n",
        "\n",
        "# Now, split into 3 letters a set\n",
        "\n",
        "# aba, cec, def\n",
        "\n",
        "# and then remove the duplicate elements from the set if any"
      ],
      "metadata": {
        "id": "L52zjUT1lXKu"
      }
    },
    {
      "cell_type": "code",
      "source": [
        "def split_and_remove_duplicates(text):\n",
        "  words=[text[i:i+3]for i in range(0,len(text),3)]\n",
        "  unique_words=[\"\".join(sorted(set(w))) for w in words]\n",
        "  return [(w,uw)for w,uw in zip(words,unique_words)]\n",
        "text='abacecdef'\n",
        "result=split_and_remove_duplicates(text)\n",
        "for w,uw in result:\n",
        "  print(f'After Spliting ({w})')\n",
        "  print(f'After removing Duplicates {uw}')\n",
        "\n"
      ],
      "metadata": {
        "colab": {
          "base_uri": "https://localhost:8080/"
        },
        "id": "1PEr50L0f65L",
        "outputId": "bfaaae08-4e13-4eac-a147-01fb65ad154b"
      },
      "execution_count": 9,
      "outputs": [
        {
          "output_type": "stream",
          "name": "stdout",
          "text": [
            "After Spliting (aba)\n",
            "After removing Duplicates ab\n",
            "After Spliting (cec)\n",
            "After removing Duplicates ce\n",
            "After Spliting (def)\n",
            "After removing Duplicates def\n"
          ]
        }
      ]
    },
    {
      "cell_type": "markdown",
      "source": [
        "1 1 1 1 1 1 1 1 \n",
        "\n",
        "2 2 2 2 2 2 2 \n",
        "\n",
        "3 3 3 3 3 3\n",
        "\n",
        "4 4 4 4 4 \n",
        "\n",
        "5 5 5 5 \n",
        "\n",
        "6 6 6 \n",
        "\n",
        "7 7 \n",
        "\n",
        "8 "
      ],
      "metadata": {
        "id": "C-LeJUFOyagW"
      }
    },
    {
      "cell_type": "code",
      "source": [
        "def print_pattern(n):\n",
        "  for i in range(1,n+1):\n",
        "    for j in range(n-i+1):\n",
        "      print(i,end=' ')\n",
        "    print()\n",
        "\n",
        "print_pattern(8)"
      ],
      "metadata": {
        "colab": {
          "base_uri": "https://localhost:8080/"
        },
        "id": "zQkAcImmzTq4",
        "outputId": "37ce6629-b2ed-48aa-8edd-af1e56b475a6"
      },
      "execution_count": 8,
      "outputs": [
        {
          "output_type": "stream",
          "name": "stdout",
          "text": [
            "1 1 1 1 1 1 1 1 \n",
            "2 2 2 2 2 2 2 \n",
            "3 3 3 3 3 3 \n",
            "4 4 4 4 4 \n",
            "5 5 5 5 \n",
            "6 6 6 \n",
            "7 7 \n",
            "8 \n"
          ]
        }
      ]
    },
    {
      "cell_type": "markdown",
      "source": [
        "# Consider an list Z = [1,2,3,4,5,6,7,8,9,10,11,12,13,14],\n",
        "\n",
        "# Make the list into slices with the size of 4 elements each\n",
        "\n",
        "# R = [[1,2,3,4], [2,3,4,5], [3,4,5,6], ..., [11,12,13,14]]?\n"
      ],
      "metadata": {
        "id": "rN6Sg0x01tyA"
      }
    },
    {
      "cell_type": "code",
      "source": [
        "def slice_list(lst,slice_size):\n",
        "  sliced_list=[]\n",
        "  for i in range(len(lst)-slice_size+1):\n",
        "    sliced_list.append(lst[i:i+slice_size])\n",
        "  return sliced_list\n",
        "Z=[1,2,3,4,5,6,7,8,9,10,11,12,13,14]\n",
        "R=slice_list(Z,4)\n",
        "print(R)"
      ],
      "metadata": {
        "colab": {
          "base_uri": "https://localhost:8080/"
        },
        "id": "lgYuX9XY2t-T",
        "outputId": "00a8fe6e-5140-4a49-c62c-8dcfdfe9d998"
      },
      "execution_count": 7,
      "outputs": [
        {
          "output_type": "stream",
          "name": "stdout",
          "text": [
            "[[1, 2, 3, 4], [2, 3, 4, 5], [3, 4, 5, 6], [4, 5, 6, 7], [5, 6, 7, 8], [6, 7, 8, 9], [7, 8, 9, 10], [8, 9, 10, 11], [9, 10, 11, 12], [10, 11, 12, 13], [11, 12, 13, 14]]\n"
          ]
        }
      ]
    },
    {
      "cell_type": "markdown",
      "source": [
        "# Write a program to print list of \n",
        "#palindrome numbers between (100-200) using functions"
      ],
      "metadata": {
        "id": "m3UAESWn-qjH"
      }
    },
    {
      "cell_type": "code",
      "source": [
        "\n",
        "def is_palindrome(n):\n",
        "  return str(n)==str(n)[::-1]\n",
        "def palindrome_numbers(start,end):\n",
        "  for n in range(start,end+1):\n",
        "    if is_palindrome(n):\n",
        "      print(n)\n",
        "palindrome_numbers(100,200)\n"
      ],
      "metadata": {
        "colab": {
          "base_uri": "https://localhost:8080/"
        },
        "id": "e_z1LybJAM8y",
        "outputId": "775c1094-3fa9-4a3f-d0d1-fa1824cfcc7c"
      },
      "execution_count": 6,
      "outputs": [
        {
          "output_type": "stream",
          "name": "stdout",
          "text": [
            "101\n",
            "111\n",
            "121\n",
            "131\n",
            "141\n",
            "151\n",
            "161\n",
            "171\n",
            "181\n",
            "191\n"
          ]
        }
      ]
    },
    {
      "cell_type": "markdown",
      "source": [
        "# Write a program that accepts a sequence of whitespace separated words as input and prints the words after removing all duplicate words and sorting them alphanumerically.\n",
        "# Suppose the following input is supplied to the program:\n",
        "\n",
        "# Input:hello world and practice makes perfect and hello world again\n",
        "\n",
        "# Then, the Output: should be:\n",
        "\n",
        "# again and hello makes perfect practice world"
      ],
      "metadata": {
        "id": "K-x9QFkRDd4y"
      }
    },
    {
      "cell_type": "code",
      "source": [
        "def remove_duplicates_and_sort(words):\n",
        "  word_list=words.split()\n",
        "  unique_words=sorted(set(word_list))\n",
        "  return \" \".join(unique_words)\n",
        "input_string = \"hello world and practice makes perfect and hello world again\"\n",
        "output_string = remove_duplicates_and_sort(input_string)\n",
        "print(output_string)"
      ],
      "metadata": {
        "colab": {
          "base_uri": "https://localhost:8080/"
        },
        "id": "rgANGUNyDtGF",
        "outputId": "87233d24-6ba8-4349-cf23-3ccb993a7858"
      },
      "execution_count": 14,
      "outputs": [
        {
          "output_type": "stream",
          "name": "stdout",
          "text": [
            "again and hello makes perfect practice world\n"
          ]
        }
      ]
    }
  ]
}