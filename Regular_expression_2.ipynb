{
  "nbformat": 4,
  "nbformat_minor": 0,
  "metadata": {
    "colab": {
      "provenance": []
    },
    "kernelspec": {
      "name": "python3",
      "display_name": "Python 3"
    },
    "language_info": {
      "name": "python"
    }
  },
  "cells": [
    {
      "cell_type": "code",
      "execution_count": 1,
      "metadata": {
        "id": "Pzwq7sbdJXaS"
      },
      "outputs": [],
      "source": [
        "emails='find the proper emails ram@gmail.com and ravi@innomatics.in and john123@yahoo.com'"
      ]
    },
    {
      "cell_type": "code",
      "source": [
        "import re\n",
        "re.findall(r'\\w+@\\w+.\\w+',emails) #extract mail id"
      ],
      "metadata": {
        "colab": {
          "base_uri": "https://localhost:8080/"
        },
        "id": "oG6w4KlkKGtU",
        "outputId": "8503b2f5-d5ad-43f1-8c47-c7e93f556ffb"
      },
      "execution_count": 6,
      "outputs": [
        {
          "output_type": "execute_result",
          "data": {
            "text/plain": [
              "['ram@gmail.com', 'ravi@innomatics.in', 'john123@yahoo.com']"
            ]
          },
          "metadata": {},
          "execution_count": 6
        }
      ]
    },
    {
      "cell_type": "code",
      "source": [
        "re.findall(r'\\w+@(\\w+).\\w+',emails) #extract only domain name"
      ],
      "metadata": {
        "colab": {
          "base_uri": "https://localhost:8080/"
        },
        "id": "xP5pDh6zKdgg",
        "outputId": "1fb4ddab-a48d-4922-91a8-c4ac61c5371d"
      },
      "execution_count": 10,
      "outputs": [
        {
          "output_type": "execute_result",
          "data": {
            "text/plain": [
              "['gmail', 'innomatics', 'yahoo']"
            ]
          },
          "metadata": {},
          "execution_count": 10
        }
      ]
    },
    {
      "cell_type": "code",
      "source": [
        "re.findall(r'(\\w+)@\\w+.\\w+',emails) #extract only user name"
      ],
      "metadata": {
        "colab": {
          "base_uri": "https://localhost:8080/"
        },
        "id": "LNXJceMbKz2C",
        "outputId": "c5b8dc65-ac9d-428f-a0da-4980fec59438"
      },
      "execution_count": 12,
      "outputs": [
        {
          "output_type": "execute_result",
          "data": {
            "text/plain": [
              "['ram', 'ravi', 'john123']"
            ]
          },
          "metadata": {},
          "execution_count": 12
        }
      ]
    },
    {
      "cell_type": "code",
      "source": [
        "re.findall(r'\\w+@\\w+.(\\w+)',emails)#extract only extension"
      ],
      "metadata": {
        "colab": {
          "base_uri": "https://localhost:8080/"
        },
        "id": "aSuy3wmpMAIM",
        "outputId": "1f346937-c371-4b01-985a-275b223c6c41"
      },
      "execution_count": 14,
      "outputs": [
        {
          "output_type": "execute_result",
          "data": {
            "text/plain": [
              "['com', 'in', 'com']"
            ]
          },
          "metadata": {},
          "execution_count": 14
        }
      ]
    },
    {
      "cell_type": "code",
      "source": [
        "mobile=\"\"\"my mobile number is \n",
        "9848022338 and 12345 and 98480 22338 and 984 802 2338  and 984-802-2338 and +919848022338 and\n",
        "+91 9848022338\"\"\""
      ],
      "metadata": {
        "id": "QiI0C_y2N5wM"
      },
      "execution_count": 23,
      "outputs": []
    },
    {
      "cell_type": "code",
      "source": [
        "mobile_numbers = re.findall(r'[6-9]{1}\\d{9}', mobile) #extract mobile number\n",
        "print(mobile_numbers)"
      ],
      "metadata": {
        "colab": {
          "base_uri": "https://localhost:8080/"
        },
        "id": "b76elQ8iN-T4",
        "outputId": "06866c6b-e140-45b5-d588-7bf183bb8d58"
      },
      "execution_count": 33,
      "outputs": [
        {
          "output_type": "stream",
          "name": "stdout",
          "text": [
            "['9848022338', '9198480223', '9848022338']\n"
          ]
        }
      ]
    },
    {
      "cell_type": "code",
      "source": [
        "re.findall(r'[6-9]{1}[0-9]{2}\\-[0-9]{3}\\-[0-9]{4}',mobile) #extract mobile number"
      ],
      "metadata": {
        "colab": {
          "base_uri": "https://localhost:8080/"
        },
        "id": "nBQ8xwP4OWH8",
        "outputId": "ff987175-10b0-4039-a4ab-163420c186f8"
      },
      "execution_count": 34,
      "outputs": [
        {
          "output_type": "execute_result",
          "data": {
            "text/plain": [
              "['984-802-2338']"
            ]
          },
          "metadata": {},
          "execution_count": 34
        }
      ]
    },
    {
      "cell_type": "code",
      "source": [
        "re.findall(r'\\+91[6-9]{1}\\d{9}',mobile) #extract mobile number"
      ],
      "metadata": {
        "colab": {
          "base_uri": "https://localhost:8080/"
        },
        "id": "_u-avdCfRa3x",
        "outputId": "f62fed7c-212e-41b8-8caa-8cd782c78fd2"
      },
      "execution_count": 35,
      "outputs": [
        {
          "output_type": "execute_result",
          "data": {
            "text/plain": [
              "['+919848022338']"
            ]
          },
          "metadata": {},
          "execution_count": 35
        }
      ]
    },
    {
      "cell_type": "code",
      "source": [
        "re.findall(r'\\+91\\s[6-9]{1}\\d{9}',mobile) #extract mobile number"
      ],
      "metadata": {
        "colab": {
          "base_uri": "https://localhost:8080/"
        },
        "id": "P02C4yiRSknb",
        "outputId": "baa68698-d900-43bb-a051-5f5461ddfeff"
      },
      "execution_count": 36,
      "outputs": [
        {
          "output_type": "execute_result",
          "data": {
            "text/plain": [
              "['+91 9848022338']"
            ]
          },
          "metadata": {},
          "execution_count": 36
        }
      ]
    },
    {
      "cell_type": "code",
      "source": [
        "mobile_numbers = re.findall(r'\\+91\\s[6-9]{1}\\d{9}|\\+91[6-9]{1}\\d{9}|[6-9]{1}[0-9]{2}\\-[0-9]{3}\\-[0-9]{4}', mobile)\n",
        "print(mobile_numbers) #extract mobile number"
      ],
      "metadata": {
        "colab": {
          "base_uri": "https://localhost:8080/"
        },
        "id": "B9iYA6yKTAdx",
        "outputId": "444723dd-9d50-4326-bbeb-c4b38e35ddec"
      },
      "execution_count": 40,
      "outputs": [
        {
          "output_type": "stream",
          "name": "stdout",
          "text": [
            "['984-802-2338', '+919848022338', '+91 9848022338']\n"
          ]
        }
      ]
    },
    {
      "cell_type": "code",
      "source": [
        "reviews=\"\"\" Good : movie was awwsome\n",
        "Bad : one of the wrost movie\n",
        "Good : movie was awwsome\n",
        "Bad : one of the wrost movie \n",
        "Good : movie was awwsome\n",
        "Bad : one of the wrost movie \n",
        "Good : movie was awwsome\n",
        "Bad : one of the wrost movie \n",
        "Good : movie was awwsome\n",
        "Bad : one of the wrost movie\n",
        "\"\"\""
      ],
      "metadata": {
        "id": "14ZjV7nwTn9m"
      },
      "execution_count": 38,
      "outputs": []
    },
    {
      "cell_type": "code",
      "source": [
        "re.findall(r'Good :(.*)\\nBad :',reviews)"
      ],
      "metadata": {
        "colab": {
          "base_uri": "https://localhost:8080/"
        },
        "id": "HCOpPVH2UR6n",
        "outputId": "8dbe3120-874e-4035-91ff-3508fd28b5fd"
      },
      "execution_count": 39,
      "outputs": [
        {
          "output_type": "execute_result",
          "data": {
            "text/plain": [
              "[' movie was awwsome',\n",
              " ' movie was awwsome',\n",
              " ' movie was awwsome',\n",
              " ' movie was awwsome',\n",
              " ' movie was awwsome']"
            ]
          },
          "metadata": {},
          "execution_count": 39
        }
      ]
    },
    {
      "cell_type": "code",
      "source": [
        "re.findall(r'Bad :\\s(.*)',reviews)"
      ],
      "metadata": {
        "colab": {
          "base_uri": "https://localhost:8080/"
        },
        "id": "11FrJmEhU71e",
        "outputId": "b36a3331-4b2a-4d7b-c8fc-9ec07cdc6759"
      },
      "execution_count": 41,
      "outputs": [
        {
          "output_type": "execute_result",
          "data": {
            "text/plain": [
              "['one of the wrost movie',\n",
              " 'one of the wrost movie ',\n",
              " 'one of the wrost movie ',\n",
              " 'one of the wrost movie ',\n",
              " 'one of the wrost movie']"
            ]
          },
          "metadata": {},
          "execution_count": 41
        }
      ]
    },
    {
      "cell_type": "code",
      "source": [
        "text='python is general purpose language'"
      ],
      "metadata": {
        "id": "IwJif__IVS6e"
      },
      "execution_count": 42,
      "outputs": []
    },
    {
      "cell_type": "code",
      "source": [
        "re.findall('python',text)"
      ],
      "metadata": {
        "colab": {
          "base_uri": "https://localhost:8080/"
        },
        "id": "MRe3u9rrVfEo",
        "outputId": "e5bf36f7-672b-419a-a118-8f4c85087e95"
      },
      "execution_count": 43,
      "outputs": [
        {
          "output_type": "execute_result",
          "data": {
            "text/plain": [
              "['python']"
            ]
          },
          "metadata": {},
          "execution_count": 43
        }
      ]
    },
    {
      "cell_type": "code",
      "source": [
        "result=re.match('python',text)"
      ],
      "metadata": {
        "id": "zfQZddTJVkBi"
      },
      "execution_count": 44,
      "outputs": []
    },
    {
      "cell_type": "code",
      "source": [
        "result.group()"
      ],
      "metadata": {
        "colab": {
          "base_uri": "https://localhost:8080/",
          "height": 36
        },
        "id": "wj2ZDiruVq5n",
        "outputId": "4c2aa889-f7a1-4110-e653-81250c480c89"
      },
      "execution_count": 46,
      "outputs": [
        {
          "output_type": "execute_result",
          "data": {
            "text/plain": [
              "'python'"
            ],
            "application/vnd.google.colaboratory.intrinsic+json": {
              "type": "string"
            }
          },
          "metadata": {},
          "execution_count": 46
        }
      ]
    },
    {
      "cell_type": "code",
      "source": [
        "result=re.search('python',text)\n",
        "result.group()"
      ],
      "metadata": {
        "colab": {
          "base_uri": "https://localhost:8080/",
          "height": 36
        },
        "id": "rFg87rUVVscn",
        "outputId": "dd6fc51c-378e-4ae3-cce3-fad085813f6e"
      },
      "execution_count": 47,
      "outputs": [
        {
          "output_type": "execute_result",
          "data": {
            "text/plain": [
              "'python'"
            ],
            "application/vnd.google.colaboratory.intrinsic+json": {
              "type": "string"
            }
          },
          "metadata": {},
          "execution_count": 47
        }
      ]
    },
    {
      "cell_type": "code",
      "source": [
        "result=re.search('general',text)\n",
        "result.group()"
      ],
      "metadata": {
        "colab": {
          "base_uri": "https://localhost:8080/",
          "height": 36
        },
        "id": "d_1K3q9SV56Z",
        "outputId": "4354118f-a7ec-413b-c833-4ed06d3ccad1"
      },
      "execution_count": 48,
      "outputs": [
        {
          "output_type": "execute_result",
          "data": {
            "text/plain": [
              "'general'"
            ],
            "application/vnd.google.colaboratory.intrinsic+json": {
              "type": "string"
            }
          },
          "metadata": {},
          "execution_count": 48
        }
      ]
    },
    {
      "cell_type": "code",
      "source": [
        "text='python is general purpose language general general general'"
      ],
      "metadata": {
        "id": "7JhzloEDV-SC"
      },
      "execution_count": 52,
      "outputs": []
    },
    {
      "cell_type": "code",
      "source": [
        "result=re.search('general',text)\n",
        "result.group()"
      ],
      "metadata": {
        "colab": {
          "base_uri": "https://localhost:8080/",
          "height": 36
        },
        "id": "oySWa9QRWBPB",
        "outputId": "27c29fe6-42eb-42e2-d304-85658c1e364e"
      },
      "execution_count": 50,
      "outputs": [
        {
          "output_type": "execute_result",
          "data": {
            "text/plain": [
              "'general'"
            ],
            "application/vnd.google.colaboratory.intrinsic+json": {
              "type": "string"
            }
          },
          "metadata": {},
          "execution_count": 50
        }
      ]
    },
    {
      "cell_type": "code",
      "source": [
        "re.findall('general',text)"
      ],
      "metadata": {
        "colab": {
          "base_uri": "https://localhost:8080/"
        },
        "id": "FKKo2lE6WIWQ",
        "outputId": "8fe1680c-cc0e-435d-b91f-5406385a93ab"
      },
      "execution_count": 53,
      "outputs": [
        {
          "output_type": "execute_result",
          "data": {
            "text/plain": [
              "['general', 'general', 'general', 'general']"
            ]
          },
          "metadata": {},
          "execution_count": 53
        }
      ]
    },
    {
      "cell_type": "markdown",
      "source": [
        "![photo_6282676829605180708_y (1).jpg](data:image/jpeg;base64,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)"
      ],
      "metadata": {
        "id": "0U0voMVYXfLw"
      }
    },
    {
      "cell_type": "code",
      "source": [
        "text='Innomatics ### is one of the &&& best institute for data Science ???????'"
      ],
      "metadata": {
        "id": "_K-ddRPpWQb_"
      },
      "execution_count": 54,
      "outputs": []
    },
    {
      "cell_type": "code",
      "source": [
        "re.sub(r'[#?&]','',text)"
      ],
      "metadata": {
        "colab": {
          "base_uri": "https://localhost:8080/",
          "height": 36
        },
        "id": "D99rvJheXph1",
        "outputId": "e32a5394-b33a-4cd6-f41b-b162f0e02e1b"
      },
      "execution_count": 55,
      "outputs": [
        {
          "output_type": "execute_result",
          "data": {
            "text/plain": [
              "'Innomatics  is one of the  best institute for data Science '"
            ],
            "application/vnd.google.colaboratory.intrinsic+json": {
              "type": "string"
            }
          },
          "metadata": {},
          "execution_count": 55
        }
      ]
    },
    {
      "cell_type": "code",
      "source": [
        "re.sub(r'\\W',\"\",text)"
      ],
      "metadata": {
        "colab": {
          "base_uri": "https://localhost:8080/",
          "height": 36
        },
        "id": "1rA3Td76X-e1",
        "outputId": "deb5942e-d019-42f4-9c94-293b9ed3383c"
      },
      "execution_count": 58,
      "outputs": [
        {
          "output_type": "execute_result",
          "data": {
            "text/plain": [
              "'InnomaticsisoneofthebestinstitutefordataScience'"
            ],
            "application/vnd.google.colaboratory.intrinsic+json": {
              "type": "string"
            }
          },
          "metadata": {},
          "execution_count": 58
        }
      ]
    },
    {
      "cell_type": "code",
      "source": [
        "re.split('[#&?]',text)"
      ],
      "metadata": {
        "colab": {
          "base_uri": "https://localhost:8080/"
        },
        "id": "LRulP8tJYKfa",
        "outputId": "7339aee7-e5ed-44dd-8016-47bc050c1fbf"
      },
      "execution_count": 59,
      "outputs": [
        {
          "output_type": "execute_result",
          "data": {
            "text/plain": [
              "['Innomatics ',\n",
              " '',\n",
              " '',\n",
              " ' is one of the ',\n",
              " '',\n",
              " '',\n",
              " ' best institute for data Science ',\n",
              " '',\n",
              " '',\n",
              " '',\n",
              " '',\n",
              " '',\n",
              " '',\n",
              " '']"
            ]
          },
          "metadata": {},
          "execution_count": 59
        }
      ]
    },
    {
      "cell_type": "code",
      "source": [
        "a=\"\"\"Connection-specific DNS Suffix  . :\n",
        "   Link-local IPv6 Address . . . . . : fe80::f95:78ce:69b8:fc0f%14\n",
        "   IPv4 Address. . . . . . . . . . . : 192.168.0.193\n",
        "   Subnet Mask . . . . . . . . . . . : 255.255.255.0\n",
        "   Default Gateway . . . . . . . . . : 192.168.0.1\"\"\""
      ],
      "metadata": {
        "id": "Win25vQQYgoz"
      },
      "execution_count": 60,
      "outputs": []
    },
    {
      "cell_type": "code",
      "source": [
        "re.findall(r'\\d+\\.\\d+\\.\\d+\\.\\d+',a)"
      ],
      "metadata": {
        "colab": {
          "base_uri": "https://localhost:8080/"
        },
        "id": "YhVEmJ6FYp_f",
        "outputId": "2f4e5bbd-bdc7-4918-87d7-43ade78a408d"
      },
      "execution_count": 61,
      "outputs": [
        {
          "output_type": "execute_result",
          "data": {
            "text/plain": [
              "['192.168.0.193', '255.255.255.0', '192.168.0.1']"
            ]
          },
          "metadata": {},
          "execution_count": 61
        }
      ]
    },
    {
      "cell_type": "code",
      "source": [],
      "metadata": {
        "id": "5BqYrJCPY-Dc"
      },
      "execution_count": null,
      "outputs": []
    }
  ]
}