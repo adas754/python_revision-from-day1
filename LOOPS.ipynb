{
  "nbformat": 4,
  "nbformat_minor": 0,
  "metadata": {
    "colab": {
      "provenance": [],
      "authorship_tag": "ABX9TyMwWx2ZykkdpKPwMpK8R0L3",
      "include_colab_link": true
    },
    "kernelspec": {
      "name": "python3",
      "display_name": "Python 3"
    },
    "language_info": {
      "name": "python"
    }
  },
  "cells": [
    {
      "cell_type": "markdown",
      "metadata": {
        "id": "view-in-github",
        "colab_type": "text"
      },
      "source": [
        "<a href=\"https://colab.research.google.com/github/adas754/python_revision-from-day1/blob/main/LOOPS.ipynb\" target=\"_parent\"><img src=\"https://colab.research.google.com/assets/colab-badge.svg\" alt=\"Open In Colab\"/></a>"
      ]
    },
    {
      "cell_type": "code",
      "execution_count": 1,
      "metadata": {
        "id": "IFTuZmW47xpu",
        "colab": {
          "base_uri": "https://localhost:8080/"
        },
        "outputId": "0782e612-c138-4c8a-b8eb-103928c7bacd"
      },
      "outputs": [
        {
          "output_type": "stream",
          "name": "stdout",
          "text": [
            "hi\n"
          ]
        }
      ],
      "source": [
        "print('hi')"
      ]
    },
    {
      "cell_type": "code",
      "source": [
        "#while True:\n",
        " # print('hi')   ### infinite loop"
      ],
      "metadata": {
        "collapsed": true,
        "id": "ER9lh2yZSfIM"
      },
      "execution_count": 44,
      "outputs": []
    },
    {
      "cell_type": "code",
      "source": [
        "i=1\n",
        "while i<11:\n",
        "  print('hi')\n",
        "  i+=1\n"
      ],
      "metadata": {
        "colab": {
          "base_uri": "https://localhost:8080/"
        },
        "id": "cRe1wTZtSzEd",
        "outputId": "d3a6ec01-c412-4575-fc14-76e750b0526f"
      },
      "execution_count": 5,
      "outputs": [
        {
          "output_type": "stream",
          "name": "stdout",
          "text": [
            "hi\n",
            "hi\n",
            "hi\n",
            "hi\n",
            "hi\n",
            "hi\n",
            "hi\n",
            "hi\n",
            "hi\n",
            "hi\n"
          ]
        }
      ]
    },
    {
      "cell_type": "code",
      "source": [
        "num=int(input(\"enTer The number: \"))\n",
        "i=1\n",
        "while i<11:\n",
        "  print(num,'*',i, '=',num)\n",
        "  i+=1"
      ],
      "metadata": {
        "colab": {
          "base_uri": "https://localhost:8080/"
        },
        "id": "fxZsWVv2TO2v",
        "outputId": "e47c972f-6510-4339-8b4c-1a18d944c473"
      },
      "execution_count": 10,
      "outputs": [
        {
          "output_type": "stream",
          "name": "stdout",
          "text": [
            "enTer The number: 7\n",
            "7 * 1 = 7\n",
            "7 * 2 = 7\n",
            "7 * 3 = 7\n",
            "7 * 4 = 7\n",
            "7 * 5 = 7\n",
            "7 * 6 = 7\n",
            "7 * 7 = 7\n",
            "7 * 8 = 7\n",
            "7 * 9 = 7\n",
            "7 * 10 = 7\n"
          ]
        }
      ]
    },
    {
      "cell_type": "code",
      "source": [
        "x=1\n",
        "while x<4:\n",
        "  print(x)\n",
        "  x+=1\n",
        "else:\n",
        "  print('program executed ')"
      ],
      "metadata": {
        "colab": {
          "base_uri": "https://localhost:8080/"
        },
        "id": "HMnjzJMCVqtk",
        "outputId": "11a5af85-dbf3-4fd6-9380-0b6f24e3db3a"
      },
      "execution_count": 11,
      "outputs": [
        {
          "output_type": "stream",
          "name": "stdout",
          "text": [
            "1\n",
            "2\n",
            "3\n",
            "program executed \n"
          ]
        }
      ]
    },
    {
      "cell_type": "code",
      "source": [
        "import random\n",
        "jackpot=random.randint(1,10)\n",
        "guess=int(input('enter your num'))\n",
        "c=0\n",
        "while guess!=jackpot:\n",
        "  if guess<jackpot:\n",
        "    print('wrong !, guess higher ')\n",
        "  else:\n",
        "    print('wrong!,guess lower')\n",
        "  guess=int(input('Enter your guess '))\n",
        "  c+=1\n",
        "else:\n",
        "  print('correct guess ')\n",
        "  print('your attempt is ',c)"
      ],
      "metadata": {
        "colab": {
          "base_uri": "https://localhost:8080/"
        },
        "id": "nzMZk1JJXCMi",
        "outputId": "9f8e8ad8-a75e-4f8a-c7a6-51175c2f826a"
      },
      "execution_count": 14,
      "outputs": [
        {
          "output_type": "stream",
          "name": "stdout",
          "text": [
            "enter your num4\n",
            "wrong !, guess higher \n",
            "Enter your guess 6\n",
            "wrong !, guess higher \n",
            "Enter your guess 8\n",
            "wrong !, guess higher \n",
            "Enter your guess 9\n",
            "wrong !, guess higher \n",
            "Enter your guess 10\n",
            "correct guess \n",
            "your attempt is  4\n"
          ]
        }
      ]
    },
    {
      "cell_type": "code",
      "source": [
        "for i in range(1,11):\n",
        "  print(i)"
      ],
      "metadata": {
        "colab": {
          "base_uri": "https://localhost:8080/"
        },
        "id": "w1hCJt3tYxQ1",
        "outputId": "fbdabba2-23ee-4849-8f66-9ea4e831b44e"
      },
      "execution_count": 15,
      "outputs": [
        {
          "output_type": "stream",
          "name": "stdout",
          "text": [
            "1\n",
            "2\n",
            "3\n",
            "4\n",
            "5\n",
            "6\n",
            "7\n",
            "8\n",
            "9\n",
            "10\n"
          ]
        }
      ]
    },
    {
      "cell_type": "code",
      "source": [
        "for i in 'python':\n",
        "  print(i)"
      ],
      "metadata": {
        "colab": {
          "base_uri": "https://localhost:8080/"
        },
        "id": "KFT3TXgwahA8",
        "outputId": "b0e2f764-e86b-404b-c6bc-22434dca4de6"
      },
      "execution_count": 17,
      "outputs": [
        {
          "output_type": "stream",
          "name": "stdout",
          "text": [
            "p\n",
            "y\n",
            "t\n",
            "h\n",
            "o\n",
            "n\n"
          ]
        }
      ]
    },
    {
      "cell_type": "code",
      "source": [
        "for i in range(1,11,3):\n",
        "  print(i)"
      ],
      "metadata": {
        "colab": {
          "base_uri": "https://localhost:8080/"
        },
        "id": "Qvon6aorbJ8h",
        "outputId": "a9eda989-7ece-4662-9497-0100be9b7600"
      },
      "execution_count": 18,
      "outputs": [
        {
          "output_type": "stream",
          "name": "stdout",
          "text": [
            "1\n",
            "4\n",
            "7\n",
            "10\n"
          ]
        }
      ]
    },
    {
      "cell_type": "code",
      "source": [
        "for i in range(1,11):\n",
        "  print('python')"
      ],
      "metadata": {
        "colab": {
          "base_uri": "https://localhost:8080/"
        },
        "id": "bXHOz04YbWQF",
        "outputId": "0a7ada56-1fba-475c-d576-75f4469ee180"
      },
      "execution_count": 19,
      "outputs": [
        {
          "output_type": "stream",
          "name": "stdout",
          "text": [
            "python\n",
            "python\n",
            "python\n",
            "python\n",
            "python\n",
            "python\n",
            "python\n",
            "python\n",
            "python\n",
            "python\n"
          ]
        }
      ]
    },
    {
      "cell_type": "markdown",
      "source": [
        "#Program - The current population of a town is 10000. The population of the town is increasing at the rate of 10% per year. You have to write a program to find out the population at the end of each of the last 10 years."
      ],
      "metadata": {
        "id": "hWsxNG9dcP2g"
      }
    },
    {
      "cell_type": "code",
      "source": [
        "110/100\n"
      ],
      "metadata": {
        "colab": {
          "base_uri": "https://localhost:8080/"
        },
        "id": "FI87bj37dAUy",
        "outputId": "91ec3b87-52be-4653-8b6e-56357c01a584"
      },
      "execution_count": 20,
      "outputs": [
        {
          "output_type": "execute_result",
          "data": {
            "text/plain": [
              "1.1"
            ]
          },
          "metadata": {},
          "execution_count": 20
        }
      ]
    },
    {
      "cell_type": "code",
      "source": [
        "current_population=10000\n",
        "for i in range(10,0,-1):\n",
        "  print(i,current_population)\n",
        "  current_population=current_population/1.1"
      ],
      "metadata": {
        "colab": {
          "base_uri": "https://localhost:8080/"
        },
        "id": "PMINr7UdbjJx",
        "outputId": "dbcbb97f-cb2d-403c-a947-35aa26009bf7"
      },
      "execution_count": 21,
      "outputs": [
        {
          "output_type": "stream",
          "name": "stdout",
          "text": [
            "10 10000\n",
            "9 9090.90909090909\n",
            "8 8264.462809917353\n",
            "7 7513.148009015775\n",
            "6 6830.134553650703\n",
            "5 6209.213230591548\n",
            "4 5644.739300537771\n",
            "3 5131.5811823070635\n",
            "2 4665.07380209733\n",
            "1 4240.976183724845\n"
          ]
        }
      ]
    },
    {
      "cell_type": "code",
      "source": [
        "for i in range(1,5):\n",
        "  for j in range(1,5):\n",
        "    print(i,j)"
      ],
      "metadata": {
        "colab": {
          "base_uri": "https://localhost:8080/"
        },
        "id": "uNJAw6eddET5",
        "outputId": "748d7190-52d6-4924-975d-8df06c43a257"
      },
      "execution_count": 23,
      "outputs": [
        {
          "output_type": "stream",
          "name": "stdout",
          "text": [
            "1 1\n",
            "1 2\n",
            "1 3\n",
            "1 4\n",
            "2 1\n",
            "2 2\n",
            "2 3\n",
            "2 4\n",
            "3 1\n",
            "3 2\n",
            "3 3\n",
            "3 4\n",
            "4 1\n",
            "4 2\n",
            "4 3\n",
            "4 4\n"
          ]
        }
      ]
    },
    {
      "cell_type": "code",
      "source": [
        "row=int(input('enter the rows :'))\n",
        "for i in range(1,row+1):\n",
        "  for j in range(1,i+1):\n",
        "    print('*',end='')\n",
        "  print('\\n')\n"
      ],
      "metadata": {
        "colab": {
          "base_uri": "https://localhost:8080/"
        },
        "id": "EwxD8_zYd3o-",
        "outputId": "2484259b-0fc0-414d-a269-1be4d0339088"
      },
      "execution_count": 32,
      "outputs": [
        {
          "output_type": "stream",
          "name": "stdout",
          "text": [
            "enter the rows :5\n",
            "*\n",
            "\n",
            "**\n",
            "\n",
            "***\n",
            "\n",
            "****\n",
            "\n",
            "*****\n",
            "\n"
          ]
        }
      ]
    },
    {
      "cell_type": "code",
      "source": [
        "for i in range(1,11):\n",
        "  if i==5:\n",
        "    break\n",
        "  print(i)"
      ],
      "metadata": {
        "colab": {
          "base_uri": "https://localhost:8080/"
        },
        "id": "lj3wuDujj6Hu",
        "outputId": "f59be982-7157-4d33-db2d-c9cb2e065ea2"
      },
      "execution_count": 34,
      "outputs": [
        {
          "output_type": "stream",
          "name": "stdout",
          "text": [
            "1\n",
            "2\n",
            "3\n",
            "4\n"
          ]
        }
      ]
    },
    {
      "cell_type": "code",
      "source": [
        "name=['a','b','c','python','u','v']\n",
        "for i in name:\n",
        "  if i=='python':\n",
        "    print(i)\n",
        "    break\n",
        "  #print(i)"
      ],
      "metadata": {
        "colab": {
          "base_uri": "https://localhost:8080/"
        },
        "id": "a7KHbqPvql_k",
        "outputId": "d4d48a14-cf17-470f-b5e9-b326daff15fc"
      },
      "execution_count": 36,
      "outputs": [
        {
          "output_type": "stream",
          "name": "stdout",
          "text": [
            "python\n"
          ]
        }
      ]
    },
    {
      "cell_type": "code",
      "source": [
        "2//2"
      ],
      "metadata": {
        "colab": {
          "base_uri": "https://localhost:8080/"
        },
        "id": "rD-4RlAxsTSw",
        "outputId": "4c7a9f45-8d3a-4ec8-cf25-2cda2dad90e8"
      },
      "execution_count": 38,
      "outputs": [
        {
          "output_type": "execute_result",
          "data": {
            "text/plain": [
              "1"
            ]
          },
          "metadata": {},
          "execution_count": 38
        }
      ]
    },
    {
      "cell_type": "code",
      "source": [
        "lower=int(input('enter number '))\n",
        "upper=int(input('enter number '))\n",
        "for i in range(lower,upper+1):\n",
        "  for j in range(2,i):\n",
        "    if i%j==0:\n",
        "      break\n",
        "  else:\n",
        "    print(i)\n"
      ],
      "metadata": {
        "colab": {
          "base_uri": "https://localhost:8080/"
        },
        "id": "gR5y0hzErn2t",
        "outputId": "12ee938c-297a-4e01-c122-d5b2370cfe6d"
      },
      "execution_count": 39,
      "outputs": [
        {
          "output_type": "stream",
          "name": "stdout",
          "text": [
            "enter number 6\n",
            "enter number 19\n",
            "7\n",
            "11\n",
            "13\n",
            "17\n",
            "19\n"
          ]
        }
      ]
    },
    {
      "cell_type": "code",
      "source": [
        "for i in range(1,10):\n",
        "  if i==5:\n",
        "    continue\n",
        "  print(i)"
      ],
      "metadata": {
        "colab": {
          "base_uri": "https://localhost:8080/"
        },
        "id": "btXtFgMssr-O",
        "outputId": "39e77bbe-0d9f-4791-df16-afa55aaa1dc5"
      },
      "execution_count": 40,
      "outputs": [
        {
          "output_type": "stream",
          "name": "stdout",
          "text": [
            "1\n",
            "2\n",
            "3\n",
            "4\n",
            "6\n",
            "7\n",
            "8\n",
            "9\n"
          ]
        }
      ]
    },
    {
      "cell_type": "code",
      "source": [
        "for i in range(1,10):\n",
        "  pass"
      ],
      "metadata": {
        "id": "2lE1JsKhs9Vx"
      },
      "execution_count": 42,
      "outputs": []
    },
    {
      "cell_type": "code",
      "source": [],
      "metadata": {
        "id": "BuoYpxVXtZgF"
      },
      "execution_count": null,
      "outputs": []
    }
  ]
}