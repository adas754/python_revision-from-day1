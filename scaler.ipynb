{
  "nbformat": 4,
  "nbformat_minor": 0,
  "metadata": {
    "colab": {
      "provenance": [],
      "include_colab_link": true
    },
    "kernelspec": {
      "name": "python3",
      "display_name": "Python 3"
    },
    "language_info": {
      "name": "python"
    }
  },
  "cells": [
    {
      "cell_type": "markdown",
      "metadata": {
        "id": "view-in-github",
        "colab_type": "text"
      },
      "source": [
        "<a href=\"https://colab.research.google.com/github/adas754/python_revision-from-day1/blob/main/scaler.ipynb\" target=\"_parent\"><img src=\"https://colab.research.google.com/assets/colab-badge.svg\" alt=\"Open In Colab\"/></a>"
      ]
    },
    {
      "cell_type": "code",
      "source": [
        "def sod(n):\n",
        "  digit_sum=0\n",
        "  while n>0:\n",
        "    digit_sum+=n%10\n",
        "    n//=10\n",
        "  return digit_sum\n",
        "sod(54)"
      ],
      "metadata": {
        "colab": {
          "base_uri": "https://localhost:8080/"
        },
        "id": "DDSggzvOQQqi",
        "outputId": "cf975d7e-45f5-4760-ee7d-7dcfa03586da"
      },
      "execution_count": null,
      "outputs": [
        {
          "output_type": "execute_result",
          "data": {
            "text/plain": [
              "9"
            ]
          },
          "metadata": {},
          "execution_count": 10
        }
      ]
    },
    {
      "cell_type": "code",
      "source": [
        "def tree_age(lines):\n",
        "  if lines>20:\n",
        "    print('Old')\n",
        "  elif 10<=lines<=20:\n",
        "    print('Not too old')\n",
        "  elif 2<=lines<=9:\n",
        "    print('Just became big')\n",
        "  elif lines<2:\n",
        "    print('Started growing')\n",
        "tree_age(1)"
      ],
      "metadata": {
        "colab": {
          "base_uri": "https://localhost:8080/"
        },
        "id": "HzpydUckQnei",
        "outputId": "794a83f9-6615-407a-a89d-4ba627ccc491"
      },
      "execution_count": null,
      "outputs": [
        {
          "output_type": "stream",
          "name": "stdout",
          "text": [
            "Started growing\n"
          ]
        }
      ]
    },
    {
      "cell_type": "code",
      "source": [
        "def is_prime(n):\n",
        "  if n<2:\n",
        "    return False\n",
        "  for i in range(2,n):\n",
        "    if n%i==0:\n",
        "      return False\n",
        "  return True\n",
        "def sum_of_prime(n):\n",
        "  sum=0\n",
        "  for i in range(2,n+1):\n",
        "    if is_prime(i):\n",
        "      sum+=i\n",
        "  return sum\n",
        "sum_of_prime(10)"
      ],
      "metadata": {
        "colab": {
          "base_uri": "https://localhost:8080/"
        },
        "id": "87gjBYLzTEvA",
        "outputId": "660eebf3-831d-40e3-bf0f-f6fb4a3245a5"
      },
      "execution_count": null,
      "outputs": [
        {
          "output_type": "execute_result",
          "data": {
            "text/plain": [
              "17"
            ]
          },
          "metadata": {},
          "execution_count": 17
        }
      ]
    },
    {
      "cell_type": "code",
      "source": [
        "def unique_(list_of_words):\n",
        "  res=[]\n",
        "  for i in list_of_words:\n",
        "    if len(i)==len(set(i)):\n",
        "      res.append(i)\n",
        "  return res"
      ],
      "metadata": {
        "id": "X9lTEfRSUR_o"
      },
      "execution_count": 5,
      "outputs": []
    },
    {
      "cell_type": "code",
      "source": [
        "unique_([['hello', 'world', 'python','programming']])"
      ],
      "metadata": {
        "colab": {
          "base_uri": "https://localhost:8080/"
        },
        "id": "uEvNUZtqHFaq",
        "outputId": "d9b59645-3c64-46ed-a871-aaba8c087cf6"
      },
      "execution_count": 10,
      "outputs": [
        {
          "output_type": "execute_result",
          "data": {
            "text/plain": [
              "[['hello', 'world', 'python', 'programming']]"
            ]
          },
          "metadata": {},
          "execution_count": 10
        }
      ]
    },
    {
      "cell_type": "code",
      "source": [
        "from typing import List\n",
        "\n",
        "def maxOnes(arr) -> int:\n",
        "    return max(range(len(arr)), key=lambda i: (sum(arr[i]), i))\n",
        "\n",
        "arr = [[0,1,1,1], [0,0,1,1], [0,0,1,1], [1,0,1,1]]\n",
        "print(maxOnes(arr))"
      ],
      "metadata": {
        "colab": {
          "base_uri": "https://localhost:8080/"
        },
        "id": "CKYpoaCrHbor",
        "outputId": "08704850-673f-4e6d-a9b0-b6a40506fbff"
      },
      "execution_count": 14,
      "outputs": [
        {
          "output_type": "stream",
          "name": "stdout",
          "text": [
            "3\n"
          ]
        }
      ]
    },
    {
      "cell_type": "code",
      "source": [],
      "metadata": {
        "id": "B8VK2mZLI3Yb"
      },
      "execution_count": null,
      "outputs": []
    }
  ]
}