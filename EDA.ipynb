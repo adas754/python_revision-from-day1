{
  "nbformat": 4,
  "nbformat_minor": 0,
  "metadata": {
    "colab": {
      "provenance": [],
      "authorship_tag": "ABX9TyNwC/vqG7Jdxrvu8sd8ZITs",
      "include_colab_link": true
    },
    "kernelspec": {
      "name": "python3",
      "display_name": "Python 3"
    },
    "language_info": {
      "name": "python"
    }
  },
  "cells": [
    {
      "cell_type": "markdown",
      "metadata": {
        "id": "view-in-github",
        "colab_type": "text"
      },
      "source": [
        "<a href=\"https://colab.research.google.com/github/adas754/python_revision-from-day1/blob/main/EDA.ipynb\" target=\"_parent\"><img src=\"https://colab.research.google.com/assets/colab-badge.svg\" alt=\"Open In Colab\"/></a>"
      ]
    },
    {
      "cell_type": "code",
      "execution_count": 1,
      "metadata": {
        "id": "C0u1h6A_yvur"
      },
      "outputs": [],
      "source": [
        "import numpy as np\n",
        "arr = np.array([10, 20, 30, 40, 50])"
      ]
    },
    {
      "cell_type": "code",
      "source": [
        "arr.astype('float64')"
      ],
      "metadata": {
        "colab": {
          "base_uri": "https://localhost:8080/"
        },
        "id": "-gE1lHNTy5lS",
        "outputId": "849008d6-ecad-47c2-f409-5670b4455f4d"
      },
      "execution_count": 2,
      "outputs": [
        {
          "output_type": "execute_result",
          "data": {
            "text/plain": [
              "array([10., 20., 30., 40., 50.])"
            ]
          },
          "metadata": {},
          "execution_count": 2
        }
      ]
    },
    {
      "cell_type": "code",
      "source": [
        "import numpy as np\n",
        "a = np.arange(10)\n",
        "print(a[2:5])"
      ],
      "metadata": {
        "colab": {
          "base_uri": "https://localhost:8080/"
        },
        "id": "_kgxWThSzAvD",
        "outputId": "1db19140-9b71-4666-868d-abcf23b32c85"
      },
      "execution_count": 3,
      "outputs": [
        {
          "output_type": "stream",
          "name": "stdout",
          "text": [
            "[2 3 4]\n"
          ]
        }
      ]
    },
    {
      "cell_type": "code",
      "source": [
        "import numpy as np\n",
        "x = np.array([-5, 9 , 20 , 25, -3, 5, 16, 10,-8])\n",
        "x[(x >= -5) & (x <= 15)] *= -1\n",
        "print(x)"
      ],
      "metadata": {
        "colab": {
          "base_uri": "https://localhost:8080/"
        },
        "id": "RXdAXVEozl7y",
        "outputId": "acb6c83d-5460-4afb-f11a-191006966d15"
      },
      "execution_count": 4,
      "outputs": [
        {
          "output_type": "stream",
          "name": "stdout",
          "text": [
            "[  5  -9  20  25   3  -5  16 -10  -8]\n"
          ]
        }
      ]
    },
    {
      "cell_type": "code",
      "source": [
        "def get_arr(arr):\n",
        "  shape=arr.shape\n",
        "  dim=arr.ndim\n",
        "  return shape,dim\n",
        "get_arr(np.array([0,1,2,3,4,5]))"
      ],
      "metadata": {
        "colab": {
          "base_uri": "https://localhost:8080/"
        },
        "id": "QcbVYLdWz9va",
        "outputId": "eb702a21-2636-4490-94ee-d7cbe5b3cf74"
      },
      "execution_count": 21,
      "outputs": [
        {
          "output_type": "execute_result",
          "data": {
            "text/plain": [
              "((6,), 1)"
            ]
          },
          "metadata": {},
          "execution_count": 21
        }
      ]
    },
    {
      "cell_type": "code",
      "source": [
        "def get_ele(arr):\n",
        "  first=arr[0]\n",
        "  last=arr[-1]\n",
        "  return first,last\n",
        "get_ele(np.array([0,1,2,3,4,5]))"
      ],
      "metadata": {
        "colab": {
          "base_uri": "https://localhost:8080/"
        },
        "id": "cdFWU9Ul2CK2",
        "outputId": "d5a8fd0c-7f05-4648-92b6-802d4d5af19b"
      },
      "execution_count": 22,
      "outputs": [
        {
          "output_type": "execute_result",
          "data": {
            "text/plain": [
              "(0, 5)"
            ]
          },
          "metadata": {},
          "execution_count": 22
        }
      ]
    },
    {
      "cell_type": "code",
      "source": [
        "def seq(start,length,step):\n",
        "  seq=np.arange(start,start+step*length,step)\n",
        "  return seq\n",
        "print(seq(5,10,3))"
      ],
      "metadata": {
        "colab": {
          "base_uri": "https://localhost:8080/"
        },
        "id": "eK8XOJPf7gDx",
        "outputId": "c2467dc4-f558-424f-d260-97487aa47ce2"
      },
      "execution_count": 30,
      "outputs": [
        {
          "output_type": "stream",
          "name": "stdout",
          "text": [
            "[ 5  8 11 14 17 20 23 26 29 32]\n"
          ]
        }
      ]
    },
    {
      "cell_type": "code",
      "source": [
        "def create_seq(start,end,step):\n",
        "  arr=np.arange(start,end,step).round(2)\n",
        "  return arr\n",
        "create_seq(5,7,0.5)"
      ],
      "metadata": {
        "colab": {
          "base_uri": "https://localhost:8080/"
        },
        "id": "Fr2nLLM1-AXq",
        "outputId": "56fd543c-3da6-4e88-f1cb-8bd4c0fa8ae9"
      },
      "execution_count": 39,
      "outputs": [
        {
          "output_type": "execute_result",
          "data": {
            "text/plain": [
              "array([5. , 5.5, 6. , 6.5])"
            ]
          },
          "metadata": {},
          "execution_count": 39
        }
      ]
    },
    {
      "cell_type": "code",
      "source": [
        "import numpy as np\n",
        "arr = np.array([1, 2, 3, 4])\n",
        "print(arr[2] + arr[-2])"
      ],
      "metadata": {
        "colab": {
          "base_uri": "https://localhost:8080/"
        },
        "id": "hCiomdP1Bc8k",
        "outputId": "84d46f4b-b6a6-47e8-b2c6-6a9c0fc3bca6"
      },
      "execution_count": 40,
      "outputs": [
        {
          "output_type": "stream",
          "name": "stdout",
          "text": [
            "6\n"
          ]
        }
      ]
    },
    {
      "cell_type": "code",
      "source": [
        "a = np.array([100, 200, 300, 400])\n",
        "\n",
        "b = np.array([300, 200, 100, 400])\n",
        "\n",
        "print(a == b)"
      ],
      "metadata": {
        "colab": {
          "base_uri": "https://localhost:8080/"
        },
        "id": "Z68THKs3COox",
        "outputId": "c94abd34-4c7a-4b29-b418-b252b723574a"
      },
      "execution_count": 41,
      "outputs": [
        {
          "output_type": "stream",
          "name": "stdout",
          "text": [
            "[False  True False  True]\n"
          ]
        }
      ]
    },
    {
      "cell_type": "code",
      "source": [
        "arr = np.array([1,2,3,4,5,6,7,8])\n",
        "arr[::2] = range(10,50,10)\n",
        "print(arr)"
      ],
      "metadata": {
        "colab": {
          "base_uri": "https://localhost:8080/"
        },
        "id": "v6AqGINKCcwp",
        "outputId": "9c50f784-6cbc-44ea-f13a-34e44f11b8e6"
      },
      "execution_count": 42,
      "outputs": [
        {
          "output_type": "stream",
          "name": "stdout",
          "text": [
            "[10  2 20  4 30  6 40  8]\n"
          ]
        }
      ]
    },
    {
      "cell_type": "code",
      "source": [
        "def ratio(arr):\n",
        "  destination=arr[arr>80]\n",
        "  first_divison=arr[(arr>=60)&(arr<80)]\n",
        "  destination=len(destination)\n",
        "  first_divison=len(first_divison)\n",
        "  ratio=destination/first_divison\n",
        "  return round(ratio,2)\n",
        "ratio(np.array([20, 35, 68, 82, 83, 70, 90]))"
      ],
      "metadata": {
        "colab": {
          "base_uri": "https://localhost:8080/"
        },
        "id": "h6FMcZS-I_ls",
        "outputId": "46cc8fd4-936d-44bf-ecaf-6de54b903a3b"
      },
      "execution_count": 47,
      "outputs": [
        {
          "output_type": "execute_result",
          "data": {
            "text/plain": [
              "1.5"
            ]
          },
          "metadata": {},
          "execution_count": 47
        }
      ]
    },
    {
      "cell_type": "code",
      "source": [
        "def filtered_(arr):\n",
        "  arr=np.array(arr)\n",
        "  return arr[arr>40]\n",
        "\n",
        "\n",
        "print(filtered_([85, 18, 2, 57, 65, 44]))"
      ],
      "metadata": {
        "colab": {
          "base_uri": "https://localhost:8080/"
        },
        "id": "cQb1j-P0MiN6",
        "outputId": "05a61ae1-90ed-474f-8c74-f4a4a08b975f"
      },
      "execution_count": 54,
      "outputs": [
        {
          "output_type": "stream",
          "name": "stdout",
          "text": [
            "[85 57 65 44]\n"
          ]
        }
      ]
    },
    {
      "cell_type": "code",
      "source": [],
      "metadata": {
        "id": "jh41v-mYNLbQ"
      },
      "execution_count": null,
      "outputs": []
    }
  ]
}