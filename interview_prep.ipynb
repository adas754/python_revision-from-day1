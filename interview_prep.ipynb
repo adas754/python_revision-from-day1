{
  "nbformat": 4,
  "nbformat_minor": 0,
  "metadata": {
    "colab": {
      "provenance": [],
      "authorship_tag": "ABX9TyMp2bXe/M3tKRw3bJsRzcIc",
      "include_colab_link": true
    },
    "kernelspec": {
      "name": "python3",
      "display_name": "Python 3"
    },
    "language_info": {
      "name": "python"
    }
  },
  "cells": [
    {
      "cell_type": "markdown",
      "metadata": {
        "id": "view-in-github",
        "colab_type": "text"
      },
      "source": [
        "<a href=\"https://colab.research.google.com/github/adas754/python_revision-from-day1/blob/main/interview_prep.ipynb\" target=\"_parent\"><img src=\"https://colab.research.google.com/assets/colab-badge.svg\" alt=\"Open In Colab\"/></a>"
      ]
    },
    {
      "cell_type": "code",
      "execution_count": null,
      "metadata": {
        "colab": {
          "base_uri": "https://localhost:8080/"
        },
        "id": "dPJi4b5TpbgX",
        "outputId": "59b20e41-8080-4348-c3ee-da13a740bec8"
      },
      "outputs": [
        {
          "output_type": "stream",
          "name": "stdout",
          "text": [
            "run and walk\n",
            "roar\n"
          ]
        }
      ],
      "source": [
        "from abc import ABC,abstractmethod\n",
        "class Animal(ABC):\n",
        "  def move(self):\n",
        "    pass\n",
        "class Human(Animal):\n",
        "  def move(self):\n",
        "    print(\"run and walk\")\n",
        "class lion(Animal):\n",
        "  def move(self):\n",
        "    print(\"roar\")\n",
        "\n",
        "r=Human()\n",
        "r.move()\n",
        "k=lion()\n",
        "k.move()\n"
      ]
    },
    {
      "cell_type": "code",
      "source": [
        "from abc import ABC,abstractmethod\n",
        "class Animal(ABC):\n",
        "  def move(self):\n",
        "    pass\n",
        "class Human(Animal):\n",
        "  def move(self):\n",
        "    print('walking !')\n",
        "class Lion(Animal):\n",
        "  def move(self):\n",
        "    print(\"Roar !\")\n",
        "r=Human()\n",
        "r.move()\n",
        "k=Lion()\n",
        "k.move()"
      ],
      "metadata": {
        "colab": {
          "base_uri": "https://localhost:8080/"
        },
        "id": "qoEXnZOoUTbA",
        "outputId": "867dcd86-55ca-4102-a33d-5e2654bbb4a8"
      },
      "execution_count": null,
      "outputs": [
        {
          "output_type": "stream",
          "name": "stdout",
          "text": [
            "walking !\n",
            "Roar !\n"
          ]
        }
      ]
    },
    {
      "cell_type": "code",
      "source": [
        "from abc import ABC,abstractmethod\n",
        "class Animal(ABC):\n",
        "  def move(self):\n",
        "    pass\n",
        "class human(Animal):\n",
        "  def move(self):\n",
        "    print(\"Walk --\")\n",
        "class lion(Animal):\n",
        "  def move(self):\n",
        "    print(\"roar !\")\n",
        "k=human()\n",
        "k.move()\n",
        "r=lion()\n",
        "r.move()"
      ],
      "metadata": {
        "colab": {
          "base_uri": "https://localhost:8080/"
        },
        "id": "_OSK1WVrVOzV",
        "outputId": "68423356-7d40-450c-913b-f0b8b92c9c0e"
      },
      "execution_count": null,
      "outputs": [
        {
          "output_type": "stream",
          "name": "stdout",
          "text": [
            "Walk --\n",
            "roar !\n"
          ]
        }
      ]
    },
    {
      "cell_type": "code",
      "source": [
        "from abc import ABC,abstractclassmethod\n",
        "class Animal(ABC):\n",
        "  def move(self):\n",
        "    pass\n",
        "class Human(Animal):\n",
        "  def move(self):\n",
        "    print(\"walking\")\n",
        "class lion(Animal):\n",
        "  def move(self):\n",
        "    print(\"roar\")\n",
        "r=Human()\n",
        "r.move()\n",
        "k=lion()\n",
        "k.move()"
      ],
      "metadata": {
        "colab": {
          "base_uri": "https://localhost:8080/"
        },
        "id": "HqmkdIyIVqxb",
        "outputId": "aa4b3cb7-96ad-4526-9979-1acff55021b4"
      },
      "execution_count": null,
      "outputs": [
        {
          "output_type": "stream",
          "name": "stdout",
          "text": [
            "walking\n",
            "roar\n"
          ]
        }
      ]
    },
    {
      "cell_type": "code",
      "source": [
        "def welcome():\n",
        "  print(\"Welcome to you tube channel\")"
      ],
      "metadata": {
        "id": "8Hhp3UgI3xY8"
      },
      "execution_count": null,
      "outputs": []
    },
    {
      "cell_type": "code",
      "source": [
        "wel=welcome()\n",
        "del welcome"
      ],
      "metadata": {
        "colab": {
          "base_uri": "https://localhost:8080/"
        },
        "id": "MHfc6dVv4SHH",
        "outputId": "05d63a85-9f78-4e29-b2ea-ecd2680e5b91"
      },
      "execution_count": null,
      "outputs": [
        {
          "output_type": "stream",
          "name": "stdout",
          "text": [
            "Welcome to you tube channel\n"
          ]
        }
      ]
    },
    {
      "cell_type": "code",
      "source": [
        "wel"
      ],
      "metadata": {
        "id": "tBbxfZ-N4cYG"
      },
      "execution_count": null,
      "outputs": []
    },
    {
      "cell_type": "code",
      "source": [
        "def main_welcome(msg):\n",
        "  def sub_welcome_class():\n",
        "    print(msg)\n",
        "    print(\"welcome to utube \")\n",
        "    print(\"subscribe\")\n",
        "  return sub_welcome_class()"
      ],
      "metadata": {
        "id": "pXr56T2k4g52"
      },
      "execution_count": null,
      "outputs": []
    },
    {
      "cell_type": "code",
      "source": [
        "main_welcome(\"t\")"
      ],
      "metadata": {
        "colab": {
          "base_uri": "https://localhost:8080/"
        },
        "id": "-oCDNOoi42K7",
        "outputId": "9f3af760-f973-416a-8a34-94081c8acf46"
      },
      "execution_count": null,
      "outputs": [
        {
          "output_type": "stream",
          "name": "stdout",
          "text": [
            "t\n",
            "welcome to utube \n",
            "subscribe\n"
          ]
        }
      ]
    },
    {
      "cell_type": "code",
      "source": [
        "def main_welcome(func):\n",
        "  def sub_welcome_class():\n",
        "    print(\"welcome to utube \")\n",
        "    func('deals python')\n",
        "    print(\"subscribe\")\n",
        "  return sub_welcome_class()"
      ],
      "metadata": {
        "id": "7vjme3eq5KpI"
      },
      "execution_count": null,
      "outputs": []
    },
    {
      "cell_type": "code",
      "source": [
        "main_welcome(print)"
      ],
      "metadata": {
        "colab": {
          "base_uri": "https://localhost:8080/"
        },
        "id": "lrLB4paL59XY",
        "outputId": "a99fe30d-5acc-4ddc-cb10-6e70db994bbe"
      },
      "execution_count": null,
      "outputs": [
        {
          "output_type": "stream",
          "name": "stdout",
          "text": [
            "welcome to utube \n",
            "deals python\n",
            "subscribe\n"
          ]
        }
      ]
    },
    {
      "cell_type": "code",
      "source": [
        "def main_welcome(func):\n",
        "  def sub_welcome_class():\n",
        "    print(\"welcome to utube \")\n",
        "    print(func([1,2,3,4,5,6]))\n",
        "    print(\"subscribe\")\n",
        "  return sub_welcome_class()"
      ],
      "metadata": {
        "id": "52iV1aE86Gnp"
      },
      "execution_count": null,
      "outputs": []
    },
    {
      "cell_type": "code",
      "source": [
        "main_welcome(len)"
      ],
      "metadata": {
        "colab": {
          "base_uri": "https://localhost:8080/"
        },
        "id": "ARvwrBUi6uxU",
        "outputId": "456cf5e6-4c0e-4683-ff5d-06b89e392436"
      },
      "execution_count": null,
      "outputs": [
        {
          "output_type": "stream",
          "name": "stdout",
          "text": [
            "welcome to utube \n",
            "6\n",
            "subscribe\n"
          ]
        }
      ]
    },
    {
      "cell_type": "code",
      "source": [
        "def main_welcome(func):\n",
        "  def sub_welcome_class():\n",
        "    print(\"welcome\")\n",
        "    func()\n",
        "    print(\"subscribe\")\n",
        "  return sub_welcome_class()"
      ],
      "metadata": {
        "id": "hxAmkqu869iB"
      },
      "execution_count": null,
      "outputs": []
    },
    {
      "cell_type": "code",
      "source": [
        "def channel_name():\n",
        "  print(\"this is utube channel\")"
      ],
      "metadata": {
        "id": "jRC6peGb7o7F"
      },
      "execution_count": null,
      "outputs": []
    },
    {
      "cell_type": "code",
      "source": [
        "main_welcome(channel_name)"
      ],
      "metadata": {
        "colab": {
          "base_uri": "https://localhost:8080/"
        },
        "id": "xg8JMRla74_d",
        "outputId": "444c0c96-4da8-4969-81af-f79440221020"
      },
      "execution_count": null,
      "outputs": [
        {
          "output_type": "stream",
          "name": "stdout",
          "text": [
            "welcome\n",
            "this is utube channel\n",
            "subscribe\n"
          ]
        }
      ]
    },
    {
      "cell_type": "code",
      "source": [
        "@main_welcome\n",
        "def channel_name():\n",
        "  print(\"this is utube \")"
      ],
      "metadata": {
        "colab": {
          "base_uri": "https://localhost:8080/"
        },
        "id": "BsDdJqsu8JKZ",
        "outputId": "80424d4f-b980-4505-9114-4e97a309c6aa"
      },
      "execution_count": null,
      "outputs": [
        {
          "output_type": "stream",
          "name": "stdout",
          "text": [
            "welcome\n",
            "this is utube \n",
            "subscribe\n"
          ]
        }
      ]
    },
    {
      "cell_type": "code",
      "source": [
        "def main_welcome(func):\n",
        "  def sub_welcome_class():\n",
        "    print('subscribe')\n",
        "    print('welcome')\n",
        "    func()\n",
        "    print('hi')\n",
        "  return sub_welcome_class()"
      ],
      "metadata": {
        "id": "sWxj-g6o7_hM"
      },
      "execution_count": null,
      "outputs": []
    },
    {
      "cell_type": "code",
      "source": [
        "@main_welcome\n",
        "def channel_name():\n",
        "  print('hello')"
      ],
      "metadata": {
        "colab": {
          "base_uri": "https://localhost:8080/"
        },
        "id": "9d-RfXoa_v0w",
        "outputId": "efc846ca-eb03-4308-e4f1-9cb0a76e5c01"
      },
      "execution_count": null,
      "outputs": [
        {
          "output_type": "stream",
          "name": "stdout",
          "text": [
            "subscribe\n",
            "welcome\n",
            "hello\n",
            "hi\n"
          ]
        }
      ]
    },
    {
      "cell_type": "code",
      "source": [
        "def main_welcome_class(func):\n",
        "  def sub_welcome_class():\n",
        "    func()\n",
        "    print(\"hi\")\n",
        "    print(\"hello\")\n",
        "  return sub_welcome_class()"
      ],
      "metadata": {
        "id": "8yvMY3-TWE_m"
      },
      "execution_count": null,
      "outputs": []
    },
    {
      "cell_type": "code",
      "source": [
        "@main_welcome_class\n",
        "def channel_name():\n",
        "  print(\"welcome\")"
      ],
      "metadata": {
        "colab": {
          "base_uri": "https://localhost:8080/"
        },
        "id": "6db7WWFnWuOD",
        "outputId": "0d4f79ae-bd1e-4585-db18-f3f494faed7b"
      },
      "execution_count": null,
      "outputs": [
        {
          "output_type": "stream",
          "name": "stdout",
          "text": [
            "welcome\n",
            "hi\n",
            "hello\n"
          ]
        }
      ]
    },
    {
      "cell_type": "code",
      "source": [
        "class father():\n",
        "  def skils(self):\n",
        "    print('i enjoy eating')\n",
        "class mother():\n",
        "  def skils(self):\n",
        "    print('reading')\n",
        "class child(father,mother):\n",
        "  def skils(self):\n",
        "    father.skils(self)\n",
        "    mother.skils(self)\n",
        "    print('python')\n",
        "c=child()\n",
        "c.skils()"
      ],
      "metadata": {
        "colab": {
          "base_uri": "https://localhost:8080/"
        },
        "id": "wnqo49Lj_5eI",
        "outputId": "3aea778e-347a-49a7-d287-2a84733660e4"
      },
      "execution_count": null,
      "outputs": [
        {
          "output_type": "stream",
          "name": "stdout",
          "text": [
            "i enjoy eating\n",
            "reading\n",
            "python\n"
          ]
        }
      ]
    },
    {
      "cell_type": "code",
      "source": [
        "class Father():\n",
        "  def skils(self):\n",
        "    print('eating')\n",
        "class Mother():\n",
        "  def skils(self):\n",
        "    print('reading')\n",
        "class child(Father,Mother):\n",
        "  def skils(self):\n",
        "    Father.skils(self)\n",
        "    Mother.skils(self)\n",
        "    print('python')\n",
        "c=child()\n",
        "c.skils()"
      ],
      "metadata": {
        "colab": {
          "base_uri": "https://localhost:8080/"
        },
        "id": "nFDzUClaC9-S",
        "outputId": "a50ecfa2-48fe-4da1-c947-6467811c49a7"
      },
      "execution_count": null,
      "outputs": [
        {
          "output_type": "stream",
          "name": "stdout",
          "text": [
            "eating\n",
            "reading\n",
            "python\n"
          ]
        }
      ]
    },
    {
      "cell_type": "code",
      "source": [
        "class Father():\n",
        "  def skils(self):\n",
        "    print(\"eating\")\n",
        "class Mother():\n",
        "  def skils(self):\n",
        "    print(\"Social work \")\n",
        "class child(Father,Mother):\n",
        "  def skils(self):\n",
        "    Father.skils(self)\n",
        "    Mother.skils(self)\n",
        "    print('Python ')\n",
        "c=child()\n",
        "c.skils()\n"
      ],
      "metadata": {
        "colab": {
          "base_uri": "https://localhost:8080/"
        },
        "id": "pfuF9JRnW-V9",
        "outputId": "52e2fe58-a220-4f2e-842a-8c0afdee5d7e"
      },
      "execution_count": null,
      "outputs": [
        {
          "output_type": "stream",
          "name": "stdout",
          "text": [
            "eating\n",
            "Social work \n",
            "Python \n"
          ]
        }
      ]
    },
    {
      "cell_type": "code",
      "source": [
        "class Father():\n",
        "  def skils(self):\n",
        "    print('Program')\n",
        "class Mother():\n",
        "  def skils(self):\n",
        "    print('program')\n",
        "class child(Father,Mother):\n",
        "  def skils(self):\n",
        "    Father.skils(self)\n",
        "    Mother.skils(self)\n",
        "    print('coding')\n",
        "c=child()\n",
        "c.skils()"
      ],
      "metadata": {
        "colab": {
          "base_uri": "https://localhost:8080/"
        },
        "id": "k-63R4oaX4Vu",
        "outputId": "7e516cf1-9bf8-40d5-ac95-e7072d8a73a8"
      },
      "execution_count": null,
      "outputs": [
        {
          "output_type": "stream",
          "name": "stdout",
          "text": [
            "Program\n",
            "program\n",
            "coding\n"
          ]
        }
      ]
    },
    {
      "cell_type": "code",
      "source": [
        "class car():\n",
        "  def __init__(self,windows,doors,enginetype):\n",
        "    self.windows=windows\n",
        "    self.doors=doors\n",
        "    self.enginetype=enginetype\n",
        "\n",
        "\n"
      ],
      "metadata": {
        "id": "WtcAnotHFlZ7"
      },
      "execution_count": null,
      "outputs": []
    },
    {
      "cell_type": "code",
      "source": [
        "audi=car(4,5,'disel')"
      ],
      "metadata": {
        "id": "ByceTfboHdB8"
      },
      "execution_count": null,
      "outputs": []
    },
    {
      "cell_type": "code",
      "source": [
        "audi"
      ],
      "metadata": {
        "colab": {
          "base_uri": "https://localhost:8080/"
        },
        "id": "pO5RohJ5Hip2",
        "outputId": "9488e51a-cee4-426f-b386-24679a3a2000"
      },
      "execution_count": null,
      "outputs": [
        {
          "output_type": "execute_result",
          "data": {
            "text/plain": [
              "<__main__.car at 0x7eb18673dd20>"
            ]
          },
          "metadata": {},
          "execution_count": 38
        }
      ]
    },
    {
      "cell_type": "code",
      "source": [
        "class car:\n",
        "  def __init__(self,windows,doors,engine):\n",
        "    self._windows=windows\n",
        "    self._doors=doors\n",
        "    self._engine=engine\n"
      ],
      "metadata": {
        "id": "griQemKNHk9r"
      },
      "execution_count": null,
      "outputs": []
    },
    {
      "cell_type": "code",
      "source": [
        "audi=car(5,7,'disel')"
      ],
      "metadata": {
        "id": "9RdBsvTTJB6R"
      },
      "execution_count": null,
      "outputs": []
    },
    {
      "cell_type": "code",
      "source": [
        "class car():\n",
        "  def __init__(self,windows,doors,enginetype):\n",
        "    self.windows=windows\n",
        "    self.doors=doors\n",
        "    self.enginetype=enginetype"
      ],
      "metadata": {
        "id": "_mKUXIDraHwV"
      },
      "execution_count": null,
      "outputs": []
    },
    {
      "cell_type": "code",
      "source": [
        "audi=car(3,7,'disel')\n",
        "audi.enginetype"
      ],
      "metadata": {
        "colab": {
          "base_uri": "https://localhost:8080/",
          "height": 35
        },
        "id": "Jk84wOh8bzA1",
        "outputId": "8b830d15-f73b-4e3c-aa98-41351d55f7e9"
      },
      "execution_count": null,
      "outputs": [
        {
          "output_type": "execute_result",
          "data": {
            "text/plain": [
              "'disel'"
            ],
            "application/vnd.google.colaboratory.intrinsic+json": {
              "type": "string"
            }
          },
          "metadata": {},
          "execution_count": 14
        }
      ]
    },
    {
      "cell_type": "code",
      "source": [
        "audi.enginetype='petrol'\n",
        "audi.enginetype"
      ],
      "metadata": {
        "colab": {
          "base_uri": "https://localhost:8080/",
          "height": 35
        },
        "id": "ks045e8qdIpp",
        "outputId": "c917bc2e-d0b2-43c4-fe55-456bf64d4218"
      },
      "execution_count": null,
      "outputs": [
        {
          "output_type": "execute_result",
          "data": {
            "text/plain": [
              "'petrol'"
            ],
            "application/vnd.google.colaboratory.intrinsic+json": {
              "type": "string"
            }
          },
          "metadata": {},
          "execution_count": 15
        }
      ]
    },
    {
      "cell_type": "code",
      "source": [
        "class Truck(car):\n",
        "  def __init__(self, windows, doors, enginetype,horsepower):\n",
        "    super().__init__(windows, doors, enginetype)\n",
        "    self.horsepower=horsepower"
      ],
      "metadata": {
        "id": "_F27n1WSdRXH"
      },
      "execution_count": null,
      "outputs": []
    },
    {
      "cell_type": "code",
      "source": [
        "t=Truck(6,2,'petrol',66)\n",
        "t.horsepower"
      ],
      "metadata": {
        "colab": {
          "base_uri": "https://localhost:8080/"
        },
        "id": "t6ka_Y5Xds2k",
        "outputId": "fef0bc24-9e7c-4a0f-e9c6-fbd0c77a1f5b"
      },
      "execution_count": null,
      "outputs": [
        {
          "output_type": "execute_result",
          "data": {
            "text/plain": [
              "66"
            ]
          },
          "metadata": {},
          "execution_count": 17
        }
      ]
    },
    {
      "cell_type": "code",
      "source": [
        "class truck(car):\n",
        "  def __init__(self, windows, doors, engine,horsepower):\n",
        "    super().__init__(windows, doors, engine)\n",
        "    self.horsepower=horsepower\n"
      ],
      "metadata": {
        "id": "HM3yVABeJHan"
      },
      "execution_count": null,
      "outputs": []
    },
    {
      "cell_type": "code",
      "source": [
        "t=truck(5,6,'disel',677)"
      ],
      "metadata": {
        "id": "Vsg13xSnL2IS"
      },
      "execution_count": null,
      "outputs": []
    },
    {
      "cell_type": "code",
      "source": [
        "t.horsepower"
      ],
      "metadata": {
        "colab": {
          "base_uri": "https://localhost:8080/"
        },
        "id": "lUQB77iEL9Hr",
        "outputId": "c69e508a-b7fd-4b4a-935e-00211e1875f9"
      },
      "execution_count": null,
      "outputs": [
        {
          "output_type": "execute_result",
          "data": {
            "text/plain": [
              "677"
            ]
          },
          "metadata": {},
          "execution_count": 43
        }
      ]
    },
    {
      "cell_type": "code",
      "source": [
        "t.doors=7"
      ],
      "metadata": {
        "id": "GUfEKKUcL_9E"
      },
      "execution_count": null,
      "outputs": []
    },
    {
      "cell_type": "code",
      "source": [
        "t.doors"
      ],
      "metadata": {
        "colab": {
          "base_uri": "https://localhost:8080/"
        },
        "id": "3OoWRiX4MLKJ",
        "outputId": "c84fa3dd-c63f-402a-a337-a74fec7aad50"
      },
      "execution_count": null,
      "outputs": [
        {
          "output_type": "execute_result",
          "data": {
            "text/plain": [
              "7"
            ]
          },
          "metadata": {},
          "execution_count": 45
        }
      ]
    },
    {
      "cell_type": "code",
      "source": [
        "t.horsepower=900\n"
      ],
      "metadata": {
        "id": "rvEHpbZUMNoU"
      },
      "execution_count": null,
      "outputs": []
    },
    {
      "cell_type": "code",
      "source": [
        "t.horsepower"
      ],
      "metadata": {
        "colab": {
          "base_uri": "https://localhost:8080/"
        },
        "id": "FTwPqFyzMTDp",
        "outputId": "cb2abc71-f1c4-4ba2-ff7d-f1ba20c1dc8f"
      },
      "execution_count": null,
      "outputs": [
        {
          "output_type": "execute_result",
          "data": {
            "text/plain": [
              "900"
            ]
          },
          "metadata": {},
          "execution_count": 47
        }
      ]
    },
    {
      "cell_type": "code",
      "source": [
        "class car:\n",
        "  def __init__(self,windows,doors,engine):\n",
        "    self.__windows=windows\n",
        "    self.__doors=doors\n",
        "    self.__engine=engine\n"
      ],
      "metadata": {
        "id": "nv1soUM-MUv9"
      },
      "execution_count": null,
      "outputs": []
    },
    {
      "cell_type": "code",
      "source": [
        "audi=car(4,5,'disel')"
      ],
      "metadata": {
        "id": "Id1kBMsbTT3l"
      },
      "execution_count": null,
      "outputs": []
    },
    {
      "cell_type": "code",
      "source": [
        "audi._car__doors=7"
      ],
      "metadata": {
        "id": "beoxKoWkSpe1"
      },
      "execution_count": null,
      "outputs": []
    },
    {
      "cell_type": "code",
      "source": [
        "audi._car__doors"
      ],
      "metadata": {
        "colab": {
          "base_uri": "https://localhost:8080/"
        },
        "id": "Bicf-cetS6ti",
        "outputId": "5ed03fc1-5bf3-4649-a22b-49ed33c8faaa"
      },
      "execution_count": null,
      "outputs": [
        {
          "output_type": "execute_result",
          "data": {
            "text/plain": [
              "7"
            ]
          },
          "metadata": {},
          "execution_count": 56
        }
      ]
    },
    {
      "cell_type": "code",
      "source": [
        "class car:\n",
        "  def __init__(self,windows,doors,enginetype):\n",
        "    self.windows=windows\n",
        "    self.doors=doors\n",
        "    self.enginetype=enginetype"
      ],
      "metadata": {
        "id": "Xjnc0-C1d80Y"
      },
      "execution_count": null,
      "outputs": []
    },
    {
      "cell_type": "code",
      "source": [
        "class truck(car):\n",
        "  def __init__(self, windows, doors, enginetype,horsepower):\n",
        "    super().__init__(windows, doors, enginetype)\n",
        "    self.horsepower=horsepower\n",
        "t=truck(6,7,'petrol',907)\n",
        "t.windows"
      ],
      "metadata": {
        "colab": {
          "base_uri": "https://localhost:8080/"
        },
        "id": "h0n8GbtwewIO",
        "outputId": "31bdbb42-92af-49ee-8306-b45a26349a9b"
      },
      "execution_count": null,
      "outputs": [
        {
          "output_type": "execute_result",
          "data": {
            "text/plain": [
              "6"
            ]
          },
          "metadata": {},
          "execution_count": 20
        }
      ]
    },
    {
      "cell_type": "code",
      "source": [
        "t.horsepower"
      ],
      "metadata": {
        "colab": {
          "base_uri": "https://localhost:8080/"
        },
        "id": "Mu1JJ0JlfSXF",
        "outputId": "c234430d-d6b6-4dbf-9179-56d13faed945"
      },
      "execution_count": null,
      "outputs": [
        {
          "output_type": "execute_result",
          "data": {
            "text/plain": [
              "907"
            ]
          },
          "metadata": {},
          "execution_count": 21
        }
      ]
    },
    {
      "cell_type": "code",
      "source": [
        "class social_media:\n",
        "  def share_stories(self):\n",
        "    print('share story ')\n",
        "  def upload_pic(self):\n",
        "    print('upload photo')\n",
        "class facebook(social_media):\n",
        "  def share_stories(self):\n",
        "    print('share story')\n",
        "class insta(social_media):\n",
        "  def share_stories(self):\n",
        "    print('share photo')\n",
        "f=facebook()\n",
        "i=insta()\n",
        "f.share_stories()\n",
        "i.share_stories()"
      ],
      "metadata": {
        "colab": {
          "base_uri": "https://localhost:8080/"
        },
        "id": "N1Tu3N-3Ta_f",
        "outputId": "4abbb660-6d5b-4575-bb77-26c83277754e"
      },
      "execution_count": null,
      "outputs": [
        {
          "output_type": "stream",
          "name": "stdout",
          "text": [
            "share story\n",
            "share photo\n"
          ]
        }
      ]
    },
    {
      "cell_type": "code",
      "source": [
        "class social_media:\n",
        "  def upload_pic(self):\n",
        "    print('upload pic !')\n",
        "  def share_stories(self):\n",
        "    print('share stories ')\n",
        "class facebook(social_media):\n",
        "  def upload_pic(self):\n",
        "    print('share story ')\n",
        "class instagram(social_media):\n",
        "  def share_stories(self):\n",
        "    print('upload stories ')\n",
        "i=instagram()\n",
        "f=facebook()\n",
        "i.share_stories()\n",
        "f.upload_pic()\n"
      ],
      "metadata": {
        "colab": {
          "base_uri": "https://localhost:8080/"
        },
        "id": "0lKaJLZ2fduF",
        "outputId": "f1e525de-1f93-4bc1-d7ff-3587a3b67b88"
      },
      "execution_count": null,
      "outputs": [
        {
          "output_type": "stream",
          "name": "stdout",
          "text": [
            "upload stories \n",
            "share story \n"
          ]
        }
      ]
    },
    {
      "cell_type": "code",
      "source": [
        "def multiply_matrices(a,b):\n",
        "  row_a,col_a=len(a),len(a[0])\n",
        "  row_b,col_b=len(b),len(b[0])\n",
        "  result=[[0 for row in range(col_b)] for col in range(row_a)]\n",
        "  for i in range(row_a):\n",
        "    for j in range(col_b):\n",
        "      for k in range(row_b):\n",
        "        result[i][j]+=a[i][k]*b[k][j]\n",
        "  return result\n",
        "a=[[1,2],[3,4]]\n",
        "b=[[5,6],[7,8]]\n",
        "multiply_matrices(a,b)"
      ],
      "metadata": {
        "colab": {
          "base_uri": "https://localhost:8080/"
        },
        "id": "p6Un1HGNcxAZ",
        "outputId": "7c8c9828-8537-437a-a409-bd00e83ec9fd"
      },
      "execution_count": null,
      "outputs": [
        {
          "output_type": "execute_result",
          "data": {
            "text/plain": [
              "[[19, 22], [43, 50]]"
            ]
          },
          "metadata": {},
          "execution_count": 60
        }
      ]
    },
    {
      "cell_type": "code",
      "source": [
        "def multiply_matrices(a,b):\n",
        "  row_a,row_b=len(a),len(a[0])\n",
        "  col_a,col_b=len(b),len(b[0])\n",
        "  result=[[0 for row in range(col_b)] for col in range(row_a)]\n",
        "  for i in range(row_a):\n",
        "    for j in range(col_b):\n",
        "      for k in range(row_b):\n",
        "        result[i][j]+=a[i][k]*b[k][j]\n",
        "  return result\n",
        "a=[[1,2],[3,4]]\n",
        "b=[[5,6],[7,8]]\n",
        "multiply_matrices(a,b)\n"
      ],
      "metadata": {
        "colab": {
          "base_uri": "https://localhost:8080/"
        },
        "id": "R45zHDZehV7l",
        "outputId": "3d944631-874c-43bd-b636-3999a7ce7a75"
      },
      "execution_count": null,
      "outputs": [
        {
          "output_type": "execute_result",
          "data": {
            "text/plain": [
              "[[19, 22], [43, 50]]"
            ]
          },
          "metadata": {},
          "execution_count": 24
        }
      ]
    },
    {
      "cell_type": "code",
      "source": [
        "def multiply_matrices(a,b):\n",
        "  row_a,row_b=len(a),len(a[0])\n",
        "  col_a,col_b=len(b),len(b[0])\n",
        "  result=[[0 for row in range(col_b)] for col in range(row_b)]\n",
        "  for i in range(row_a):\n",
        "    for j in range(col_b):\n",
        "      for k in range(row_b):\n",
        "        result[i][j]+=a[i][k]*b[k][j]\n",
        "  return result\n",
        "a=[[1,2],[3,4]]\n",
        "b=[[5,6],[7,8]]\n",
        "multiply_matrices(a,b)\n",
        "\n"
      ],
      "metadata": {
        "colab": {
          "base_uri": "https://localhost:8080/"
        },
        "id": "BoS5BRg1i4RK",
        "outputId": "08fa83b0-efab-4db0-a66f-6de7dacf853b"
      },
      "execution_count": null,
      "outputs": [
        {
          "output_type": "execute_result",
          "data": {
            "text/plain": [
              "[[19, 22], [43, 50]]"
            ]
          },
          "metadata": {},
          "execution_count": 25
        }
      ]
    },
    {
      "cell_type": "code",
      "source": [
        "def transpose_matrix(matrix):\n",
        "  rows=len(matrix)\n",
        "  cols=len(matrix[0])\n",
        "  transposed=[[0 for row in range(rows)] for col in range(cols)]\n",
        "  for row in range(rows):\n",
        "    for col in range(cols):\n",
        "      transposed[row][col]=matrix[col][row]\n",
        "  return transposed\n",
        "original_matrix=[[1,2,3],[4,5,6],[7,8,9]]\n",
        "transposed_matrix=transpose_matrix(original_matrix)\n",
        "print(transposed_matrix)"
      ],
      "metadata": {
        "colab": {
          "base_uri": "https://localhost:8080/"
        },
        "id": "W-fI4ZyDkGKk",
        "outputId": "0fd75727-64f9-4fca-95ee-1c08e5b82d71"
      },
      "execution_count": null,
      "outputs": [
        {
          "output_type": "stream",
          "name": "stdout",
          "text": [
            "[[1, 4, 7], [2, 5, 8], [3, 6, 9]]\n"
          ]
        }
      ]
    },
    {
      "cell_type": "code",
      "source": [
        "def transpose_matrix(matrix):\n",
        "  rows=len(matrix)\n",
        "  cols=len(matrix[0])\n",
        "  transposed=[[0 for row in range(rows)] for col in range(cols)]\n",
        "  for row in range(rows):\n",
        "    for col in range(cols):\n",
        "      transposed[row][col]=matrix[col][row]\n",
        "  return transposed\n",
        "original_matrix=[[1,2,3],[4,5,6],[7,8,9]]\n",
        "transposed_matrix=transpose_matrix(original_matrix)\n",
        "print(transposed_matrix)"
      ],
      "metadata": {
        "colab": {
          "base_uri": "https://localhost:8080/"
        },
        "id": "mhNXFFZCou4q",
        "outputId": "576e1665-00cd-4633-a34f-c7cce3e5ccae"
      },
      "execution_count": null,
      "outputs": [
        {
          "output_type": "stream",
          "name": "stdout",
          "text": [
            "[[1, 4, 7], [2, 5, 8], [3, 6, 9]]\n"
          ]
        }
      ]
    },
    {
      "cell_type": "code",
      "source": [
        "def multiply_matrices(a,b):\n",
        "  row_a,row_b=len(a),len(a[0])\n",
        "  col_a,col_b=len(b),len(b[0])\n",
        "  result=[[0 for row in range(col_b)] for col in range(row_b)]\n",
        "  for i in range(row_a):\n",
        "    for j in range(col_b):\n",
        "      for k in range(row_b):\n",
        "        result[i][j]+=a[i][k]*b[k][j]\n",
        "  return result\n",
        "a=[[1,2],[3,4]]\n",
        "b=[[5,6],[7,8]]\n",
        "multiply_matrices(a,b)"
      ],
      "metadata": {
        "colab": {
          "base_uri": "https://localhost:8080/"
        },
        "id": "4IosqYvop2YE",
        "outputId": "3fcedf5c-3fa9-4bb3-e006-7cd4ef6efd9d"
      },
      "execution_count": null,
      "outputs": [
        {
          "output_type": "execute_result",
          "data": {
            "text/plain": [
              "[[19, 22], [43, 50]]"
            ]
          },
          "metadata": {},
          "execution_count": 31
        }
      ]
    },
    {
      "cell_type": "code",
      "source": [
        "def transpose_matrix(matrix):\n",
        "  rows=len(matrix)\n",
        "  cols=len(matrix[0])\n",
        "  transposed=[[0 for row in range(rows)]for col in range(cols)]\n",
        "  for row in range(rows):\n",
        "    for col in range(cols):\n",
        "      transposed[row][col]=matrix[col][row]\n",
        "  return transposed\n",
        "original_matrix=[[1,2,3],[4,5,6],[7,8,9]]\n",
        "transposed_matrix=transpose_matrix(original_matrix)\n",
        "print(transposed_matrix)\n"
      ],
      "metadata": {
        "colab": {
          "base_uri": "https://localhost:8080/"
        },
        "id": "eB9-JU_yrS1y",
        "outputId": "0c1feddb-242f-4c01-fc1d-82d6dbb692f3"
      },
      "execution_count": null,
      "outputs": [
        {
          "output_type": "stream",
          "name": "stdout",
          "text": [
            "[[1, 4, 7], [2, 5, 8], [3, 6, 9]]\n"
          ]
        }
      ]
    },
    {
      "cell_type": "code",
      "source": [
        "def add_matrix(matrix1,matrix2):\n",
        "  rows=len(matrix1)\n",
        "  cols=len(matrix1[0])\n",
        "  result=[[0 for j in range(cols)] for i in range(rows)]\n",
        "  for i in range(rows):\n",
        "    for j in range(cols):\n",
        "      result[i][j]=matrix1[i][j]+matrix2[i][j]\n",
        "  return result\n",
        "matrix1=[[1,2,3,4],[2,4,5,6],[9,0,10,11]]\n",
        "matrix2=[[2,3,5,6],[2,3,9,10],[1,0,1,1]]\n",
        "result=add_matrix(matrix1,matrix2)\n",
        "print(result)"
      ],
      "metadata": {
        "colab": {
          "base_uri": "https://localhost:8080/"
        },
        "id": "5rNTMJ3ps6w2",
        "outputId": "5df0a599-a769-4ac8-8390-6fc5fef87d3b"
      },
      "execution_count": null,
      "outputs": [
        {
          "output_type": "stream",
          "name": "stdout",
          "text": [
            "[[3, 5, 8, 10], [4, 7, 14, 16], [10, 0, 11, 12]]\n"
          ]
        }
      ]
    },
    {
      "cell_type": "code",
      "source": [
        "def add(matrix1,matrix2):\n",
        "  rows=len(matrix1)\n",
        "  cols=len(matrix1[0])\n",
        "  result=[[0 for j in range(cols)] for i in range(rows)]\n",
        "  for i in range(rows):\n",
        "    for j in range(cols):\n",
        "      result[i][j]=matrix1[i][j]+matrix2[i][j]\n",
        "  return result\n",
        "matrix1=[[1,2,3,4],[2,4,5,6],[9,0,10,11]]\n",
        "matrix2=[[2,3,5,6],[2,3,9,10],[1,0,1,1]]\n",
        "result=add_matrix(matrix1,matrix2)\n",
        "print(result)"
      ],
      "metadata": {
        "colab": {
          "base_uri": "https://localhost:8080/"
        },
        "id": "BjnnO6Lms6uF",
        "outputId": "8c26ee27-b280-4fc4-a812-d269322d7e5b"
      },
      "execution_count": null,
      "outputs": [
        {
          "output_type": "stream",
          "name": "stdout",
          "text": [
            "[[3, 5, 8, 10], [4, 7, 14, 16], [10, 0, 11, 12]]\n"
          ]
        }
      ]
    },
    {
      "cell_type": "code",
      "source": [
        "def add(matrix1,matrix2):\n",
        "  rows=len(matrix1)\n",
        "  cols=len(matrix1[0])\n",
        "  result=[[0 for j in range(cols)] for i in range(rows)]\n",
        "  for i in range(rows):\n",
        "    for j in range(cols):\n",
        "      result[i][j]=matrix1[i][j]+matrix2[i][j]\n",
        "  return result\n",
        "matrix1=[[1,2,3,4],[2,4,5,6],[9,0,10,11]]\n",
        "matrix2=[[2,3,5,6],[2,3,9,10],[1,0,1,1]]\n",
        "result=add(matrix1,matrix2)\n",
        "print(result)"
      ],
      "metadata": {
        "colab": {
          "base_uri": "https://localhost:8080/"
        },
        "id": "bKh8u-u7xyZ9",
        "outputId": "96915db0-7ed4-46fa-f30a-cf181150bfbc"
      },
      "execution_count": null,
      "outputs": [
        {
          "output_type": "stream",
          "name": "stdout",
          "text": [
            "[[3, 5, 8, 10], [4, 7, 14, 16], [10, 0, 11, 12]]\n"
          ]
        }
      ]
    },
    {
      "cell_type": "code",
      "source": [
        "def multiply_matrices(a,b):\n",
        "  row_a,row_b=len(a),len(a[0])\n",
        "  col_a,col_b=len(b),len(b[0])\n",
        "  result=[[0 for row in range (col_b)] for col in range(row_a)]\n",
        "  for i in range(row_a):\n",
        "    for j in range(col_b):\n",
        "      for k in range(row_b):\n",
        "        result[i][j]+=a[i][k]*b[k][j]\n",
        "  return result\n",
        "a=[[1,2],[3,4]]\n",
        "b=[[5,6],[7,8]]\n",
        "multiply_matrices(a,b)"
      ],
      "metadata": {
        "colab": {
          "base_uri": "https://localhost:8080/"
        },
        "id": "MYDIjSgCzzGC",
        "outputId": "d198b000-38fd-4f6d-99d7-64b33b58545f"
      },
      "execution_count": null,
      "outputs": [
        {
          "output_type": "execute_result",
          "data": {
            "text/plain": [
              "[[19, 22], [43, 50]]"
            ]
          },
          "metadata": {},
          "execution_count": 43
        }
      ]
    },
    {
      "cell_type": "code",
      "source": [
        "def transpose_matrix(matrix):\n",
        "  rows=len(matrix)\n",
        "  cols=len(matrix[0])\n",
        "  transposed=[[0 for row in range(rows)] for col in range(cols)]\n",
        "  for row in range(rows):\n",
        "    for col in range(cols):\n",
        "      transposed[row][col]=matrix[col][row]\n",
        "  return transposed\n",
        "original_matrix=[[1,2,3],[4,5,6],[7,8,9]]\n",
        "transposed_matrix=transpose_matrix(original_matrix)\n",
        "print(transposed_matrix)\n"
      ],
      "metadata": {
        "colab": {
          "base_uri": "https://localhost:8080/"
        },
        "id": "wLHnuSfm2i6-",
        "outputId": "bdb6564f-8985-4236-83c2-64341af58520"
      },
      "execution_count": null,
      "outputs": [
        {
          "output_type": "stream",
          "name": "stdout",
          "text": [
            "[[1, 4, 7], [2, 5, 8], [3, 6, 9]]\n"
          ]
        }
      ]
    },
    {
      "cell_type": "code",
      "source": [
        "def mode(numbers):\n",
        "  count={}\n",
        "  for number in numbers:\n",
        "    if number in count:\n",
        "      count[number]+=1\n",
        "    else:\n",
        "      count[number]=1\n",
        "  max_count=max(count.values())\n",
        "  mode=[key for key,value in count.items() if value==max_count]\n",
        "  return mode\n",
        "numbers=[0,9,9,9,7]\n",
        "mode(numbers)\n"
      ],
      "metadata": {
        "id": "oARLEdWWfbJN",
        "colab": {
          "base_uri": "https://localhost:8080/"
        },
        "outputId": "4ce9bbda-64f1-4b1c-b060-3e9c12588a07"
      },
      "execution_count": null,
      "outputs": [
        {
          "output_type": "execute_result",
          "data": {
            "text/plain": [
              "[9]"
            ]
          },
          "metadata": {},
          "execution_count": 1
        }
      ]
    },
    {
      "cell_type": "code",
      "source": [
        "def mode(numbers):\n",
        "  count={}\n",
        "  for number in numbers:\n",
        "    if number in count:\n",
        "      count[number]+=1\n",
        "    else:\n",
        "      count[number]=1\n",
        "  max_count=max(count.values())\n",
        "  mode=[key for key,value in count.items() if value==max_count]\n",
        "  return mode\n",
        "number=[7,8,9,9,9]\n",
        "mode(number)"
      ],
      "metadata": {
        "colab": {
          "base_uri": "https://localhost:8080/"
        },
        "id": "2DA8D-kA4q6d",
        "outputId": "e8d8f15c-f73a-4db0-fabb-750147da8c32"
      },
      "execution_count": null,
      "outputs": [
        {
          "output_type": "execute_result",
          "data": {
            "text/plain": [
              "[9]"
            ]
          },
          "metadata": {},
          "execution_count": 47
        }
      ]
    },
    {
      "cell_type": "code",
      "source": [
        "def mode(numbers):\n",
        "  count={}\n",
        "  for number in numbers:\n",
        "    if number in count:\n",
        "      count[number]+=1\n",
        "    else:\n",
        "      count[number]=1\n",
        "  max_count=max(count.values())\n",
        "  mode=[key for key,value in count.items() if value==max_count]\n",
        "  return mode\n",
        "numbers=[0,9,9,7,9]\n",
        "mode(numbers)"
      ],
      "metadata": {
        "colab": {
          "base_uri": "https://localhost:8080/"
        },
        "id": "ctHk9yWcFIHo",
        "outputId": "b72912c8-1c41-4194-a1a7-bce732e91861"
      },
      "execution_count": null,
      "outputs": [
        {
          "output_type": "execute_result",
          "data": {
            "text/plain": [
              "[9]"
            ]
          },
          "metadata": {},
          "execution_count": 54
        }
      ]
    },
    {
      "cell_type": "code",
      "source": [
        "def mode(numbers):\n",
        "  count={}\n",
        "  for number in numbers:\n",
        "    if number in count:\n",
        "      count[number]+=1\n",
        "    else:\n",
        "      count[number]=1\n",
        "  max_count=max(count.values())\n",
        "  mode=[key for key,value in count.items() if value==max_count]\n",
        "  return mode\n",
        "numbers=[7,8,9,9,9]\n",
        "mode(numbers)"
      ],
      "metadata": {
        "colab": {
          "base_uri": "https://localhost:8080/"
        },
        "id": "bHrA9MDa5XME",
        "outputId": "40f4490b-8b0f-47a9-f2be-b1c37024f96a"
      },
      "execution_count": null,
      "outputs": [
        {
          "output_type": "execute_result",
          "data": {
            "text/plain": [
              "[9]"
            ]
          },
          "metadata": {},
          "execution_count": 53
        }
      ]
    },
    {
      "cell_type": "code",
      "source": [
        "def mode(numbers):\n",
        "  count={}\n",
        "  for number in (numbers):\n",
        "    if number in count:\n",
        "      count[number]+=1\n",
        "    else:\n",
        "      count[number]=1\n",
        "  max_count=max(count.values())\n",
        "  mode=[key for key,value in count.items()if value==max_count]\n",
        "  return mode\n",
        "numbrers=[7,8,99,9,9,9]\n",
        "mode(numbers)"
      ],
      "metadata": {
        "colab": {
          "base_uri": "https://localhost:8080/"
        },
        "id": "uxaYGgLj7DAF",
        "outputId": "a64478b2-29c0-43ae-c3d7-d2afaccec623"
      },
      "execution_count": null,
      "outputs": [
        {
          "output_type": "execute_result",
          "data": {
            "text/plain": [
              "[9]"
            ]
          },
          "metadata": {},
          "execution_count": 56
        }
      ]
    },
    {
      "cell_type": "code",
      "source": [
        "def mode(numbrers):\n",
        "  count={}\n",
        "  for number in numbers:\n",
        "    if number in count:\n",
        "      count[number]+=1\n",
        "    else:\n",
        "      count[number]=1\n",
        "  max_count=max(count.values())\n",
        "  mode=[key for key,value in count.items()if value==max_count]\n",
        "  return mode\n",
        "numbers=[7,8,9,9,9]\n",
        "mode(numbers)"
      ],
      "metadata": {
        "colab": {
          "base_uri": "https://localhost:8080/"
        },
        "id": "ZlzXUOqc7uAd",
        "outputId": "87f2be59-9e70-4717-b57f-778f9a8052f3"
      },
      "execution_count": null,
      "outputs": [
        {
          "output_type": "execute_result",
          "data": {
            "text/plain": [
              "[9]"
            ]
          },
          "metadata": {},
          "execution_count": 57
        }
      ]
    },
    {
      "cell_type": "code",
      "source": [
        "def median(numbers):\n",
        "  for i in range(len(numbers)):\n",
        "    for j in range(1,len(numbers)):\n",
        "      if numbers[i]>numbers[j]:\n",
        "        numbers[i],numbers[j]=numbers[j],numbers[i]\n",
        "      mid=len(numbers)//2\n",
        "      if len(numbers)%2==0:\n",
        "        return (numbers[mid]+numbers[mid-1])/2\n",
        "      else:\n",
        "        return numbers[mid]\n",
        "numbers=[1,8,9,0,5]\n",
        "median(numbers)"
      ],
      "metadata": {
        "colab": {
          "base_uri": "https://localhost:8080/"
        },
        "id": "TlR_HZWbbDMp",
        "outputId": "37084885-8537-439d-9859-5893c21155cf"
      },
      "execution_count": null,
      "outputs": [
        {
          "output_type": "execute_result",
          "data": {
            "text/plain": [
              "9"
            ]
          },
          "metadata": {},
          "execution_count": 5
        }
      ]
    },
    {
      "cell_type": "code",
      "source": [
        "def median(numbers):\n",
        "  for i in range(len(numbers)):\n",
        "    for j in range(1,len(numbers)):\n",
        "      if numbers[i]>numbers[j]:\n",
        "        numbers[i],numbers[j]=numbers[j],numbers[i]\n",
        "        mid=len(numbers)//2\n",
        "        if len(numbers)%2==0:\n",
        "          return numbers[mid]+numbers[mid-1]/2\n",
        "        else:\n",
        "          return numbers[mid]\n"
      ],
      "metadata": {
        "id": "CMvn8sYjhETu"
      },
      "execution_count": null,
      "outputs": []
    },
    {
      "cell_type": "code",
      "source": [
        "numbers=[1,8,9,0,5]\n",
        "median(numbers)"
      ],
      "metadata": {
        "colab": {
          "base_uri": "https://localhost:8080/"
        },
        "id": "_lsaBUNcs9p3",
        "outputId": "60d48dfb-f41f-45f9-b5cd-a2fbbe92d56d"
      },
      "execution_count": null,
      "outputs": [
        {
          "output_type": "execute_result",
          "data": {
            "text/plain": [
              "9"
            ]
          },
          "metadata": {},
          "execution_count": 2
        }
      ]
    },
    {
      "cell_type": "code",
      "source": [
        "def median(numbers):\n",
        "  for i in range(len(numbers)):\n",
        "    for j in range(1,len(numbers)):\n",
        "      if numbers[i]>numbers[j]:\n",
        "        numbers[i],numbers[j]=numbers[j],numbers[i]\n",
        "        mid=len(numbers)//2\n",
        "        if len(numbers)%2==0:\n",
        "          return numbers[mid]+ numbers[mid-1]/2\n",
        "        else:\n",
        "          return numbers[mid]\n",
        "\n",
        "numbers=[1,8,9,0,5]\n",
        "median(numbers)"
      ],
      "metadata": {
        "colab": {
          "base_uri": "https://localhost:8080/"
        },
        "id": "4VwyMXMitGyB",
        "outputId": "e9d134d0-375e-4430-f4ca-124f407cb8bb"
      },
      "execution_count": null,
      "outputs": [
        {
          "output_type": "execute_result",
          "data": {
            "text/plain": [
              "9"
            ]
          },
          "metadata": {},
          "execution_count": 60
        }
      ]
    },
    {
      "cell_type": "code",
      "source": [
        "def median(numbers):\n",
        "  for i in range(len(numbers)):\n",
        "    for j in range(1,len(numbers)):\n",
        "      if numbers[i]>numbers[j]:\n",
        "        numbers[i],numbers[j]=numbers[j],numbers[i]\n",
        "        mid=len(numbers)//2\n",
        "        if len(numbers)%2==0:\n",
        "          return numbers[mid]+numbers[mid-1]/2\n",
        "        else:\n",
        "          return numbers[mid]"
      ],
      "metadata": {
        "id": "bIjkhz692enB"
      },
      "execution_count": null,
      "outputs": []
    },
    {
      "cell_type": "code",
      "source": [
        "numbers=[6,7,8,9,5]\n",
        "median(numbers)"
      ],
      "metadata": {
        "colab": {
          "base_uri": "https://localhost:8080/"
        },
        "id": "aT8uYZd54Hf5",
        "outputId": "07365568-9732-4f53-cd85-d9029b8e47c8"
      },
      "execution_count": null,
      "outputs": [
        {
          "output_type": "execute_result",
          "data": {
            "text/plain": [
              "8"
            ]
          },
          "metadata": {},
          "execution_count": 5
        }
      ]
    },
    {
      "cell_type": "code",
      "source": [
        "def median(numbers):\n",
        "  for i in range(len(numbers)):\n",
        "    for j in range(1,len(numbers)):\n",
        "      if numbers[i]>numbers[j]:\n",
        "        numbers[i],numbers[j]=numbers[j],numbers[i]\n",
        "        mid=len(numbers)//2\n",
        "        if len(numbers)%2==0:\n",
        "          return numbers[mid]+numbers[mid-1]/2\n",
        "        else:\n",
        "          return numbers[mid]"
      ],
      "metadata": {
        "id": "CUkUDH7M4Pwy"
      },
      "execution_count": null,
      "outputs": []
    },
    {
      "cell_type": "code",
      "source": [
        "numbers=[7,8,9,0,1]\n",
        "median(numbers)"
      ],
      "metadata": {
        "colab": {
          "base_uri": "https://localhost:8080/"
        },
        "id": "X_HYfLad5Yqy",
        "outputId": "99547901-df6c-488a-d098-420e1a7ce648"
      },
      "execution_count": null,
      "outputs": [
        {
          "output_type": "execute_result",
          "data": {
            "text/plain": [
              "9"
            ]
          },
          "metadata": {},
          "execution_count": 7
        }
      ]
    },
    {
      "cell_type": "code",
      "source": [
        "def median(numbers):\n",
        "  for i in range(len(numbers)):\n",
        "    for j in range(1,len(numbers)):\n",
        "      if numbers[i]>numbers[j]:\n",
        "        numbers[i],numbers[j]=numbers[j],numbers[i]\n",
        "        mid=len(numbers)//2\n",
        "        if len(numbers)%2==0:\n",
        "          return (numbers[mid]+numbers[mid-1])/2\n",
        "        else:\n",
        "          return numbers[mid]\n",
        "  numbers=[9,9,0,7,5]\n",
        "  median(numbers)"
      ],
      "metadata": {
        "id": "kCjboYY_9XrU"
      },
      "execution_count": null,
      "outputs": []
    },
    {
      "cell_type": "code",
      "source": [
        "def median(numbers):\n",
        "  for i in range(len(numbers)):\n",
        "    for j in range(1,len(numbers)):\n",
        "      if numbers[i]>numbers[j]:\n",
        "        numbers[i],[j]=numbers[j],[i]\n",
        "        mid=len(numbers)//2\n",
        "        if len(numbers)%2==0:\n",
        "          return (numbers[mid]+numbers[mid-1])/2\n",
        "        else:\n",
        "          return numbers[mid]\n",
        "numbers=[9,6,8,4,5]\n",
        "median(numbers)"
      ],
      "metadata": {
        "colab": {
          "base_uri": "https://localhost:8080/"
        },
        "id": "3OsYrMuF_SZz",
        "outputId": "d05a97d8-08c7-49c7-8367-fa8f36e76fa3"
      },
      "execution_count": null,
      "outputs": [
        {
          "output_type": "execute_result",
          "data": {
            "text/plain": [
              "8"
            ]
          },
          "metadata": {},
          "execution_count": 63
        }
      ]
    },
    {
      "cell_type": "code",
      "source": [
        "def mode(numbers):\n",
        "  count={}\n",
        "  for number in numbers:\n",
        "    if number in count:\n",
        "      count[number]+=1\n",
        "    else:\n",
        "      count[number]=1\n",
        "  max_count=max(count.values())\n",
        "  mode=[key for key,value in count.items() if value==max_count]\n",
        "  return mode\n",
        "numbers=[7,8,9,9,9]\n",
        "mode(numbers)\n"
      ],
      "metadata": {
        "colab": {
          "base_uri": "https://localhost:8080/"
        },
        "id": "OA45vACV5fbO",
        "outputId": "951054c8-6e66-419b-a4eb-0a67237127fb"
      },
      "execution_count": null,
      "outputs": [
        {
          "output_type": "execute_result",
          "data": {
            "text/plain": [
              "[9]"
            ]
          },
          "metadata": {},
          "execution_count": 12
        }
      ]
    },
    {
      "cell_type": "code",
      "source": [
        "def mode(numbers):\n",
        "  count={}\n",
        "  for number in numbers:\n",
        "    if number in count:\n",
        "      count[number]+=1\n",
        "    else:\n",
        "      count[number]=1\n",
        "  max_count=max(count.values())\n",
        "  mode=[key for key,value in count.items() if value==max_count]\n",
        "  return mode\n",
        "numbers=[0,9,9,7,9]\n",
        "mode(numbers)"
      ],
      "metadata": {
        "colab": {
          "base_uri": "https://localhost:8080/"
        },
        "id": "9nzSLf3p-z9l",
        "outputId": "bb67795d-67d9-4cf9-ec2c-87a2e80ca763"
      },
      "execution_count": null,
      "outputs": [
        {
          "output_type": "execute_result",
          "data": {
            "text/plain": [
              "[9]"
            ]
          },
          "metadata": {},
          "execution_count": 11
        }
      ]
    },
    {
      "cell_type": "code",
      "source": [
        "def mode(numbers):\n",
        "  count={}\n",
        "  for number in numbers:\n",
        "    if number in count:\n",
        "      count[number]+=1\n",
        "    else:\n",
        "      count[number]=1\n",
        "  max_count=max(count.values())\n",
        "  mode=[key for key,value in count.items() if value==max_count]\n",
        "  return mode\n",
        "numbers=[6,8,9,9,9]\n",
        "mode(numbers)"
      ],
      "metadata": {
        "colab": {
          "base_uri": "https://localhost:8080/"
        },
        "id": "1vQUJ3w6_TNN",
        "outputId": "44f637ca-d61d-4e14-d308-7757a9176002"
      },
      "execution_count": null,
      "outputs": [
        {
          "output_type": "execute_result",
          "data": {
            "text/plain": [
              "[9]"
            ]
          },
          "metadata": {},
          "execution_count": 13
        }
      ]
    },
    {
      "cell_type": "code",
      "source": [
        "def mode(numbers):\n",
        "  count={}\n",
        "  for number in numbers:\n",
        "    if number in count:\n",
        "      count[number]+=1\n",
        "    else:\n",
        "      count[number]=1\n",
        "  max_count=max(count.values())\n",
        "  mode=[key for key,value in count.items() if value==max_count]\n",
        "  return mode\n",
        "numbers=[6,8,9,9,9]\n",
        "mode(numbers)"
      ],
      "metadata": {
        "colab": {
          "base_uri": "https://localhost:8080/"
        },
        "id": "FL5GyXRmD7Ri",
        "outputId": "a3129c0e-91a0-4471-f47e-f3f6f11f6d1a"
      },
      "execution_count": null,
      "outputs": [
        {
          "output_type": "execute_result",
          "data": {
            "text/plain": [
              "[9]"
            ]
          },
          "metadata": {},
          "execution_count": 14
        }
      ]
    },
    {
      "cell_type": "code",
      "source": [
        "def mode(numbers):\n",
        "  count={}\n",
        "  for number in numbers:\n",
        "    if number in count:\n",
        "      count[number]+=1\n",
        "    else:\n",
        "      count[number]=1\n",
        "  max_count=max(count.values())\n",
        "  mode=[key for key,value in count.items()if value==max_count]\n",
        "  return mode\n",
        "numbers=[9,8,9,9,9]\n",
        "mode(numbers)"
      ],
      "metadata": {
        "colab": {
          "base_uri": "https://localhost:8080/"
        },
        "id": "GVBbSLMgGDfA",
        "outputId": "46dc7586-0f8b-46cb-d5fa-4488e9f485c8"
      },
      "execution_count": null,
      "outputs": [
        {
          "output_type": "execute_result",
          "data": {
            "text/plain": [
              "[9]"
            ]
          },
          "metadata": {},
          "execution_count": 29
        }
      ]
    },
    {
      "cell_type": "code",
      "source": [
        "def mode(numbers):\n",
        "  count={}\n",
        "  for number in numbers:\n",
        "    if number in count:\n",
        "      count[number]+=1\n",
        "    else:\n",
        "      count[number]=1\n",
        "  max_count=max(count.values())\n",
        "  mode=[key for key,value in count.items() if value==max_count]\n",
        "  return mode\n",
        "numbers=[9,8,9,9,9]\n",
        "mode(numbers)"
      ],
      "metadata": {
        "colab": {
          "base_uri": "https://localhost:8080/"
        },
        "id": "V2TSpVxqHkq5",
        "outputId": "9b60e957-14b0-44f1-a2a2-aa64677925ec"
      },
      "execution_count": null,
      "outputs": [
        {
          "output_type": "execute_result",
          "data": {
            "text/plain": [
              "[9]"
            ]
          },
          "metadata": {},
          "execution_count": 30
        }
      ]
    },
    {
      "cell_type": "code",
      "source": [
        "def mode(numbers):\n",
        "  count={}\n",
        "  for number in numbers:\n",
        "    if number in count:\n",
        "      count[number]+=1\n",
        "    else:\n",
        "      count[number]=1\n",
        "  max_count=max(count.values())\n",
        "  mode=[key for key,value in count.items()if value==max_count]\n",
        "  return mode\n",
        "numbers=[8,9,7,7,7]\n",
        "mode(numbers)\n"
      ],
      "metadata": {
        "colab": {
          "base_uri": "https://localhost:8080/"
        },
        "id": "1qABhXkDNOXG",
        "outputId": "89e82746-91dd-43bc-c53c-d61bf1194bc3"
      },
      "execution_count": null,
      "outputs": [
        {
          "output_type": "execute_result",
          "data": {
            "text/plain": [
              "[7]"
            ]
          },
          "metadata": {},
          "execution_count": 31
        }
      ]
    },
    {
      "cell_type": "code",
      "source": [
        "def mode(numbers):\n",
        "  count={}\n",
        "  for number in numbers:\n",
        "    if number in count:\n",
        "      count[number]+=1\n",
        "    else:\n",
        "      count[number]=1\n",
        "  max_count=max(count.values())\n",
        "  mode=[key for key,value in count.items() if value==max_count]\n",
        "  return mode\n",
        "numbers=[8,9,8,0,0,0]\n",
        "mode(numbers)"
      ],
      "metadata": {
        "colab": {
          "base_uri": "https://localhost:8080/"
        },
        "id": "ZQXQe2mmTpnq",
        "outputId": "12a0cec6-fa12-49b1-9434-30d28897b920"
      },
      "execution_count": null,
      "outputs": [
        {
          "output_type": "execute_result",
          "data": {
            "text/plain": [
              "[0]"
            ]
          },
          "metadata": {},
          "execution_count": 32
        }
      ]
    },
    {
      "cell_type": "code",
      "source": [
        "def median(numbers):\n",
        "  for i in range(len(numbers)):\n",
        "    for j in range(1,len(numbers)):\n",
        "      if numbers[i]>numbers[j]:\n",
        "        numbers[i],numbers[j]=numbers[j],numbers[i]\n",
        "        mid=len(numbers)//2\n",
        "        if len(numbers)%2==0:\n",
        "          return  (numbers[mid]+numbers[mid-1])/2\n",
        "        else:\n",
        "          return numbers[mid]\n",
        "numbers=[0,8,9,2,5]\n",
        "median(numbers)"
      ],
      "metadata": {
        "colab": {
          "base_uri": "https://localhost:8080/"
        },
        "id": "voI5MaSwAPWT",
        "outputId": "4905b5f0-fa2a-473a-aab3-df2d1323d8ad"
      },
      "execution_count": null,
      "outputs": [
        {
          "output_type": "execute_result",
          "data": {
            "text/plain": [
              "9"
            ]
          },
          "metadata": {},
          "execution_count": 64
        }
      ]
    },
    {
      "cell_type": "code",
      "source": [
        "def mode(numbers):\n",
        "  count={}\n",
        "  for number in numbers:\n",
        "    if number in count:\n",
        "      count[number]+=1\n",
        "    else:\n",
        "      count[number]=1\n",
        "  max_count=max(count.values())\n",
        "  mode=[key for key,value in count.items() if value==max_count]\n",
        "  return mode\n",
        "numbers=[8,9,7,6,5,8]\n",
        "mode(numbers)"
      ],
      "metadata": {
        "colab": {
          "base_uri": "https://localhost:8080/"
        },
        "id": "9n_eiQKrBGp1",
        "outputId": "8d2a1267-f756-464c-fd96-04006ba00d65"
      },
      "execution_count": null,
      "outputs": [
        {
          "output_type": "execute_result",
          "data": {
            "text/plain": [
              "[8]"
            ]
          },
          "metadata": {},
          "execution_count": 66
        }
      ]
    },
    {
      "cell_type": "code",
      "source": [
        "def median(numbers):\n",
        "  for i in range(len(numbers)):\n",
        "    for j in range(1,len(numbers)):\n",
        "      if numbers[i]>numbers[j]:\n",
        "        numbers[i],numbers[j]=numbers[j],numbers[i]\n",
        "        mid=len(numbers)//2\n",
        "        if len(numbers)%2==0:\n",
        "          return (numbers[mid]+numbers[mid-1])/2\n",
        "        else:\n",
        "          return numbers[mid]\n",
        "numbers=[9,7,6,5,3]\n",
        "median(numbers)"
      ],
      "metadata": {
        "colab": {
          "base_uri": "https://localhost:8080/"
        },
        "id": "w8Uc96kBCEG5",
        "outputId": "7e9a1b5e-5970-480c-86a2-ce7e56865f8f"
      },
      "execution_count": null,
      "outputs": [
        {
          "output_type": "execute_result",
          "data": {
            "text/plain": [
              "6"
            ]
          },
          "metadata": {},
          "execution_count": 68
        }
      ]
    },
    {
      "cell_type": "code",
      "source": [
        "my_list=[7,8,9,23,41,9,11]\n",
        "prime_list=[num for num in my_list if all(num%i!=0 for i in range(2,int(num**0.5)+1))and num>1]\n",
        "\n",
        "print(prime_list)"
      ],
      "metadata": {
        "colab": {
          "base_uri": "https://localhost:8080/"
        },
        "id": "2Ls0inF_VJUB",
        "outputId": "3bf94238-1995-42c3-cbed-76eb94f565d0"
      },
      "execution_count": null,
      "outputs": [
        {
          "output_type": "stream",
          "name": "stdout",
          "text": [
            "[7, 23, 41, 11]\n"
          ]
        }
      ]
    },
    {
      "cell_type": "code",
      "source": [
        "prime_list=[num for num in my_list if all(num%i!=0 for i in range(2,int(num**0.5)+1))and num>1]"
      ],
      "metadata": {
        "id": "s-REaqo9XF54"
      },
      "execution_count": null,
      "outputs": []
    },
    {
      "cell_type": "code",
      "source": [
        "prime_list=[num for num in my_list if all(num%i!=0 for i in range(2,int(num**0.5)+1)) and num>1]\n",
        "print(prime_list)\n"
      ],
      "metadata": {
        "colab": {
          "base_uri": "https://localhost:8080/"
        },
        "id": "of2oWhQzYhxQ",
        "outputId": "0d5f34cf-5fb7-48c3-81c2-e3dde645168e"
      },
      "execution_count": null,
      "outputs": [
        {
          "output_type": "stream",
          "name": "stdout",
          "text": [
            "[7, 23, 41, 11]\n"
          ]
        }
      ]
    },
    {
      "cell_type": "code",
      "source": [
        "my_list=[9,8,7,5]\n",
        "prime_list=[num for num in my_list if all(num%i!=0 for i in range(2,int(num**0.5)+1))and num>1]\n",
        "print(prime_list)"
      ],
      "metadata": {
        "colab": {
          "base_uri": "https://localhost:8080/"
        },
        "id": "U9I-9AErDw7M",
        "outputId": "5a06b437-58ef-4067-d8bc-99ce8243aa21"
      },
      "execution_count": null,
      "outputs": [
        {
          "output_type": "stream",
          "name": "stdout",
          "text": [
            "[7, 5]\n"
          ]
        }
      ]
    },
    {
      "cell_type": "code",
      "source": [
        "my_list=[6,8,9,3]\n",
        "prime=[num for num in my_list if all(num%i!=0 for i in range(2,int(num**0.5)+1))and num>1]\n",
        "print(prime)"
      ],
      "metadata": {
        "colab": {
          "base_uri": "https://localhost:8080/"
        },
        "id": "w6CNKL-WE2Z9",
        "outputId": "7e8762c3-23b5-4f96-ad5d-82b4a4505903"
      },
      "execution_count": null,
      "outputs": [
        {
          "output_type": "stream",
          "name": "stdout",
          "text": [
            "[3]\n"
          ]
        }
      ]
    },
    {
      "cell_type": "code",
      "source": [
        "numbers=[9,7,5,3]\n",
        "prime_list=[num for num in numbers if all(num%i!=0 for i in range(2,int(num**0.5)+1))and num>1]\n",
        "print(prime_list)"
      ],
      "metadata": {
        "colab": {
          "base_uri": "https://localhost:8080/"
        },
        "id": "_z9SgUTHFUgd",
        "outputId": "3e1fd4ff-fe1e-411d-ce27-4f0407433fac"
      },
      "execution_count": null,
      "outputs": [
        {
          "output_type": "stream",
          "name": "stdout",
          "text": [
            "[7, 5, 3]\n"
          ]
        }
      ]
    },
    {
      "cell_type": "code",
      "source": [
        "numbers=[6,7,8,9]\n",
        "prime=[num for num in numbers if all(num%i!=0 for i in range(2,int(num**0.5)+1)) and num>1]\n",
        "print(prime)"
      ],
      "metadata": {
        "colab": {
          "base_uri": "https://localhost:8080/"
        },
        "id": "fQ3gxU84F4lO",
        "outputId": "2ee46474-a8fd-4efd-a31b-e2246e7cef62"
      },
      "execution_count": null,
      "outputs": [
        {
          "output_type": "stream",
          "name": "stdout",
          "text": [
            "[7]\n"
          ]
        }
      ]
    },
    {
      "cell_type": "code",
      "source": [
        "my_list=[6,8,9,3]\n",
        "prime=[num for num in my_list if all(num%i!=0 for i in range(2,int(num**0.5)+1 ))and num>1]\n",
        "print(prime)"
      ],
      "metadata": {
        "colab": {
          "base_uri": "https://localhost:8080/"
        },
        "id": "hsLqj7odGgDK",
        "outputId": "850e1990-500c-4aaf-c381-40cd4cc0d283"
      },
      "execution_count": null,
      "outputs": [
        {
          "output_type": "stream",
          "name": "stdout",
          "text": [
            "[3]\n"
          ]
        }
      ]
    },
    {
      "cell_type": "code",
      "source": [
        "my_list=[6,8,9,3]\n",
        "prime=[num for num in my_list if all(num%i!=0 for i in range(2,int(num**0.5)+1)) and num>1]\n",
        "print(prime)\n",
        "\n",
        "\n",
        "\n"
      ],
      "metadata": {
        "colab": {
          "base_uri": "https://localhost:8080/"
        },
        "id": "IgRUREugGf6l",
        "outputId": "ee73dfdf-62aa-4e02-8257-93de11d80f9d"
      },
      "execution_count": null,
      "outputs": [
        {
          "output_type": "stream",
          "name": "stdout",
          "text": [
            "[3]\n"
          ]
        }
      ]
    },
    {
      "cell_type": "code",
      "source": [
        "def max_abs_diff(a,b):\n",
        "  if len(a)!=len(b):\n",
        "    return \"length should be same\"\n",
        "  max=0\n",
        "  for ele_a,ele_b in zip(a,b):\n",
        "    result=ele_a-ele_b\n",
        "    if result>max:\n",
        "      max=result\n",
        "    return result\n"
      ],
      "metadata": {
        "id": "ulocuD3gbo3k"
      },
      "execution_count": null,
      "outputs": []
    },
    {
      "cell_type": "code",
      "source": [
        "max_abs_diff([10,7],[7,8])"
      ],
      "metadata": {
        "colab": {
          "base_uri": "https://localhost:8080/"
        },
        "id": "q0SftSJ8cK-9",
        "outputId": "0d74f4ea-00cd-4dec-9e31-4d51debe9af1"
      },
      "execution_count": null,
      "outputs": [
        {
          "output_type": "execute_result",
          "data": {
            "text/plain": [
              "3"
            ]
          },
          "metadata": {},
          "execution_count": 83
        }
      ]
    },
    {
      "cell_type": "code",
      "source": [
        "def max_abs_diff(a,b):\n",
        "  if len(a)!=len(b):\n",
        "    return \"length should be same\"\n",
        "  max=0\n",
        "  for ele_a,ele_b in zip(a,b):\n",
        "    result=ele_a-ele_b\n",
        "    if result>max:\n",
        "      max=result\n",
        "    return result"
      ],
      "metadata": {
        "id": "xEBQP_M7cQdL"
      },
      "execution_count": null,
      "outputs": []
    },
    {
      "cell_type": "code",
      "source": [
        "max_abs_diff([10,7],[7,8])"
      ],
      "metadata": {
        "colab": {
          "base_uri": "https://localhost:8080/"
        },
        "id": "ZkQEf5BBdTOo",
        "outputId": "bccffa47-373c-4cc2-9750-f36e3e2e7583"
      },
      "execution_count": null,
      "outputs": [
        {
          "output_type": "execute_result",
          "data": {
            "text/plain": [
              "3"
            ]
          },
          "metadata": {},
          "execution_count": 88
        }
      ]
    },
    {
      "cell_type": "code",
      "source": [
        "def max_abs_diff(a,b):\n",
        "  max=0\n",
        "  for ele_a,ele_b in zip(a,b):\n",
        "    result=ele_a-ele_b\n",
        "    if result>max:\n",
        "      max=result\n",
        "    return result\n"
      ],
      "metadata": {
        "id": "fTAV62eEdXa7"
      },
      "execution_count": null,
      "outputs": []
    },
    {
      "cell_type": "code",
      "source": [
        "max_abs_diff([4,7],[9,7])"
      ],
      "metadata": {
        "colab": {
          "base_uri": "https://localhost:8080/"
        },
        "id": "wCklfgrufeH6",
        "outputId": "767ce652-d622-4dcc-dc53-ac95e876ab39"
      },
      "execution_count": null,
      "outputs": [
        {
          "output_type": "execute_result",
          "data": {
            "text/plain": [
              "-5"
            ]
          },
          "metadata": {},
          "execution_count": 17
        }
      ]
    },
    {
      "cell_type": "code",
      "source": [
        "def max_abs_diff(a,b):\n",
        "  max=0\n",
        "  for ele_a,ele_b in zip(a,b):\n",
        "    result=ele_a-ele_b\n",
        "    if result>max:\n",
        "      max=result\n",
        "  return result\n",
        "max_abs_diff([4,7],[9,7])"
      ],
      "metadata": {
        "colab": {
          "base_uri": "https://localhost:8080/"
        },
        "id": "NSgv04AQKd8h",
        "outputId": "dd83925a-b155-4d84-92aa-08b0f35a840c"
      },
      "execution_count": null,
      "outputs": [
        {
          "output_type": "execute_result",
          "data": {
            "text/plain": [
              "0"
            ]
          },
          "metadata": {},
          "execution_count": 89
        }
      ]
    },
    {
      "cell_type": "code",
      "source": [
        "def mae(actual:list,pred:list)->float:\n",
        "  try:\n",
        "    if len(actual)!=len(pred):\n",
        "      raise ValueError('length should be in same size')\n",
        "    result=0\n",
        "    for y,y_hat in zip(actual,pred):\n",
        "      result+=abs(y-y_hat)\n",
        "    n=len(actual)\n",
        "    return result/n\n",
        "  except Exception as error:\n",
        "        print('Caught this error: ' + repr(error))\n",
        "actual = [3, -0.5, 2, 7]\n",
        "pred = [2.5, 0.0, 2, 8]\n",
        "mae(actual,pred)"
      ],
      "metadata": {
        "colab": {
          "base_uri": "https://localhost:8080/"
        },
        "id": "6t2KdkOEiBPK",
        "outputId": "507928a3-74b4-4501-84c4-bec3701631ae"
      },
      "execution_count": null,
      "outputs": [
        {
          "output_type": "execute_result",
          "data": {
            "text/plain": [
              "0.5"
            ]
          },
          "metadata": {},
          "execution_count": 91
        }
      ]
    },
    {
      "cell_type": "code",
      "source": [
        "def mae(actual:list,pred:list)->float:\n",
        "  if len(actual)!=len(pred):\n",
        "    raise ValueError('length should be in same size')\n",
        "  result=0\n",
        "  for y,y_hat in zip(actual,pred):\n",
        "    result+=abs(y-y_hat)\n",
        "  n=len(actual)\n",
        "  return result/n\n",
        "actual = [3, -0.5, 2, 7]\n",
        "pred = [2.5, 0.0, 2, 8]\n",
        "mae(actual,pred)"
      ],
      "metadata": {
        "colab": {
          "base_uri": "https://localhost:8080/"
        },
        "id": "ONGm9taKO0eh",
        "outputId": "00232d62-26d2-41b1-d879-c278f981d5e0"
      },
      "execution_count": null,
      "outputs": [
        {
          "output_type": "execute_result",
          "data": {
            "text/plain": [
              "0.5"
            ]
          },
          "metadata": {},
          "execution_count": 93
        }
      ]
    },
    {
      "cell_type": "code",
      "source": [
        "def mae(act:list,pred:list)->float:\n",
        "  try:\n",
        "    if len(actual)!=len(pred):\n",
        "      raise ValueError(\"length should be same\")\n",
        "    result=0\n",
        "    for y,y_hat in zip(act,pred):\n",
        "      result+=abs(y-y_hat)\n",
        "    n=len(actual)\n",
        "    return result/n\n",
        "  except Exception as error:\n",
        "    print('caught the error'+repr(error))\n",
        "\n"
      ],
      "metadata": {
        "id": "MOyMPUYEjUDa"
      },
      "execution_count": null,
      "outputs": []
    },
    {
      "cell_type": "code",
      "source": [
        "act = [3, -0.5, 2, 7]\n",
        "pred = [2.5, 0.0, 2, 8]\n",
        "mae(act,pred)"
      ],
      "metadata": {
        "colab": {
          "base_uri": "https://localhost:8080/"
        },
        "id": "m52UUT8WlRqH",
        "outputId": "63de82b4-08d7-4023-944f-2ad06252a138"
      },
      "execution_count": null,
      "outputs": [
        {
          "output_type": "execute_result",
          "data": {
            "text/plain": [
              "0.5"
            ]
          },
          "metadata": {},
          "execution_count": 17
        }
      ]
    },
    {
      "cell_type": "code",
      "source": [
        "def mse(actual:list,pred:list)->float:\n",
        "  try:\n",
        "    if len(actual)!=len(pred):\n",
        "      raise ValueError(\"length should be same size\")\n",
        "    result=0\n",
        "    for y,y_hat in zip(actual,pred):\n",
        "      diff=abs(y-y_hat)\n",
        "      sq_diff=diff**2\n",
        "      result=sq_diff+result\n",
        "      n=len(actual)\n",
        "    return result/n\n",
        "  except Exception as error:\n",
        "    print(\"caught the error\"+repr(error))\n"
      ],
      "metadata": {
        "id": "LHARCGVElWeZ"
      },
      "execution_count": null,
      "outputs": []
    },
    {
      "cell_type": "code",
      "source": [
        "actual = [1,1,2,2,4]\n",
        "\n",
        "\n",
        "pred = [0.6,1.29,1.99,2.69,3.4]\n",
        "\n",
        "\n",
        "mse(actual,pred)"
      ],
      "metadata": {
        "colab": {
          "base_uri": "https://localhost:8080/"
        },
        "id": "IXKKgxM-o0OF",
        "outputId": "3f3c708d-3566-4439-9e97-2076434faf08"
      },
      "execution_count": null,
      "outputs": [
        {
          "output_type": "execute_result",
          "data": {
            "text/plain": [
              "0.21606"
            ]
          },
          "metadata": {},
          "execution_count": 22
        }
      ]
    },
    {
      "cell_type": "code",
      "source": [
        "my_list=[6,8,9,3]\n",
        "prime=[num for num in my_list if all( num%i!=0 for i in range(2,int(num**0.5)+1)) and num>1]\n",
        "print(prime)\n"
      ],
      "metadata": {
        "id": "dVdLLFK6o55e",
        "colab": {
          "base_uri": "https://localhost:8080/"
        },
        "outputId": "df5c3c60-8a1e-47e7-c17a-4a82d5851e6f"
      },
      "execution_count": null,
      "outputs": [
        {
          "output_type": "stream",
          "name": "stdout",
          "text": [
            "[3]\n"
          ]
        }
      ]
    },
    {
      "cell_type": "code",
      "source": [
        "def multiply_matrices(a,b):\n",
        "  row_a,col_a=len(a),len(a[0])\n",
        "  row_b,col_b=len(b),len(b[0])\n",
        "  result=[[0 for row in range(col_b)] for col in range(row_a)]\n",
        "  for i in range(row_a):\n",
        "    for j in range(col_b):\n",
        "      for k in range(row_b):\n",
        "        result[i][j]+=a[i][k]*b[k][j]\n",
        "  return result\n",
        "a=[[1,2],[3,4]]\n",
        "b=[[5,6],[7,8]]\n",
        "multiply_matrices(a,b)"
      ],
      "metadata": {
        "colab": {
          "base_uri": "https://localhost:8080/"
        },
        "id": "JpSrxJ9Wr4Pm",
        "outputId": "0593bb2b-0e26-45df-a3c4-d57d891f846f"
      },
      "execution_count": null,
      "outputs": [
        {
          "output_type": "execute_result",
          "data": {
            "text/plain": [
              "[[19, 22], [43, 50]]"
            ]
          },
          "metadata": {},
          "execution_count": 25
        }
      ]
    },
    {
      "cell_type": "code",
      "source": [
        "def multiply_matrices(a,b):\n",
        "  row_a,col_a=len(a),len(a[0])\n",
        "  row_b,col_b=len(b),len(b[0])\n",
        "  result=[[ 0 for row in range(col_b)] for col in range(row_a)]\n",
        "  for i in range(row_a):\n",
        "    for j in range(col_b):\n",
        "      for k in range(row_b):\n",
        "        result[i][j]+=a[i][k]*b[k][j]\n",
        "  return result\n",
        "\n",
        "a=[[1,2],[3,4]]\n",
        "b=[[5,6],[7,8]]\n",
        "multiply_matrices(a,b)"
      ],
      "metadata": {
        "colab": {
          "base_uri": "https://localhost:8080/"
        },
        "id": "2jF8CbjSuMjc",
        "outputId": "fad15582-d890-4e9c-8a4c-e83f668509a1"
      },
      "execution_count": null,
      "outputs": [
        {
          "output_type": "execute_result",
          "data": {
            "text/plain": [
              "[[19, 22], [43, 50]]"
            ]
          },
          "metadata": {},
          "execution_count": 26
        }
      ]
    },
    {
      "cell_type": "code",
      "source": [
        "def multiply_matrices(a,b):\n",
        "  row_a,col_a=len(a),len(a[0])\n",
        "  row_b,col_b=len(b),len(b[0])\n",
        "  result=[[0 for row in range(col_b)]for col in range(row_a)]\n",
        "  for i in range(row_a):\n",
        "    for j in range(col_b):\n",
        "      for k in range(row_b):\n",
        "        result[i][j]+=a[i][k]*b[k][j]\n",
        "  return result\n",
        "a=[[1,2],[3,4]]\n",
        "b=[[5,6],[7,8]]\n",
        "multiply_matrices(a,b)"
      ],
      "metadata": {
        "colab": {
          "base_uri": "https://localhost:8080/"
        },
        "id": "874AUl9CwqfZ",
        "outputId": "1de07337-15dc-4b80-a182-c357ddc7c109"
      },
      "execution_count": null,
      "outputs": [
        {
          "output_type": "execute_result",
          "data": {
            "text/plain": [
              "[[19, 22], [43, 50]]"
            ]
          },
          "metadata": {},
          "execution_count": 29
        }
      ]
    },
    {
      "cell_type": "code",
      "source": [
        "def multiply_matrices(a,b):\n",
        "  row_a,col_a=len(a),len(a[0])\n",
        "  row_b,col_b=len(b),len(b[0])\n",
        "  result=[[0 for row in range(col_b)] for col in range(row_a)]\n",
        "  for i in range(row_a):\n",
        "    for j in range(col_b):\n",
        "      for k in range(row_b):\n",
        "        result[i][j]+=a[i][k]*b[k][j]\n",
        "  return result\n",
        "a=[[1,2],[3,4]]\n",
        "b=[[5,6],[7,8]]\n",
        "multiply_matrices(a,b)"
      ],
      "metadata": {
        "colab": {
          "base_uri": "https://localhost:8080/"
        },
        "id": "VcEgMh-7zdfc",
        "outputId": "d84897da-15c6-40b4-cb13-27b1cfebc67e"
      },
      "execution_count": null,
      "outputs": [
        {
          "output_type": "execute_result",
          "data": {
            "text/plain": [
              "[[19, 22], [43, 50]]"
            ]
          },
          "metadata": {},
          "execution_count": 31
        }
      ]
    },
    {
      "cell_type": "code",
      "source": [
        "def transpose_matrix(matrix):\n",
        "  rows=len(matrix)\n",
        "  cols=len(matrix[0])\n",
        "  transposed=[[0 for row in range(rows)] for col in range(cols)]\n",
        "  for row in range(rows):\n",
        "    for col in range(cols):\n",
        "      transposed[row][col]=matrix[col][row]\n",
        "  return transposed\n",
        "original_matrix=[[1,2,3],[4,5,6],[7,8,9]]\n",
        "transposed_matrix=transpose_matrix(original_matrix)\n",
        "print(transposed_matrix)"
      ],
      "metadata": {
        "colab": {
          "base_uri": "https://localhost:8080/"
        },
        "id": "2otIJany11mG",
        "outputId": "f8114af1-e4bb-4253-d58c-21f82fa94ff0"
      },
      "execution_count": null,
      "outputs": [
        {
          "output_type": "stream",
          "name": "stdout",
          "text": [
            "[[1, 4, 7], [2, 5, 8], [3, 6, 9]]\n"
          ]
        }
      ]
    },
    {
      "cell_type": "code",
      "source": [
        "def transpose_matrix(matrix):\n",
        "  rows=len(matrix)\n",
        "  cols=len(matrix[0])\n",
        "  transposed=[[0 for row in range(rows)] for col in range(cols)]\n",
        "  for row in range(rows):\n",
        "    for col in range(cols):\n",
        "      transposed[row][col]=matrix[col][row]\n",
        "  return transposed\n",
        "original_matrix=[[1,2,3],[4,5,6],[7,8,9]]\n",
        "transposed_matrix=transpose_matrix(original_matrix)\n",
        "print(transposed_matrix)"
      ],
      "metadata": {
        "colab": {
          "base_uri": "https://localhost:8080/"
        },
        "id": "SbxU1cft4xdX",
        "outputId": "1b1df5fc-fa5a-4ff3-d197-ae0a5123e1f8"
      },
      "execution_count": null,
      "outputs": [
        {
          "output_type": "stream",
          "name": "stdout",
          "text": [
            "[[1, 4, 7], [2, 5, 8], [3, 6, 9]]\n"
          ]
        }
      ]
    },
    {
      "cell_type": "code",
      "source": [
        "def transpose_matrix(matrix):\n",
        "  rows=len(matrix)\n",
        "  cols=len(matrix[0])\n",
        "  transposed=[[0 for row in range (rows)] for col in range(cols)]\n",
        "  for row in range(rows):\n",
        "    for col in range(cols):\n",
        "      transposed[row][col]=matrix[col][row]\n",
        "  return transposed\n",
        "original_matrix=[[1,2,3],[4,5,6],[7,8,9]]\n",
        "transposed_matrix=transpose_matrix(original_matrix)\n",
        "print(transposed_matrix)"
      ],
      "metadata": {
        "colab": {
          "base_uri": "https://localhost:8080/"
        },
        "id": "IN_czj066GX4",
        "outputId": "60ffcea8-7e55-4fbf-8337-327668243fc7"
      },
      "execution_count": null,
      "outputs": [
        {
          "output_type": "stream",
          "name": "stdout",
          "text": [
            "[[1, 4, 7], [2, 5, 8], [3, 6, 9]]\n"
          ]
        }
      ]
    },
    {
      "cell_type": "code",
      "source": [
        "def max_abs_diff(a,b):\n",
        "  max=0\n",
        "  for ele_a,ele_b in zip(a,b):\n",
        "    result=ele_a-ele_b\n",
        "    if result>max:\n",
        "      max=result\n",
        "  return result\n",
        "max_abs_diff([4,7],[9,4])"
      ],
      "metadata": {
        "colab": {
          "base_uri": "https://localhost:8080/"
        },
        "id": "KQD1cyZ0NLfv",
        "outputId": "ac2bdf10-2b8b-474c-8711-a6367c4afaa4"
      },
      "execution_count": null,
      "outputs": [
        {
          "output_type": "execute_result",
          "data": {
            "text/plain": [
              "3"
            ]
          },
          "metadata": {},
          "execution_count": 90
        }
      ]
    },
    {
      "cell_type": "code",
      "source": [
        "def count_word(string):\n",
        "  words=string.split()\n",
        "  word_count={}\n",
        "  for word in words:\n",
        "    if word in word_count:\n",
        "      word_count[word]+=1\n",
        "    else:\n",
        "      word_count[word]=1\n",
        "  return word_count\n",
        "str=input(\"Enter a string \")\n",
        "result=count_word(str)\n",
        "print(result)"
      ],
      "metadata": {
        "colab": {
          "base_uri": "https://localhost:8080/"
        },
        "id": "98HP891d79IT",
        "outputId": "d08c5ed4-09b4-469f-c7bf-eec0ef4d474c"
      },
      "execution_count": null,
      "outputs": [
        {
          "output_type": "stream",
          "name": "stdout",
          "text": [
            "Enter a string i love python and love panda\n",
            "{'i': 1, 'love': 2, 'python': 1, 'and': 1, 'panda': 1}\n"
          ]
        }
      ]
    },
    {
      "cell_type": "code",
      "source": [
        "def count_word(string):\n",
        "  words=string.split()\n",
        "  word_count={}\n",
        "  for word in words:\n",
        "    if word in word_count:\n",
        "      word_count[word]+=1\n",
        "    else:\n",
        "      word_count[word]=1\n",
        "  return word_count\n",
        "str=input('enter string')\n",
        "result=count_word(str)\n",
        "print(result)"
      ],
      "metadata": {
        "colab": {
          "base_uri": "https://localhost:8080/"
        },
        "id": "VdsyXa_T_BKA",
        "outputId": "440ddc1d-c710-41f9-ba06-94f331dc55ea"
      },
      "execution_count": null,
      "outputs": [
        {
          "output_type": "stream",
          "name": "stdout",
          "text": [
            "enter stringi love python and love sql\n",
            "{'i': 1, 'love': 2, 'python': 1, 'and': 1, 'sql': 1}\n"
          ]
        }
      ]
    },
    {
      "cell_type": "code",
      "source": [
        "def find_second_largest(lst):\n",
        "  sorted_list=sorted(lst,reverse=True)\n",
        "  return sorted_list[1]\n",
        "n=int(input(\"Enter no of element \"))\n",
        "my_list=[]\n",
        "for i in range(n):\n",
        "  element=int(input(\"Enter element \"))\n",
        "  my_list.append(element)\n",
        "second_largest_ele=find_second_largest(my_list)\n",
        "print(second_largest_ele)"
      ],
      "metadata": {
        "colab": {
          "base_uri": "https://localhost:8080/"
        },
        "id": "_AEy-4X4CmYE",
        "outputId": "982daa9f-4d6f-4371-fc58-90d22c55db92"
      },
      "execution_count": null,
      "outputs": [
        {
          "output_type": "stream",
          "name": "stdout",
          "text": [
            "Enter no of element 3\n",
            "Enter element 788\n",
            "Enter element 56\n",
            "Enter element 585\n",
            "585\n"
          ]
        }
      ]
    },
    {
      "cell_type": "code",
      "source": [
        "def count_word(string):\n",
        "  words=string.split()\n",
        "  word_count={}\n",
        "  for word in words:\n",
        "    if word in word_count:\n",
        "      word_count[word]+=1\n",
        "    else:\n",
        "      word_count[word]=1\n",
        "  return word_count\n",
        "string=input('Enter a string ')\n",
        "result=count_word(string)\n",
        "print(result)\n",
        "\n"
      ],
      "metadata": {
        "id": "YjmtIVK6E5kT",
        "colab": {
          "base_uri": "https://localhost:8080/"
        },
        "outputId": "f62ce879-a405-41e6-8c43-57a2ac30a3a2"
      },
      "execution_count": null,
      "outputs": [
        {
          "output_type": "stream",
          "name": "stdout",
          "text": [
            "Enter a string i love python and love ml\n",
            "{'i': 1, 'love': 2, 'python': 1, 'and': 1, 'ml': 1}\n"
          ]
        }
      ]
    },
    {
      "cell_type": "code",
      "source": [
        "def count_word(string):\n",
        "  words=string.split()\n",
        "  word_count={}\n",
        "  for word in words:\n",
        "    if word in word_count:\n",
        "      word_count[word]+=1\n",
        "    else:\n",
        "      word_count[word]=1\n",
        "  return word_count\n",
        "string=input(\"Enter string \")\n",
        "result=count_word(string)\n",
        "print(result)"
      ],
      "metadata": {
        "colab": {
          "base_uri": "https://localhost:8080/"
        },
        "id": "9yRM4xTaRKLF",
        "outputId": "38d90e20-1b67-405c-cf82-c68c414f21ba"
      },
      "execution_count": null,
      "outputs": [
        {
          "output_type": "stream",
          "name": "stdout",
          "text": [
            "Enter string i like py and like pd\n",
            "{'i': 1, 'like': 2, 'py': 1, 'and': 1, 'pd': 1}\n"
          ]
        }
      ]
    },
    {
      "cell_type": "code",
      "source": [
        "def count_word(string):\n",
        "  words=string.split()\n",
        "  word_count={}\n",
        "  for word in words:\n",
        "    if word in word_count:\n",
        "      word_count[word]+=1\n",
        "    else:\n",
        "      word_count[word]=1\n",
        "  return word_count\n",
        "string=input(\"Enter string \")\n",
        "result=count_word(string)\n",
        "print(result)"
      ],
      "metadata": {
        "colab": {
          "base_uri": "https://localhost:8080/"
        },
        "id": "7Q-oIX4wSyZn",
        "outputId": "cfe94d6c-8250-4ff6-e35f-896738be174c"
      },
      "execution_count": null,
      "outputs": [
        {
          "output_type": "stream",
          "name": "stdout",
          "text": [
            "Enter string i love python and love ml\n",
            "{'i': 1, 'love': 2, 'python': 1, 'and': 1, 'ml': 1}\n"
          ]
        }
      ]
    },
    {
      "cell_type": "code",
      "source": [
        "def find_second_largest(numbers):\n",
        "  if len(numbers)<2:\n",
        "    return None\n",
        "  largest=second_largest=numbers[0]\n",
        "  for num in numbers:\n",
        "    if num>largest:\n",
        "      second_largest=largest\n",
        "      largest=num\n",
        "    elif num>second_largest:\n",
        "      second_largest=num\n",
        "  if second_largest==largest:\n",
        "    return None\n",
        "  else:\n",
        "    return second_largest\n",
        "my_list=[78,90,5,7]\n",
        "result=find_second_largest(my_list)\n",
        "if result is not None:\n",
        "  print(result)\n",
        "\n"
      ],
      "metadata": {
        "colab": {
          "base_uri": "https://localhost:8080/"
        },
        "id": "hIW7EkqIWzej",
        "outputId": "65426589-b294-4c11-ed8b-e3653bd3113a"
      },
      "execution_count": null,
      "outputs": [
        {
          "output_type": "stream",
          "name": "stdout",
          "text": [
            "78\n"
          ]
        }
      ]
    },
    {
      "cell_type": "code",
      "source": [
        "def count_digits(number):\n",
        "    digit_count = {}\n",
        "    while number > 0:\n",
        "        digit = number % 10\n",
        "        if digit in digit_count:\n",
        "            digit_count[digit] += 1\n",
        "        else:\n",
        "            digit_count[digit] = 1\n",
        "        number //= 10\n",
        "    return digit_count\n",
        "\n",
        "number = int(input(\"Enter a number: \"))\n",
        "result = count_digits(number)\n",
        "print(result)\n"
      ],
      "metadata": {
        "id": "OnXbdYvYd8fy",
        "colab": {
          "base_uri": "https://localhost:8080/"
        },
        "outputId": "98262996-130f-48d8-f629-5469288ea76e"
      },
      "execution_count": null,
      "outputs": [
        {
          "output_type": "stream",
          "name": "stdout",
          "text": [
            "Enter a number: 123215232157896523214569874523\n",
            "{3: 4, 2: 7, 5: 5, 4: 2, 7: 2, 8: 2, 9: 2, 6: 2, 1: 4}\n"
          ]
        }
      ]
    },
    {
      "cell_type": "code",
      "source": [
        "def digit_count(number):\n",
        "  count_digit={}\n",
        "  while number>0:\n",
        "    digit=number%10\n",
        "    if digit in count_digit:\n",
        "      count_digit[digit]+=1\n",
        "    else:\n",
        "      count_digit[digit]=1\n",
        "    number//=10\n",
        "  return count_digit\n",
        "number=int(input(\"Enter any number \"))\n",
        "digit_count(number)"
      ],
      "metadata": {
        "colab": {
          "base_uri": "https://localhost:8080/"
        },
        "id": "v4yXLwPT1Ckk",
        "outputId": "b3ee455e-b17b-45ae-c15a-ac134e551e31"
      },
      "execution_count": null,
      "outputs": [
        {
          "name": "stdout",
          "output_type": "stream",
          "text": [
            "Enter any number 123215232157896523214569874523\n"
          ]
        },
        {
          "output_type": "execute_result",
          "data": {
            "text/plain": [
              "{3: 4, 2: 7, 5: 5, 4: 2, 7: 2, 8: 2, 9: 2, 6: 2, 1: 4}"
            ]
          },
          "metadata": {},
          "execution_count": 2
        }
      ]
    },
    {
      "cell_type": "code",
      "source": [
        "def count_digits(number):\n",
        "  digit_count={}\n",
        "  while number>0:\n",
        "    digit=number%10\n",
        "    if digit in digit_count:\n",
        "      digit_count[digit]+=1\n",
        "    else:\n",
        "      digit_count[digit]=1\n",
        "    number//=10\n",
        "  return digit_count\n",
        "number=int(input(\"Enter no \"))\n",
        "count_digits(number)\n"
      ],
      "metadata": {
        "colab": {
          "base_uri": "https://localhost:8080/"
        },
        "id": "ytDnUTOy1_RN",
        "outputId": "5ea03618-b1d4-4e66-b64e-b924538d3e0e"
      },
      "execution_count": null,
      "outputs": [
        {
          "name": "stdout",
          "output_type": "stream",
          "text": [
            "Enter no 123215232157896523214569874523\n"
          ]
        },
        {
          "output_type": "execute_result",
          "data": {
            "text/plain": [
              "{3: 4, 2: 7, 5: 5, 4: 2, 7: 2, 8: 2, 9: 2, 6: 2, 1: 4}"
            ]
          },
          "metadata": {},
          "execution_count": 5
        }
      ]
    },
    {
      "cell_type": "code",
      "source": [
        "def count_digits(number):\n",
        "  digit_count={}\n",
        "  while number>0:\n",
        "    digit=number%10\n",
        "    if digit in digit_count:\n",
        "      digit_count[digit]+=1\n",
        "    else:\n",
        "      digit_count[digit]=1\n",
        "    number//=10\n",
        "  return digit_count\n",
        "number=int(input())\n",
        "count_digits(number)"
      ],
      "metadata": {
        "colab": {
          "base_uri": "https://localhost:8080/"
        },
        "id": "ILHHmJPb2vns",
        "outputId": "c3e1a312-de50-4c44-dc7e-ed0a5848cee4"
      },
      "execution_count": null,
      "outputs": [
        {
          "name": "stdout",
          "output_type": "stream",
          "text": [
            "123215232157896523214569874523\n"
          ]
        },
        {
          "output_type": "execute_result",
          "data": {
            "text/plain": [
              "{3: 4, 2: 7, 5: 5, 4: 2, 7: 2, 8: 2, 9: 2, 6: 2, 1: 4}"
            ]
          },
          "metadata": {},
          "execution_count": 6
        }
      ]
    },
    {
      "cell_type": "code",
      "source": [
        "def count_digits(number):\n",
        "  digit_count={}\n",
        "  while number>0:\n",
        "    digit=number%10\n",
        "    if digit in digit_count:\n",
        "      digit_count[digit]+=1\n",
        "    else:\n",
        "      digit_count[digit]=1\n",
        "    number//=10\n",
        "  return digit_count\n",
        "number=int(input())\n",
        "count_digits(number)"
      ],
      "metadata": {
        "colab": {
          "base_uri": "https://localhost:8080/"
        },
        "id": "miKAL-IB4tfG",
        "outputId": "01ef1fb3-dca6-4d3e-8471-505f89698127"
      },
      "execution_count": null,
      "outputs": [
        {
          "name": "stdout",
          "output_type": "stream",
          "text": [
            "123215232157896523214569874523\n"
          ]
        },
        {
          "output_type": "execute_result",
          "data": {
            "text/plain": [
              "{3: 4, 2: 7, 5: 5, 4: 2, 7: 2, 8: 2, 9: 2, 6: 2, 1: 4}"
            ]
          },
          "metadata": {},
          "execution_count": 7
        }
      ]
    },
    {
      "cell_type": "code",
      "source": [
        "def process_number(number):\n",
        "    output = \" \"\n",
        "    while number > 0:\n",
        "        digit = number % 10\n",
        "        if digit % 2 == 0:\n",
        "            output = 'Foo' + output\n",
        "        else:\n",
        "            output = 'Bar' + output\n",
        "        number //= 10\n",
        "    return output\n",
        "\n",
        "number = int(input(\"Enter a number: \"))\n",
        "result = process_number(number)\n",
        "print(result)\n"
      ],
      "metadata": {
        "colab": {
          "base_uri": "https://localhost:8080/"
        },
        "id": "QWvW8pIT5oeV",
        "outputId": "acca9922-9b3e-45b4-8153-2ce4776550a8"
      },
      "execution_count": null,
      "outputs": [
        {
          "output_type": "stream",
          "name": "stdout",
          "text": [
            "Enter a number: 123456\n",
            "BarFooBarFooBarFoo \n"
          ]
        }
      ]
    },
    {
      "cell_type": "code",
      "source": [
        "def process_number(number):\n",
        "  output=\" \"\n",
        "  while number>0:\n",
        "    digit=number%10\n",
        "    if digit%2==0:\n",
        "      output='foo'+output\n",
        "    else:\n",
        "      output='bar'+output\n",
        "    number//=10\n",
        "  return output\n",
        "number=int(input(\" Enter number \"))\n",
        "result=process_number(number)\n",
        "print(result)"
      ],
      "metadata": {
        "colab": {
          "base_uri": "https://localhost:8080/"
        },
        "id": "D1LbZYkN-u1W",
        "outputId": "c36190d7-9332-4faa-fd7a-869b606210ef"
      },
      "execution_count": null,
      "outputs": [
        {
          "output_type": "stream",
          "name": "stdout",
          "text": [
            " Enter number 123456\n",
            "barfoobarfoobarfoo \n"
          ]
        }
      ]
    },
    {
      "cell_type": "code",
      "source": [
        "def process_number(number):\n",
        "  output=\" \"\n",
        "  while number>0:\n",
        "    digit=number%10\n",
        "    if digit%2==0:\n",
        "      output=\"foo\"+output\n",
        "    else:\n",
        "      output='bar'+output\n",
        "    number//=10\n",
        "  return output\n",
        "number=int(input())\n",
        "process_number(number)"
      ],
      "metadata": {
        "colab": {
          "base_uri": "https://localhost:8080/",
          "height": 53
        },
        "id": "SxThceVA6gl8",
        "outputId": "4d128844-d672-49e3-90a6-8a0524d6d438"
      },
      "execution_count": null,
      "outputs": [
        {
          "name": "stdout",
          "output_type": "stream",
          "text": [
            "123456\n"
          ]
        },
        {
          "output_type": "execute_result",
          "data": {
            "text/plain": [
              "'barfoobarfoobarfoo '"
            ],
            "application/vnd.google.colaboratory.intrinsic+json": {
              "type": "string"
            }
          },
          "metadata": {},
          "execution_count": 14
        }
      ]
    },
    {
      "cell_type": "code",
      "source": [
        "def process_number(number):\n",
        "  output=\" \"\n",
        "  while number>0:\n",
        "    digit=number%10\n",
        "    if digit%2==0:\n",
        "      output='foo'+output\n",
        "    else:\n",
        "      output='bar'+output\n",
        "    number//=10\n",
        "  return output\n",
        "number=int(input())\n",
        "process_number(number)"
      ],
      "metadata": {
        "colab": {
          "base_uri": "https://localhost:8080/",
          "height": 53
        },
        "id": "vBzI7mpm9jeM",
        "outputId": "fa3a2e98-41ad-4b28-e1dc-d1e2b42bdf8f"
      },
      "execution_count": null,
      "outputs": [
        {
          "name": "stdout",
          "output_type": "stream",
          "text": [
            "123456\n"
          ]
        },
        {
          "output_type": "execute_result",
          "data": {
            "text/plain": [
              "'barfoobarfoobarfoo '"
            ],
            "application/vnd.google.colaboratory.intrinsic+json": {
              "type": "string"
            }
          },
          "metadata": {},
          "execution_count": 16
        }
      ]
    },
    {
      "cell_type": "code",
      "source": [
        "def count_digits(number):\n",
        "  digit_count={}\n",
        "  while number>0:\n",
        "    digit=number%10\n",
        "    if digit in digit_count:\n",
        "      digit_count[digit]+=1\n",
        "    else:\n",
        "      digit_count[digit]=1\n",
        "    number//=10\n",
        "  return digit_count\n",
        "number=int(input())\n",
        "count_digits(number)"
      ],
      "metadata": {
        "colab": {
          "base_uri": "https://localhost:8080/"
        },
        "id": "MLTK1v2A-nd3",
        "outputId": "8268ccf9-beb3-4d87-933a-f8e53e0334a3"
      },
      "execution_count": null,
      "outputs": [
        {
          "name": "stdout",
          "output_type": "stream",
          "text": [
            "123215232157896523214569874523\n"
          ]
        },
        {
          "output_type": "execute_result",
          "data": {
            "text/plain": [
              "{3: 4, 2: 7, 5: 5, 4: 2, 7: 2, 8: 2, 9: 2, 6: 2, 1: 4}"
            ]
          },
          "metadata": {},
          "execution_count": 20
        }
      ]
    },
    {
      "cell_type": "code",
      "source": [
        "def process_number(number):\n",
        "  output=\" \"\n",
        "  while number>0:\n",
        "    digit=number%10\n",
        "    if digit%2==0:\n",
        "      output='FOO'+output\n",
        "    else:\n",
        "      output='BAR'+output\n",
        "    number//=10\n",
        "  return output\n",
        "number=int(input())\n",
        "process_number(number)"
      ],
      "metadata": {
        "colab": {
          "base_uri": "https://localhost:8080/",
          "height": 53
        },
        "id": "N4eczSL7A28D",
        "outputId": "bbe6da4b-3171-41ea-c85e-305d26e8ef96"
      },
      "execution_count": null,
      "outputs": [
        {
          "name": "stdout",
          "output_type": "stream",
          "text": [
            "123456\n"
          ]
        },
        {
          "output_type": "execute_result",
          "data": {
            "text/plain": [
              "'BARFOOBARFOOBARFOO '"
            ],
            "application/vnd.google.colaboratory.intrinsic+json": {
              "type": "string"
            }
          },
          "metadata": {},
          "execution_count": 21
        }
      ]
    },
    {
      "cell_type": "code",
      "source": [
        "def selfDividingNumbers(left, right):\n",
        "    def is_self_dividing(num):\n",
        "        for digit in str(num):\n",
        "            if digit == '0' or num % int(digit) != 0:\n",
        "                return False\n",
        "        return True\n",
        "\n",
        "    self_dividing_nums = []\n",
        "    for num in range(left, right + 1):\n",
        "        if is_self_dividing(num):\n",
        "            self_dividing_nums.append(num)\n",
        "\n",
        "    return self_dividing_nums\n",
        "left1, right1 = 1, 22\n",
        "result1 = selfDividingNumbers(left1, right1)\n",
        "print(result1)"
      ],
      "metadata": {
        "colab": {
          "base_uri": "https://localhost:8080/"
        },
        "id": "ekWB8VGWBz3m",
        "outputId": "a947bfee-5cb7-408e-f81e-0527693ded86"
      },
      "execution_count": null,
      "outputs": [
        {
          "output_type": "stream",
          "name": "stdout",
          "text": [
            "[1, 2, 3, 4, 5, 6, 7, 8, 9, 11, 12, 15, 22]\n"
          ]
        }
      ]
    },
    {
      "cell_type": "code",
      "source": [
        "def selfDividingNumbers(left,right):\n",
        "  def is_self_dividing(num):\n",
        "    for digit in str(num):\n",
        "      if digit=='0' or num%int(digit)!=0:\n",
        "        return False\n",
        "    return True\n",
        "  self_dividing_nums=[]\n",
        "  for num in range(left,right+1):\n",
        "    if is_self_dividing(num):\n",
        "      self_dividing_nums.append(num)\n",
        "  return self_dividing_nums\n",
        "left,right=1,22\n",
        "result1=selfDividingNumbers(left1,right1)\n",
        "print(result1)"
      ],
      "metadata": {
        "colab": {
          "base_uri": "https://localhost:8080/"
        },
        "id": "D-6bRRzHCji7",
        "outputId": "d4f77116-c1d1-4f70-c126-dfc4cd82307d"
      },
      "execution_count": null,
      "outputs": [
        {
          "output_type": "stream",
          "name": "stdout",
          "text": [
            "[1, 2, 3, 4, 5, 6, 7, 8, 9, 11, 12, 15, 22]\n"
          ]
        }
      ]
    },
    {
      "cell_type": "code",
      "source": [
        "def selfDividingNumbers(left,right):\n",
        "  def is_self_dividing(num):\n",
        "    for digit in str(num):\n",
        "      if digit=='0' or num%int(digit)!=0:\n",
        "        return False\n",
        "    return True\n",
        "  self_dividing_nums=[]\n",
        "  for num in range(left,right+1):\n",
        "    if is_self_dividing(num):\n",
        "      self_dividing_nums.append(num)\n",
        "  return self_dividing_nums\n",
        "left,right=1,22\n",
        "result1=selfDividingNumbers(left1,right1)\n",
        "print(result1)"
      ],
      "metadata": {
        "colab": {
          "base_uri": "https://localhost:8080/"
        },
        "id": "KKLpq80zEOf2",
        "outputId": "9f3cc193-8dd8-4417-da4b-a3aec4c546d1"
      },
      "execution_count": null,
      "outputs": [
        {
          "output_type": "stream",
          "name": "stdout",
          "text": [
            "[1, 2, 3, 4, 5, 6, 7, 8, 9, 11, 12, 15, 22]\n"
          ]
        }
      ]
    },
    {
      "cell_type": "code",
      "source": [],
      "metadata": {
        "id": "lsg8T7qXFtVQ"
      },
      "execution_count": null,
      "outputs": []
    }
  ]
}