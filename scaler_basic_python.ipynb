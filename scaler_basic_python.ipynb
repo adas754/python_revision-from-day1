{
  "nbformat": 4,
  "nbformat_minor": 0,
  "metadata": {
    "colab": {
      "provenance": [],
      "authorship_tag": "ABX9TyNSqnD2MZCuj8dia95iLX2n",
      "include_colab_link": true
    },
    "kernelspec": {
      "name": "python3",
      "display_name": "Python 3"
    },
    "language_info": {
      "name": "python"
    }
  },
  "cells": [
    {
      "cell_type": "markdown",
      "metadata": {
        "id": "view-in-github",
        "colab_type": "text"
      },
      "source": [
        "<a href=\"https://colab.research.google.com/github/adas754/python_revision-from-day1/blob/main/scaler_basic_python.ipynb\" target=\"_parent\"><img src=\"https://colab.research.google.com/assets/colab-badge.svg\" alt=\"Open In Colab\"/></a>"
      ]
    },
    {
      "cell_type": "markdown",
      "source": [
        "## Dictionary problem\n"
      ],
      "metadata": {
        "id": "98s0L7GsfBVl"
      }
    },
    {
      "cell_type": "markdown",
      "source": [
        "#Frequency of Characters\n"
      ],
      "metadata": {
        "id": "_oFewtgoaQc0"
      }
    },
    {
      "cell_type": "code",
      "source": [
        "def dict_freq(s):\n",
        "  counter={}\n",
        "  for c in s:\n",
        "    if c not in counter:\n",
        "      counter[c]=1\n",
        "    else:\n",
        "      counter[c]+=1\n",
        "  return counter\n",
        "dict_freq('abbx')\n",
        "\n"
      ],
      "metadata": {
        "colab": {
          "base_uri": "https://localhost:8080/"
        },
        "id": "gosht47Ka2L5",
        "outputId": "924052d7-2677-4976-c9d3-137801eea9a1"
      },
      "execution_count": 5,
      "outputs": [
        {
          "output_type": "execute_result",
          "data": {
            "text/plain": [
              "{'a': 1, 'b': 2, 'x': 1}"
            ]
          },
          "metadata": {},
          "execution_count": 5
        }
      ]
    },
    {
      "cell_type": "markdown",
      "source": [
        "#Sum of Values"
      ],
      "metadata": {
        "id": "iP5IZmyUdh1o"
      }
    },
    {
      "cell_type": "code",
      "source": [
        "def returnSum(dict):\n",
        "  value=list(dict.values())\n",
        "  total=0\n",
        "  for v in value:\n",
        "    total+=v\n",
        "  return total\n",
        "returnSum({'a':25,'b':25,'c':500})"
      ],
      "metadata": {
        "colab": {
          "base_uri": "https://localhost:8080/"
        },
        "id": "GabkmPz9dRoQ",
        "outputId": "8b366a3d-31d5-41df-e47a-d1a27691aa53"
      },
      "execution_count": 11,
      "outputs": [
        {
          "output_type": "execute_result",
          "data": {
            "text/plain": [
              "550"
            ]
          },
          "metadata": {},
          "execution_count": 11
        }
      ]
    },
    {
      "cell_type": "markdown",
      "source": [
        "#MCQ"
      ],
      "metadata": {
        "id": "UlTOhr70e9jU"
      }
    },
    {
      "cell_type": "code",
      "source": [
        "bbt = {'Sheldon': 1, 'Leonard': 2}\n",
        "bbt.update({'Penny': 2})\n",
        "print(bbt)"
      ],
      "metadata": {
        "colab": {
          "base_uri": "https://localhost:8080/"
        },
        "id": "sqlWw7FQelwX",
        "outputId": "5f0049e6-490c-4a82-88c3-33c14ce78b54"
      },
      "execution_count": 12,
      "outputs": [
        {
          "output_type": "stream",
          "name": "stdout",
          "text": [
            "{'Sheldon': 1, 'Leonard': 2, 'Penny': 2}\n"
          ]
        }
      ]
    },
    {
      "cell_type": "code",
      "source": [
        "freshers = {\n",
        "    'student1': {'name': 'yash', 'salary': 7500},\n",
        "    'student2': {'name': 'heet', 'salary': 8000},\n",
        "    'student3': {'name':'smit', 'salary': 6500}\n",
        "}"
      ],
      "metadata": {
        "id": "3nDjCny0eyMN"
      },
      "execution_count": 13,
      "outputs": []
    },
    {
      "cell_type": "markdown",
      "source": [
        "#Which of the following is the correct way of changing the ‘salary’ of ‘smit’ to 8500?"
      ],
      "metadata": {
        "id": "baySkzfcfP6G"
      }
    },
    {
      "cell_type": "code",
      "source": [
        "freshers['student3']['salary']=8500"
      ],
      "metadata": {
        "id": "lwfuwJtJfRyy"
      },
      "execution_count": 16,
      "outputs": []
    },
    {
      "cell_type": "code",
      "source": [
        "freshers"
      ],
      "metadata": {
        "colab": {
          "base_uri": "https://localhost:8080/"
        },
        "id": "1PHXYnfofZC3",
        "outputId": "9e8db6fa-03b3-4752-95e8-a7ee020ff3f9"
      },
      "execution_count": 17,
      "outputs": [
        {
          "output_type": "execute_result",
          "data": {
            "text/plain": [
              "{'student1': {'name': 'yash', 'salary': 7500},\n",
              " 'student2': {'name': 'heet', 'salary': 8000},\n",
              " 'student3': {'name': 'smit', 'salary': 8500}}"
            ]
          },
          "metadata": {},
          "execution_count": 17
        }
      ]
    },
    {
      "cell_type": "code",
      "source": [
        "dict1 = {'age': 35, 'name': 'abc', 'salary': 45000}\n",
        "\n",
        "val = dict1['age']\n",
        "\n",
        "if val in dict1:\n",
        "    print('This is a member of the dictionary')\n",
        "else:\n",
        "    print('This is not a member of the dictionary')"
      ],
      "metadata": {
        "colab": {
          "base_uri": "https://localhost:8080/"
        },
        "id": "ObD3U4zwfhjp",
        "outputId": "0fdd59b2-7924-48f6-b7a0-66cc22c34f18"
      },
      "execution_count": 22,
      "outputs": [
        {
          "output_type": "stream",
          "name": "stdout",
          "text": [
            "This is not a member of the dictionary\n"
          ]
        }
      ]
    },
    {
      "cell_type": "code",
      "source": [
        "dict1 = {'age': 35, 'name': 'abc', 'salary': 45000}\n",
        "\n",
        "val = dict1['age']"
      ],
      "metadata": {
        "id": "90Y1xjXbf6Zd"
      },
      "execution_count": 18,
      "outputs": []
    },
    {
      "cell_type": "code",
      "source": [
        "val"
      ],
      "metadata": {
        "colab": {
          "base_uri": "https://localhost:8080/"
        },
        "id": "5CADw2i1f74k",
        "outputId": "2b54acca-72d9-43e6-edfd-940f807190e0"
      },
      "execution_count": 21,
      "outputs": [
        {
          "output_type": "execute_result",
          "data": {
            "text/plain": [
              "35"
            ]
          },
          "metadata": {},
          "execution_count": 21
        }
      ]
    },
    {
      "cell_type": "markdown",
      "source": [
        "#Additional Problems\n"
      ],
      "metadata": {
        "id": "VaiKbWF3geVd"
      }
    },
    {
      "cell_type": "code",
      "source": [
        "dict = {5: 'a', 10: 'b', 15: 'c'}\n",
        "#print(dict[0])"
      ],
      "metadata": {
        "id": "n3jw4Qqlf6_x"
      },
      "execution_count": 25,
      "outputs": []
    },
    {
      "cell_type": "code",
      "source": [
        "print(dict.get(0))"
      ],
      "metadata": {
        "colab": {
          "base_uri": "https://localhost:8080/"
        },
        "id": "vDVWU4ZDgyob",
        "outputId": "d4795ad2-5fff-4bb3-a099-62beec7f7aa4"
      },
      "execution_count": 24,
      "outputs": [
        {
          "output_type": "stream",
          "name": "stdout",
          "text": [
            "None\n"
          ]
        }
      ]
    },
    {
      "cell_type": "code",
      "source": [
        "abc = {}\n",
        "abc[1] = 1\n",
        "abc['1'] = 2\n",
        "abc[1] = abc[1] + 1"
      ],
      "metadata": {
        "id": "m20S7t_0hn4p"
      },
      "execution_count": 26,
      "outputs": []
    },
    {
      "cell_type": "code",
      "source": [
        "abc"
      ],
      "metadata": {
        "colab": {
          "base_uri": "https://localhost:8080/"
        },
        "id": "CerfnSUog4mh",
        "outputId": "5232f30c-9f10-465a-a606-f76372fc2108"
      },
      "execution_count": 27,
      "outputs": [
        {
          "output_type": "execute_result",
          "data": {
            "text/plain": [
              "{1: 2, '1': 2}"
            ]
          },
          "metadata": {},
          "execution_count": 27
        }
      ]
    },
    {
      "cell_type": "markdown",
      "source": [
        "# List to dict"
      ],
      "metadata": {
        "id": "FstX7fMXiZvy"
      }
    },
    {
      "cell_type": "code",
      "source": [
        "def lists_to_dict(key,values):\n",
        "  return (dict(zip(key,values)))\n",
        "key1=[7,8,9]\n",
        "keys2=[6,9,8]\n",
        "lists_to_dict(key1,keys2)\n"
      ],
      "metadata": {
        "colab": {
          "base_uri": "https://localhost:8080/"
        },
        "id": "FvKHiYS9hvDT",
        "outputId": "6a13f6a9-814d-4473-d563-99e7aefa2a45"
      },
      "execution_count": 2,
      "outputs": [
        {
          "output_type": "execute_result",
          "data": {
            "text/plain": [
              "{7: 6, 8: 9, 9: 8}"
            ]
          },
          "metadata": {},
          "execution_count": 2
        }
      ]
    },
    {
      "cell_type": "code",
      "source": [
        "prices = {'apple': 1.50, 'banana': 0.75, 'orange': 1.25}\n",
        "del prices['banana']"
      ],
      "metadata": {
        "id": "Gn7mrYt4i07l"
      },
      "execution_count": 4,
      "outputs": []
    },
    {
      "cell_type": "code",
      "source": [
        "prices"
      ],
      "metadata": {
        "colab": {
          "base_uri": "https://localhost:8080/"
        },
        "id": "_sO15Y2mmRH9",
        "outputId": "7f600a4e-da33-4ff8-b626-922f4e0e738d"
      },
      "execution_count": 5,
      "outputs": [
        {
          "output_type": "execute_result",
          "data": {
            "text/plain": [
              "{'apple': 1.5, 'orange': 1.25}"
            ]
          },
          "metadata": {},
          "execution_count": 5
        }
      ]
    },
    {
      "cell_type": "code",
      "source": [
        "prices = {'apple': 1.50, 'banana': 0.75, 'orange': 1.25}"
      ],
      "metadata": {
        "id": "YPTgYszTmX2C"
      },
      "execution_count": 6,
      "outputs": []
    },
    {
      "cell_type": "code",
      "source": [
        "prices.pop('banana')"
      ],
      "metadata": {
        "colab": {
          "base_uri": "https://localhost:8080/"
        },
        "id": "LjCSHl6_mcpC",
        "outputId": "74fcf6fe-33bd-4927-bf5d-71ac3d63e81c"
      },
      "execution_count": 8,
      "outputs": [
        {
          "output_type": "execute_result",
          "data": {
            "text/plain": [
              "0.75"
            ]
          },
          "metadata": {},
          "execution_count": 8
        }
      ]
    },
    {
      "cell_type": "code",
      "source": [
        "prices"
      ],
      "metadata": {
        "colab": {
          "base_uri": "https://localhost:8080/"
        },
        "id": "kbwTii3omfiS",
        "outputId": "2a0ac0a9-e1e2-4af6-f88d-e4a47fd39e03"
      },
      "execution_count": 9,
      "outputs": [
        {
          "output_type": "execute_result",
          "data": {
            "text/plain": [
              "{'apple': 1.5, 'orange': 1.25}"
            ]
          },
          "metadata": {},
          "execution_count": 9
        }
      ]
    },
    {
      "cell_type": "markdown",
      "source": [
        "#Least frequent from back\n"
      ],
      "metadata": {
        "id": "GSKmKs5Nn3D5"
      }
    },
    {
      "cell_type": "code",
      "source": [
        "def count_char(s):\n",
        "  count={}\n",
        "  for char in s:\n",
        "    if char in count:\n",
        "      count[char]+=1\n",
        "    else:\n",
        "      count[char]=1\n",
        "  if not count:\n",
        "    return None\n",
        "  min_freq=min(count.values())\n",
        "  last_char=None\n",
        "  for char in reversed(s):\n",
        "    if count[char]==min_freq:\n",
        "      last_char=char\n",
        "      break\n",
        "  return last_char\n",
        "count_char('asbbccs')\n"
      ],
      "metadata": {
        "colab": {
          "base_uri": "https://localhost:8080/",
          "height": 36
        },
        "id": "Wn2II4B1mmCO",
        "outputId": "25809900-e6dd-459d-f39d-f7f4b04c46e2"
      },
      "execution_count": 10,
      "outputs": [
        {
          "output_type": "execute_result",
          "data": {
            "text/plain": [
              "'a'"
            ],
            "application/vnd.google.colaboratory.intrinsic+json": {
              "type": "string"
            }
          },
          "metadata": {},
          "execution_count": 10
        }
      ]
    },
    {
      "cell_type": "code",
      "source": [],
      "metadata": {
        "id": "I5oWrFYgpBA6"
      },
      "execution_count": null,
      "outputs": []
    }
  ]
}