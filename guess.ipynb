{
  "nbformat": 4,
  "nbformat_minor": 0,
  "metadata": {
    "colab": {
      "provenance": [],
      "authorship_tag": "ABX9TyMeGm29wkvlMca7FLetbpkQ",
      "include_colab_link": true
    },
    "kernelspec": {
      "name": "python3",
      "display_name": "Python 3"
    },
    "language_info": {
      "name": "python"
    }
  },
  "cells": [
    {
      "cell_type": "markdown",
      "metadata": {
        "id": "view-in-github",
        "colab_type": "text"
      },
      "source": [
        "<a href=\"https://colab.research.google.com/github/adas754/python_revision-from-day1/blob/main/guess.ipynb\" target=\"_parent\"><img src=\"https://colab.research.google.com/assets/colab-badge.svg\" alt=\"Open In Colab\"/></a>"
      ]
    },
    {
      "cell_type": "code",
      "execution_count": 2,
      "metadata": {
        "colab": {
          "base_uri": "https://localhost:8080/"
        },
        "id": "P89wf2cEVRRW",
        "outputId": "fcdf6a2a-9ec5-4f3b-daa7-b93661137dc5"
      },
      "outputs": [
        {
          "output_type": "stream",
          "name": "stdout",
          "text": [
            "enter your number 5\n",
            "wrong!, plz guess higher \n",
            "Enter your number 10\n",
            "wrong!, plz guess lower \n",
            "Enter your number 8\n",
            "wrong!, plz guess lower \n",
            "Enter your number 7\n",
            "wrong!, plz guess lower \n",
            "Enter your number 5\n",
            "wrong!, plz guess higher \n",
            "Enter your number 6\n",
            "coreect guess \n",
            "your attempt is  5\n"
          ]
        }
      ],
      "source": [
        "import random\n",
        "jackpot=random.randint(1,100)\n",
        "guess_num=int(input('enter your number '))\n",
        "counter=0\n",
        "while guess_num!=jackpot:\n",
        "  if guess_num<jackpot:\n",
        "    print('wrong!, plz guess higher ')\n",
        "  else:\n",
        "    print('wrong!, plz guess lower ')\n",
        "  guess_num=int(input('Enter your number '))\n",
        "  counter+=1\n",
        "else:\n",
        "  print('coreect guess ')\n",
        "  print('your attempt is ',counter)\n"
      ]
    },
    {
      "cell_type": "code",
      "source": [],
      "metadata": {
        "id": "gyzgDCgkW8l2"
      },
      "execution_count": null,
      "outputs": []
    }
  ]
}